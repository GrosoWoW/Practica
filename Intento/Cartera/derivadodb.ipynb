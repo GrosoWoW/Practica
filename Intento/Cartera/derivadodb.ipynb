{
 "nbformat": 4,
 "nbformat_minor": 2,
 "metadata": {
  "language_info": {
   "name": "python",
   "codemirror_mode": {
    "name": "ipython",
    "version": 3
   },
   "version": "3.6.8-final"
  },
  "orig_nbformat": 2,
  "file_extension": ".py",
  "mimetype": "text/x-python",
  "name": "python",
  "npconvert_exporter": "python",
  "pygments_lexer": "ipython3",
  "version": 3,
  "kernelspec": {
   "name": "python36864bit95f61d10654543119976a9b54263d6fa",
   "display_name": "Python 3.6.8 64-bit"
  }
 },
 "cells": [
  {
   "cell_type": "code",
   "execution_count": 1,
   "metadata": {},
   "outputs": [],
   "source": [
    "import pyodbc\n",
    "import pandas as pd\n",
    "import datetime\n",
    "\n",
    "from Activo import *\n",
    "from Accion import *\n",
    "from Bono import *\n",
    "from Derivado import *\n",
    "from DerivadosTipos.DerivadosSCC import *\n",
    "\n",
    "from Cartera import *"
   ]
  },
  {
   "cell_type": "code",
   "execution_count": 3,
   "metadata": {},
   "outputs": [],
   "source": [
    "server = '172.16.1.38'\n",
    "username = 'sa'\n",
    "password = 'qwerty123'\n",
    "driver = '{ODBC Driver 17 for SQL Server}'\n",
    "cn = pyodbc.connect('DRIVER=' + driver + ';SERVER=' + server + ';UID=' + username + ';PWD=' + password)"
   ]
  },
  {
   "cell_type": "code",
   "execution_count": 2,
   "metadata": {},
   "outputs": [],
   "source": [
    "def cambiar_fecha(fecha):\n",
    "\n",
    "    fechas = fecha.split(\"-\")\n",
    "    fechas = fechas[2].split(\" \")[0] + \"/\" + fechas[1] + \"/\" + fechas[0]\n",
    "    return fechas"
   ]
  },
  {
   "cell_type": "code",
   "execution_count": 4,
   "metadata": {},
   "outputs": [],
   "source": [
    "def extraer(cantidad):\n",
    "\n",
    "    derivados = \"SELECT TOP (\"+str(cantidad)+\") * FROM [dbDerivados].[dbo].[TdCarteraDerivados_V2] \"\n",
    "    derivados = pd.read_sql(derivados, cn)\n",
    "\n",
    "    derivado = pd.DataFrame()\n",
    "    dev = []\n",
    "\n",
    "    for i in range(cantidad):\n",
    "\n",
    "        info_derivado = dict()\n",
    "        info_derivado[\"Tipo\"] = derivados[\"Tipo\"][i]\n",
    "        info_derivado[\"ID_Key\"] = derivados[\"ID_Key\"][i]\n",
    "        info_derivado[\"Administradora\"] = derivados[\"Administradora\"][i]\n",
    "        info_derivado[\"Fondo\"] = derivados[\"Fondo\"][i]\n",
    "        info_derivado[\"Contraparte\"] = derivados[\"Contraparte\"][i]\n",
    "        info_derivado[\"ID\"] = int(derivados[\"ID\"][i])\n",
    "        info_derivado[\"Nemotecnico\"] = derivados[\"Nemotecnico\"][i]\n",
    "        info_derivado[\"Mercado\"] = derivados[\"Mercado\"][i]     \n",
    "        fecha = datetime.date(2019, 12, 20)\n",
    "        hora = '1700'\n",
    "        info_derivado[\"FechaEfectiva\"] = cambiar_fecha(str(derivados[\"FechaEfectiva\"][i]))\n",
    "        info_derivado[\"FechaVenc\"] = cambiar_fecha(str(derivados[\"FechaVenc\"][i]))\n",
    "        info_derivado[\"AjusteFeriados\"] = derivados[\"AjusteFeriados\"][i]\n",
    "        info_derivado[\"NocionalActivo\"] = derivados[\"NocionalActivo\"][i]\n",
    "        info_derivado[\"MonedaActivo\"] = derivados[\"MonedaActivo\"][i]\n",
    "        info_derivado[\"MonedaBase\"] = derivados[\"MonedaBase\"][i]\n",
    "        info_derivado[\"TipoTasaActivo\"] = derivados[\"TipoTasaActivo\"][i]\n",
    "        info_derivado[\"TipoTasaPasivo\"] = derivados[\"TipoTasaPasivo\"][i]\n",
    "        info_derivado[\"TasaActivo\"] = derivados[\"TasaActivo\"][i]\n",
    "        info_derivado[\"TasaPasivo\"] = derivados[\"TasaPasivo\"][i]\n",
    "        info_derivado[\"FrecuenciaActivo\"] = derivados[\"FrecuenciaActivo\"][i]\n",
    "        info_derivado[\"FrecuenciaPasivo\"] = info_derivado[\"FrecuenciaActivo\"]\n",
    "\n",
    "        info1 = pd.DataFrame([info_derivado])\n",
    "        derivado_info = DerivadosSCC(fecha, hora, info1, cn)\n",
    "        dev.append(derivado_info)\n",
    "\n",
    "    derivado[\"Derivado\"] = dev\n",
    "    return derivado\n",
    "\n",
    "    print(derivado)\n"
   ]
  },
  {
   "cell_type": "code",
   "execution_count": 5,
   "metadata": {},
   "outputs": [
    {
     "name": "stderr",
     "output_type": "stream",
     "text": "c:\\Users\\groso\\Desktop\\PracticaV2\\Practica\\Intento\\Cartera\\DerivadosTipos\\DerivadosSCC.py:48: SettingWithCopyWarning: \nA value is trying to be set on a copy of a slice from a DataFrame\n\nSee the caveats in the documentation: http://pandas.pydata.org/pandas-docs/stable/user_guide/indexing.html#returning-a-view-versus-a-copy\n  info_cartera.MonedaActivo[0] = \"CLP\"\n"
    },
    {
     "data": {
      "text/plain": "5"
     },
     "execution_count": 5,
     "metadata": {},
     "output_type": "execute_result"
    }
   ],
   "source": [
    "derivado = extraer(5)\n",
    "np.size(derivado, 0)"
   ]
  },
  {
   "cell_type": "code",
   "execution_count": 6,
   "metadata": {},
   "outputs": [],
   "source": [
    "cartera = Cartera(pd.DataFrame(), pd.DataFrame(), derivado, 'CLP', datetime.date(2019,2,1), cn)"
   ]
  },
  {
   "cell_type": "code",
   "execution_count": 7,
   "metadata": {},
   "outputs": [],
   "source": [
    "cartera.set_hist_ret_vol_totales()"
   ]
  },
  {
   "cell_type": "code",
   "execution_count": 8,
   "metadata": {},
   "outputs": [
    {
     "data": {
      "text/html": "<div>\n<style scoped>\n    .dataframe tbody tr th:only-of-type {\n        vertical-align: middle;\n    }\n\n    .dataframe tbody tr th {\n        vertical-align: top;\n    }\n\n    .dataframe thead th {\n        text-align: right;\n    }\n</style>\n<table border=\"1\" class=\"dataframe\">\n  <thead>\n    <tr style=\"text-align: right;\">\n      <th></th>\n      <th>CLP#30</th>\n      <th>CLP#90</th>\n      <th>CLP#180</th>\n      <th>CLP#360</th>\n      <th>CLP#720</th>\n      <th>CLP#1080</th>\n      <th>CLP#1440</th>\n      <th>CLP#1800</th>\n      <th>CLP#2520</th>\n      <th>CLP#3240</th>\n      <th>CLP#3600</th>\n      <th>CLP#5400</th>\n      <th>CLP#7200</th>\n      <th>CLP#10800</th>\n    </tr>\n  </thead>\n  <tbody>\n    <tr>\n      <th>0</th>\n      <td>0.998616</td>\n      <td>0.995938</td>\n      <td>0.992064</td>\n      <td>0.983026</td>\n      <td>0.965902</td>\n      <td>0.945134</td>\n      <td>0.921105</td>\n      <td>0.893373</td>\n      <td>0.831533</td>\n      <td>0.766046</td>\n      <td>0.737300</td>\n      <td>0.617233</td>\n      <td>0.524469</td>\n      <td>0.379802</td>\n    </tr>\n    <tr>\n      <th>1</th>\n      <td>0.998561</td>\n      <td>0.995593</td>\n      <td>0.991469</td>\n      <td>0.982011</td>\n      <td>0.966077</td>\n      <td>0.945224</td>\n      <td>0.921186</td>\n      <td>0.893525</td>\n      <td>0.831692</td>\n      <td>0.766129</td>\n      <td>0.737445</td>\n      <td>0.617343</td>\n      <td>0.523926</td>\n      <td>0.379195</td>\n    </tr>\n    <tr>\n      <th>2</th>\n      <td>0.998571</td>\n      <td>0.995902</td>\n      <td>0.991631</td>\n      <td>0.982264</td>\n      <td>0.966468</td>\n      <td>0.945505</td>\n      <td>0.921717</td>\n      <td>0.894395</td>\n      <td>0.832008</td>\n      <td>0.767146</td>\n      <td>0.738167</td>\n      <td>0.618230</td>\n      <td>0.525643</td>\n      <td>0.381076</td>\n    </tr>\n    <tr>\n      <th>3</th>\n      <td>0.998875</td>\n      <td>0.996141</td>\n      <td>0.991958</td>\n      <td>0.982687</td>\n      <td>0.966303</td>\n      <td>0.945408</td>\n      <td>0.921966</td>\n      <td>0.894696</td>\n      <td>0.833058</td>\n      <td>0.768410</td>\n      <td>0.739573</td>\n      <td>0.620019</td>\n      <td>0.527619</td>\n      <td>0.383226</td>\n    </tr>\n    <tr>\n      <th>4</th>\n      <td>0.998878</td>\n      <td>0.996085</td>\n      <td>0.991839</td>\n      <td>0.982881</td>\n      <td>0.965917</td>\n      <td>0.944585</td>\n      <td>0.920531</td>\n      <td>0.892919</td>\n      <td>0.830680</td>\n      <td>0.766395</td>\n      <td>0.737442</td>\n      <td>0.616786</td>\n      <td>0.525871</td>\n      <td>0.381424</td>\n    </tr>\n    <tr>\n      <th>...</th>\n      <td>...</td>\n      <td>...</td>\n      <td>...</td>\n      <td>...</td>\n      <td>...</td>\n      <td>...</td>\n      <td>...</td>\n      <td>...</td>\n      <td>...</td>\n      <td>...</td>\n      <td>...</td>\n      <td>...</td>\n      <td>...</td>\n      <td>...</td>\n    </tr>\n    <tr>\n      <th>195</th>\n      <td>0.997751</td>\n      <td>0.993304</td>\n      <td>0.986460</td>\n      <td>0.972259</td>\n      <td>0.939550</td>\n      <td>0.907501</td>\n      <td>0.874673</td>\n      <td>0.840956</td>\n      <td>0.773222</td>\n      <td>0.707717</td>\n      <td>0.675897</td>\n      <td>0.545087</td>\n      <td>0.435373</td>\n      <td>0.286862</td>\n    </tr>\n    <tr>\n      <th>196</th>\n      <td>0.997682</td>\n      <td>0.993240</td>\n      <td>0.986425</td>\n      <td>0.972284</td>\n      <td>0.939635</td>\n      <td>0.907636</td>\n      <td>0.874844</td>\n      <td>0.841161</td>\n      <td>0.773772</td>\n      <td>0.708368</td>\n      <td>0.676904</td>\n      <td>0.546174</td>\n      <td>0.436748</td>\n      <td>0.288212</td>\n    </tr>\n    <tr>\n      <th>197</th>\n      <td>0.997721</td>\n      <td>0.993013</td>\n      <td>0.986430</td>\n      <td>0.972315</td>\n      <td>0.939667</td>\n      <td>0.907997</td>\n      <td>0.875531</td>\n      <td>0.841802</td>\n      <td>0.774653</td>\n      <td>0.709478</td>\n      <td>0.678067</td>\n      <td>0.547155</td>\n      <td>0.438407</td>\n      <td>0.289882</td>\n    </tr>\n    <tr>\n      <th>198</th>\n      <td>0.997709</td>\n      <td>0.993249</td>\n      <td>0.986312</td>\n      <td>0.972121</td>\n      <td>0.939754</td>\n      <td>0.908136</td>\n      <td>0.875541</td>\n      <td>0.841796</td>\n      <td>0.774950</td>\n      <td>0.709788</td>\n      <td>0.677865</td>\n      <td>0.547125</td>\n      <td>0.438383</td>\n      <td>0.289857</td>\n    </tr>\n    <tr>\n      <th>199</th>\n      <td>0.997735</td>\n      <td>0.993278</td>\n      <td>0.986512</td>\n      <td>0.972199</td>\n      <td>0.939576</td>\n      <td>0.907870</td>\n      <td>0.875207</td>\n      <td>0.841387</td>\n      <td>0.774379</td>\n      <td>0.708851</td>\n      <td>0.677051</td>\n      <td>0.545399</td>\n      <td>0.436556</td>\n      <td>0.288046</td>\n    </tr>\n  </tbody>\n</table>\n<p>200 rows × 14 columns</p>\n</div>",
      "text/plain": "       CLP#30    CLP#90   CLP#180   CLP#360   CLP#720  CLP#1080  CLP#1440  \\\n0    0.998616  0.995938  0.992064  0.983026  0.965902  0.945134  0.921105   \n1    0.998561  0.995593  0.991469  0.982011  0.966077  0.945224  0.921186   \n2    0.998571  0.995902  0.991631  0.982264  0.966468  0.945505  0.921717   \n3    0.998875  0.996141  0.991958  0.982687  0.966303  0.945408  0.921966   \n4    0.998878  0.996085  0.991839  0.982881  0.965917  0.944585  0.920531   \n..        ...       ...       ...       ...       ...       ...       ...   \n195  0.997751  0.993304  0.986460  0.972259  0.939550  0.907501  0.874673   \n196  0.997682  0.993240  0.986425  0.972284  0.939635  0.907636  0.874844   \n197  0.997721  0.993013  0.986430  0.972315  0.939667  0.907997  0.875531   \n198  0.997709  0.993249  0.986312  0.972121  0.939754  0.908136  0.875541   \n199  0.997735  0.993278  0.986512  0.972199  0.939576  0.907870  0.875207   \n\n     CLP#1800  CLP#2520  CLP#3240  CLP#3600  CLP#5400  CLP#7200  CLP#10800  \n0    0.893373  0.831533  0.766046  0.737300  0.617233  0.524469   0.379802  \n1    0.893525  0.831692  0.766129  0.737445  0.617343  0.523926   0.379195  \n2    0.894395  0.832008  0.767146  0.738167  0.618230  0.525643   0.381076  \n3    0.894696  0.833058  0.768410  0.739573  0.620019  0.527619   0.383226  \n4    0.892919  0.830680  0.766395  0.737442  0.616786  0.525871   0.381424  \n..        ...       ...       ...       ...       ...       ...        ...  \n195  0.840956  0.773222  0.707717  0.675897  0.545087  0.435373   0.286862  \n196  0.841161  0.773772  0.708368  0.676904  0.546174  0.436748   0.288212  \n197  0.841802  0.774653  0.709478  0.678067  0.547155  0.438407   0.289882  \n198  0.841796  0.774950  0.709788  0.677865  0.547125  0.438383   0.289857  \n199  0.841387  0.774379  0.708851  0.677051  0.545399  0.436556   0.288046  \n\n[200 rows x 14 columns]"
     },
     "execution_count": 8,
     "metadata": {},
     "output_type": "execute_result"
    }
   ],
   "source": [
    "cartera.get_historicos_totales()"
   ]
  },
  {
   "cell_type": "code",
   "execution_count": 9,
   "metadata": {},
   "outputs": [
    {
     "data": {
      "text/html": "<div>\n<style scoped>\n    .dataframe tbody tr th:only-of-type {\n        vertical-align: middle;\n    }\n\n    .dataframe tbody tr th {\n        vertical-align: top;\n    }\n\n    .dataframe thead th {\n        text-align: right;\n    }\n</style>\n<table border=\"1\" class=\"dataframe\">\n  <thead>\n    <tr style=\"text-align: right;\">\n      <th></th>\n      <th>CLP#30</th>\n      <th>CLP#90</th>\n      <th>CLP#180</th>\n      <th>CLP#360</th>\n      <th>CLP#720</th>\n      <th>CLP#1080</th>\n      <th>CLP#1440</th>\n      <th>CLP#1800</th>\n      <th>CLP#2520</th>\n      <th>CLP#3240</th>\n      <th>CLP#3600</th>\n      <th>CLP#5400</th>\n      <th>CLP#7200</th>\n      <th>CLP#10800</th>\n    </tr>\n  </thead>\n  <tbody>\n    <tr>\n      <th>0</th>\n      <td>0.000000</td>\n      <td>0.000000</td>\n      <td>0.000000</td>\n      <td>0.000000</td>\n      <td>0.000000</td>\n      <td>0.000000</td>\n      <td>0.000000</td>\n      <td>0.000000</td>\n      <td>0.000000</td>\n      <td>0.000000</td>\n      <td>0.000000</td>\n      <td>0.000000</td>\n      <td>0.000000</td>\n      <td>0.000000</td>\n    </tr>\n    <tr>\n      <th>1</th>\n      <td>-0.000055</td>\n      <td>-0.000346</td>\n      <td>-0.000599</td>\n      <td>-0.001032</td>\n      <td>0.000180</td>\n      <td>0.000095</td>\n      <td>0.000088</td>\n      <td>0.000169</td>\n      <td>0.000192</td>\n      <td>0.000109</td>\n      <td>0.000196</td>\n      <td>0.000179</td>\n      <td>-0.001035</td>\n      <td>-0.001599</td>\n    </tr>\n    <tr>\n      <th>2</th>\n      <td>0.000010</td>\n      <td>0.000310</td>\n      <td>0.000163</td>\n      <td>0.000257</td>\n      <td>0.000406</td>\n      <td>0.000296</td>\n      <td>0.000576</td>\n      <td>0.000974</td>\n      <td>0.000379</td>\n      <td>0.001326</td>\n      <td>0.000979</td>\n      <td>0.001436</td>\n      <td>0.003271</td>\n      <td>0.004949</td>\n    </tr>\n    <tr>\n      <th>3</th>\n      <td>0.000304</td>\n      <td>0.000240</td>\n      <td>0.000330</td>\n      <td>0.000430</td>\n      <td>-0.000171</td>\n      <td>-0.000103</td>\n      <td>0.000270</td>\n      <td>0.000336</td>\n      <td>0.001262</td>\n      <td>0.001646</td>\n      <td>0.001903</td>\n      <td>0.002888</td>\n      <td>0.003751</td>\n      <td>0.005625</td>\n    </tr>\n    <tr>\n      <th>4</th>\n      <td>0.000003</td>\n      <td>-0.000055</td>\n      <td>-0.000120</td>\n      <td>0.000197</td>\n      <td>-0.000399</td>\n      <td>-0.000870</td>\n      <td>-0.001557</td>\n      <td>-0.001988</td>\n      <td>-0.002859</td>\n      <td>-0.002626</td>\n      <td>-0.002885</td>\n      <td>-0.005228</td>\n      <td>-0.003318</td>\n      <td>-0.004712</td>\n    </tr>\n    <tr>\n      <th>...</th>\n      <td>...</td>\n      <td>...</td>\n      <td>...</td>\n      <td>...</td>\n      <td>...</td>\n      <td>...</td>\n      <td>...</td>\n      <td>...</td>\n      <td>...</td>\n      <td>...</td>\n      <td>...</td>\n      <td>...</td>\n      <td>...</td>\n      <td>...</td>\n    </tr>\n    <tr>\n      <th>195</th>\n      <td>-0.000043</td>\n      <td>0.000064</td>\n      <td>-0.000091</td>\n      <td>-0.000025</td>\n      <td>0.000074</td>\n      <td>0.000083</td>\n      <td>0.000458</td>\n      <td>0.000621</td>\n      <td>0.001155</td>\n      <td>0.001930</td>\n      <td>0.002252</td>\n      <td>0.004136</td>\n      <td>0.002880</td>\n      <td>0.004220</td>\n    </tr>\n    <tr>\n      <th>196</th>\n      <td>-0.000069</td>\n      <td>-0.000065</td>\n      <td>-0.000035</td>\n      <td>0.000026</td>\n      <td>0.000090</td>\n      <td>0.000148</td>\n      <td>0.000196</td>\n      <td>0.000245</td>\n      <td>0.000711</td>\n      <td>0.000920</td>\n      <td>0.001489</td>\n      <td>0.001993</td>\n      <td>0.003151</td>\n      <td>0.004696</td>\n    </tr>\n    <tr>\n      <th>197</th>\n      <td>0.000039</td>\n      <td>-0.000228</td>\n      <td>0.000005</td>\n      <td>0.000032</td>\n      <td>0.000034</td>\n      <td>0.000398</td>\n      <td>0.000784</td>\n      <td>0.000762</td>\n      <td>0.001138</td>\n      <td>0.001566</td>\n      <td>0.001717</td>\n      <td>0.001793</td>\n      <td>0.003792</td>\n      <td>0.005778</td>\n    </tr>\n    <tr>\n      <th>198</th>\n      <td>-0.000011</td>\n      <td>0.000237</td>\n      <td>-0.000119</td>\n      <td>-0.000200</td>\n      <td>0.000093</td>\n      <td>0.000154</td>\n      <td>0.000012</td>\n      <td>-0.000007</td>\n      <td>0.000383</td>\n      <td>0.000436</td>\n      <td>-0.000298</td>\n      <td>-0.000053</td>\n      <td>-0.000054</td>\n      <td>-0.000089</td>\n    </tr>\n    <tr>\n      <th>199</th>\n      <td>0.000025</td>\n      <td>0.000029</td>\n      <td>0.000203</td>\n      <td>0.000081</td>\n      <td>-0.000189</td>\n      <td>-0.000293</td>\n      <td>-0.000381</td>\n      <td>-0.000487</td>\n      <td>-0.000737</td>\n      <td>-0.001320</td>\n      <td>-0.001202</td>\n      <td>-0.003161</td>\n      <td>-0.004178</td>\n      <td>-0.006267</td>\n    </tr>\n  </tbody>\n</table>\n<p>200 rows × 14 columns</p>\n</div>",
      "text/plain": "       CLP#30    CLP#90   CLP#180   CLP#360   CLP#720  CLP#1080  CLP#1440  \\\n0    0.000000  0.000000  0.000000  0.000000  0.000000  0.000000  0.000000   \n1   -0.000055 -0.000346 -0.000599 -0.001032  0.000180  0.000095  0.000088   \n2    0.000010  0.000310  0.000163  0.000257  0.000406  0.000296  0.000576   \n3    0.000304  0.000240  0.000330  0.000430 -0.000171 -0.000103  0.000270   \n4    0.000003 -0.000055 -0.000120  0.000197 -0.000399 -0.000870 -0.001557   \n..        ...       ...       ...       ...       ...       ...       ...   \n195 -0.000043  0.000064 -0.000091 -0.000025  0.000074  0.000083  0.000458   \n196 -0.000069 -0.000065 -0.000035  0.000026  0.000090  0.000148  0.000196   \n197  0.000039 -0.000228  0.000005  0.000032  0.000034  0.000398  0.000784   \n198 -0.000011  0.000237 -0.000119 -0.000200  0.000093  0.000154  0.000012   \n199  0.000025  0.000029  0.000203  0.000081 -0.000189 -0.000293 -0.000381   \n\n     CLP#1800  CLP#2520  CLP#3240  CLP#3600  CLP#5400  CLP#7200  CLP#10800  \n0    0.000000  0.000000  0.000000  0.000000  0.000000  0.000000   0.000000  \n1    0.000169  0.000192  0.000109  0.000196  0.000179 -0.001035  -0.001599  \n2    0.000974  0.000379  0.001326  0.000979  0.001436  0.003271   0.004949  \n3    0.000336  0.001262  0.001646  0.001903  0.002888  0.003751   0.005625  \n4   -0.001988 -0.002859 -0.002626 -0.002885 -0.005228 -0.003318  -0.004712  \n..        ...       ...       ...       ...       ...       ...        ...  \n195  0.000621  0.001155  0.001930  0.002252  0.004136  0.002880   0.004220  \n196  0.000245  0.000711  0.000920  0.001489  0.001993  0.003151   0.004696  \n197  0.000762  0.001138  0.001566  0.001717  0.001793  0.003792   0.005778  \n198 -0.000007  0.000383  0.000436 -0.000298 -0.000053 -0.000054  -0.000089  \n199 -0.000487 -0.000737 -0.001320 -0.001202 -0.003161 -0.004178  -0.006267  \n\n[200 rows x 14 columns]"
     },
     "execution_count": 9,
     "metadata": {},
     "output_type": "execute_result"
    }
   ],
   "source": [
    "cartera.get_retornos_totales()"
   ]
  },
  {
   "cell_type": "code",
   "execution_count": 11,
   "metadata": {},
   "outputs": [
    {
     "data": {
      "text/html": "<div>\n<style scoped>\n    .dataframe tbody tr th:only-of-type {\n        vertical-align: middle;\n    }\n\n    .dataframe tbody tr th {\n        vertical-align: top;\n    }\n\n    .dataframe thead th {\n        text-align: right;\n    }\n</style>\n<table border=\"1\" class=\"dataframe\">\n  <thead>\n    <tr style=\"text-align: right;\">\n      <th></th>\n      <th>CLP#30</th>\n      <th>CLP#90</th>\n      <th>CLP#180</th>\n      <th>CLP#360</th>\n      <th>CLP#720</th>\n      <th>CLP#1080</th>\n      <th>CLP#1440</th>\n      <th>CLP#1800</th>\n      <th>CLP#2520</th>\n      <th>CLP#3240</th>\n      <th>CLP#3600</th>\n      <th>CLP#5400</th>\n      <th>CLP#7200</th>\n      <th>CLP#10800</th>\n    </tr>\n  </thead>\n  <tbody>\n    <tr>\n      <th>CLP#30</th>\n      <td>1.000000</td>\n      <td>0.685614</td>\n      <td>0.659881</td>\n      <td>0.489230</td>\n      <td>0.238233</td>\n      <td>0.199427</td>\n      <td>0.158168</td>\n      <td>0.149137</td>\n      <td>0.128306</td>\n      <td>0.137745</td>\n      <td>0.132645</td>\n      <td>0.112638</td>\n      <td>0.075342</td>\n      <td>0.073255</td>\n    </tr>\n    <tr>\n      <th>CLP#90</th>\n      <td>0.685614</td>\n      <td>1.000000</td>\n      <td>0.683518</td>\n      <td>0.577471</td>\n      <td>0.413982</td>\n      <td>0.358034</td>\n      <td>0.323876</td>\n      <td>0.316648</td>\n      <td>0.322139</td>\n      <td>0.317972</td>\n      <td>0.288833</td>\n      <td>0.287091</td>\n      <td>0.245476</td>\n      <td>0.242723</td>\n    </tr>\n    <tr>\n      <th>CLP#180</th>\n      <td>0.659881</td>\n      <td>0.683518</td>\n      <td>1.000000</td>\n      <td>0.856277</td>\n      <td>0.515972</td>\n      <td>0.477922</td>\n      <td>0.449415</td>\n      <td>0.431095</td>\n      <td>0.406641</td>\n      <td>0.384014</td>\n      <td>0.390311</td>\n      <td>0.335562</td>\n      <td>0.342076</td>\n      <td>0.341656</td>\n    </tr>\n    <tr>\n      <th>CLP#360</th>\n      <td>0.489230</td>\n      <td>0.577471</td>\n      <td>0.856277</td>\n      <td>1.000000</td>\n      <td>0.636390</td>\n      <td>0.608337</td>\n      <td>0.592391</td>\n      <td>0.569340</td>\n      <td>0.555368</td>\n      <td>0.505268</td>\n      <td>0.512719</td>\n      <td>0.479587</td>\n      <td>0.514495</td>\n      <td>0.514617</td>\n    </tr>\n    <tr>\n      <th>CLP#720</th>\n      <td>0.238233</td>\n      <td>0.413982</td>\n      <td>0.515972</td>\n      <td>0.636390</td>\n      <td>1.000000</td>\n      <td>0.985898</td>\n      <td>0.962516</td>\n      <td>0.959656</td>\n      <td>0.926002</td>\n      <td>0.906555</td>\n      <td>0.886578</td>\n      <td>0.870746</td>\n      <td>0.895049</td>\n      <td>0.894185</td>\n    </tr>\n    <tr>\n      <th>CLP#1080</th>\n      <td>0.199427</td>\n      <td>0.358034</td>\n      <td>0.477922</td>\n      <td>0.608337</td>\n      <td>0.985898</td>\n      <td>1.000000</td>\n      <td>0.985281</td>\n      <td>0.978295</td>\n      <td>0.955867</td>\n      <td>0.935295</td>\n      <td>0.920277</td>\n      <td>0.905600</td>\n      <td>0.924895</td>\n      <td>0.923728</td>\n    </tr>\n    <tr>\n      <th>CLP#1440</th>\n      <td>0.158168</td>\n      <td>0.323876</td>\n      <td>0.449415</td>\n      <td>0.592391</td>\n      <td>0.962516</td>\n      <td>0.985281</td>\n      <td>1.000000</td>\n      <td>0.989159</td>\n      <td>0.980717</td>\n      <td>0.957085</td>\n      <td>0.944557</td>\n      <td>0.928696</td>\n      <td>0.945033</td>\n      <td>0.943616</td>\n    </tr>\n    <tr>\n      <th>CLP#1800</th>\n      <td>0.149137</td>\n      <td>0.316648</td>\n      <td>0.431095</td>\n      <td>0.569340</td>\n      <td>0.959656</td>\n      <td>0.978295</td>\n      <td>0.989159</td>\n      <td>1.000000</td>\n      <td>0.977967</td>\n      <td>0.956800</td>\n      <td>0.940376</td>\n      <td>0.924045</td>\n      <td>0.940603</td>\n      <td>0.939253</td>\n    </tr>\n    <tr>\n      <th>CLP#2520</th>\n      <td>0.128306</td>\n      <td>0.322139</td>\n      <td>0.406641</td>\n      <td>0.555368</td>\n      <td>0.926002</td>\n      <td>0.955867</td>\n      <td>0.980717</td>\n      <td>0.977967</td>\n      <td>1.000000</td>\n      <td>0.974211</td>\n      <td>0.970912</td>\n      <td>0.956952</td>\n      <td>0.962235</td>\n      <td>0.960307</td>\n    </tr>\n    <tr>\n      <th>CLP#3240</th>\n      <td>0.137745</td>\n      <td>0.317972</td>\n      <td>0.384014</td>\n      <td>0.505268</td>\n      <td>0.906555</td>\n      <td>0.935295</td>\n      <td>0.957085</td>\n      <td>0.956800</td>\n      <td>0.974211</td>\n      <td>1.000000</td>\n      <td>0.983677</td>\n      <td>0.970627</td>\n      <td>0.960295</td>\n      <td>0.957843</td>\n    </tr>\n    <tr>\n      <th>CLP#3600</th>\n      <td>0.132645</td>\n      <td>0.288833</td>\n      <td>0.390311</td>\n      <td>0.512719</td>\n      <td>0.886578</td>\n      <td>0.920277</td>\n      <td>0.944557</td>\n      <td>0.940376</td>\n      <td>0.970912</td>\n      <td>0.983677</td>\n      <td>1.000000</td>\n      <td>0.983388</td>\n      <td>0.966346</td>\n      <td>0.963724</td>\n    </tr>\n    <tr>\n      <th>CLP#5400</th>\n      <td>0.112638</td>\n      <td>0.287091</td>\n      <td>0.335562</td>\n      <td>0.479587</td>\n      <td>0.870746</td>\n      <td>0.905600</td>\n      <td>0.928696</td>\n      <td>0.924045</td>\n      <td>0.956952</td>\n      <td>0.970627</td>\n      <td>0.983388</td>\n      <td>1.000000</td>\n      <td>0.959840</td>\n      <td>0.956088</td>\n    </tr>\n    <tr>\n      <th>CLP#7200</th>\n      <td>0.075342</td>\n      <td>0.245476</td>\n      <td>0.342076</td>\n      <td>0.514495</td>\n      <td>0.895049</td>\n      <td>0.924895</td>\n      <td>0.945033</td>\n      <td>0.940603</td>\n      <td>0.962235</td>\n      <td>0.960295</td>\n      <td>0.966346</td>\n      <td>0.959840</td>\n      <td>1.000000</td>\n      <td>0.999904</td>\n    </tr>\n    <tr>\n      <th>CLP#10800</th>\n      <td>0.073255</td>\n      <td>0.242723</td>\n      <td>0.341656</td>\n      <td>0.514617</td>\n      <td>0.894185</td>\n      <td>0.923728</td>\n      <td>0.943616</td>\n      <td>0.939253</td>\n      <td>0.960307</td>\n      <td>0.957843</td>\n      <td>0.963724</td>\n      <td>0.956088</td>\n      <td>0.999904</td>\n      <td>1.000000</td>\n    </tr>\n  </tbody>\n</table>\n</div>",
      "text/plain": "             CLP#30    CLP#90   CLP#180   CLP#360   CLP#720  CLP#1080  \\\nCLP#30     1.000000  0.685614  0.659881  0.489230  0.238233  0.199427   \nCLP#90     0.685614  1.000000  0.683518  0.577471  0.413982  0.358034   \nCLP#180    0.659881  0.683518  1.000000  0.856277  0.515972  0.477922   \nCLP#360    0.489230  0.577471  0.856277  1.000000  0.636390  0.608337   \nCLP#720    0.238233  0.413982  0.515972  0.636390  1.000000  0.985898   \nCLP#1080   0.199427  0.358034  0.477922  0.608337  0.985898  1.000000   \nCLP#1440   0.158168  0.323876  0.449415  0.592391  0.962516  0.985281   \nCLP#1800   0.149137  0.316648  0.431095  0.569340  0.959656  0.978295   \nCLP#2520   0.128306  0.322139  0.406641  0.555368  0.926002  0.955867   \nCLP#3240   0.137745  0.317972  0.384014  0.505268  0.906555  0.935295   \nCLP#3600   0.132645  0.288833  0.390311  0.512719  0.886578  0.920277   \nCLP#5400   0.112638  0.287091  0.335562  0.479587  0.870746  0.905600   \nCLP#7200   0.075342  0.245476  0.342076  0.514495  0.895049  0.924895   \nCLP#10800  0.073255  0.242723  0.341656  0.514617  0.894185  0.923728   \n\n           CLP#1440  CLP#1800  CLP#2520  CLP#3240  CLP#3600  CLP#5400  \\\nCLP#30     0.158168  0.149137  0.128306  0.137745  0.132645  0.112638   \nCLP#90     0.323876  0.316648  0.322139  0.317972  0.288833  0.287091   \nCLP#180    0.449415  0.431095  0.406641  0.384014  0.390311  0.335562   \nCLP#360    0.592391  0.569340  0.555368  0.505268  0.512719  0.479587   \nCLP#720    0.962516  0.959656  0.926002  0.906555  0.886578  0.870746   \nCLP#1080   0.985281  0.978295  0.955867  0.935295  0.920277  0.905600   \nCLP#1440   1.000000  0.989159  0.980717  0.957085  0.944557  0.928696   \nCLP#1800   0.989159  1.000000  0.977967  0.956800  0.940376  0.924045   \nCLP#2520   0.980717  0.977967  1.000000  0.974211  0.970912  0.956952   \nCLP#3240   0.957085  0.956800  0.974211  1.000000  0.983677  0.970627   \nCLP#3600   0.944557  0.940376  0.970912  0.983677  1.000000  0.983388   \nCLP#5400   0.928696  0.924045  0.956952  0.970627  0.983388  1.000000   \nCLP#7200   0.945033  0.940603  0.962235  0.960295  0.966346  0.959840   \nCLP#10800  0.943616  0.939253  0.960307  0.957843  0.963724  0.956088   \n\n           CLP#7200  CLP#10800  \nCLP#30     0.075342   0.073255  \nCLP#90     0.245476   0.242723  \nCLP#180    0.342076   0.341656  \nCLP#360    0.514495   0.514617  \nCLP#720    0.895049   0.894185  \nCLP#1080   0.924895   0.923728  \nCLP#1440   0.945033   0.943616  \nCLP#1800   0.940603   0.939253  \nCLP#2520   0.962235   0.960307  \nCLP#3240   0.960295   0.957843  \nCLP#3600   0.966346   0.963724  \nCLP#5400   0.959840   0.956088  \nCLP#7200   1.000000   0.999904  \nCLP#10800  0.999904   1.000000  "
     },
     "execution_count": 11,
     "metadata": {},
     "output_type": "execute_result"
    }
   ],
   "source": [
    "cartera.get_correlacion()"
   ]
  },
  {
   "cell_type": "code",
   "execution_count": 10,
   "metadata": {},
   "outputs": [
    {
     "name": "stdout",
     "output_type": "stream",
     "text": "[0.00000000e+00 0.00000000e+00 8.78033802e+03 6.75134309e+07\n 7.55183908e+09 1.76741332e+09 0.00000000e+00 0.00000000e+00\n 0.00000000e+00 0.00000000e+00 0.00000000e+00 0.00000000e+00\n 0.00000000e+00 0.00000000e+00]\n"
    },
    {
     "data": {
      "text/plain": "0.0008565899972677325"
     },
     "execution_count": 10,
     "metadata": {},
     "output_type": "execute_result"
    }
   ],
   "source": [
    "cartera.set_volatilidad_cartera()\n",
    "volatilidad = cartera.get_volatilidad_cartera()\n",
    "volatilidad"
   ]
  },
  {
   "cell_type": "code",
   "execution_count": null,
   "metadata": {},
   "outputs": [],
   "source": []
  }
 ]
}