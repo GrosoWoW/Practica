{
 "cells": [
  {
   "cell_type": "code",
   "execution_count": 1,
   "metadata": {},
   "outputs": [],
   "source": [
    "import pyodbc\n",
    "import sys\n",
    "import datetime\n",
    "\n",
    "from Activo import *\n",
    "from Accion import *\n",
    "from Bono import *\n",
    "from Derivado import *\n",
    "from DerivadosTipos.DerivadosSCC import *\n",
    "from extraer_accion import *\n",
    "\n",
    "from Cartera import *"
   ]
  },
  {
   "cell_type": "code",
   "execution_count": 2,
   "metadata": {},
   "outputs": [],
   "source": [
    "server = '172.16.1.38'\n",
    "username = 'sa'\n",
    "password = 'qwerty123'\n",
    "driver = '{ODBC Driver 17 for SQL Server}'\n",
    "cn = pyodbc.connect('DRIVER=' + driver + ';SERVER=' + server + ';UID=' + username + ';PWD=' + password)"
   ]
  },
  {
   "cell_type": "code",
   "execution_count": 3,
   "metadata": {},
   "outputs": [],
   "source": [
    "def cambiar_fecha(fecha):\n",
    "\n",
    "    fechas = fecha.split(\"-\")\n",
    "    fechas = fechas[2].split(\" \")[0] + \"/\" + fechas[1] + \"/\" + fechas[0]\n",
    "    return fechas"
   ]
  },
  {
   "cell_type": "code",
   "execution_count": 4,
   "metadata": {},
   "outputs": [],
   "source": [
    "def bonos_dbAlgebra(n,cn):\n",
    "    bonos = 'SELECT TOP(' + str(n) + \") bono.Moneda, bono.TablaDesarrollo, bono.Base1 , bono.Base2, bono.FechaEmision, riesgo.Riesgo AS RiesgoInt FROM [dbAlgebra].[dbo].[TdNemoRF] AS bono , [dbAlgebra].[dbo].[VwRiesgoRF] AS riesgo WHERE bono.Nemotecnico = riesgo.Nemotecnico\"\n",
    "    bonos = pd.read_sql(bonos, cn)\n",
    "    return pd.DataFrame(bonos)\n",
    "\n",
    "def derivados_dBDerivados(cantidad, cn):\n",
    "\n",
    "    derivados = \"SELECT TOP (\"+ str(cantidad) +\") * FROM [dbDerivados].[dbo].[TdCarteraDerivados_V2]\"\n",
    "    derivados = pd.read_sql(derivados, cn)\n",
    "\n",
    "    derivado = pd.DataFrame()\n",
    "    dev = []\n",
    "\n",
    "    for i in range(cantidad):\n",
    "\n",
    "        info_derivado = dict()\n",
    "        info_derivado[\"Tipo\"] = derivados[\"Tipo\"][i]\n",
    "        info_derivado[\"ID_Key\"] = derivados[\"ID_Key\"][i]\n",
    "        info_derivado[\"Administradora\"] = derivados[\"Administradora\"][i]\n",
    "        info_derivado[\"Fondo\"] = derivados[\"Fondo\"][i]\n",
    "        info_derivado[\"Contraparte\"] = derivados[\"Contraparte\"][i]\n",
    "        info_derivado[\"ID\"] = int(derivados[\"ID\"][i])\n",
    "        info_derivado[\"Nemotecnico\"] = derivados[\"Nemotecnico\"][i]\n",
    "        info_derivado[\"Mercado\"] = derivados[\"Mercado\"][i]     \n",
    "        fecha = datetime.date(2017, 12, 20)\n",
    "        hora = '1700'\n",
    "        info_derivado[\"FechaEfectiva\"] = cambiar_fecha(str(derivados[\"FechaEfectiva\"][i]))\n",
    "        info_derivado[\"FechaVenc\"] = cambiar_fecha(str(derivados[\"FechaVenc\"][i]))\n",
    "        info_derivado[\"AjusteFeriados\"] = derivados[\"AjusteFeriados\"][i]\n",
    "        info_derivado[\"NocionalActivo\"] = derivados[\"NocionalActivo\"][i]\n",
    "        info_derivado[\"MonedaActivo\"] = derivados[\"MonedaActivo\"][i]\n",
    "        info_derivado[\"MonedaBase\"] = derivados[\"MonedaBase\"][i]\n",
    "        info_derivado[\"TipoTasaActivo\"] = derivados[\"TipoTasaActivo\"][i]\n",
    "        info_derivado[\"TipoTasaPasivo\"] = derivados[\"TipoTasaPasivo\"][i]\n",
    "        info_derivado[\"TasaActivo\"] = derivados[\"TasaActivo\"][i]\n",
    "        info_derivado[\"TasaPasivo\"] = derivados[\"TasaPasivo\"][i]\n",
    "        info_derivado[\"FrecuenciaActivo\"] = derivados[\"FrecuenciaActivo\"][i]\n",
    "        info_derivado[\"FrecuenciaPasivo\"] = info_derivado[\"FrecuenciaActivo\"]\n",
    "\n",
    "        info1 = pd.DataFrame([info_derivado])\n",
    "        derivado_info = DerivadosSCC(fecha, hora, info1, cn)\n",
    "\n",
    "        dev.append(derivado_info)\n",
    "\n",
    "    derivado[\"Derivado\"] = dev\n",
    "    return derivado"
   ]
  },
  {
   "cell_type": "code",
   "execution_count": 5,
   "metadata": {},
   "outputs": [],
   "source": [
    "def conversionSYP(riesgo):\n",
    "    return {1: 'AAA',2: 'AA',3: 'AA',4: 'AA',5: 'A',6: 'A',7: 'A',8: 'BBB',9: 'BBB',10: 'BBB',\\\n",
    "            11: 'BB',12: 'BB',13: 'BB',14: 'B',15: 'B',16: 'B',17: 'CCC',18: 'CC',19: 'CC',20: 'C',\\\n",
    "            21: 'C',22: 'C',23: 'D',24: 'E'}.get(riesgo)\n",
    "\n",
    "def ajustes(bonos):\n",
    "    bonos['FechaEmision'] = bonos['FechaEmision'].apply(lambda x: x.strftime('%Y-%m-%d'))\n",
    "    bonos['Base1'] = bonos['Base1'].apply(lambda x: x if x != -1 else 'ACT')\n",
    "    bonos['Base2'] = bonos['Base2'].apply(lambda x: x if x != -1 else 'ACT')\n",
    "    bonos['Convencion'] = bonos['Base1'].apply(lambda x: str(x)) + '/' + bonos['Base2'].apply(lambda x: str(x))\n",
    "    bonos['Riesgo'] = bonos['RiesgoInt'].apply(lambda x: conversionSYP(x))\n",
    "    return bonos"
   ]
  },
  {
   "cell_type": "code",
   "execution_count": 6,
   "metadata": {},
   "outputs": [
    {
     "data": {
      "text/html": [
       "<div>\n",
       "<style scoped>\n",
       "    .dataframe tbody tr th:only-of-type {\n",
       "        vertical-align: middle;\n",
       "    }\n",
       "\n",
       "    .dataframe tbody tr th {\n",
       "        vertical-align: top;\n",
       "    }\n",
       "\n",
       "    .dataframe thead th {\n",
       "        text-align: right;\n",
       "    }\n",
       "</style>\n",
       "<table border=\"1\" class=\"dataframe\">\n",
       "  <thead>\n",
       "    <tr style=\"text-align: right;\">\n",
       "      <th></th>\n",
       "      <th>Moneda</th>\n",
       "      <th>TablaDesarrollo</th>\n",
       "      <th>Base1</th>\n",
       "      <th>Base2</th>\n",
       "      <th>FechaEmision</th>\n",
       "      <th>RiesgoInt</th>\n",
       "      <th>Convencion</th>\n",
       "      <th>Riesgo</th>\n",
       "    </tr>\n",
       "  </thead>\n",
       "  <tbody>\n",
       "    <tr>\n",
       "      <th>0</th>\n",
       "      <td>UF</td>\n",
       "      <td>1#01-05-2020#1,71#4,23#95,77#5,94|2#01-08-2020...</td>\n",
       "      <td>30</td>\n",
       "      <td>360</td>\n",
       "      <td>2020-02-01</td>\n",
       "      <td>2</td>\n",
       "      <td>30/360</td>\n",
       "      <td>AA</td>\n",
       "    </tr>\n",
       "  </tbody>\n",
       "</table>\n",
       "</div>"
      ],
      "text/plain": [
       "  Moneda                                    TablaDesarrollo  Base1  Base2  \\\n",
       "0     UF  1#01-05-2020#1,71#4,23#95,77#5,94|2#01-08-2020...     30    360   \n",
       "\n",
       "  FechaEmision  RiesgoInt Convencion Riesgo  \n",
       "0   2020-02-01          2     30/360     AA  "
      ]
     },
     "execution_count": 6,
     "metadata": {},
     "output_type": "execute_result"
    }
   ],
   "source": [
    "bonos = ajustes(bonos_dbAlgebra(1,cn))\n",
    "bonos"
   ]
  },
  {
   "cell_type": "code",
   "execution_count": 7,
   "metadata": {},
   "outputs": [
    {
     "name": "stderr",
     "output_type": "stream",
     "text": [
      "C:\\Users\\Lenovo\\Documents\\Universidad\\Practica\\Cartera_V2\\Practica\\Intento\\Cartera\\DerivadosTipos\\DerivadosSCC.py:48: SettingWithCopyWarning: \n",
      "A value is trying to be set on a copy of a slice from a DataFrame\n",
      "\n",
      "See the caveats in the documentation: http://pandas.pydata.org/pandas-docs/stable/user_guide/indexing.html#returning-a-view-versus-a-copy\n",
      "  info_cartera.MonedaActivo[0] = \"CLP\"\n"
     ]
    },
    {
     "data": {
      "text/html": [
       "<div>\n",
       "<style scoped>\n",
       "    .dataframe tbody tr th:only-of-type {\n",
       "        vertical-align: middle;\n",
       "    }\n",
       "\n",
       "    .dataframe tbody tr th {\n",
       "        vertical-align: top;\n",
       "    }\n",
       "\n",
       "    .dataframe thead th {\n",
       "        text-align: right;\n",
       "    }\n",
       "</style>\n",
       "<table border=\"1\" class=\"dataframe\">\n",
       "  <thead>\n",
       "    <tr style=\"text-align: right;\">\n",
       "      <th></th>\n",
       "      <th>Derivado</th>\n",
       "    </tr>\n",
       "  </thead>\n",
       "  <tbody>\n",
       "    <tr>\n",
       "      <th>0</th>\n",
       "      <td>&lt;DerivadosTipos.DerivadosSCC.DerivadosSCC obje...</td>\n",
       "    </tr>\n",
       "    <tr>\n",
       "      <th>1</th>\n",
       "      <td>&lt;DerivadosTipos.DerivadosSCC.DerivadosSCC obje...</td>\n",
       "    </tr>\n",
       "    <tr>\n",
       "      <th>2</th>\n",
       "      <td>&lt;DerivadosTipos.DerivadosSCC.DerivadosSCC obje...</td>\n",
       "    </tr>\n",
       "    <tr>\n",
       "      <th>3</th>\n",
       "      <td>&lt;DerivadosTipos.DerivadosSCC.DerivadosSCC obje...</td>\n",
       "    </tr>\n",
       "    <tr>\n",
       "      <th>4</th>\n",
       "      <td>&lt;DerivadosTipos.DerivadosSCC.DerivadosSCC obje...</td>\n",
       "    </tr>\n",
       "  </tbody>\n",
       "</table>\n",
       "</div>"
      ],
      "text/plain": [
       "                                            Derivado\n",
       "0  <DerivadosTipos.DerivadosSCC.DerivadosSCC obje...\n",
       "1  <DerivadosTipos.DerivadosSCC.DerivadosSCC obje...\n",
       "2  <DerivadosTipos.DerivadosSCC.DerivadosSCC obje...\n",
       "3  <DerivadosTipos.DerivadosSCC.DerivadosSCC obje...\n",
       "4  <DerivadosTipos.DerivadosSCC.DerivadosSCC obje..."
      ]
     },
     "execution_count": 7,
     "metadata": {},
     "output_type": "execute_result"
    }
   ],
   "source": [
    "derivados = derivados_dBDerivados(5, cn)\n",
    "derivados"
   ]
  },
  {
   "cell_type": "code",
   "execution_count": 8,
   "metadata": {},
   "outputs": [],
   "source": [
    "acciones = historico(\"AT0000785241\", 60)\n"
   ]
  },
  {
   "cell_type": "code",
   "execution_count": 9,
   "metadata": {},
   "outputs": [
    {
     "name": "stdout",
     "output_type": "stream",
     "text": [
      "565 1\n",
      "CLP CLP\n",
      "UFAA\n",
      "60 14\n",
      "UF CLP\n",
      "       Cambio\n",
      "0    27698.98\n",
      "1    27703.59\n",
      "2    27706.27\n",
      "3    27714.30\n",
      "4    27716.98\n",
      "..        ...\n",
      "195  28342.82\n",
      "196  28343.75\n",
      "197  28344.66\n",
      "198  28352.34\n",
      "199  28358.18\n",
      "\n",
      "[200 rows x 1 columns]\n",
      "9.04269289970398\n",
      "CLP\n",
      "60 14\n",
      "CLP CLP\n",
      "CLP\n",
      "CLP\n",
      "CLP\n",
      "CLP\n"
     ]
    }
   ],
   "source": [
    "cartera = Cartera(acciones, bonos, derivados,'CLP', datetime.date(2019,2,1), cn, 60)"
   ]
  },
  {
   "cell_type": "code",
   "execution_count": 10,
   "metadata": {},
   "outputs": [
    {
     "name": "stdout",
     "output_type": "stream",
     "text": [
      "     UF#30#AA  UF#90#AA  UF#180#AA  UF#360#AA  UF#720#AA  UF#1080#AA  \\\n",
      "0    0.000000  0.000000   0.000000   0.000000   0.000000    0.000000   \n",
      "1    0.000112  0.000008  -0.000155  -0.000473  -0.001359   -0.001996   \n",
      "2    0.000042 -0.000063  -0.000226  -0.000545  -0.000954   -0.001497   \n",
      "3    0.000949  0.002224   0.004202   0.008070   0.015688    0.023248   \n",
      "4    0.000249  0.000544   0.001002   0.001898   0.003743    0.005377   \n",
      "..        ...       ...        ...        ...        ...         ...   \n",
      "560       NaN       NaN        NaN        NaN        NaN         NaN   \n",
      "561       NaN       NaN        NaN        NaN        NaN         NaN   \n",
      "562       NaN       NaN        NaN        NaN        NaN         NaN   \n",
      "563       NaN       NaN        NaN        NaN        NaN         NaN   \n",
      "564       NaN       NaN        NaN        NaN        NaN         NaN   \n",
      "\n",
      "     UF#1440#AA  UF#1800#AA  UF#2520#AA  UF#3240#AA  ...  CLP#1080  CLP#1440  \\\n",
      "0      0.000000    0.000000    0.000000    0.000000  ...  0.000000  0.000000   \n",
      "1     -0.002757   -0.003388   -0.004896   -0.006394  ... -0.000144  0.000199   \n",
      "2     -0.001929   -0.002617   -0.003659   -0.004868  ...  0.000095  0.000088   \n",
      "3      0.030440    0.037697    0.051587    0.065027  ...  0.000296  0.000576   \n",
      "4      0.007106    0.009012    0.012510    0.016118  ... -0.000103  0.000270   \n",
      "..          ...         ...         ...         ...  ...       ...       ...   \n",
      "560         NaN         NaN         NaN         NaN  ...       NaN       NaN   \n",
      "561         NaN         NaN         NaN         NaN  ...       NaN       NaN   \n",
      "562         NaN         NaN         NaN         NaN  ...       NaN       NaN   \n",
      "563         NaN         NaN         NaN         NaN  ...       NaN       NaN   \n",
      "564         NaN         NaN         NaN         NaN  ...       NaN       NaN   \n",
      "\n",
      "     CLP#1800  CLP#2520  CLP#3240  CLP#3600  CLP#5400  CLP#7200  CLP#10800  \\\n",
      "0    0.000000  0.000000  0.000000  0.000000  0.000000  0.000000   0.000000   \n",
      "1    0.000258  0.000327 -0.000474 -0.001068 -0.000813 -0.002239  -0.003447   \n",
      "2    0.000169  0.000192  0.000109  0.000196  0.000179 -0.001035  -0.001599   \n",
      "3    0.000974  0.000379  0.001326  0.000979  0.001436  0.003271   0.004949   \n",
      "4    0.000336  0.001262  0.001646  0.001903  0.002888  0.003751   0.005625   \n",
      "..        ...       ...       ...       ...       ...       ...        ...   \n",
      "560       NaN       NaN       NaN       NaN       NaN       NaN        NaN   \n",
      "561       NaN       NaN       NaN       NaN       NaN       NaN        NaN   \n",
      "562       NaN       NaN       NaN       NaN       NaN       NaN        NaN   \n",
      "563       NaN       NaN       NaN       NaN       NaN       NaN        NaN   \n",
      "564       NaN       NaN       NaN       NaN       NaN       NaN        NaN   \n",
      "\n",
      "     AT0000785241  \n",
      "0    0.000000e+00  \n",
      "1   -3.645640e-02  \n",
      "2   -2.069846e-02  \n",
      "3    8.752516e-02  \n",
      "4   -1.072504e-09  \n",
      "..            ...  \n",
      "560 -1.422618e-11  \n",
      "561 -1.190739e-10  \n",
      "562 -3.533402e-03  \n",
      "563  8.842371e-11  \n",
      "564 -2.457402e-10  \n",
      "\n",
      "[565 rows x 29 columns]\n"
     ]
    }
   ],
   "source": [
    "print(cartera.get_retornos_totales())"
   ]
  },
  {
   "cell_type": "code",
   "execution_count": 11,
   "metadata": {},
   "outputs": [
    {
     "name": "stdout",
     "output_type": "stream",
     "text": [
      "nan\n"
     ]
    }
   ],
   "source": [
    "cartera.set_volatilidad_cartera()\n",
    "print(cartera.get_volatilidad_cartera())"
   ]
  },
  {
   "cell_type": "code",
   "execution_count": null,
   "metadata": {},
   "outputs": [],
   "source": []
  }
 ],
 "metadata": {
  "kernelspec": {
   "display_name": "Python 3",
   "language": "python",
   "name": "python3"
  },
  "language_info": {
   "codemirror_mode": {
    "name": "ipython",
    "version": 3
   },
   "file_extension": ".py",
   "mimetype": "text/x-python",
   "name": "python",
   "nbconvert_exporter": "python",
   "pygments_lexer": "ipython3",
   "version": "3.7.6"
  }
 },
 "nbformat": 4,
 "nbformat_minor": 4
}
