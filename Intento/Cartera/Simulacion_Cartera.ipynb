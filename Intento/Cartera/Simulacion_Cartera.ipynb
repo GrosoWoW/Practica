{
 "cells": [
  {
   "cell_type": "code",
   "execution_count": 1,
   "metadata": {},
   "outputs": [],
   "source": [
    "import pyodbc\n",
    "import sys\n",
    "import datetime\n",
    "\n",
    "from Activo import *\n",
    "from Accion import *\n",
    "from Bono import *\n",
    "from Derivado import *\n",
    "from DerivadosTipos.DerivadosSCC import *\n",
    "from DerivadosTipos.DerivadosFWD import *\n",
    "\n",
    "from extraer_accion import *\n",
    "\n",
    "\n",
    "from Cartera import *"
   ]
  },
  {
   "cell_type": "code",
   "execution_count": 2,
   "metadata": {},
   "outputs": [],
   "source": [
    "server = '172.16.1.38'\n",
    "username = 'sa'\n",
    "password = 'qwerty123'\n",
    "driver = '{ODBC Driver 17 for SQL Server}'\n",
    "cn = pyodbc.connect('DRIVER=' + driver + ';SERVER=' + server + ';UID=' + username + ';PWD=' + password)"
   ]
  },
  {
   "cell_type": "code",
   "execution_count": 3,
   "metadata": {},
   "outputs": [],
   "source": [
    "def cambiar_fecha(fecha):\n",
    "\n",
    "    fechas = fecha.split(\"-\")\n",
    "    fechas = fechas[2].split(\" \")[0] + \"/\" + fechas[1] + \"/\" + fechas[0]\n",
    "    return fechas"
   ]
  },
  {
   "cell_type": "code",
   "execution_count": 4,
   "metadata": {},
   "outputs": [],
   "source": [
    "def bonos_dbAlgebra(n,cn):\n",
    "    bonos = 'SELECT TOP(' + str(n) + \") bono.Moneda, bono.TablaDesarrollo, bono.Base1 , bono.Base2, bono.FechaEmision, riesgo.Riesgo AS RiesgoInt FROM [dbAlgebra].[dbo].[TdNemoRF] AS bono , [dbAlgebra].[dbo].[VwRiesgoRF] AS riesgo WHERE bono.Nemotecnico = riesgo.Nemotecnico\"\n",
    "    bonos = pd.read_sql(bonos, cn)\n",
    "    return pd.DataFrame(bonos)\n",
    "\n",
    "def derivados_dBDerivados(cantidad, cn):\n",
    "\n",
    "    derivados = \"SELECT TOP (\"+ str(cantidad) +\") * FROM [dbDerivados].[dbo].[TdCarteraDerivados_V2] WHERE Tipo = 'SCC'\"\n",
    "    derivados = pd.read_sql(derivados, cn)\n",
    "\n",
    "    derivado = pd.DataFrame()\n",
    "    dev = []\n",
    "\n",
    "    for i in range(cantidad):\n",
    "\n",
    "        info_derivado = dict()\n",
    "        info_derivado[\"Tipo\"] = derivados[\"Tipo\"][i]\n",
    "        info_derivado[\"ID_Key\"] = derivados[\"ID_Key\"][i]\n",
    "        info_derivado[\"Administradora\"] = derivados[\"Administradora\"][i]\n",
    "        info_derivado[\"Fondo\"] = derivados[\"Fondo\"][i]\n",
    "        info_derivado[\"Contraparte\"] = derivados[\"Contraparte\"][i]\n",
    "        info_derivado[\"ID\"] = int(derivados[\"ID\"][i])\n",
    "        info_derivado[\"Nemotecnico\"] = derivados[\"Nemotecnico\"][i]\n",
    "        info_derivado[\"Mercado\"] = derivados[\"Mercado\"][i]     \n",
    "        fecha = datetime.date(2017, 12, 20)\n",
    "        hora = '1700'\n",
    "        info_derivado[\"FechaEfectiva\"] = cambiar_fecha(str(derivados[\"FechaEfectiva\"][i]))\n",
    "        info_derivado[\"FechaVenc\"] = cambiar_fecha(str(derivados[\"FechaVenc\"][i]))\n",
    "        info_derivado[\"AjusteFeriados\"] = derivados[\"AjusteFeriados\"][i]\n",
    "        info_derivado[\"NocionalActivo\"] = derivados[\"NocionalActivo\"][i]\n",
    "        info_derivado[\"NocionalPasivo\"] = derivados[\"NocionalActivo\"][i]\n",
    "\n",
    "        info_derivado[\"MonedaActivo\"] = derivados[\"MonedaActivo\"][i]\n",
    "        info_derivado[\"MonedaPasivo\"] = derivados[\"MonedaPasivo\"][i]\n",
    "\n",
    "        info_derivado[\"MonedaBase\"] = derivados[\"MonedaBase\"][i]\n",
    "        info_derivado[\"TipoTasaActivo\"] = derivados[\"TipoTasaActivo\"][i]\n",
    "        info_derivado[\"TipoTasaPasivo\"] = derivados[\"TipoTasaPasivo\"][i]\n",
    "        info_derivado[\"TasaActivo\"] = derivados[\"TasaActivo\"][i]\n",
    "        info_derivado[\"TasaPasivo\"] = derivados[\"TasaPasivo\"][i]\n",
    "        info_derivado[\"FrecuenciaActivo\"] = derivados[\"FrecuenciaActivo\"][i]\n",
    "        info_derivado[\"FrecuenciaPasivo\"] = info_derivado[\"FrecuenciaActivo\"]\n",
    "\n",
    "        info1 = pd.DataFrame([info_derivado])\n",
    "        derivado_info = DerivadosSCC(fecha, hora, info1, cn)\n",
    "\n",
    "        dev.append(derivado_info)\n",
    "\n",
    "    derivado[\"Derivado\"] = dev\n",
    "    return derivado"
   ]
  },
  {
   "cell_type": "code",
   "execution_count": 5,
   "metadata": {},
   "outputs": [],
   "source": [
    "def conversionSYP(riesgo):\n",
    "    return {1: 'AAA',2: 'AA',3: 'AA',4: 'AA',5: 'A',6: 'A',7: 'A',8: 'BBB',9: 'BBB',10: 'BBB',\\\n",
    "            11: 'BB',12: 'BB',13: 'BB',14: 'B',15: 'B',16: 'B',17: 'CCC',18: 'CC',19: 'CC',20: 'C',\\\n",
    "            21: 'C',22: 'C',23: 'D',24: 'E'}.get(riesgo)\n",
    "\n",
    "def ajustes(bonos):\n",
    "    bonos['FechaEmision'] = bonos['FechaEmision'].apply(lambda x: x.strftime('%Y-%m-%d'))\n",
    "    bonos['Base1'] = bonos['Base1'].apply(lambda x: x if x != -1 else 'ACT')\n",
    "    bonos['Base2'] = bonos['Base2'].apply(lambda x: x if x != -1 else 'ACT')\n",
    "    bonos['Convencion'] = bonos['Base1'].apply(lambda x: str(x)) + '/' + bonos['Base2'].apply(lambda x: str(x))\n",
    "    bonos['Riesgo'] = bonos['RiesgoInt'].apply(lambda x: conversionSYP(x))\n",
    "    return bonos"
   ]
  },
  {
   "cell_type": "code",
   "execution_count": 6,
   "metadata": {},
   "outputs": [],
   "source": [
    "#bonos = ajustes(bonos_dbAlgebra(1,cn))\n",
    "#bonos"
   ]
  },
  {
   "cell_type": "code",
   "execution_count": 7,
   "metadata": {},
   "outputs": [
    {
     "name": "stderr",
     "output_type": "stream",
     "text": [
      "C:\\Users\\groso\\Desktop\\PracticaV2\\Practica\\Intento\\Cartera\\DerivadosTipos\\DerivadosSCC.py:48: SettingWithCopyWarning: \n",
      "A value is trying to be set on a copy of a slice from a DataFrame\n",
      "\n",
      "See the caveats in the documentation: http://pandas.pydata.org/pandas-docs/stable/user_guide/indexing.html#returning-a-view-versus-a-copy\n",
      "  info_cartera.MonedaActivo[0] = \"CLP\"\n"
     ]
    },
    {
     "data": {
      "text/html": [
       "<div>\n",
       "<style scoped>\n",
       "    .dataframe tbody tr th:only-of-type {\n",
       "        vertical-align: middle;\n",
       "    }\n",
       "\n",
       "    .dataframe tbody tr th {\n",
       "        vertical-align: top;\n",
       "    }\n",
       "\n",
       "    .dataframe thead th {\n",
       "        text-align: right;\n",
       "    }\n",
       "</style>\n",
       "<table border=\"1\" class=\"dataframe\">\n",
       "  <thead>\n",
       "    <tr style=\"text-align: right;\">\n",
       "      <th></th>\n",
       "      <th>ID</th>\n",
       "      <th>ActivoPasivo</th>\n",
       "      <th>Fecha</th>\n",
       "      <th>FechaFixing</th>\n",
       "      <th>FechaFlujo</th>\n",
       "      <th>FechaPago</th>\n",
       "      <th>Flujo</th>\n",
       "      <th>ValorPresenteMonFlujo</th>\n",
       "      <th>Moneda</th>\n",
       "      <th>MonedaBase</th>\n",
       "    </tr>\n",
       "  </thead>\n",
       "  <tbody>\n",
       "    <tr>\n",
       "      <th>0</th>\n",
       "      <td>1367</td>\n",
       "      <td>-1</td>\n",
       "      <td>2017-12-20</td>\n",
       "      <td>2020-05-12</td>\n",
       "      <td>2020-05-12</td>\n",
       "      <td>2020-05-12</td>\n",
       "      <td>7.445063e+08</td>\n",
       "      <td>6.929181e+08</td>\n",
       "      <td>CLP</td>\n",
       "      <td>CLP</td>\n",
       "    </tr>\n",
       "    <tr>\n",
       "      <th>1</th>\n",
       "      <td>1367</td>\n",
       "      <td>-1</td>\n",
       "      <td>2017-12-20</td>\n",
       "      <td>2020-11-12</td>\n",
       "      <td>2020-11-12</td>\n",
       "      <td>2020-11-12</td>\n",
       "      <td>1.959144e+08</td>\n",
       "      <td>1.788355e+08</td>\n",
       "      <td>CLP</td>\n",
       "      <td>CLP</td>\n",
       "    </tr>\n",
       "    <tr>\n",
       "      <th>2</th>\n",
       "      <td>1367</td>\n",
       "      <td>-1</td>\n",
       "      <td>2017-12-20</td>\n",
       "      <td>2021-05-12</td>\n",
       "      <td>2021-05-12</td>\n",
       "      <td>2021-05-12</td>\n",
       "      <td>2.066496e+08</td>\n",
       "      <td>1.848157e+08</td>\n",
       "      <td>CLP</td>\n",
       "      <td>CLP</td>\n",
       "    </tr>\n",
       "    <tr>\n",
       "      <th>3</th>\n",
       "      <td>1367</td>\n",
       "      <td>-1</td>\n",
       "      <td>2017-12-20</td>\n",
       "      <td>2021-11-12</td>\n",
       "      <td>2021-11-12</td>\n",
       "      <td>2021-11-12</td>\n",
       "      <td>1.021427e+10</td>\n",
       "      <td>8.943431e+09</td>\n",
       "      <td>CLP</td>\n",
       "      <td>CLP</td>\n",
       "    </tr>\n",
       "    <tr>\n",
       "      <th>4</th>\n",
       "      <td>1367</td>\n",
       "      <td>1</td>\n",
       "      <td>2017-12-20</td>\n",
       "      <td>2020-05-12</td>\n",
       "      <td>2020-05-12</td>\n",
       "      <td>2020-05-12</td>\n",
       "      <td>7.304466e+07</td>\n",
       "      <td>6.798326e+07</td>\n",
       "      <td>CLP</td>\n",
       "      <td>CLP</td>\n",
       "    </tr>\n",
       "    <tr>\n",
       "      <th>5</th>\n",
       "      <td>1367</td>\n",
       "      <td>1</td>\n",
       "      <td>2017-12-20</td>\n",
       "      <td>2020-11-12</td>\n",
       "      <td>2020-11-12</td>\n",
       "      <td>2020-11-12</td>\n",
       "      <td>7.385030e+07</td>\n",
       "      <td>6.741237e+07</td>\n",
       "      <td>CLP</td>\n",
       "      <td>CLP</td>\n",
       "    </tr>\n",
       "    <tr>\n",
       "      <th>6</th>\n",
       "      <td>1367</td>\n",
       "      <td>1</td>\n",
       "      <td>2017-12-20</td>\n",
       "      <td>2021-05-12</td>\n",
       "      <td>2021-05-12</td>\n",
       "      <td>2021-05-12</td>\n",
       "      <td>7.264186e+07</td>\n",
       "      <td>6.496674e+07</td>\n",
       "      <td>CLP</td>\n",
       "      <td>CLP</td>\n",
       "    </tr>\n",
       "    <tr>\n",
       "      <th>7</th>\n",
       "      <td>1367</td>\n",
       "      <td>1</td>\n",
       "      <td>2017-12-20</td>\n",
       "      <td>2021-11-12</td>\n",
       "      <td>2021-11-12</td>\n",
       "      <td>2021-11-12</td>\n",
       "      <td>1.007385e+10</td>\n",
       "      <td>8.820480e+09</td>\n",
       "      <td>CLP</td>\n",
       "      <td>CLP</td>\n",
       "    </tr>\n",
       "  </tbody>\n",
       "</table>\n",
       "</div>"
      ],
      "text/plain": [
       "     ID ActivoPasivo       Fecha FechaFixing  FechaFlujo   FechaPago  \\\n",
       "0  1367           -1  2017-12-20  2020-05-12  2020-05-12  2020-05-12   \n",
       "1  1367           -1  2017-12-20  2020-11-12  2020-11-12  2020-11-12   \n",
       "2  1367           -1  2017-12-20  2021-05-12  2021-05-12  2021-05-12   \n",
       "3  1367           -1  2017-12-20  2021-11-12  2021-11-12  2021-11-12   \n",
       "4  1367            1  2017-12-20  2020-05-12  2020-05-12  2020-05-12   \n",
       "5  1367            1  2017-12-20  2020-11-12  2020-11-12  2020-11-12   \n",
       "6  1367            1  2017-12-20  2021-05-12  2021-05-12  2021-05-12   \n",
       "7  1367            1  2017-12-20  2021-11-12  2021-11-12  2021-11-12   \n",
       "\n",
       "          Flujo  ValorPresenteMonFlujo Moneda MonedaBase  \n",
       "0  7.445063e+08           6.929181e+08    CLP        CLP  \n",
       "1  1.959144e+08           1.788355e+08    CLP        CLP  \n",
       "2  2.066496e+08           1.848157e+08    CLP        CLP  \n",
       "3  1.021427e+10           8.943431e+09    CLP        CLP  \n",
       "4  7.304466e+07           6.798326e+07    CLP        CLP  \n",
       "5  7.385030e+07           6.741237e+07    CLP        CLP  \n",
       "6  7.264186e+07           6.496674e+07    CLP        CLP  \n",
       "7  1.007385e+10           8.820480e+09    CLP        CLP  "
      ]
     },
     "execution_count": 7,
     "metadata": {},
     "output_type": "execute_result"
    }
   ],
   "source": [
    "derivados = derivados_dBDerivados(10, cn)\n",
    "derivados[\"Derivado\"][1].genera_flujos()\n",
    "derivados[\"Derivado\"][1].valoriza_flujos()\n",
    "derivados[\"Derivado\"][1].flujos_valorizados[[\"ID\",\"ActivoPasivo\", \"Fecha\", \"FechaFixing\", \"FechaFlujo\", \"FechaPago\", \"Flujo\", \"ValorPresenteMonFlujo\", \"Moneda\", \"MonedaBase\"]]"
   ]
  },
  {
   "cell_type": "code",
   "execution_count": 8,
   "metadata": {},
   "outputs": [],
   "source": [
    "# acciones = historico(\"DE000DWS2D90\", \"A\", 60)\n"
   ]
  },
  {
   "cell_type": "code",
   "execution_count": null,
   "metadata": {},
<<<<<<< HEAD
   "outputs": [
    {
     "name": "stdout",
     "output_type": "stream",
     "text": [
      "80\n"
     ]
    },
    {
     "ename": "ZeroDivisionError",
     "evalue": "division by zero",
     "output_type": "error",
     "traceback": [
      "\u001b[1;31m---------------------------------------------------------------------------\u001b[0m",
      "\u001b[1;31mZeroDivisionError\u001b[0m                         Traceback (most recent call last)",
      "\u001b[1;32m<ipython-input-9-c0136e2e2e8a>\u001b[0m in \u001b[0;36m<module>\u001b[1;34m\u001b[0m\n\u001b[1;32m----> 1\u001b[1;33m \u001b[0mcartera\u001b[0m \u001b[1;33m=\u001b[0m \u001b[0mCartera\u001b[0m\u001b[1;33m(\u001b[0m\u001b[0mpd\u001b[0m\u001b[1;33m.\u001b[0m\u001b[0mDataFrame\u001b[0m\u001b[1;33m(\u001b[0m\u001b[1;33m)\u001b[0m\u001b[1;33m,\u001b[0m \u001b[0mpd\u001b[0m\u001b[1;33m.\u001b[0m\u001b[0mDataFrame\u001b[0m\u001b[1;33m(\u001b[0m\u001b[1;33m)\u001b[0m\u001b[1;33m,\u001b[0m \u001b[0mderivados\u001b[0m\u001b[1;33m,\u001b[0m\u001b[1;34m'CLP'\u001b[0m\u001b[1;33m,\u001b[0m \u001b[0mdatetime\u001b[0m\u001b[1;33m.\u001b[0m\u001b[0mdate\u001b[0m\u001b[1;33m(\u001b[0m\u001b[1;36m2019\u001b[0m\u001b[1;33m,\u001b[0m\u001b[1;36m2\u001b[0m\u001b[1;33m,\u001b[0m\u001b[1;36m1\u001b[0m\u001b[1;33m)\u001b[0m\u001b[1;33m,\u001b[0m \u001b[0mcn\u001b[0m\u001b[1;33m,\u001b[0m \u001b[1;36m60\u001b[0m\u001b[1;33m)\u001b[0m\u001b[1;33m\u001b[0m\u001b[1;33m\u001b[0m\u001b[0m\n\u001b[0m",
      "\u001b[1;32m~\\Documents\\Universidad\\Practica\\Cartera_V2\\Practica\\Intento\\Cartera\\Cartera.py\u001b[0m in \u001b[0;36m__init__\u001b[1;34m(self, acciones, bonos, derivados, moneda, fecha, cn, n)\u001b[0m\n\u001b[0;32m    107\u001b[0m             \u001b[0marreglo_derivados\u001b[0m\u001b[1;33m[\u001b[0m\u001b[0mh\u001b[0m\u001b[1;33m]\u001b[0m\u001b[1;33m.\u001b[0m\u001b[0mset_plazos\u001b[0m\u001b[1;33m(\u001b[0m\u001b[0mself\u001b[0m\u001b[1;33m.\u001b[0m\u001b[0mplazos\u001b[0m\u001b[1;33m)\u001b[0m\u001b[1;33m\u001b[0m\u001b[1;33m\u001b[0m\u001b[0m\n\u001b[0;32m    108\u001b[0m             \u001b[0mmoneda\u001b[0m \u001b[1;33m=\u001b[0m \u001b[0marreglo_derivados\u001b[0m\u001b[1;33m[\u001b[0m\u001b[0mh\u001b[0m\u001b[1;33m]\u001b[0m\u001b[1;33m.\u001b[0m\u001b[0mget_moneda\u001b[0m\u001b[1;33m(\u001b[0m\u001b[1;33m)\u001b[0m\u001b[1;33m\u001b[0m\u001b[1;33m\u001b[0m\u001b[0m\n\u001b[1;32m--> 109\u001b[1;33m             \u001b[0mderivado_act\u001b[0m \u001b[1;33m=\u001b[0m \u001b[0mself\u001b[0m\u001b[1;33m.\u001b[0m\u001b[0mfuncion_optimizacion\u001b[0m\u001b[1;33m(\u001b[0m\u001b[0marreglo_derivados\u001b[0m\u001b[1;33m[\u001b[0m\u001b[0mh\u001b[0m\u001b[1;33m]\u001b[0m\u001b[1;33m,\u001b[0m \u001b[0mmoneda\u001b[0m\u001b[1;33m)\u001b[0m\u001b[1;33m\u001b[0m\u001b[1;33m\u001b[0m\u001b[0m\n\u001b[0m\u001b[0;32m    110\u001b[0m             \u001b[0marreglo_derivados_nuevo\u001b[0m\u001b[1;33m.\u001b[0m\u001b[0mappend\u001b[0m\u001b[1;33m(\u001b[0m\u001b[0mderivado_act\u001b[0m\u001b[1;33m)\u001b[0m\u001b[1;33m\u001b[0m\u001b[1;33m\u001b[0m\u001b[0m\n\u001b[0;32m    111\u001b[0m \u001b[1;33m\u001b[0m\u001b[0m\n",
      "\u001b[1;32m~\\Documents\\Universidad\\Practica\\Cartera_V2\\Practica\\Intento\\Cartera\\Cartera.py\u001b[0m in \u001b[0;36mfuncion_optimizacion\u001b[1;34m(self, activo, moneda, riesgo)\u001b[0m\n\u001b[0;32m    491\u001b[0m             \u001b[0mself\u001b[0m\u001b[1;33m.\u001b[0m\u001b[0mcovarianza_dict\u001b[0m\u001b[1;33m[\u001b[0m\u001b[0mnombre\u001b[0m\u001b[1;33m]\u001b[0m \u001b[1;33m=\u001b[0m \u001b[0mcovarianza_calculada\u001b[0m\u001b[1;33m\u001b[0m\u001b[1;33m\u001b[0m\u001b[0m\n\u001b[0;32m    492\u001b[0m \u001b[1;33m\u001b[0m\u001b[0m\n\u001b[1;32m--> 493\u001b[1;33m         \u001b[0mactivo\u001b[0m\u001b[1;33m.\u001b[0m\u001b[0mset_distribucion_pivotes\u001b[0m\u001b[1;33m(\u001b[0m\u001b[1;33m)\u001b[0m\u001b[1;33m\u001b[0m\u001b[1;33m\u001b[0m\u001b[0m\n\u001b[0m\u001b[0;32m    494\u001b[0m         \u001b[0mactivo\u001b[0m\u001b[1;33m.\u001b[0m\u001b[0mset_volatilidad_general\u001b[0m\u001b[1;33m(\u001b[0m\u001b[1;33m)\u001b[0m\u001b[1;33m\u001b[0m\u001b[1;33m\u001b[0m\u001b[0m\n\u001b[0;32m    495\u001b[0m         \u001b[1;32mreturn\u001b[0m \u001b[0mactivo\u001b[0m\u001b[1;33m\u001b[0m\u001b[1;33m\u001b[0m\u001b[0m\n",
      "\u001b[1;32m~\\Documents\\Universidad\\Practica\\Cartera_V2\\Practica\\Intento\\Cartera\\Derivado.py\u001b[0m in \u001b[0;36mset_distribucion_pivotes\u001b[1;34m(self)\u001b[0m\n\u001b[0;32m    307\u001b[0m \u001b[1;33m\u001b[0m\u001b[0m\n\u001b[0;32m    308\u001b[0m             \u001b[0mpivote_entremedio\u001b[0m \u001b[1;33m=\u001b[0m \u001b[0mself\u001b[0m\u001b[1;33m.\u001b[0m\u001b[0mbuscar_pivote\u001b[0m\u001b[1;33m(\u001b[0m\u001b[0mfecha_pago_actual\u001b[0m\u001b[1;33m)\u001b[0m\u001b[1;33m\u001b[0m\u001b[1;33m\u001b[0m\u001b[0m\n\u001b[1;32m--> 309\u001b[1;33m             \u001b[0malfa\u001b[0m \u001b[1;33m=\u001b[0m \u001b[0mself\u001b[0m\u001b[1;33m.\u001b[0m\u001b[0mcoeficiente_peso\u001b[0m\u001b[1;33m(\u001b[0m\u001b[0mpivote_entremedio\u001b[0m\u001b[1;33m[\u001b[0m\u001b[1;36m0\u001b[0m\u001b[1;33m]\u001b[0m\u001b[1;33m,\u001b[0m \u001b[0mpivote_entremedio\u001b[0m\u001b[1;33m[\u001b[0m\u001b[1;36m1\u001b[0m\u001b[1;33m]\u001b[0m\u001b[1;33m,\u001b[0m \u001b[0mfecha_pago_actual\u001b[0m\u001b[1;33m)\u001b[0m\u001b[1;33m\u001b[0m\u001b[1;33m\u001b[0m\u001b[0m\n\u001b[0m\u001b[0;32m    310\u001b[0m \u001b[1;33m\u001b[0m\u001b[0m\n\u001b[0;32m    311\u001b[0m             \u001b[0mnombre_pivote1\u001b[0m \u001b[1;33m=\u001b[0m \u001b[0mmoneda_pago_actual\u001b[0m \u001b[1;33m+\u001b[0m \u001b[1;34m\"#\"\u001b[0m \u001b[1;33m+\u001b[0m \u001b[0mstr\u001b[0m\u001b[1;33m(\u001b[0m\u001b[0mint\u001b[0m\u001b[1;33m(\u001b[0m\u001b[0mpivote_entremedio\u001b[0m\u001b[1;33m[\u001b[0m\u001b[1;36m0\u001b[0m\u001b[1;33m]\u001b[0m\u001b[1;33m*\u001b[0m\u001b[1;36m360\u001b[0m\u001b[1;33m)\u001b[0m\u001b[1;33m)\u001b[0m\u001b[1;33m\u001b[0m\u001b[1;33m\u001b[0m\u001b[0m\n",
      "\u001b[1;32m~\\Documents\\Universidad\\Practica\\Cartera_V2\\Practica\\Intento\\Cartera\\Derivado.py\u001b[0m in \u001b[0;36mcoeficiente_peso\u001b[1;34m(self, pivote1, pivote2, fecha_actual_flujo)\u001b[0m\n\u001b[0;32m    272\u001b[0m         \u001b[0mdenominador\u001b[0m \u001b[1;33m=\u001b[0m \u001b[0mdiferencia_dias_convencion\u001b[0m\u001b[1;33m(\u001b[0m\u001b[1;34m\"ACT360\"\u001b[0m\u001b[1;33m,\u001b[0m \u001b[0mfecha_pivote1\u001b[0m \u001b[1;33m,\u001b[0m \u001b[0mfecha_pivote2\u001b[0m\u001b[1;33m)\u001b[0m\u001b[1;33m\u001b[0m\u001b[1;33m\u001b[0m\u001b[0m\n\u001b[0;32m    273\u001b[0m \u001b[1;33m\u001b[0m\u001b[0m\n\u001b[1;32m--> 274\u001b[1;33m         \u001b[1;32mreturn\u001b[0m \u001b[0mnumerador\u001b[0m\u001b[1;33m/\u001b[0m\u001b[0mdenominador\u001b[0m\u001b[1;33m\u001b[0m\u001b[1;33m\u001b[0m\u001b[0m\n\u001b[0m\u001b[0;32m    275\u001b[0m \u001b[1;33m\u001b[0m\u001b[0m\n\u001b[0;32m    276\u001b[0m     \u001b[1;32mdef\u001b[0m \u001b[0mset_distribucion_pivotes\u001b[0m\u001b[1;33m(\u001b[0m\u001b[0mself\u001b[0m\u001b[1;33m)\u001b[0m\u001b[1;33m:\u001b[0m\u001b[1;33m\u001b[0m\u001b[1;33m\u001b[0m\u001b[0m\n",
      "\u001b[1;31mZeroDivisionError\u001b[0m: division by zero"
     ]
    },
    {
     "data": {
      "image/png": "iVBORw0KGgoAAAANSUhEUgAAAZcAAAERCAYAAAC3j+rIAAAABHNCSVQICAgIfAhkiAAAAAlwSFlzAAALEgAACxIB0t1+/AAAADh0RVh0U29mdHdhcmUAbWF0cGxvdGxpYiB2ZXJzaW9uMy4xLjIsIGh0dHA6Ly9tYXRwbG90bGliLm9yZy8li6FKAAASaUlEQVR4nO3df5Bd5V3H8feHBCgtKgEC0gQlOrEaHQbxSlsdGWcoNqlOQ63OgKNNK4qoOOo/kg7/6H9IdZxhRDqoaOo4ZbBVyVRsSjOjdUbRbBQiKU2zQFu2RFjpD1tbAzFf/7gn9rK92b2bPLt39+b9mrlzznnO85z7fNlDPnvO/bGpKiRJaumscU9AkjR5DBdJUnOGiySpOcNFktSc4SJJas5wkSQ1Z7iMIMl7knwiyYEkf5XkghHGfDjJF5J8aDnmKEkrieEyR5IfTvKnc5ofAb6nqq4EPgm8e4RDvQf4mcbTk6RVwXAZQVV9pKqOdZuPAhsBkqzprmr2dVc1vzAwZi/wpTFMV5LGznBZvJ8F/rZbvxn4YlV9P/D9wM8n2TS2mUnSCrF23BNYKZL8M3AucD5wYZLHul23V9Wers8dwDHgz7t9PwJcmeQnuu1vAjYDzyzbxCVpBTJcOlX1eui/5gK8s6reObg/yQ7gx4Dr6mtfyBbgV06EjySpz9tiI0iyFbgdeGtVfWVg1x7gF5Oc3fX7jiSvGcccJWkl8cplNL9P/5bZI0kAHq2qW4E/Aq4A/jX9HbPADQBJ/gH4TuD8JDPAzV7hSDpTxK/clyS15m0xSVJz3hYDLr744rriiivGPQ1JWlX279//n1W1ftg+wwW44oormJqaGvc0JGlVSfLpk+3ztpgkqTnDRZLUnOEiSWrOcJEkNWe4SJKaM1wkSc0ZLpKk5gwXSVJzYw2XJFuTHEoynWTnkP1Jcne3/0CSqwf23Z/khSRPzBlzYZJHkhzuluuWoxZJ0teMLVySrAHuAbYBW4CbkmyZ020b/T++tRm4Bbh3YN+fAluHHHonsLeqNgN7u21J0jIa55XLNcB0VT1dVS8BDwDb5/TZDryv+h4FLkhyGUBVfQz43JDjbgd2deu76L4CX5K0fMYZLhuAZwe2Z7q2xfaZ69KqOgLQLS8Z1inJLUmmkkzNzs4uauKSpPmNM1wypG3uH5cZpc8pqar7qqpXVb3164d+qack6RSNM1xmgMsHtjcCz51Cn7meP3HrrFu+cJrzlCQt0jjDZR+wOcmmJOcANwK75/TZDbyje9fYG4AvnrjlNY/dwI5ufQfwUMtJS5IWNrZwqapjwG3AHuBJ4MGqOpjk1iS3dt0eBp4GpoE/BH7pxPgk7wf+CXhdkpkkN3e77gSuT3IYuL7bliQto1Q1eQljVev1euUfC5OkxUmyv6p6w/b5CX1JUnOGiySpOcNFktSc4SJJas5wkSQ1Z7hIkpozXCRJzRkukqTmDBdJUnOGiySpOcNFktSc4SJJas5wkSQ1Z7hIkpozXCRJzRkukqTmDBdJUnOGiySpOcNFktSc4SJJas5wkSQ1Z7hIkpozXCRJzRkukqTmDBdJUnOGiySpOcNFktSc4SJJas5wkSQ1Z7hIkpozXCRJzRkukqTmDBdJUnOGiySpOcNFktSc4SJJas5wkSQ1Z7hIkpozXCRJzY01XJJsTXIoyXSSnUP2J8nd3f4DSa5eaGyS30zy2SSPdY+3LFc9kqS+sYVLkjXAPcA2YAtwU5Itc7ptAzZ3j1uAe0cc+3tVdVX3eHhpK5EkzTXOK5drgOmqerqqXgIeALbP6bMdeF/1PQpckOSyEcdKksZknOGyAXh2YHumaxulz0Jjb+tuo92fZN2wJ09yS5KpJFOzs7OnWoMkaYhxhkuGtNWIfeYbey/w7cBVwBHgd4c9eVXdV1W9quqtX79+tBlLkkaydozPPQNcPrC9EXhuxD7nnGxsVT1/ojHJHwIfajdlSdIoxnnlsg/YnGRTknOAG4Hdc/rsBt7RvWvsDcAXq+rIfGO712ROeBvwxFIXIkl6pbFduVTVsSS3AXuANcD9VXUwya3d/vcCDwNvAaaBrwDvmm9sd+i7klxF/zbZp4BfWL6qJEkAqZr7MseZp9fr1dTU1LinIUmrSpL9VdUbts9P6EuSmjNcJEnNGS6SpOYMF0lSc4aLJKk5w0WS1JzhIklqznCRJDVnuEiSmjNcJEnNGS6SpOYMF0lSc4aLJKk5w0WS1JzhIklqznCRJDVnuEiSmjNcJEnNGS6SpOYMF0lSc4aLJKk5w0WS1JzhIklqznCRJDVnuEiSmjNcJEnNGS6SpOYMF0lSc4aLJKk5w0WS1JzhIklqznCRJDVnuEiSmjNcJEnNGS6SpOYMF0lSc4aLJKk5w0WS1JzhIklqbqzhkmRrkkNJppPsHLI/Se7u9h9IcvVCY5NcmOSRJIe75bqlrOHFLx/l8We/wItfPrqUT6MzlOeXltJSnl9rmx9xREnWAPcA1wMzwL4ku6vq4wPdtgGbu8frgXuB1y8wdiewt6ru7EJnJ3D7UtTw0GOf5fYPHuDss87i5ePHuevtV/LWqzYsxVPpDOT5paW01OfXOK9crgGmq+rpqnoJeADYPqfPduB91fcocEGSyxYYux3Y1a3vAm5Yism/+OWj3P7BA/zPy8f50tFj/M/Lx/mNDx7wN0w14fmlpbQc59cph0uSd53mc28Anh3YnunaRukz39hLq+oIQLe8ZNiTJ7klyVSSqdnZ2UVPfubzX+Xss175n+/ss85i5vNfXfSxpLk8v7SUluP8Op0rl986zefOkLYasc8oY+dVVfdVVa+qeuvXr1/MUAA2rjuPl48ff0Xby8ePs3HdeYs+ljSX55eW0nKcX/OGS/ci+rDHvwOXnuZzzwCXD2xvBJ4bsc98Y5/vbp3RLV84zXkOddH553LX26/kVWefxTecu5ZXnX0Wd739Si46/9yleDqdYTy/tJSW4/xK1cl/4U/yPPBm4PNzdwH/WFWvPeUnTtYCnwSuAz4L7AN+qqoODvT5UeA24C30X9C/u6qumW9skvcALw68oH9hVf3GfHPp9Xo1NTV1SnW8+OWjzHz+q2xcd57/46s5zy8tpdM9v5Lsr6resH0LvVvsQ8D5VfXYkIP+3aJnMqCqjiW5DdgDrAHu78Lh1m7/e4GH6QfLNPAV4F3zje0OfSfwYJKbgc8AP3k681zIReef6//0WjKeX1pKS3l+zXvlcqY4nSsXSTpTzXfl4if0JUnNGS6SpOYMF0lSc4aLJKk5w0WS1JzhIklqznCRJDVnuEiSmjNcJEnNGS6SpOYMF0lSc4aLJKk5w0WS1JzhIklqznCRJDVnuEiSmjNcJEnNGS6SpOYMF0lSc4aLJKk5w0WS1JzhIklqznCRJDVnuEiSmjNcJEnNGS6SpOYMF0lSc4aLJKk5w0WS1JzhIklqznCRJDVnuEiSmjNcJEnNGS6SpOYMF0lSc4aLJKk5w0WS1JzhIklqznCRJDU3lnBJcmGSR5Ic7pbrTtJva5JDSaaT7FxofJIrknw1yWPd473LVZMk6WvGdeWyE9hbVZuBvd32KyRZA9wDbAO2ADcl2TLC+Keq6qrucetSFiFJGm5c4bId2NWt7wJuGNLnGmC6qp6uqpeAB7pxo46XJI3JuMLl0qo6AtAtLxnSZwPw7MD2TNe20PhNSf4tyd8n+aGTTSDJLUmmkkzNzs6eTi2SpDnWLtWBk3wU+OYhu+4Y9RBD2mqBMUeAb6mqF5N8H/DXSb67qv7r6w5UdR9wH0Cv11vouJKkRViycKmqN51sX5Lnk1xWVUeSXAa8MKTbDHD5wPZG4Llufej4qjoKHO3W9yd5CvgOYOr0K5IkjWpct8V2Azu69R3AQ0P67AM2J9mU5Bzgxm7cSccnWd+9EYAk3wZsBp5ekgokSSc1rnC5E7g+yWHg+m6bJK9N8jBAVR0DbgP2AE8CD1bVwfnGA9cCB5I8DnwAuLWqPrdMNUmSOqny5YZer1dTU945k6TFSLK/qnrD9vkJfUlSc4aLJKk5w0WS1JzhIklqznCRJDVnuEiSmjNcJEnNGS6SpOYMF0lSc4aLJKk5w0WS1JzhIklqznCRJDVnuEiSmjNcJEnNGS6SpOYMF0lSc4aLJKk5w0WS1JzhIklqznCRJDVnuEiSmjNcJEnNGS6SpOYMF0lSc4aLJKk5w0WS1JzhIklqznCRJDVnuEiSmjNcJEnNGS6SpOYMF0lSc4aLJKk5w0WS1JzhIklqznCRJDVnuEiSmjNcJEnNjSVcklyY5JEkh7vlupP025rkUJLpJDsH2n8yycEkx5P05ox5d9f/UJI3L3UtkqSvN64rl53A3qraDOzttl8hyRrgHmAbsAW4KcmWbvcTwI8DH5szZgtwI/DdwFbgD7rjSJKW0bjCZTuwq1vfBdwwpM81wHRVPV1VLwEPdOOoqier6tBJjvtAVR2tqmeA6e44kqRlNK5wubSqjgB0y0uG9NkAPDuwPdO1zWfkMUluSTKVZGp2dnbkiUuSFrZ2qQ6c5KPANw/ZdceohxjSVq3GVNV9wH0AvV5voeNKkhZhycKlqt50sn1Jnk9yWVUdSXIZ8MKQbjPA5QPbG4HnFnjaUxkjSWpsXLfFdgM7uvUdwEND+uwDNifZlOQc+i/U7x7huDcmOTfJJmAz8C+N5ixJGtG4wuVO4Pokh4Hru22SvDbJwwBVdQy4DdgDPAk8WFUHu35vSzIDvBH4myR7ujEHgQeBjwMfBn65qv53WSuTJJEqX27o9Xo1NTU17mlI0qqSZH9V9Ybt8xP6kqTmDBdJUnOGiySpOcNFktSc4SJJas5wkSQ1Z7hIkprzcy5Aklng0+OeB3Ax8J/jnsQSmuT6Jrk2mOz6Jrk2WNr6vrWq1g/bYbisIEmmTvaBpEkwyfVNcm0w2fVNcm0wvvq8LSZJas5wkSQ1Z7isLPeNewJLbJLrm+TaYLLrm+TaYEz1+ZqLJKk5r1wkSc0ZLpKk5gyXZZbkU0n+PcljSaa6tguTPJLkcLdcN9D/3UmmkxxK8ubxzXxhSS5I8oEkn0jyZJI3TlBtr+t+Zice/5Xk1yaovl9PcjDJE0nen+RVE1Tbr3Z1HUzya13bqq0tyf1JXkjyxEDboutJ8n3dv0XTSe5OkqYTrSofy/gAPgVcPKftLmBnt74T+O1ufQvwOHAusAl4Clgz7hrmqW0X8HPd+jnABZNS25w61wD/AXzrJNQHbACeAc7rth8E3jkhtX0P8ATwamAt8FH6f/581dYGXAtcDTwx0Lboeuj/Cfg3AgH+FtjWcp5euawM2+n/w0y3vGGg/YGqOlpVzwDTwDVjmN+Cknwj/ZP+jwGq6qWq+gITUNsQ1wFPVdWnmZz61gLnJVlL/x/i55iM2r4LeLSqvlL9P53+98DbWMW1VdXHgM/NaV5UPUkuA76xqv6p+knzvoExTRguy6+AjyTZn+SWru3SqjoC0C0v6do3AM8OjJ3p2laibwNmgT9J8m9J/ijJa5iM2ua6EXh/t77q66uqzwK/A3wGOAJ8sao+wgTURv+q5dokFyV5NfAW4HImo7ZBi61nQ7c+t70Zw2X5/WBVXQ1sA345ybXz9B12D3Slvnd8Lf1L9Xur6nuB/6Z/eX4yq6m2/5fkHOCtwF8s1HVI24qsr7s/v53+bZPXAq9J8tPzDRnStiJrq6ongd8GHgE+TP8W0bF5hqya2kZ0snqWvE7DZZlV1XPd8gXgr+hfcj/fXabSLV/ous/Q/y3rhI30b1esRDPATFX9c7f9AfphMwm1DdoG/GtVPd9tT0J9bwKeqarZqnoZ+EvgB5iM2qiqP66qq6vqWvq3kw4zIbUNWGw9M9363PZmDJdllOQ1Sb7hxDrwI/Qv23cDO7puO4CHuvXdwI1Jzk2yif4Lkf+yvLMeTVX9B/Bsktd1TdcBH2cCapvjJr52Swwmo77PAG9I8uruHUPXAU8yGbWR5JJu+S3Aj9P/+U1EbQMWVU936+xLSd7Q/czfMTCmjXG/8+FMetB/XeLx7nEQuKNrvwjYS/83qr3AhQNj7qD/Do9DNH43xxLUdxUwBRwA/hpYNym1dfN9NfAi8E0DbRNRH/BbwCfo/7LzZ/TfXTQptf0D/V90HgeuW+0/N/rheAR4mf4VyM2nUg/Q637eTwG/T/eNLa0efv2LJKk5b4tJkpozXCRJzRkukqTmDBdJUnOGiySpOcNFWqGSbO2+yXY6yXzfdiCtOL4VWVqBkqwBPglcT/+zDPuAm6rq42OdmDQir1yklekaYLqqnq6ql4AH6H//l7QqGC7SyrRav51XAgwXaaWatG/n1RnGcJFWptX67bwSYLhIK9U+YHOSTd3fkLmR/jfcSqvC2nFPQNLXq6pjSW4D9gBrgPur6uCYpyWNzLciS5Ka87aYJKk5w0WS1JzhIklqznCRJDVnuEiSmjNcJEnNGS6SpOb+D453qoAYPijeAAAAAElFTkSuQmCC\n",
      "text/plain": [
       "<Figure size 432x288 with 1 Axes>"
      ]
     },
     "metadata": {
      "needs_background": "light"
     },
     "output_type": "display_data"
    }
   ],
=======
   "outputs": [],
>>>>>>> a22a4ea9c4518324661a56524f5405254d33a11b
   "source": [
    "cartera = Cartera(pd.DataFrame(), pd.DataFrame(), derivados,'CLP', datetime.date(2019,2,1), cn, 60)"
   ]
  },
  {
   "cell_type": "code",
   "execution_count": null,
   "metadata": {},
   "outputs": [],
   "source": [
    "print(cartera.get_historicos_totales())"
   ]
  },
  {
   "cell_type": "code",
   "execution_count": null,
   "metadata": {},
   "outputs": [],
   "source": [
    "print(cartera.get_retornos_totales())"
   ]
  },
  {
   "cell_type": "code",
   "execution_count": null,
   "metadata": {},
   "outputs": [],
   "source": [
    "cartera.set_volatilidad_cartera()\n",
    "print(cartera.get_volatilidad_cartera())"
   ]
  },
  {
   "cell_type": "code",
   "execution_count": null,
   "metadata": {},
   "outputs": [],
   "source": []
  }
 ],
 "metadata": {
  "kernelspec": {
   "display_name": "Python 3",
   "language": "python",
   "name": "python3"
  },
  "language_info": {
   "codemirror_mode": {
    "name": "ipython",
    "version": 3
   },
   "file_extension": ".py",
   "mimetype": "text/x-python",
   "name": "python",
   "nbconvert_exporter": "python",
   "pygments_lexer": "ipython3",
   "version": "3.6.8"
  }
 },
 "nbformat": 4,
 "nbformat_minor": 4
}
