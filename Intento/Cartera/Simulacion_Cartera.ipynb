{
 "cells": [
  {
   "cell_type": "code",
   "execution_count": 1,
   "metadata": {},
   "outputs": [],
   "source": [
    "import pyodbc\n",
    "import sys\n",
    "import datetime\n",
    "\n",
    "from Activo import *\n",
    "from Accion import *\n",
    "from Bono import *\n",
    "from Derivado import *\n",
    "from DerivadosTipos.DerivadosSCC import *\n",
    "from extraer_accion import *\n",
    "\n",
    "from Cartera import *"
   ]
  },
  {
   "cell_type": "code",
   "execution_count": 2,
   "metadata": {},
   "outputs": [],
   "source": [
    "server = '172.16.1.38'\n",
    "username = 'sa'\n",
    "password = 'qwerty123'\n",
    "driver = '{ODBC Driver 17 for SQL Server}'\n",
    "cn = pyodbc.connect('DRIVER=' + driver + ';SERVER=' + server + ';UID=' + username + ';PWD=' + password)"
   ]
  },
  {
   "cell_type": "code",
   "execution_count": 3,
   "metadata": {},
   "outputs": [],
   "source": [
    "def cambiar_fecha(fecha):\n",
    "\n",
    "    fechas = fecha.split(\"-\")\n",
    "    fechas = fechas[2].split(\" \")[0] + \"/\" + fechas[1] + \"/\" + fechas[0]\n",
    "    return fechas"
   ]
  },
  {
   "cell_type": "code",
   "execution_count": 4,
   "metadata": {},
   "outputs": [],
   "source": [
    "def bonos_dbAlgebra(n,cn):\n",
    "    bonos = 'SELECT TOP(' + str(n) + \") bono.Moneda, bono.TablaDesarrollo, bono.Base1 , bono.Base2, bono.FechaEmision, riesgo.Riesgo AS RiesgoInt FROM [dbAlgebra].[dbo].[TdNemoRF] AS bono , [dbAlgebra].[dbo].[VwRiesgoRF] AS riesgo WHERE bono.Nemotecnico = riesgo.Nemotecnico\"\n",
    "    bonos = pd.read_sql(bonos, cn)\n",
    "    return pd.DataFrame(bonos)\n",
    "\n",
    "def derivados_dBDerivados(cantidad, cn):\n",
    "\n",
    "    derivados = \"SELECT TOP (\"+ str(cantidad) +\") * FROM [dbDerivados].[dbo].[TdCarteraDerivados_V2]\"\n",
    "    derivados = pd.read_sql(derivados, cn)\n",
    "\n",
    "    derivado = pd.DataFrame()\n",
    "    dev = []\n",
    "\n",
    "    for i in range(cantidad):\n",
    "\n",
    "        info_derivado = dict()\n",
    "        info_derivado[\"Tipo\"] = derivados[\"Tipo\"][i]\n",
    "        info_derivado[\"ID_Key\"] = derivados[\"ID_Key\"][i]\n",
    "        info_derivado[\"Administradora\"] = derivados[\"Administradora\"][i]\n",
    "        info_derivado[\"Fondo\"] = derivados[\"Fondo\"][i]\n",
    "        info_derivado[\"Contraparte\"] = derivados[\"Contraparte\"][i]\n",
    "        info_derivado[\"ID\"] = int(derivados[\"ID\"][i])\n",
    "        info_derivado[\"Nemotecnico\"] = derivados[\"Nemotecnico\"][i]\n",
    "        info_derivado[\"Mercado\"] = derivados[\"Mercado\"][i]     \n",
    "        fecha = datetime.date(2017, 12, 20)\n",
    "        hora = '1700'\n",
    "        info_derivado[\"FechaEfectiva\"] = cambiar_fecha(str(derivados[\"FechaEfectiva\"][i]))\n",
    "        info_derivado[\"FechaVenc\"] = cambiar_fecha(str(derivados[\"FechaVenc\"][i]))\n",
    "        info_derivado[\"AjusteFeriados\"] = derivados[\"AjusteFeriados\"][i]\n",
    "        info_derivado[\"NocionalActivo\"] = derivados[\"NocionalActivo\"][i]\n",
    "        info_derivado[\"MonedaActivo\"] = derivados[\"MonedaActivo\"][i]\n",
    "        info_derivado[\"MonedaBase\"] = derivados[\"MonedaBase\"][i]\n",
    "        info_derivado[\"TipoTasaActivo\"] = derivados[\"TipoTasaActivo\"][i]\n",
    "        info_derivado[\"TipoTasaPasivo\"] = derivados[\"TipoTasaPasivo\"][i]\n",
    "        info_derivado[\"TasaActivo\"] = derivados[\"TasaActivo\"][i]\n",
    "        info_derivado[\"TasaPasivo\"] = derivados[\"TasaPasivo\"][i]\n",
    "        info_derivado[\"FrecuenciaActivo\"] = derivados[\"FrecuenciaActivo\"][i]\n",
    "        info_derivado[\"FrecuenciaPasivo\"] = info_derivado[\"FrecuenciaActivo\"]\n",
    "\n",
    "        info1 = pd.DataFrame([info_derivado])\n",
    "        derivado_info = DerivadosSCC(fecha, hora, info1, cn)\n",
    "\n",
    "        dev.append(derivado_info)\n",
    "\n",
    "    derivado[\"Derivado\"] = dev\n",
    "    return derivado"
   ]
  },
  {
   "cell_type": "code",
   "execution_count": 5,
   "metadata": {},
   "outputs": [],
   "source": [
    "def conversionSYP(riesgo):\n",
    "    return {1: 'AAA',2: 'AA',3: 'AA',4: 'AA',5: 'A',6: 'A',7: 'A',8: 'BBB',9: 'BBB',10: 'BBB',\\\n",
    "            11: 'BB',12: 'BB',13: 'BB',14: 'B',15: 'B',16: 'B',17: 'CCC',18: 'CC',19: 'CC',20: 'C',\\\n",
    "            21: 'C',22: 'C',23: 'D',24: 'E'}.get(riesgo)\n",
    "\n",
    "def ajustes(bonos):\n",
    "    bonos['FechaEmision'] = bonos['FechaEmision'].apply(lambda x: x.strftime('%Y-%m-%d'))\n",
    "    bonos['Base1'] = bonos['Base1'].apply(lambda x: x if x != -1 else 'ACT')\n",
    "    bonos['Base2'] = bonos['Base2'].apply(lambda x: x if x != -1 else 'ACT')\n",
    "    bonos['Convencion'] = bonos['Base1'].apply(lambda x: str(x)) + '/' + bonos['Base2'].apply(lambda x: str(x))\n",
    "    bonos['Riesgo'] = bonos['RiesgoInt'].apply(lambda x: conversionSYP(x))\n",
    "    return bonos"
   ]
  },
  {
   "cell_type": "code",
   "execution_count": 6,
   "metadata": {},
   "outputs": [],
   "source": [
    "#bonos = ajustes(bonos_dbAlgebra(1,cn))\n",
    "#bonos"
   ]
  },
  {
   "cell_type": "code",
   "execution_count": 7,
   "metadata": {},
   "outputs": [
    {
     "name": "stderr",
     "output_type": "stream",
     "text": [
      "C:\\Users\\groso\\Desktop\\PracticaV2\\Practica\\Intento\\Cartera\\DerivadosTipos\\DerivadosSCC.py:48: SettingWithCopyWarning: \n",
      "A value is trying to be set on a copy of a slice from a DataFrame\n",
      "\n",
      "See the caveats in the documentation: http://pandas.pydata.org/pandas-docs/stable/user_guide/indexing.html#returning-a-view-versus-a-copy\n",
      "  info_cartera.MonedaActivo[0] = \"CLP\"\n"
     ]
    },
    {
     "data": {
      "text/html": [
       "<div>\n",
       "<style scoped>\n",
       "    .dataframe tbody tr th:only-of-type {\n",
       "        vertical-align: middle;\n",
       "    }\n",
       "\n",
       "    .dataframe tbody tr th {\n",
       "        vertical-align: top;\n",
       "    }\n",
       "\n",
       "    .dataframe thead th {\n",
       "        text-align: right;\n",
       "    }\n",
       "</style>\n",
       "<table border=\"1\" class=\"dataframe\">\n",
       "  <thead>\n",
       "    <tr style=\"text-align: right;\">\n",
       "      <th></th>\n",
       "      <th>Derivado</th>\n",
       "    </tr>\n",
       "  </thead>\n",
       "  <tbody>\n",
       "    <tr>\n",
       "      <th>0</th>\n",
       "      <td>&lt;DerivadosTipos.DerivadosSCC.DerivadosSCC obje...</td>\n",
       "    </tr>\n",
       "    <tr>\n",
       "      <th>1</th>\n",
       "      <td>&lt;DerivadosTipos.DerivadosSCC.DerivadosSCC obje...</td>\n",
       "    </tr>\n",
       "    <tr>\n",
       "      <th>2</th>\n",
       "      <td>&lt;DerivadosTipos.DerivadosSCC.DerivadosSCC obje...</td>\n",
       "    </tr>\n",
       "    <tr>\n",
       "      <th>3</th>\n",
       "      <td>&lt;DerivadosTipos.DerivadosSCC.DerivadosSCC obje...</td>\n",
       "    </tr>\n",
       "    <tr>\n",
       "      <th>4</th>\n",
       "      <td>&lt;DerivadosTipos.DerivadosSCC.DerivadosSCC obje...</td>\n",
       "    </tr>\n",
       "  </tbody>\n",
       "</table>\n",
       "</div>"
      ],
      "text/plain": [
       "                                            Derivado\n",
       "0  <DerivadosTipos.DerivadosSCC.DerivadosSCC obje...\n",
       "1  <DerivadosTipos.DerivadosSCC.DerivadosSCC obje...\n",
       "2  <DerivadosTipos.DerivadosSCC.DerivadosSCC obje...\n",
       "3  <DerivadosTipos.DerivadosSCC.DerivadosSCC obje...\n",
       "4  <DerivadosTipos.DerivadosSCC.DerivadosSCC obje..."
      ]
     },
     "execution_count": 7,
     "metadata": {},
     "output_type": "execute_result"
    }
   ],
   "source": [
    "derivados = derivados_dBDerivados(5, cn)\n",
    "derivados"
   ]
  },
  {
   "cell_type": "code",
   "execution_count": 8,
   "metadata": {},
   "outputs": [
    {
     "name": "stdout",
     "output_type": "stream",
     "text": [
      "         Fecha Fondo   Nemotecnico   Nominales  ValorizacionCLP          Tasa  \\\n",
      "0   2017-08-28     A  DE000DWS2D90  15139.1281     4.597026e+09  303652.00000   \n",
      "1   2017-08-29     A  DE000DWS2D90  15139.1281     4.542262e+09  300034.62500   \n",
      "2   2017-08-30     A  DE000DWS2D90  15139.1281     4.428379e+09  292512.15625   \n",
      "3   2017-08-31     A  DE000DWS2D90  15139.1281     4.446764e+09  293726.59375   \n",
      "4   2017-09-01     A  DE000DWS2D90  15139.1281     4.497070e+09  297049.50000   \n",
      "..         ...   ...           ...         ...              ...           ...   \n",
      "603 2020-02-06     A  DE000DWS2D90  29580.2782     1.195760e+10  404242.18750   \n",
      "604 2020-02-07     A  DE000DWS2D90  29580.2782     1.205133e+10  407410.87500   \n",
      "605 2020-02-10     A  DE000DWS2D90  29580.2782     1.207114e+10  408080.81250   \n",
      "606 2020-02-11     A  DE000DWS2D90  29580.2782     1.212237e+10  409812.43750   \n",
      "607 2020-02-12     A  DE000DWS2D90  29580.2782     1.224062e+10  413810.12500   \n",
      "\n",
      "     Duracion  Compras  Ventas  Costos  FlujosDividendos  \n",
      "0     -1000.0      0.0     0.0     0.0               0.0  \n",
      "1     -1000.0      0.0     0.0     0.0               0.0  \n",
      "2     -1000.0      0.0     0.0     0.0               0.0  \n",
      "3     -1000.0      0.0     0.0     0.0               0.0  \n",
      "4     -1000.0      0.0     0.0     0.0               0.0  \n",
      "..        ...      ...     ...     ...               ...  \n",
      "603   -1000.0      0.0     0.0     0.0               0.0  \n",
      "604   -1000.0      0.0     0.0     0.0               0.0  \n",
      "605   -1000.0      0.0     0.0     0.0               0.0  \n",
      "606   -1000.0      0.0     0.0     0.0               0.0  \n",
      "607   -1000.0      0.0     0.0     0.0               0.0  \n",
      "\n",
      "[608 rows x 11 columns]\n",
      "608\n",
      "  Moneda        Nombre     Inversion  \\\n",
      "0    CLP  DE000DWS2D90  1.224062e+10   \n",
      "\n",
      "                                           Historico  \n",
      "0  [[0, -0.011984448831005957, -0.025391621016988...  \n"
     ]
    }
   ],
   "source": [
    "acciones = historico(\"DE000DWS2D90\", \"A\", 60)\n"
   ]
  },
  {
   "cell_type": "code",
   "execution_count": null,
   "metadata": {},
   "outputs": [],
   "source": []
  },
  {
   "cell_type": "code",
   "execution_count": 9,
   "metadata": {},
   "outputs": [],
   "source": [
    "cartera = Cartera(acciones, pd.DataFrame(), pd.DataFrame(),'CLP', datetime.date(2019,2,1), cn, 60)"
   ]
  },
  {
   "cell_type": "code",
   "execution_count": 10,
   "metadata": {},
   "outputs": [
    {
     "name": "stdout",
     "output_type": "stream",
     "text": [
      "     DE000DWS2D90\n",
      "0        0.000000\n",
      "1       -0.011984\n",
      "2       -0.025392\n",
      "3        0.004143\n",
      "4        0.011249\n",
      "..            ...\n",
      "603      0.012504\n",
      "604      0.007808\n",
      "605      0.001643\n",
      "606      0.004234\n",
      "607      0.009708\n",
      "\n",
      "[608 rows x 1 columns]\n"
     ]
    }
   ],
   "source": [
    "print(cartera.get_historicos_totales())"
   ]
  },
  {
   "cell_type": "code",
   "execution_count": 11,
   "metadata": {},
   "outputs": [
    {
     "name": "stdout",
     "output_type": "stream",
     "text": [
      "     DE000DWS2D90\n",
      "0        0.000000\n",
      "1       -0.011984\n",
      "2       -0.025392\n",
      "3        0.004143\n",
      "4        0.011249\n",
      "..            ...\n",
      "603      0.012504\n",
      "604      0.007808\n",
      "605      0.001643\n",
      "606      0.004234\n",
      "607      0.009708\n",
      "\n",
      "[608 rows x 1 columns]\n"
     ]
    }
   ],
   "source": [
    "print(cartera.get_retornos_totales())"
   ]
  },
  {
   "cell_type": "code",
   "execution_count": 12,
   "metadata": {},
   "outputs": [
    {
     "name": "stdout",
     "output_type": "stream",
     "text": [
      "0.010031064672316407\n"
     ]
    }
   ],
   "source": [
    "cartera.set_volatilidad_cartera()\n",
    "print(cartera.get_volatilidad_cartera())"
   ]
  },
  {
   "cell_type": "code",
   "execution_count": null,
   "metadata": {},
   "outputs": [],
   "source": []
  },
  {
   "cell_type": "code",
   "execution_count": null,
   "metadata": {},
   "outputs": [],
   "source": []
  }
 ],
 "metadata": {
  "kernelspec": {
   "display_name": "Python 3",
   "language": "python",
   "name": "python3"
  },
  "language_info": {
   "codemirror_mode": {
    "name": "ipython",
    "version": 3
   },
   "file_extension": ".py",
   "mimetype": "text/x-python",
   "name": "python",
   "nbconvert_exporter": "python",
   "pygments_lexer": "ipython3",
   "version": "3.6.8"
  }
 },
 "nbformat": 4,
 "nbformat_minor": 4
}
