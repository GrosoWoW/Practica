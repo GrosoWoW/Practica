{
 "cells": [
  {
   "cell_type": "code",
   "execution_count": 1,
   "metadata": {},
   "outputs": [],
   "source": [
    "import pyodbc\n",
    "import sys\n",
    "import datetime\n",
    "\n",
    "from Activo import *\n",
    "from Accion import *\n",
    "from Bono import *\n",
    "from Derivado import *\n",
    "from DerivadosTipos.DerivadosSCC import *\n",
    "from DerivadosTipos.DerivadosFWD import *\n",
    "\n",
    "from extraer_accion import *\n",
    "\n",
    "\n",
    "from Cartera import *"
   ]
  },
  {
   "cell_type": "code",
   "execution_count": 2,
   "metadata": {},
   "outputs": [],
   "source": [
    "server = '172.16.1.38'\n",
    "username = 'sa'\n",
    "password = 'qwerty123'\n",
    "driver = '{ODBC Driver 17 for SQL Server}'\n",
    "cn = pyodbc.connect('DRIVER=' + driver + ';SERVER=' + server + ';UID=' + username + ';PWD=' + password)"
   ]
  },
  {
   "cell_type": "code",
   "execution_count": 3,
   "metadata": {},
   "outputs": [],
   "source": [
    "def cambiar_fecha(fecha):\n",
    "\n",
    "    fechas = fecha.split(\"-\")\n",
    "    fechas = fechas[2].split(\" \")[0] + \"/\" + fechas[1] + \"/\" + fechas[0]\n",
    "    return fechas"
   ]
  },
  {
   "cell_type": "code",
   "execution_count": 4,
   "metadata": {},
   "outputs": [],
   "source": [
    "def bonos_dbAlgebra(n,cn):\n",
    "    bonos = 'SELECT TOP(' + str(n) + \") bono.Moneda, bono.TablaDesarrollo, bono.Base1 , bono.Base2, bono.FechaEmision, riesgo.Riesgo AS RiesgoInt FROM [dbAlgebra].[dbo].[TdNemoRF] AS bono , [dbAlgebra].[dbo].[VwRiesgoRF] AS riesgo WHERE bono.Nemotecnico = riesgo.Nemotecnico\"\n",
    "    bonos = pd.read_sql(bonos, cn)\n",
    "    return pd.DataFrame(bonos)\n",
    "\n",
    "def derivados_dBDerivados(cantidad, cn):\n",
    "\n",
    "    derivados = \"SELECT TOP (\"+ str(cantidad) +\") * FROM [dbDerivados].[dbo].[TdCarteraDerivados_V2] WHERE Tipo = 'SCC'\"\n",
    "    derivados = pd.read_sql(derivados, cn)\n",
    "\n",
    "    derivado = pd.DataFrame()\n",
    "    dev = []\n",
    "\n",
    "    for i in range(cantidad):\n",
    "\n",
    "        info_derivado = dict()\n",
    "        info_derivado[\"Tipo\"] = derivados[\"Tipo\"][i]\n",
    "        info_derivado[\"ID_Key\"] = derivados[\"ID_Key\"][i]\n",
    "        info_derivado[\"Administradora\"] = derivados[\"Administradora\"][i]\n",
    "        info_derivado[\"Fondo\"] = derivados[\"Fondo\"][i]\n",
    "        info_derivado[\"Contraparte\"] = derivados[\"Contraparte\"][i]\n",
    "        info_derivado[\"ID\"] = int(derivados[\"ID\"][i])\n",
    "        info_derivado[\"Nemotecnico\"] = derivados[\"Nemotecnico\"][i]\n",
    "        info_derivado[\"Mercado\"] = derivados[\"Mercado\"][i]     \n",
    "        fecha = datetime.date(2017, 12, 20)\n",
    "        hora = '1700'\n",
    "        info_derivado[\"FechaEfectiva\"] = cambiar_fecha(str(derivados[\"FechaEfectiva\"][i]))\n",
    "        info_derivado[\"FechaVenc\"] = cambiar_fecha(str(derivados[\"FechaVenc\"][i]))\n",
    "        info_derivado[\"AjusteFeriados\"] = derivados[\"AjusteFeriados\"][i]\n",
    "        info_derivado[\"NocionalActivo\"] = derivados[\"NocionalActivo\"][i]\n",
    "        info_derivado[\"NocionalPasivo\"] = derivados[\"NocionalActivo\"][i]\n",
    "\n",
    "        info_derivado[\"MonedaActivo\"] = derivados[\"MonedaActivo\"][i]\n",
    "        info_derivado[\"MonedaPasivo\"] = derivados[\"MonedaPasivo\"][i]\n",
    "\n",
    "        info_derivado[\"MonedaBase\"] = derivados[\"MonedaBase\"][i]\n",
    "        info_derivado[\"TipoTasaActivo\"] = derivados[\"TipoTasaActivo\"][i]\n",
    "        info_derivado[\"TipoTasaPasivo\"] = derivados[\"TipoTasaPasivo\"][i]\n",
    "        info_derivado[\"TasaActivo\"] = derivados[\"TasaActivo\"][i]\n",
    "        info_derivado[\"TasaPasivo\"] = derivados[\"TasaPasivo\"][i]\n",
    "        info_derivado[\"FrecuenciaActivo\"] = derivados[\"FrecuenciaActivo\"][i]\n",
    "        info_derivado[\"FrecuenciaPasivo\"] = info_derivado[\"FrecuenciaActivo\"]\n",
    "\n",
    "        info1 = pd.DataFrame([info_derivado])\n",
    "        derivado_info = DerivadosSCC(fecha, hora, info1, cn)\n",
    "\n",
    "        dev.append(derivado_info)\n",
    "\n",
    "    derivado[\"Derivado\"] = dev\n",
    "    return derivado"
   ]
  },
  {
   "cell_type": "code",
   "execution_count": 5,
   "metadata": {},
   "outputs": [],
   "source": [
    "def conversionSYP(riesgo):\n",
    "    return {1: 'AAA',2: 'AA',3: 'AA',4: 'AA',5: 'A',6: 'A',7: 'A',8: 'BBB',9: 'BBB',10: 'BBB',\\\n",
    "            11: 'BB',12: 'BB',13: 'BB',14: 'B',15: 'B',16: 'B',17: 'CCC',18: 'CC',19: 'CC',20: 'C',\\\n",
    "            21: 'C',22: 'C',23: 'D',24: 'E'}.get(riesgo)\n",
    "\n",
    "def ajustes(bonos):\n",
    "    bonos['FechaEmision'] = bonos['FechaEmision'].apply(lambda x: x.strftime('%Y-%m-%d'))\n",
    "    bonos['Base1'] = bonos['Base1'].apply(lambda x: x if x != -1 else 'ACT')\n",
    "    bonos['Base2'] = bonos['Base2'].apply(lambda x: x if x != -1 else 'ACT')\n",
    "    bonos['Convencion'] = bonos['Base1'].apply(lambda x: str(x)) + '/' + bonos['Base2'].apply(lambda x: str(x))\n",
    "    bonos['Riesgo'] = bonos['RiesgoInt'].apply(lambda x: conversionSYP(x))\n",
    "    return bonos"
   ]
  },
  {
   "cell_type": "code",
   "execution_count": 6,
   "metadata": {},
   "outputs": [],
   "source": [
    "#bonos = ajustes(bonos_dbAlgebra(1,cn))\n",
    "#bonos"
   ]
  },
  {
   "cell_type": "code",
   "execution_count": 7,
   "metadata": {},
   "outputs": [
    {
     "name": "stderr",
     "output_type": "stream",
     "text": [
      "C:\\Users\\Lenovo\\Documents\\Universidad\\Practica\\Cartera_V2\\Practica\\Intento\\Cartera\\DerivadosTipos\\DerivadosSCC.py:48: SettingWithCopyWarning: \n",
      "A value is trying to be set on a copy of a slice from a DataFrame\n",
      "\n",
      "See the caveats in the documentation: http://pandas.pydata.org/pandas-docs/stable/user_guide/indexing.html#returning-a-view-versus-a-copy\n",
      "  info_cartera.MonedaActivo[0] = \"CLP\"\n"
     ]
    },
    {
     "data": {
      "text/html": [
       "<div>\n",
       "<style scoped>\n",
       "    .dataframe tbody tr th:only-of-type {\n",
       "        vertical-align: middle;\n",
       "    }\n",
       "\n",
       "    .dataframe tbody tr th {\n",
       "        vertical-align: top;\n",
       "    }\n",
       "\n",
       "    .dataframe thead th {\n",
       "        text-align: right;\n",
       "    }\n",
       "</style>\n",
       "<table border=\"1\" class=\"dataframe\">\n",
       "  <thead>\n",
       "    <tr style=\"text-align: right;\">\n",
       "      <th></th>\n",
       "      <th>ID</th>\n",
       "      <th>ActivoPasivo</th>\n",
       "      <th>Fecha</th>\n",
       "      <th>FechaFixing</th>\n",
       "      <th>FechaFlujo</th>\n",
       "      <th>FechaPago</th>\n",
       "      <th>Flujo</th>\n",
       "      <th>ValorPresenteMonFlujo</th>\n",
       "      <th>Moneda</th>\n",
       "      <th>MonedaBase</th>\n",
       "    </tr>\n",
       "  </thead>\n",
       "  <tbody>\n",
       "    <tr>\n",
       "      <th>0</th>\n",
       "      <td>1367</td>\n",
       "      <td>-1</td>\n",
       "      <td>2017-12-20</td>\n",
       "      <td>2020-05-12</td>\n",
       "      <td>2020-05-12</td>\n",
       "      <td>2020-05-12</td>\n",
       "      <td>7.445063e+08</td>\n",
       "      <td>6.929181e+08</td>\n",
       "      <td>CLP</td>\n",
       "      <td>CLP</td>\n",
       "    </tr>\n",
       "    <tr>\n",
       "      <th>1</th>\n",
       "      <td>1367</td>\n",
       "      <td>-1</td>\n",
       "      <td>2017-12-20</td>\n",
       "      <td>2020-11-12</td>\n",
       "      <td>2020-11-12</td>\n",
       "      <td>2020-11-12</td>\n",
       "      <td>1.959144e+08</td>\n",
       "      <td>1.788355e+08</td>\n",
       "      <td>CLP</td>\n",
       "      <td>CLP</td>\n",
       "    </tr>\n",
       "    <tr>\n",
       "      <th>2</th>\n",
       "      <td>1367</td>\n",
       "      <td>-1</td>\n",
       "      <td>2017-12-20</td>\n",
       "      <td>2021-05-12</td>\n",
       "      <td>2021-05-12</td>\n",
       "      <td>2021-05-12</td>\n",
       "      <td>2.066496e+08</td>\n",
       "      <td>1.848157e+08</td>\n",
       "      <td>CLP</td>\n",
       "      <td>CLP</td>\n",
       "    </tr>\n",
       "    <tr>\n",
       "      <th>3</th>\n",
       "      <td>1367</td>\n",
       "      <td>-1</td>\n",
       "      <td>2017-12-20</td>\n",
       "      <td>2021-11-12</td>\n",
       "      <td>2021-11-12</td>\n",
       "      <td>2021-11-12</td>\n",
       "      <td>1.021427e+10</td>\n",
       "      <td>8.943431e+09</td>\n",
       "      <td>CLP</td>\n",
       "      <td>CLP</td>\n",
       "    </tr>\n",
       "    <tr>\n",
       "      <th>4</th>\n",
       "      <td>1367</td>\n",
       "      <td>1</td>\n",
       "      <td>2017-12-20</td>\n",
       "      <td>2020-05-12</td>\n",
       "      <td>2020-05-12</td>\n",
       "      <td>2020-05-12</td>\n",
       "      <td>7.304466e+07</td>\n",
       "      <td>6.798326e+07</td>\n",
       "      <td>CLP</td>\n",
       "      <td>CLP</td>\n",
       "    </tr>\n",
       "    <tr>\n",
       "      <th>5</th>\n",
       "      <td>1367</td>\n",
       "      <td>1</td>\n",
       "      <td>2017-12-20</td>\n",
       "      <td>2020-11-12</td>\n",
       "      <td>2020-11-12</td>\n",
       "      <td>2020-11-12</td>\n",
       "      <td>7.385030e+07</td>\n",
       "      <td>6.741237e+07</td>\n",
       "      <td>CLP</td>\n",
       "      <td>CLP</td>\n",
       "    </tr>\n",
       "    <tr>\n",
       "      <th>6</th>\n",
       "      <td>1367</td>\n",
       "      <td>1</td>\n",
       "      <td>2017-12-20</td>\n",
       "      <td>2021-05-12</td>\n",
       "      <td>2021-05-12</td>\n",
       "      <td>2021-05-12</td>\n",
       "      <td>7.264186e+07</td>\n",
       "      <td>6.496674e+07</td>\n",
       "      <td>CLP</td>\n",
       "      <td>CLP</td>\n",
       "    </tr>\n",
       "    <tr>\n",
       "      <th>7</th>\n",
       "      <td>1367</td>\n",
       "      <td>1</td>\n",
       "      <td>2017-12-20</td>\n",
       "      <td>2021-11-12</td>\n",
       "      <td>2021-11-12</td>\n",
       "      <td>2021-11-12</td>\n",
       "      <td>1.007385e+10</td>\n",
       "      <td>8.820480e+09</td>\n",
       "      <td>CLP</td>\n",
       "      <td>CLP</td>\n",
       "    </tr>\n",
       "  </tbody>\n",
       "</table>\n",
       "</div>"
      ],
      "text/plain": [
       "     ID ActivoPasivo       Fecha FechaFixing  FechaFlujo   FechaPago  \\\n",
       "0  1367           -1  2017-12-20  2020-05-12  2020-05-12  2020-05-12   \n",
       "1  1367           -1  2017-12-20  2020-11-12  2020-11-12  2020-11-12   \n",
       "2  1367           -1  2017-12-20  2021-05-12  2021-05-12  2021-05-12   \n",
       "3  1367           -1  2017-12-20  2021-11-12  2021-11-12  2021-11-12   \n",
       "4  1367            1  2017-12-20  2020-05-12  2020-05-12  2020-05-12   \n",
       "5  1367            1  2017-12-20  2020-11-12  2020-11-12  2020-11-12   \n",
       "6  1367            1  2017-12-20  2021-05-12  2021-05-12  2021-05-12   \n",
       "7  1367            1  2017-12-20  2021-11-12  2021-11-12  2021-11-12   \n",
       "\n",
       "          Flujo  ValorPresenteMonFlujo Moneda MonedaBase  \n",
       "0  7.445063e+08           6.929181e+08    CLP        CLP  \n",
       "1  1.959144e+08           1.788355e+08    CLP        CLP  \n",
       "2  2.066496e+08           1.848157e+08    CLP        CLP  \n",
       "3  1.021427e+10           8.943431e+09    CLP        CLP  \n",
       "4  7.304466e+07           6.798326e+07    CLP        CLP  \n",
       "5  7.385030e+07           6.741237e+07    CLP        CLP  \n",
       "6  7.264186e+07           6.496674e+07    CLP        CLP  \n",
       "7  1.007385e+10           8.820480e+09    CLP        CLP  "
      ]
     },
     "execution_count": 7,
     "metadata": {},
     "output_type": "execute_result"
    }
   ],
   "source": [
    "derivados = derivados_dBDerivados(2, cn)\n",
    "derivados[\"Derivado\"][1].genera_flujos()\n",
    "derivados[\"Derivado\"][1].valoriza_flujos()\n",
    "derivados[\"Derivado\"][1].flujos_valorizados[[\"ID\",\"ActivoPasivo\", \"Fecha\", \"FechaFixing\", \"FechaFlujo\", \"FechaPago\", \"Flujo\", \"ValorPresenteMonFlujo\", \"Moneda\", \"MonedaBase\"]]"
   ]
  },
  {
   "cell_type": "code",
   "execution_count": 8,
   "metadata": {},
   "outputs": [],
   "source": [
    "# acciones = historico(\"DE000DWS2D90\", \"A\", 60)\n"
   ]
  },
  {
   "cell_type": "code",
   "execution_count": 9,
   "metadata": {},
   "outputs": [
    {
     "name": "stdout",
     "output_type": "stream",
     "text": [
      "16\n",
      "   Fechas  Frecuencia\n",
      "0     466           4\n",
      "1     650           4\n",
      "2     831           4\n",
      "3    1015           4\n",
      "Hola\n",
      "1     466.0\n",
      "0     740.5\n",
      "2    1015.0\n",
      "Name: 0, dtype: float64\n"
     ]
    },
    {
     "ename": "ZeroDivisionError",
     "evalue": "division by zero",
     "output_type": "error",
     "traceback": [
      "\u001b[1;31m---------------------------------------------------------------------------\u001b[0m",
      "\u001b[1;31mZeroDivisionError\u001b[0m                         Traceback (most recent call last)",
      "\u001b[1;32m<ipython-input-9-c0136e2e2e8a>\u001b[0m in \u001b[0;36m<module>\u001b[1;34m\u001b[0m\n\u001b[1;32m----> 1\u001b[1;33m \u001b[0mcartera\u001b[0m \u001b[1;33m=\u001b[0m \u001b[0mCartera\u001b[0m\u001b[1;33m(\u001b[0m\u001b[0mpd\u001b[0m\u001b[1;33m.\u001b[0m\u001b[0mDataFrame\u001b[0m\u001b[1;33m(\u001b[0m\u001b[1;33m)\u001b[0m\u001b[1;33m,\u001b[0m \u001b[0mpd\u001b[0m\u001b[1;33m.\u001b[0m\u001b[0mDataFrame\u001b[0m\u001b[1;33m(\u001b[0m\u001b[1;33m)\u001b[0m\u001b[1;33m,\u001b[0m \u001b[0mderivados\u001b[0m\u001b[1;33m,\u001b[0m\u001b[1;34m'CLP'\u001b[0m\u001b[1;33m,\u001b[0m \u001b[0mdatetime\u001b[0m\u001b[1;33m.\u001b[0m\u001b[0mdate\u001b[0m\u001b[1;33m(\u001b[0m\u001b[1;36m2019\u001b[0m\u001b[1;33m,\u001b[0m\u001b[1;36m2\u001b[0m\u001b[1;33m,\u001b[0m\u001b[1;36m1\u001b[0m\u001b[1;33m)\u001b[0m\u001b[1;33m,\u001b[0m \u001b[0mcn\u001b[0m\u001b[1;33m,\u001b[0m \u001b[1;36m60\u001b[0m\u001b[1;33m)\u001b[0m\u001b[1;33m\u001b[0m\u001b[1;33m\u001b[0m\u001b[0m\n\u001b[0m",
      "\u001b[1;32m~\\Documents\\Universidad\\Practica\\Cartera_V2\\Practica\\Intento\\Cartera\\Cartera.py\u001b[0m in \u001b[0;36m__init__\u001b[1;34m(self, acciones, bonos, derivados, moneda, fecha, cn, n)\u001b[0m\n\u001b[0;32m    107\u001b[0m             \u001b[0marreglo_derivados\u001b[0m\u001b[1;33m[\u001b[0m\u001b[0mh\u001b[0m\u001b[1;33m]\u001b[0m\u001b[1;33m.\u001b[0m\u001b[0mset_plazos\u001b[0m\u001b[1;33m(\u001b[0m\u001b[0mself\u001b[0m\u001b[1;33m.\u001b[0m\u001b[0mplazos\u001b[0m\u001b[1;33m)\u001b[0m\u001b[1;33m\u001b[0m\u001b[1;33m\u001b[0m\u001b[0m\n\u001b[0;32m    108\u001b[0m             \u001b[0mmoneda\u001b[0m \u001b[1;33m=\u001b[0m \u001b[0marreglo_derivados\u001b[0m\u001b[1;33m[\u001b[0m\u001b[0mh\u001b[0m\u001b[1;33m]\u001b[0m\u001b[1;33m.\u001b[0m\u001b[0mget_moneda\u001b[0m\u001b[1;33m(\u001b[0m\u001b[1;33m)\u001b[0m\u001b[1;33m\u001b[0m\u001b[1;33m\u001b[0m\u001b[0m\n\u001b[1;32m--> 109\u001b[1;33m             \u001b[0mderivado_act\u001b[0m \u001b[1;33m=\u001b[0m \u001b[0mself\u001b[0m\u001b[1;33m.\u001b[0m\u001b[0mfuncion_optimizacion\u001b[0m\u001b[1;33m(\u001b[0m\u001b[0marreglo_derivados\u001b[0m\u001b[1;33m[\u001b[0m\u001b[0mh\u001b[0m\u001b[1;33m]\u001b[0m\u001b[1;33m,\u001b[0m \u001b[0mmoneda\u001b[0m\u001b[1;33m)\u001b[0m\u001b[1;33m\u001b[0m\u001b[1;33m\u001b[0m\u001b[0m\n\u001b[0m\u001b[0;32m    110\u001b[0m             \u001b[0marreglo_derivados_nuevo\u001b[0m\u001b[1;33m.\u001b[0m\u001b[0mappend\u001b[0m\u001b[1;33m(\u001b[0m\u001b[0mderivado_act\u001b[0m\u001b[1;33m)\u001b[0m\u001b[1;33m\u001b[0m\u001b[1;33m\u001b[0m\u001b[0m\n\u001b[0;32m    111\u001b[0m \u001b[1;33m\u001b[0m\u001b[0m\n",
      "\u001b[1;32m~\\Documents\\Universidad\\Practica\\Cartera_V2\\Practica\\Intento\\Cartera\\Cartera.py\u001b[0m in \u001b[0;36mfuncion_optimizacion\u001b[1;34m(self, activo, moneda, riesgo)\u001b[0m\n\u001b[0;32m    487\u001b[0m             \u001b[0mself\u001b[0m\u001b[1;33m.\u001b[0m\u001b[0mcovarianza_dict\u001b[0m\u001b[1;33m[\u001b[0m\u001b[0mnombre\u001b[0m\u001b[1;33m]\u001b[0m \u001b[1;33m=\u001b[0m \u001b[0mcovarianza_calculada\u001b[0m\u001b[1;33m\u001b[0m\u001b[1;33m\u001b[0m\u001b[0m\n\u001b[0;32m    488\u001b[0m \u001b[1;33m\u001b[0m\u001b[0m\n\u001b[1;32m--> 489\u001b[1;33m         \u001b[0mactivo\u001b[0m\u001b[1;33m.\u001b[0m\u001b[0mset_distribucion_pivotes\u001b[0m\u001b[1;33m(\u001b[0m\u001b[1;33m)\u001b[0m\u001b[1;33m\u001b[0m\u001b[1;33m\u001b[0m\u001b[0m\n\u001b[0m\u001b[0;32m    490\u001b[0m         \u001b[0mactivo\u001b[0m\u001b[1;33m.\u001b[0m\u001b[0mset_volatilidad_general\u001b[0m\u001b[1;33m(\u001b[0m\u001b[1;33m)\u001b[0m\u001b[1;33m\u001b[0m\u001b[1;33m\u001b[0m\u001b[0m\n\u001b[0;32m    491\u001b[0m         \u001b[1;32mreturn\u001b[0m \u001b[0mactivo\u001b[0m\u001b[1;33m\u001b[0m\u001b[1;33m\u001b[0m\u001b[0m\n",
      "\u001b[1;32m~\\Documents\\Universidad\\Practica\\Cartera_V2\\Practica\\Intento\\Cartera\\Derivado.py\u001b[0m in \u001b[0;36mset_distribucion_pivotes\u001b[1;34m(self)\u001b[0m\n\u001b[0;32m    307\u001b[0m \u001b[1;33m\u001b[0m\u001b[0m\n\u001b[0;32m    308\u001b[0m             \u001b[0mpivote_entremedio\u001b[0m \u001b[1;33m=\u001b[0m \u001b[0mself\u001b[0m\u001b[1;33m.\u001b[0m\u001b[0mbuscar_pivote\u001b[0m\u001b[1;33m(\u001b[0m\u001b[0mfecha_pago_actual\u001b[0m\u001b[1;33m)\u001b[0m\u001b[1;33m\u001b[0m\u001b[1;33m\u001b[0m\u001b[0m\n\u001b[1;32m--> 309\u001b[1;33m             \u001b[0malfa\u001b[0m \u001b[1;33m=\u001b[0m \u001b[0mself\u001b[0m\u001b[1;33m.\u001b[0m\u001b[0mcoeficiente_peso\u001b[0m\u001b[1;33m(\u001b[0m\u001b[0mpivote_entremedio\u001b[0m\u001b[1;33m[\u001b[0m\u001b[1;36m0\u001b[0m\u001b[1;33m]\u001b[0m\u001b[1;33m,\u001b[0m \u001b[0mpivote_entremedio\u001b[0m\u001b[1;33m[\u001b[0m\u001b[1;36m1\u001b[0m\u001b[1;33m]\u001b[0m\u001b[1;33m,\u001b[0m \u001b[0mfecha_pago_actual\u001b[0m\u001b[1;33m)\u001b[0m\u001b[1;33m\u001b[0m\u001b[1;33m\u001b[0m\u001b[0m\n\u001b[0m\u001b[0;32m    310\u001b[0m \u001b[1;33m\u001b[0m\u001b[0m\n\u001b[0;32m    311\u001b[0m             \u001b[0mnombre_pivote1\u001b[0m \u001b[1;33m=\u001b[0m \u001b[0mmoneda_pago_actual\u001b[0m \u001b[1;33m+\u001b[0m \u001b[1;34m\"#\"\u001b[0m \u001b[1;33m+\u001b[0m \u001b[0mstr\u001b[0m\u001b[1;33m(\u001b[0m\u001b[0mint\u001b[0m\u001b[1;33m(\u001b[0m\u001b[0mpivote_entremedio\u001b[0m\u001b[1;33m[\u001b[0m\u001b[1;36m0\u001b[0m\u001b[1;33m]\u001b[0m\u001b[1;33m*\u001b[0m\u001b[1;36m360\u001b[0m\u001b[1;33m)\u001b[0m\u001b[1;33m)\u001b[0m\u001b[1;33m\u001b[0m\u001b[1;33m\u001b[0m\u001b[0m\n",
      "\u001b[1;32m~\\Documents\\Universidad\\Practica\\Cartera_V2\\Practica\\Intento\\Cartera\\Derivado.py\u001b[0m in \u001b[0;36mcoeficiente_peso\u001b[1;34m(self, pivote1, pivote2, fecha_actual_flujo)\u001b[0m\n\u001b[0;32m    272\u001b[0m         \u001b[0mdenominador\u001b[0m \u001b[1;33m=\u001b[0m \u001b[0mdiferencia_dias_convencion\u001b[0m\u001b[1;33m(\u001b[0m\u001b[1;34m\"ACT360\"\u001b[0m\u001b[1;33m,\u001b[0m \u001b[0mfecha_pivote1\u001b[0m \u001b[1;33m,\u001b[0m \u001b[0mfecha_pivote2\u001b[0m\u001b[1;33m)\u001b[0m\u001b[1;33m\u001b[0m\u001b[1;33m\u001b[0m\u001b[0m\n\u001b[0;32m    273\u001b[0m \u001b[1;33m\u001b[0m\u001b[0m\n\u001b[1;32m--> 274\u001b[1;33m         \u001b[1;32mreturn\u001b[0m \u001b[0mnumerador\u001b[0m\u001b[1;33m/\u001b[0m\u001b[0mdenominador\u001b[0m\u001b[1;33m\u001b[0m\u001b[1;33m\u001b[0m\u001b[0m\n\u001b[0m\u001b[0;32m    275\u001b[0m \u001b[1;33m\u001b[0m\u001b[0m\n\u001b[0;32m    276\u001b[0m     \u001b[1;32mdef\u001b[0m \u001b[0mset_distribucion_pivotes\u001b[0m\u001b[1;33m(\u001b[0m\u001b[0mself\u001b[0m\u001b[1;33m)\u001b[0m\u001b[1;33m:\u001b[0m\u001b[1;33m\u001b[0m\u001b[1;33m\u001b[0m\u001b[0m\n",
      "\u001b[1;31mZeroDivisionError\u001b[0m: division by zero"
     ]
    },
    {
     "data": {
      "image/png": "[encoded data removed]",
      "text/plain": [
       "<Figure size 432x288 with 1 Axes>"
      ]
     },
     "metadata": {
      "needs_background": "light"
     },
     "output_type": "display_data"
    }
   ],
   "source": [
    "cartera = Cartera(pd.DataFrame(), pd.DataFrame(), derivados,'CLP', datetime.date(2019,2,1), cn, 60)"
   ]
  },
  {
   "cell_type": "code",
   "execution_count": null,
   "metadata": {},
   "outputs": [],
   "source": [
    "print(cartera.get_historicos_totales())"
   ]
  },
  {
   "cell_type": "code",
   "execution_count": null,
   "metadata": {},
   "outputs": [],
   "source": [
    "print(cartera.get_retornos_totales())"
   ]
  },
  {
   "cell_type": "code",
   "execution_count": null,
   "metadata": {},
   "outputs": [],
   "source": [
    "cartera.set_volatilidad_cartera()\n",
    "print(cartera.get_volatilidad_cartera())"
   ]
  },
  {
   "cell_type": "code",
   "execution_count": null,
   "metadata": {},
   "outputs": [],
   "source": []
  }
 ],
 "metadata": {
  "kernelspec": {
   "display_name": "Python 3",
   "language": "python",
   "name": "python3"
  }
 },
 "nbformat": 4,
 "nbformat_minor": 4
}
