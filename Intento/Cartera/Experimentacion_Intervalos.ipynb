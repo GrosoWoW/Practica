{
 "cells": [
  {
   "cell_type": "code",
   "execution_count": 12,
   "metadata": {},
   "outputs": [],
   "source": [
    "import pyodbc\n",
    "import pandas as pd\n",
    "\n",
    "from UtilesValorizacion import StrTabla2ArrTabla"
   ]
  },
  {
   "cell_type": "code",
   "execution_count": 13,
   "metadata": {},
   "outputs": [],
   "source": [
    "server = '172.16.1.38'\n",
    "username = 'sa'\n",
    "password = 'qwerty123'\n",
    "driver = '{ODBC Driver 17 for SQL Server}'\n",
    "cn = pyodbc.connect('DRIVER=' + driver + ';SERVER=' + server + ';UID=' + username + ';PWD=' + password)"
   ]
  },
  {
   "cell_type": "code",
   "execution_count": 14,
   "metadata": {},
   "outputs": [],
   "source": [
    "def solicitar_bonos_ejemplo(n):\n",
    "    bonos = 'SELECT TOP (' + str(n) + ') TablaDesarrollo, FechaEmision FROM [dbAlgebra].[dbo].[TdNemoRF] ORDER BY Fecha DESC'\n",
    "    bonos = pd.read_sql(bonos, cn)\n",
    "    return pd.DataFrame(bonos)"
   ]
  },
  {
   "cell_type": "code",
   "execution_count": 15,
   "metadata": {},
   "outputs": [
    {
     "data": {
      "text/html": [
       "<div>\n",
       "<style scoped>\n",
       "    .dataframe tbody tr th:only-of-type {\n",
       "        vertical-align: middle;\n",
       "    }\n",
       "\n",
       "    .dataframe tbody tr th {\n",
       "        vertical-align: top;\n",
       "    }\n",
       "\n",
       "    .dataframe thead th {\n",
       "        text-align: right;\n",
       "    }\n",
       "</style>\n",
       "<table border=\"1\" class=\"dataframe\">\n",
       "  <thead>\n",
       "    <tr style=\"text-align: right;\">\n",
       "      <th></th>\n",
       "      <th>TablaDesarrollo</th>\n",
       "      <th>FechaEmision</th>\n",
       "    </tr>\n",
       "  </thead>\n",
       "  <tbody>\n",
       "    <tr>\n",
       "      <th>0</th>\n",
       "      <td>1#07-07-2019#1,6476#0#100#1,6476|2#07-01-2020#...</td>\n",
       "      <td>2019-02-07</td>\n",
       "    </tr>\n",
       "    <tr>\n",
       "      <th>1</th>\n",
       "      <td>1#15-03-2010#2,1763#0#100#2,1763|2#15-09-2010#...</td>\n",
       "      <td>2009-09-15</td>\n",
       "    </tr>\n",
       "    <tr>\n",
       "      <th>2</th>\n",
       "      <td>1#01-12-2018#0,9455#0#100#0,9455|2#01-06-2019#...</td>\n",
       "      <td>2018-06-01</td>\n",
       "    </tr>\n",
       "    <tr>\n",
       "      <th>3</th>\n",
       "      <td>1#01-12-2018#2,2252#0#100#2,2252|2#01-06-2019#...</td>\n",
       "      <td>2018-06-01</td>\n",
       "    </tr>\n",
       "    <tr>\n",
       "      <th>4</th>\n",
       "      <td>1#01-03-2010#2,4207#2,27272#97,72728#4,69342|2...</td>\n",
       "      <td>2009-09-01</td>\n",
       "    </tr>\n",
       "    <tr>\n",
       "      <th>5</th>\n",
       "      <td>1#10-06-2019#3,82256919571133#0#100#3,82256919...</td>\n",
       "      <td>2018-06-11</td>\n",
       "    </tr>\n",
       "    <tr>\n",
       "      <th>6</th>\n",
       "      <td>1#11-11-2019#3,71198428134404#0#100#3,71198428...</td>\n",
       "      <td>2018-11-12</td>\n",
       "    </tr>\n",
       "    <tr>\n",
       "      <th>7</th>\n",
       "      <td>1#11-06-2019#3,83385917357224#0#100#3,83385917...</td>\n",
       "      <td>2018-06-11</td>\n",
       "    </tr>\n",
       "    <tr>\n",
       "      <th>8</th>\n",
       "      <td>1#10-01-2018#3,8222367294881#0#100#3,822236729...</td>\n",
       "      <td>2017-01-10</td>\n",
       "    </tr>\n",
       "    <tr>\n",
       "      <th>9</th>\n",
       "      <td>1#13-05-2019#3,79274514526169#0#100#3,79274514...</td>\n",
       "      <td>2018-05-11</td>\n",
       "    </tr>\n",
       "  </tbody>\n",
       "</table>\n",
       "</div>"
      ],
      "text/plain": [
       "                                     TablaDesarrollo FechaEmision\n",
       "0  1#07-07-2019#1,6476#0#100#1,6476|2#07-01-2020#...   2019-02-07\n",
       "1  1#15-03-2010#2,1763#0#100#2,1763|2#15-09-2010#...   2009-09-15\n",
       "2  1#01-12-2018#0,9455#0#100#0,9455|2#01-06-2019#...   2018-06-01\n",
       "3  1#01-12-2018#2,2252#0#100#2,2252|2#01-06-2019#...   2018-06-01\n",
       "4  1#01-03-2010#2,4207#2,27272#97,72728#4,69342|2...   2009-09-01\n",
       "5  1#10-06-2019#3,82256919571133#0#100#3,82256919...   2018-06-11\n",
       "6  1#11-11-2019#3,71198428134404#0#100#3,71198428...   2018-11-12\n",
       "7  1#11-06-2019#3,83385917357224#0#100#3,83385917...   2018-06-11\n",
       "8  1#10-01-2018#3,8222367294881#0#100#3,822236729...   2017-01-10\n",
       "9  1#13-05-2019#3,79274514526169#0#100#3,79274514...   2018-05-11"
      ]
     },
     "execution_count": 15,
     "metadata": {},
     "output_type": "execute_result"
    }
   ],
   "source": [
    "bonos = solicitar_bonos_ejemplo(10)\n",
    "bonos"
   ]
  },
  {
   "cell_type": "code",
   "execution_count": 18,
   "metadata": {},
   "outputs": [
    {
     "data": {
      "text/plain": [
       "array([['0', datetime.datetime(2019, 2, 7, 0, 0), '2019-02-07', 0.0, 0.0,\n",
       "        100.0, 0.0],\n",
       "       ['1', datetime.datetime(2019, 7, 7, 0, 0), '2019-02-07', 1.6476,\n",
       "        0.0, 100.0, 1.6476],\n",
       "       ['2', datetime.datetime(2020, 1, 7, 0, 0), '2019-02-07', 1.9804,\n",
       "        0.0, 100.0, 1.9804],\n",
       "       ['3', datetime.datetime(2020, 7, 7, 0, 0), '2019-02-07', 1.9804,\n",
       "        0.0, 100.0, 1.9804],\n",
       "       ['4', datetime.datetime(2021, 1, 7, 0, 0), '2019-02-07', 1.9804,\n",
       "        0.0, 100.0, 1.9804],\n",
       "       ['5', datetime.datetime(2021, 7, 7, 0, 0), '2019-02-07', 1.9804,\n",
       "        0.0, 100.0, 1.9804],\n",
       "       ['6', datetime.datetime(2022, 1, 7, 0, 0), '2019-02-07', 1.9804,\n",
       "        0.0, 100.0, 1.9804],\n",
       "       ['7', datetime.datetime(2022, 7, 7, 0, 0), '2019-02-07', 1.9804,\n",
       "        0.0, 100.0, 1.9804],\n",
       "       ['8', datetime.datetime(2023, 1, 7, 0, 0), '2019-02-07', 1.9804,\n",
       "        0.0, 100.0, 1.9804],\n",
       "       ['9', datetime.datetime(2023, 7, 7, 0, 0), '2019-02-07', 1.9804,\n",
       "        0.0, 100.0, 1.9804],\n",
       "       ['10', datetime.datetime(2024, 1, 7, 0, 0), '2019-02-07', 1.9804,\n",
       "        0.0, 100.0, 1.9804],\n",
       "       ['11', datetime.datetime(2024, 7, 7, 0, 0), '2019-02-07', 1.9804,\n",
       "        0.0, 100.0, 1.9804],\n",
       "       ['12', datetime.datetime(2025, 1, 7, 0, 0), '2019-02-07', 1.9804,\n",
       "        0.0, 100.0, 1.9804],\n",
       "       ['13', datetime.datetime(2025, 7, 7, 0, 0), '2019-02-07', 1.9804,\n",
       "        1.79688, 98.20312, 3.77728],\n",
       "       ['14', datetime.datetime(2026, 1, 7, 0, 0), '2019-02-07', 1.94482,\n",
       "        1.79688, 96.40624, 3.7417],\n",
       "       ['15', datetime.datetime(2026, 7, 7, 0, 0), '2019-02-07', 1.90922,\n",
       "        3.08788, 93.31836, 4.9971],\n",
       "       ['16', datetime.datetime(2027, 1, 7, 0, 0), '2019-02-07', 1.84808,\n",
       "        3.08788, 90.23048, 4.93596],\n",
       "       ['17', datetime.datetime(2027, 7, 7, 0, 0), '2019-02-07', 1.78692,\n",
       "        5.02602, 85.20446, 6.81294],\n",
       "       ['18', datetime.datetime(2028, 1, 7, 0, 0), '2019-02-07', 1.68738,\n",
       "        5.02602, 80.17844, 6.7134],\n",
       "       ['19', datetime.datetime(2028, 7, 7, 0, 0), '2019-02-07', 1.58786,\n",
       "        7.19434, 72.9841, 8.7822],\n",
       "       ['20', datetime.datetime(2029, 1, 7, 0, 0), '2019-02-07', 1.44538,\n",
       "        7.19434, 65.78976, 8.63972],\n",
       "       ['21', datetime.datetime(2029, 7, 7, 0, 0), '2019-02-07', 1.3029,\n",
       "        16.04522, 49.74454, 17.34812],\n",
       "       ['22', datetime.datetime(2030, 1, 7, 0, 0), '2019-02-07', 0.98514,\n",
       "        16.04522, 33.69932, 17.03036],\n",
       "       ['23', datetime.datetime(2030, 7, 7, 0, 0), '2019-02-07', 0.66738,\n",
       "        16.84966, 16.84966, 17.51704],\n",
       "       ['24', datetime.datetime(2031, 1, 7, 0, 0), '2019-02-07', 0.3337,\n",
       "        16.84966, 0.0, 17.18336]], dtype=object)"
      ]
     },
     "execution_count": 18,
     "metadata": {},
     "output_type": "execute_result"
    }
   ],
   "source": [
    "a = StrTabla2ArrTabla(bonos.iloc[0]['TablaDesarrollo'], bonos.iloc[0]['FechaEmision'].to_pydatetime().date().strftime('%Y-%m-%d'))\n",
    "a"
   ]
  },
  {
   "cell_type": "code",
   "execution_count": 22,
   "metadata": {},
   "outputs": [
    {
     "data": {
      "text/plain": [
       "array(['0', '1', '2', '3', '4', '5', '6', '7', '8', '9', '10', '11', '12',\n",
       "       '13', '14', '15', '16', '17', '18', '19', '20', '21', '22', '23',\n",
       "       '24'], dtype=object)"
      ]
     },
     "execution_count": 22,
     "metadata": {},
     "output_type": "execute_result"
    }
   ],
   "source": [
    "a[:,0]"
   ]
  },
  {
   "cell_type": "code",
   "execution_count": null,
   "metadata": {},
   "outputs": [],
   "source": [
    "data = pd.DataFrame()"
   ]
  }
 ],
 "metadata": {
  "kernelspec": {
   "display_name": "Python 3.7.6 64-bit",
   "language": "python",
   "name": "python37664bitf534442f8f73420d977a2f7400984205"
  },
  "language_info": {
   "codemirror_mode": {
    "name": "ipython",
    "version": 3
   },
   "file_extension": ".py",
   "mimetype": "text/x-python",
   "name": "python",
   "nbconvert_exporter": "python",
   "pygments_lexer": "ipython3",
   "version": "3.7.6"
  }
 },
 "nbformat": 4,
 "nbformat_minor": 4
}
