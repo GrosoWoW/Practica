{
 "cells": [
  {
   "cell_type": "code",
   "execution_count": 1,
   "metadata": {},
   "outputs": [],
   "source": [
    "import pyodbc\n",
    "import sys\n",
    "import datetime\n",
    "\n",
    "from Activo import *\n",
    "from Accion import *\n",
    "from Bono import *\n",
    "from Derivado import *\n",
    "from DerivadosTipos.DerivadosSCC import *\n",
    "from DerivadosTipos.DerivadosFWD import *\n",
    "\n",
    "from extraer_accion import *\n",
    "\n",
    "\n",
    "from Cartera import *"
   ]
  },
  {
   "cell_type": "code",
   "execution_count": 2,
   "metadata": {},
   "outputs": [],
   "source": [
    "server = '172.16.1.38'\n",
    "username = 'sa'\n",
    "password = 'qwerty123'\n",
    "driver = '{ODBC Driver 17 for SQL Server}'\n",
    "cn = pyodbc.connect('DRIVER=' + driver + ';SERVER=' + server + ';UID=' + username + ';PWD=' + password)"
   ]
  },
  {
   "cell_type": "code",
   "execution_count": 3,
   "metadata": {},
   "outputs": [],
   "source": [
    "def cambiar_fecha(fecha):\n",
    "\n",
    "    fechas = fecha.split(\"-\")\n",
    "    fechas = fechas[2].split(\" \")[0] + \"/\" + fechas[1] + \"/\" + fechas[0]\n",
    "    return fechas\n"
   ]
  },
  {
   "cell_type": "code",
   "execution_count": 5,
   "metadata": {},
   "outputs": [],
   "source": [
    "def bonos_dbAlgebra(n,cn):\n",
    "    bonos = 'SELECT TOP(' + str(n) + \") bono.Moneda, bono.TablaDesarrollo, bono.Base1 , bono.Base2, bono.FechaEmision, riesgo.Riesgo AS RiesgoInt, bono.Nemotecnico AS Nemotecnico FROM [dbAlgebra].[dbo].[TdNemoRF] AS bono , [dbAlgebra].[dbo].[VwRiesgoRF] AS riesgo WHERE bono.Nemotecnico = riesgo.Nemotecnico\"\n",
    "    bonos = pd.read_sql(bonos, cn)\n",
    "    return pd.DataFrame(bonos)\n",
    "\n",
    "def derivados_dBDerivados(cantidad, cn):\n",
    "\n",
    "    derivados = \"SELECT TOP (\"+ str(cantidad) +\") * FROM [dbDerivados].[dbo].[TdCarteraDerivados_V2] WHERE Tipo = 'SCC'\"\n",
    "    derivados = pd.read_sql(derivados, cn)\n",
    "\n",
    "    derivado = pd.DataFrame()\n",
    "    dev = []\n",
    "\n",
    "    for i in range(cantidad):\n",
    "\n",
    "        info_derivado = dict()\n",
    "        info_derivado[\"Tipo\"] = derivados[\"Tipo\"][i]\n",
    "        info_derivado[\"ID_Key\"] = derivados[\"ID_Key\"][i]\n",
    "        info_derivado[\"Administradora\"] = derivados[\"Administradora\"][i]\n",
    "        info_derivado[\"Fondo\"] = derivados[\"Fondo\"][i]\n",
    "        info_derivado[\"Contraparte\"] = derivados[\"Contraparte\"][i]\n",
    "        info_derivado[\"ID\"] = int(derivados[\"ID\"][i])\n",
    "        info_derivado[\"Nemotecnico\"] = derivados[\"Nemotecnico\"][i]\n",
    "        info_derivado[\"Mercado\"] = derivados[\"Mercado\"][i]     \n",
    "        fecha = datetime.date(2019, 10, 14)\n",
    "        hora = '1700'\n",
    "        info_derivado[\"FechaEfectiva\"] = cambiar_fecha(str(derivados[\"FechaEfectiva\"][i]))\n",
    "        info_derivado[\"FechaVenc\"] = cambiar_fecha(str(derivados[\"FechaVenc\"][i]))\n",
    "        info_derivado[\"AjusteFeriados\"] = derivados[\"AjusteFeriados\"][i]\n",
    "        info_derivado[\"NocionalActivo\"] = derivados[\"NocionalActivo\"][i]\n",
    "        info_derivado[\"NocionalPasivo\"] = derivados[\"NocionalActivo\"][i]\n",
    "\n",
    "        info_derivado[\"MonedaActivo\"] = derivados[\"MonedaActivo\"][i]\n",
    "        info_derivado[\"MonedaPasivo\"] = derivados[\"MonedaPasivo\"][i]\n",
    "\n",
    "        info_derivado[\"MonedaBase\"] = derivados[\"MonedaBase\"][i]\n",
    "        info_derivado[\"TipoTasaActivo\"] = derivados[\"TipoTasaActivo\"][i]\n",
    "        info_derivado[\"TipoTasaPasivo\"] = derivados[\"TipoTasaPasivo\"][i]\n",
    "        info_derivado[\"TasaActivo\"] = derivados[\"TasaActivo\"][i]\n",
    "        info_derivado[\"TasaPasivo\"] = derivados[\"TasaPasivo\"][i]\n",
    "        info_derivado[\"FrecuenciaActivo\"] = derivados[\"FrecuenciaActivo\"][i]\n",
    "        info_derivado[\"FrecuenciaPasivo\"] = info_derivado[\"FrecuenciaActivo\"]\n",
    "\n",
    "        info1 = pd.DataFrame([info_derivado])\n",
    "\n",
    "        tipo_derivado = derivados[\"Tipo\"][i]\n",
    "        \n",
    "        if tipo_derivado == 'SCC':\n",
    "\n",
    "            derivado_info = DerivadosSCC(fecha, hora, info1, cn)\n",
    "        \n",
    "        elif tipo_derivado == 'FWD':\n",
    "\n",
    "            derivado_info = DerivadosFWD(fecha, hora, info1, cn)\n",
    "\n",
    "\n",
    "        dev.append(derivado_info)\n",
    "\n",
    "    derivado[\"Derivado\"] = dev\n",
    "    derivado[\"Nemotecnico\"] = derivados[\"Nemotecnico\"][i]\n",
    "    return derivado"
   ]
  },
  {
   "cell_type": "code",
   "execution_count": 4,
   "metadata": {},
   "outputs": [],
   "source": [
    "def conversionSYP(riesgo):\n",
    "    return {1: 'AAA',2: 'AA',3: 'AA',4: 'AA',5: 'A',6: 'A',7: 'A',8: 'BBB',9: 'BBB',10: 'BBB',\\\n",
    "            11: 'BB',12: 'BB',13: 'BB',14: 'B',15: 'B',16: 'B',17: 'CCC',18: 'CC',19: 'CC',20: 'C',\\\n",
    "            21: 'C',22: 'C',23: 'D',24: 'E'}.get(riesgo)\n",
    "\n",
    "def ajustes(bonos):\n",
    "    bonos['FechaEmision'] = bonos['FechaEmision'].apply(lambda x: x.strftime('%Y-%m-%d'))\n",
    "    bonos['Base1'] = bonos['Base1'].apply(lambda x: x if x != -1 else 'ACT')\n",
    "    bonos['Base2'] = bonos['Base2'].apply(lambda x: x if x != -1 else 'ACT')\n",
    "    bonos['Convencion'] = bonos['Base1'].apply(lambda x: str(x)) + '/' + bonos['Base2'].apply(lambda x: str(x))\n",
    "    bonos['Riesgo'] = bonos['RiesgoInt'].apply(lambda x: conversionSYP(x))\n",
    "    return bonos"
   ]
  },
  {
   "cell_type": "code",
   "execution_count": 6,
   "metadata": {},
   "outputs": [],
   "source": [
    "bonos = ajustes(bonos_dbAlgebra(3,cn))\n",
    "bonos"
   ]
  },
  {
   "cell_type": "code",
   "execution_count": 7,
   "metadata": {},
   "outputs": [
    {
     "name": "stderr",
     "output_type": "stream",
     "text": "c:\\Users\\Lenovo\\Documents\\Universidad\\Practica\\Cartera_V2\\Practica\\Intento\\Cartera\\DerivadosTipos\\DerivadosSCC.py:48: SettingWithCopyWarning: \nA value is trying to be set on a copy of a slice from a DataFrame\n\nSee the caveats in the documentation: http://pandas.pydata.org/pandas-docs/stable/user_guide/indexing.html#returning-a-view-versus-a-copy\n  info_cartera.MonedaActivo[0] = \"CLP\"\n"
    },
    {
     "data": {
      "text/html": "<div>\n<style scoped>\n    .dataframe tbody tr th:only-of-type {\n        vertical-align: middle;\n    }\n\n    .dataframe tbody tr th {\n        vertical-align: top;\n    }\n\n    .dataframe thead th {\n        text-align: right;\n    }\n</style>\n<table border=\"1\" class=\"dataframe\">\n  <thead>\n    <tr style=\"text-align: right;\">\n      <th></th>\n      <th>ID</th>\n      <th>ActivoPasivo</th>\n      <th>Fecha</th>\n      <th>FechaFixing</th>\n      <th>FechaFlujo</th>\n      <th>FechaPago</th>\n      <th>Flujo</th>\n      <th>ValorPresenteMonFlujo</th>\n      <th>Moneda</th>\n      <th>MonedaBase</th>\n    </tr>\n  </thead>\n  <tbody>\n    <tr>\n      <th>0</th>\n      <td>1367</td>\n      <td>-1</td>\n      <td>2019-10-14</td>\n      <td>2020-05-12</td>\n      <td>2020-05-12</td>\n      <td>2020-05-12</td>\n      <td>8.662021e+07</td>\n      <td>8.587635e+07</td>\n      <td>CLP</td>\n      <td>CLP</td>\n    </tr>\n    <tr>\n      <th>1</th>\n      <td>1367</td>\n      <td>-1</td>\n      <td>2019-10-14</td>\n      <td>2020-11-12</td>\n      <td>2020-11-12</td>\n      <td>2020-11-12</td>\n      <td>7.098801e+07</td>\n      <td>6.988231e+07</td>\n      <td>CLP</td>\n      <td>CLP</td>\n    </tr>\n    <tr>\n      <th>2</th>\n      <td>1367</td>\n      <td>-1</td>\n      <td>2019-10-14</td>\n      <td>2021-05-12</td>\n      <td>2021-05-12</td>\n      <td>2021-05-12</td>\n      <td>9.568963e+07</td>\n      <td>9.330633e+07</td>\n      <td>CLP</td>\n      <td>CLP</td>\n    </tr>\n    <tr>\n      <th>3</th>\n      <td>1367</td>\n      <td>-1</td>\n      <td>2019-10-14</td>\n      <td>2021-11-12</td>\n      <td>2021-11-12</td>\n      <td>2021-11-12</td>\n      <td>1.008449e+10</td>\n      <td>9.750935e+09</td>\n      <td>CLP</td>\n      <td>CLP</td>\n    </tr>\n    <tr>\n      <th>4</th>\n      <td>1367</td>\n      <td>1</td>\n      <td>2019-10-14</td>\n      <td>2020-05-12</td>\n      <td>2020-05-12</td>\n      <td>2020-05-12</td>\n      <td>7.304466e+07</td>\n      <td>7.241738e+07</td>\n      <td>CLP</td>\n      <td>CLP</td>\n    </tr>\n    <tr>\n      <th>5</th>\n      <td>1367</td>\n      <td>1</td>\n      <td>2019-10-14</td>\n      <td>2020-11-12</td>\n      <td>2020-11-12</td>\n      <td>2020-11-12</td>\n      <td>7.385030e+07</td>\n      <td>7.270002e+07</td>\n      <td>CLP</td>\n      <td>CLP</td>\n    </tr>\n    <tr>\n      <th>6</th>\n      <td>1367</td>\n      <td>1</td>\n      <td>2019-10-14</td>\n      <td>2021-05-12</td>\n      <td>2021-05-12</td>\n      <td>2021-05-12</td>\n      <td>7.264186e+07</td>\n      <td>7.083260e+07</td>\n      <td>CLP</td>\n      <td>CLP</td>\n    </tr>\n    <tr>\n      <th>7</th>\n      <td>1367</td>\n      <td>1</td>\n      <td>2019-10-14</td>\n      <td>2021-11-12</td>\n      <td>2021-11-12</td>\n      <td>2021-11-12</td>\n      <td>1.007385e+10</td>\n      <td>9.740649e+09</td>\n      <td>CLP</td>\n      <td>CLP</td>\n    </tr>\n  </tbody>\n</table>\n</div>",
      "text/plain": "     ID ActivoPasivo       Fecha FechaFixing  FechaFlujo   FechaPago  \\\n0  1367           -1  2019-10-14  2020-05-12  2020-05-12  2020-05-12   \n1  1367           -1  2019-10-14  2020-11-12  2020-11-12  2020-11-12   \n2  1367           -1  2019-10-14  2021-05-12  2021-05-12  2021-05-12   \n3  1367           -1  2019-10-14  2021-11-12  2021-11-12  2021-11-12   \n4  1367            1  2019-10-14  2020-05-12  2020-05-12  2020-05-12   \n5  1367            1  2019-10-14  2020-11-12  2020-11-12  2020-11-12   \n6  1367            1  2019-10-14  2021-05-12  2021-05-12  2021-05-12   \n7  1367            1  2019-10-14  2021-11-12  2021-11-12  2021-11-12   \n\n          Flujo  ValorPresenteMonFlujo Moneda MonedaBase  \n0  8.662021e+07           8.587635e+07    CLP        CLP  \n1  7.098801e+07           6.988231e+07    CLP        CLP  \n2  9.568963e+07           9.330633e+07    CLP        CLP  \n3  1.008449e+10           9.750935e+09    CLP        CLP  \n4  7.304466e+07           7.241738e+07    CLP        CLP  \n5  7.385030e+07           7.270002e+07    CLP        CLP  \n6  7.264186e+07           7.083260e+07    CLP        CLP  \n7  1.007385e+10           9.740649e+09    CLP        CLP  "
     },
     "execution_count": 7,
     "metadata": {},
     "output_type": "execute_result"
    }
   ],
   "source": [
    "'''derivados = derivados_dBDerivados(5, cn)\n",
    "derivados[\"Derivado\"][1].genera_flujos()\n",
    "derivados[\"Derivado\"][1].valoriza_flujos()\n",
    "derivados[\"Derivado\"][1].flujos_valorizados[[\"ID\",\"ActivoPasivo\", \"Fecha\", \"FechaFixing\", \"FechaFlujo\", \"FechaPago\", \"Flujo\", \"ValorPresenteMonFlujo\", \"Moneda\", \"MonedaBase\"]]'''"
   ]
  },
  {
   "cell_type": "code",
   "execution_count": 8,
   "metadata": {},
   "outputs": [],
   "source": [
    "acciones = historico(\"DE000DWS2D90\", \"A\", 60)\n"
   ]
  },
  {
   "cell_type": "code",
   "execution_count": 9,
   "metadata": {},
   "outputs": [
    {
     "name": "stdout",
     "output_type": "stream",
     "text": "Nivel1           Nivel2\n0  Renta Variable Extranjera  Equities Europe DE000DWS2D90\nRenta Variable Extranjera Equities Europe\nEmpty DataFrame\nColumns: [Nivel1, Nivel2]\nIndex: [] --\n"
    },
    {
     "ename": "IndexError",
     "evalue": "index out of bounds",
     "output_type": "error",
     "traceback": [
      "\u001b[1;31m---------------------------------------------------------------------------\u001b[0m",
      "\u001b[1;31mKeyError\u001b[0m                                  Traceback (most recent call last)",
      "\u001b[1;32mC:\\Python37\\lib\\site-packages\\pandas\\core\\indexes\\base.py\u001b[0m in \u001b[0;36mget_value\u001b[1;34m(self, series, key)\u001b[0m\n\u001b[0;32m   4729\u001b[0m         \u001b[1;32mtry\u001b[0m\u001b[1;33m:\u001b[0m\u001b[1;33m\u001b[0m\u001b[1;33m\u001b[0m\u001b[0m\n\u001b[1;32m-> 4730\u001b[1;33m             \u001b[1;32mreturn\u001b[0m \u001b[0mself\u001b[0m\u001b[1;33m.\u001b[0m\u001b[0m_engine\u001b[0m\u001b[1;33m.\u001b[0m\u001b[0mget_value\u001b[0m\u001b[1;33m(\u001b[0m\u001b[0ms\u001b[0m\u001b[1;33m,\u001b[0m \u001b[0mk\u001b[0m\u001b[1;33m,\u001b[0m \u001b[0mtz\u001b[0m\u001b[1;33m=\u001b[0m\u001b[0mgetattr\u001b[0m\u001b[1;33m(\u001b[0m\u001b[0mseries\u001b[0m\u001b[1;33m.\u001b[0m\u001b[0mdtype\u001b[0m\u001b[1;33m,\u001b[0m \u001b[1;34m\"tz\"\u001b[0m\u001b[1;33m,\u001b[0m \u001b[1;32mNone\u001b[0m\u001b[1;33m)\u001b[0m\u001b[1;33m)\u001b[0m\u001b[1;33m\u001b[0m\u001b[1;33m\u001b[0m\u001b[0m\n\u001b[0m\u001b[0;32m   4731\u001b[0m         \u001b[1;32mexcept\u001b[0m \u001b[0mKeyError\u001b[0m \u001b[1;32mas\u001b[0m \u001b[0me1\u001b[0m\u001b[1;33m:\u001b[0m\u001b[1;33m\u001b[0m\u001b[1;33m\u001b[0m\u001b[0m\n",
      "\u001b[1;32mpandas/_libs/index.pyx\u001b[0m in \u001b[0;36mpandas._libs.index.IndexEngine.get_value\u001b[1;34m()\u001b[0m\n",
      "\u001b[1;32mpandas/_libs/index.pyx\u001b[0m in \u001b[0;36mpandas._libs.index.IndexEngine.get_value\u001b[1;34m()\u001b[0m\n",
      "\u001b[1;32mpandas/_libs/index.pyx\u001b[0m in \u001b[0;36mpandas._libs.index.IndexEngine.get_loc\u001b[1;34m()\u001b[0m\n",
      "\u001b[1;32mpandas/_libs/hashtable_class_helper.pxi\u001b[0m in \u001b[0;36mpandas._libs.hashtable.PyObjectHashTable.get_item\u001b[1;34m()\u001b[0m\n",
      "\u001b[1;32mpandas/_libs/hashtable_class_helper.pxi\u001b[0m in \u001b[0;36mpandas._libs.hashtable.PyObjectHashTable.get_item\u001b[1;34m()\u001b[0m\n",
      "\u001b[1;31mKeyError\u001b[0m: 0",
      "\nDuring handling of the above exception, another exception occurred:\n",
      "\u001b[1;31mIndexError\u001b[0m                                Traceback (most recent call last)",
      "\u001b[1;32m<ipython-input-9-2b9ae4a2b469>\u001b[0m in \u001b[0;36m<module>\u001b[1;34m\u001b[0m\n\u001b[1;32m----> 1\u001b[1;33m \u001b[0mcartera\u001b[0m \u001b[1;33m=\u001b[0m \u001b[0mCartera\u001b[0m\u001b[1;33m(\u001b[0m\u001b[0macciones\u001b[0m\u001b[1;33m,\u001b[0m \u001b[0mpd\u001b[0m\u001b[1;33m.\u001b[0m\u001b[0mDataFrame\u001b[0m\u001b[1;33m(\u001b[0m\u001b[1;33m)\u001b[0m\u001b[1;33m,\u001b[0m \u001b[0mderivados\u001b[0m\u001b[1;33m,\u001b[0m\u001b[1;34m'CLP'\u001b[0m\u001b[1;33m,\u001b[0m \u001b[0mdatetime\u001b[0m\u001b[1;33m.\u001b[0m\u001b[0mdate\u001b[0m\u001b[1;33m(\u001b[0m\u001b[1;36m2019\u001b[0m\u001b[1;33m,\u001b[0m\u001b[1;36m2\u001b[0m\u001b[1;33m,\u001b[0m\u001b[1;36m1\u001b[0m\u001b[1;33m)\u001b[0m\u001b[1;33m,\u001b[0m \u001b[0mcn\u001b[0m\u001b[1;33m,\u001b[0m \u001b[1;36m60\u001b[0m\u001b[1;33m)\u001b[0m\u001b[1;33m\u001b[0m\u001b[1;33m\u001b[0m\u001b[0m\n\u001b[0m",
      "\u001b[1;32mc:\\Users\\Lenovo\\Documents\\Universidad\\Practica\\Cartera_V2\\Practica\\Intento\\Cartera\\Cartera.py\u001b[0m in \u001b[0;36m__init__\u001b[1;34m(self, acciones, bonos, derivados, moneda, fecha, cn, n)\u001b[0m\n\u001b[0;32m     74\u001b[0m \u001b[1;33m\u001b[0m\u001b[0m\n\u001b[0;32m     75\u001b[0m             \u001b[0mderivado\u001b[0m \u001b[1;33m=\u001b[0m \u001b[0mderivados\u001b[0m\u001b[1;33m.\u001b[0m\u001b[0miloc\u001b[0m\u001b[1;33m[\u001b[0m\u001b[0mk\u001b[0m\u001b[1;33m]\u001b[0m\u001b[1;33m\u001b[0m\u001b[1;33m\u001b[0m\u001b[0m\n\u001b[1;32m---> 76\u001b[1;33m             \u001b[0mobj_derivado\u001b[0m \u001b[1;33m=\u001b[0m \u001b[0mDerivado\u001b[0m\u001b[1;33m(\u001b[0m\u001b[0mderivado\u001b[0m\u001b[1;33m[\u001b[0m\u001b[1;34m'Derivado'\u001b[0m\u001b[1;33m]\u001b[0m\u001b[1;33m,\u001b[0m \u001b[0mmoneda_cartera\u001b[0m\u001b[1;33m,\u001b[0m \u001b[0mfecha\u001b[0m\u001b[1;33m,\u001b[0m \u001b[0mcn\u001b[0m\u001b[1;33m,\u001b[0m \u001b[0mn\u001b[0m\u001b[1;33m,\u001b[0m \u001b[0mderivado\u001b[0m\u001b[1;33m[\u001b[0m\u001b[1;34m'Derivado'\u001b[0m\u001b[1;33m]\u001b[0m\u001b[1;33m.\u001b[0m\u001b[0mget_fecha_efectiva\u001b[0m\u001b[1;33m(\u001b[0m\u001b[1;33m)\u001b[0m\u001b[1;33m,\u001b[0m \u001b[0mderivado\u001b[0m\u001b[1;33m[\u001b[0m\u001b[1;34m'Nemotecnico'\u001b[0m\u001b[1;33m]\u001b[0m\u001b[1;33m)\u001b[0m\u001b[1;33m\u001b[0m\u001b[1;33m\u001b[0m\u001b[0m\n\u001b[0m\u001b[0;32m     77\u001b[0m             \u001b[0mself\u001b[0m\u001b[1;33m.\u001b[0m\u001b[0mderivados\u001b[0m\u001b[1;33m.\u001b[0m\u001b[0mappend\u001b[0m\u001b[1;33m(\u001b[0m\u001b[0mobj_derivado\u001b[0m\u001b[1;33m)\u001b[0m\u001b[1;33m\u001b[0m\u001b[1;33m\u001b[0m\u001b[0m\n\u001b[0;32m     78\u001b[0m \u001b[1;33m\u001b[0m\u001b[0m\n",
      "\u001b[1;32mc:\\Users\\Lenovo\\Documents\\Universidad\\Practica\\Cartera_V2\\Practica\\Intento\\Cartera\\Derivado.py\u001b[0m in \u001b[0;36m__init__\u001b[1;34m(self, derivado_generico, monedaCartera, fecha_valorizacion, cn, n, fechaEfectiva, nemo)\u001b[0m\n\u001b[0;32m     22\u001b[0m \u001b[1;33m\u001b[0m\u001b[0m\n\u001b[0;32m     23\u001b[0m         \u001b[1;31m# Super para la clase DerivadoAbstracto y entregar los valores\u001b[0m\u001b[1;33m\u001b[0m\u001b[1;33m\u001b[0m\u001b[1;33m\u001b[0m\u001b[0m\n\u001b[1;32m---> 24\u001b[1;33m         \u001b[0msuper\u001b[0m\u001b[1;33m(\u001b[0m\u001b[0mDerivado\u001b[0m\u001b[1;33m,\u001b[0m \u001b[0mself\u001b[0m\u001b[1;33m)\u001b[0m\u001b[1;33m.\u001b[0m\u001b[0m__init__\u001b[0m\u001b[1;33m(\u001b[0m\u001b[0mmonedaCartera\u001b[0m\u001b[1;33m,\u001b[0m \u001b[0mfecha_valorizacion\u001b[0m\u001b[1;33m,\u001b[0m \u001b[0mcn\u001b[0m\u001b[1;33m,\u001b[0m \u001b[0mnemo\u001b[0m\u001b[1;33m)\u001b[0m\u001b[1;33m\u001b[0m\u001b[1;33m\u001b[0m\u001b[0m\n\u001b[0m\u001b[0;32m     25\u001b[0m         \u001b[0mself\u001b[0m\u001b[1;33m.\u001b[0m\u001b[0mn\u001b[0m \u001b[1;33m=\u001b[0m \u001b[0mn\u001b[0m\u001b[1;33m\u001b[0m\u001b[1;33m\u001b[0m\u001b[0m\n\u001b[0;32m     26\u001b[0m \u001b[1;33m\u001b[0m\u001b[0m\n",
      "\u001b[1;32mc:\\Users\\Lenovo\\Documents\\Universidad\\Practica\\Cartera_V2\\Practica\\Intento\\Cartera\\Activo.py\u001b[0m in \u001b[0;36m__init__\u001b[1;34m(self, monedaCartera, fecha_valorizacion, cn, nemo)\u001b[0m\n\u001b[0;32m     66\u001b[0m         \u001b[0mself\u001b[0m\u001b[1;33m.\u001b[0m\u001b[0mnivel2\u001b[0m \u001b[1;33m=\u001b[0m \u001b[1;34m''\u001b[0m\u001b[1;33m\u001b[0m\u001b[1;33m\u001b[0m\u001b[0m\n\u001b[0;32m     67\u001b[0m \u001b[1;33m\u001b[0m\u001b[0m\n\u001b[1;32m---> 68\u001b[1;33m         \u001b[0mself\u001b[0m\u001b[1;33m.\u001b[0m\u001b[0mset_niveles\u001b[0m\u001b[1;33m(\u001b[0m\u001b[1;33m)\u001b[0m\u001b[1;33m\u001b[0m\u001b[1;33m\u001b[0m\u001b[0m\n\u001b[0m\u001b[0;32m     69\u001b[0m \u001b[1;33m\u001b[0m\u001b[0m\n\u001b[0;32m     70\u001b[0m \u001b[1;33m\u001b[0m\u001b[0m\n",
      "\u001b[1;32mc:\\Users\\Lenovo\\Documents\\Universidad\\Practica\\Cartera_V2\\Practica\\Intento\\Cartera\\Activo.py\u001b[0m in \u001b[0;36mset_niveles\u001b[1;34m(self)\u001b[0m\n\u001b[0;32m    221\u001b[0m         \u001b[0mniveles\u001b[0m \u001b[1;33m=\u001b[0m \u001b[0mpd\u001b[0m\u001b[1;33m.\u001b[0m\u001b[0mread_sql\u001b[0m\u001b[1;33m(\u001b[0m\u001b[0mniveles\u001b[0m\u001b[1;33m,\u001b[0m \u001b[0mcn\u001b[0m\u001b[1;33m)\u001b[0m\u001b[1;33m\u001b[0m\u001b[1;33m\u001b[0m\u001b[0m\n\u001b[0;32m    222\u001b[0m         \u001b[0mprint\u001b[0m\u001b[1;33m(\u001b[0m\u001b[0mniveles\u001b[0m\u001b[1;33m,\u001b[0m \u001b[0mnemo\u001b[0m\u001b[1;33m)\u001b[0m\u001b[1;33m\u001b[0m\u001b[1;33m\u001b[0m\u001b[0m\n\u001b[1;32m--> 223\u001b[1;33m         \u001b[0mprint\u001b[0m\u001b[1;33m(\u001b[0m\u001b[0mniveles\u001b[0m\u001b[1;33m[\u001b[0m\u001b[1;34m'Nivel1'\u001b[0m\u001b[1;33m]\u001b[0m\u001b[1;33m[\u001b[0m\u001b[1;36m0\u001b[0m\u001b[1;33m]\u001b[0m\u001b[1;33m,\u001b[0m \u001b[0mniveles\u001b[0m\u001b[1;33m[\u001b[0m\u001b[1;34m'Nivel2'\u001b[0m\u001b[1;33m]\u001b[0m\u001b[1;33m[\u001b[0m\u001b[1;36m0\u001b[0m\u001b[1;33m]\u001b[0m\u001b[1;33m)\u001b[0m\u001b[1;33m\u001b[0m\u001b[1;33m\u001b[0m\u001b[0m\n\u001b[0m\u001b[0;32m    224\u001b[0m         \u001b[0mself\u001b[0m\u001b[1;33m.\u001b[0m\u001b[0mnivel1\u001b[0m \u001b[1;33m=\u001b[0m \u001b[0mniveles\u001b[0m\u001b[1;33m[\u001b[0m\u001b[1;34m'Nivel1'\u001b[0m\u001b[1;33m]\u001b[0m\u001b[1;33m[\u001b[0m\u001b[1;36m0\u001b[0m\u001b[1;33m]\u001b[0m\u001b[1;33m\u001b[0m\u001b[1;33m\u001b[0m\u001b[0m\n\u001b[0;32m    225\u001b[0m         \u001b[0mself\u001b[0m\u001b[1;33m.\u001b[0m\u001b[0mnivel2\u001b[0m \u001b[1;33m=\u001b[0m \u001b[0mniveles\u001b[0m\u001b[1;33m[\u001b[0m\u001b[1;34m'Nivel2'\u001b[0m\u001b[1;33m]\u001b[0m\u001b[1;33m[\u001b[0m\u001b[1;36m0\u001b[0m\u001b[1;33m]\u001b[0m\u001b[1;33m\u001b[0m\u001b[1;33m\u001b[0m\u001b[0m\n",
      "\u001b[1;32mC:\\Python37\\lib\\site-packages\\pandas\\core\\series.py\u001b[0m in \u001b[0;36m__getitem__\u001b[1;34m(self, key)\u001b[0m\n\u001b[0;32m   1069\u001b[0m         \u001b[0mkey\u001b[0m \u001b[1;33m=\u001b[0m \u001b[0mcom\u001b[0m\u001b[1;33m.\u001b[0m\u001b[0mapply_if_callable\u001b[0m\u001b[1;33m(\u001b[0m\u001b[0mkey\u001b[0m\u001b[1;33m,\u001b[0m \u001b[0mself\u001b[0m\u001b[1;33m)\u001b[0m\u001b[1;33m\u001b[0m\u001b[1;33m\u001b[0m\u001b[0m\n\u001b[0;32m   1070\u001b[0m         \u001b[1;32mtry\u001b[0m\u001b[1;33m:\u001b[0m\u001b[1;33m\u001b[0m\u001b[1;33m\u001b[0m\u001b[0m\n\u001b[1;32m-> 1071\u001b[1;33m             \u001b[0mresult\u001b[0m \u001b[1;33m=\u001b[0m \u001b[0mself\u001b[0m\u001b[1;33m.\u001b[0m\u001b[0mindex\u001b[0m\u001b[1;33m.\u001b[0m\u001b[0mget_value\u001b[0m\u001b[1;33m(\u001b[0m\u001b[0mself\u001b[0m\u001b[1;33m,\u001b[0m \u001b[0mkey\u001b[0m\u001b[1;33m)\u001b[0m\u001b[1;33m\u001b[0m\u001b[1;33m\u001b[0m\u001b[0m\n\u001b[0m\u001b[0;32m   1072\u001b[0m \u001b[1;33m\u001b[0m\u001b[0m\n\u001b[0;32m   1073\u001b[0m             \u001b[1;32mif\u001b[0m \u001b[1;32mnot\u001b[0m \u001b[0mis_scalar\u001b[0m\u001b[1;33m(\u001b[0m\u001b[0mresult\u001b[0m\u001b[1;33m)\u001b[0m\u001b[1;33m:\u001b[0m\u001b[1;33m\u001b[0m\u001b[1;33m\u001b[0m\u001b[0m\n",
      "\u001b[1;32mC:\\Python37\\lib\\site-packages\\pandas\\core\\indexes\\base.py\u001b[0m in \u001b[0;36mget_value\u001b[1;34m(self, series, key)\u001b[0m\n\u001b[0;32m   4734\u001b[0m \u001b[1;33m\u001b[0m\u001b[0m\n\u001b[0;32m   4735\u001b[0m             \u001b[1;32mtry\u001b[0m\u001b[1;33m:\u001b[0m\u001b[1;33m\u001b[0m\u001b[1;33m\u001b[0m\u001b[0m\n\u001b[1;32m-> 4736\u001b[1;33m                 \u001b[1;32mreturn\u001b[0m \u001b[0mlibindex\u001b[0m\u001b[1;33m.\u001b[0m\u001b[0mget_value_box\u001b[0m\u001b[1;33m(\u001b[0m\u001b[0ms\u001b[0m\u001b[1;33m,\u001b[0m \u001b[0mkey\u001b[0m\u001b[1;33m)\u001b[0m\u001b[1;33m\u001b[0m\u001b[1;33m\u001b[0m\u001b[0m\n\u001b[0m\u001b[0;32m   4737\u001b[0m             \u001b[1;32mexcept\u001b[0m \u001b[0mIndexError\u001b[0m\u001b[1;33m:\u001b[0m\u001b[1;33m\u001b[0m\u001b[1;33m\u001b[0m\u001b[0m\n\u001b[0;32m   4738\u001b[0m                 \u001b[1;32mraise\u001b[0m\u001b[1;33m\u001b[0m\u001b[1;33m\u001b[0m\u001b[0m\n",
      "\u001b[1;32mpandas/_libs/index.pyx\u001b[0m in \u001b[0;36mpandas._libs.index.get_value_box\u001b[1;34m()\u001b[0m\n",
      "\u001b[1;32mpandas/_libs/index.pyx\u001b[0m in \u001b[0;36mpandas._libs.index.get_value_at\u001b[1;34m()\u001b[0m\n",
      "\u001b[1;32mpandas/_libs/util.pxd\u001b[0m in \u001b[0;36mpandas._libs.util.get_value_at\u001b[1;34m()\u001b[0m\n",
      "\u001b[1;32mpandas/_libs/util.pxd\u001b[0m in \u001b[0;36mpandas._libs.util.validate_indexer\u001b[1;34m()\u001b[0m\n",
      "\u001b[1;31mIndexError\u001b[0m: index out of bounds"
     ]
    }
   ],
   "source": [
    "cartera = Cartera(acciones, pd.DataFrame(), derivados,'CLP', datetime.date(2019,2,1), cn, 60)"
   ]
  },
  {
   "cell_type": "code",
   "execution_count": null,
   "metadata": {},
   "outputs": [],
   "source": [
    "print(cartera.get_historicos_totales())"
   ]
  },
  {
   "cell_type": "code",
   "execution_count": null,
   "metadata": {},
   "outputs": [],
   "source": [
    "print(cartera.get_retornos_totales())"
   ]
  },
  {
   "cell_type": "code",
   "execution_count": null,
   "metadata": {},
   "outputs": [],
   "source": [
    "cartera.set_volatilidad_cartera()\n",
    "print(cartera.get_volatilidad_cartera())"
   ]
  },
  {
   "cell_type": "code",
   "execution_count": null,
   "metadata": {},
   "outputs": [],
   "source": []
  }
 ],
 "metadata": {
  "kernelspec": {
   "display_name": "Python 3.7.6 64-bit",
   "language": "python",
   "name": "python37664bitf534442f8f73420d977a2f7400984205"
  },
  "language_info": {
   "codemirror_mode": {
    "name": "ipython",
    "version": 3
   },
   "file_extension": ".py",
   "mimetype": "text/x-python",
   "name": "python",
   "nbconvert_exporter": "python",
   "pygments_lexer": "ipython3",
   "version": "3.7.6-final"
  }
 },
 "nbformat": 4,
 "nbformat_minor": 4
}