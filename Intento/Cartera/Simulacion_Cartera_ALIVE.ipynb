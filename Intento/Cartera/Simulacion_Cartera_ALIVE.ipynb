{
 "cells": [
  {
   "cell_type": "code",
   "execution_count": 1,
   "metadata": {},
   "outputs": [],
   "source": [
    "import pyodbc\n",
    "import sys\n",
    "import datetime\n",
    "\n",
    "from Activo import *\n",
    "from Accion import *\n",
    "from Bono import *\n",
    "from Derivado import *\n",
    "from DerivadosTipos.DerivadosSCC import *\n",
    "from DerivadosTipos.DerivadosFWD import *\n",
    "\n",
    "from extraer_accion import *\n",
    "\n",
    "\n",
    "from Cartera import *"
   ]
  },
  {
   "cell_type": "code",
   "execution_count": 2,
   "metadata": {},
   "outputs": [],
   "source": [
    "server = '172.16.1.38'\n",
    "username = 'sa'\n",
    "password = 'qwerty123'\n",
    "driver = '{ODBC Driver 17 for SQL Server}'\n",
    "cn = pyodbc.connect('DRIVER=' + driver + ';SERVER=' + server + ';UID=' + username + ';PWD=' + password)"
   ]
  },
  {
   "cell_type": "code",
   "execution_count": 3,
   "metadata": {},
   "outputs": [],
   "source": [
    "def cambiar_fecha(fecha):\n",
    "\n",
    "    fechas = fecha.split(\"-\")\n",
    "    fechas = fechas[2].split(\" \")[0] + \"/\" + fechas[1] + \"/\" + fechas[0]\n",
    "    return fechas\n"
   ]
  },
  {
   "cell_type": "code",
   "execution_count": 4,
   "metadata": {},
   "outputs": [],
   "source": [
    "def bonos_dbAlgebra(n,cn):\n",
    "\n",
    "    niu_data = pd.DataFrame()\n",
    "\n",
    "    bonos = \"SELECT TOP (\"+ str(n) +\") Moneda, Base1  , Base2, TablaDesarrollo , FechaEmision, NemotecnicoBono AS Nemotecnico, RiesgoInt FROM (SELECT * FROM (SELECT Moneda, Base1  , Base2, TablaDesarrollo , FechaEmision, Nemotecnico AS NemotecnicoBono FROM [dbAlgebra].[dbo].[TdNemoRF]) AS bono JOIN (SELECT * FROM [dbPortFolio].[dbo].[TdPlanvitalCartera]) AS planvital ON bono.NemotecnicoBono = planvital.Nemotecnico) AS A JOIN (SELECT DISTINCT Nemotecnico, RiesgoLVA AS RiesgoInt FROM [dbAlgebra].[dbo].[TdRiesgoLva]) AS B ON A.NemotecnicoBono = B.Nemotecnico\"\n",
    "    bonos = pd.read_sql(bonos, cn)\n",
    "\n",
    "    moneda = []\n",
    "    base1 = []\n",
    "    base2 = []\n",
    "    tabla = []\n",
    "    fechaemi = []\n",
    "    nemotecnico = []\n",
    "    riesgo = []\n",
    "    for i in range(np.size(bonos, 0)):\n",
    "\n",
    "        if bonos[\"Nemotecnico\"][i] in nemotecnico: continue\n",
    "\n",
    "        moneda.append(bonos[\"Moneda\"][i])\n",
    "        base1.append(bonos[\"Base1\"][i])\n",
    "        base2.append(bonos[\"Base2\"][i])\n",
    "        tabla.append(bonos[\"TablaDesarrollo\"][i])\n",
    "        fechaemi.append(bonos[\"FechaEmision\"][i])\n",
    "        nemotecnico.append(bonos[\"Nemotecnico\"][i])\n",
    "        riesgo.append(bonos[\"RiesgoInt\"][i])\n",
    "\n",
    "    niu_data[\"Moneda\"] = moneda\n",
    "    niu_data[\"Base1\"] = base1\n",
    "    niu_data[\"Base2\"] = base2\n",
    "    niu_data[\"TablaDesarrollo\"] = tabla\n",
    "    niu_data[\"FechaEmision\"] = fechaemi\n",
    "    niu_data[\"Nemotecnico\"] = nemotecnico\n",
    "    niu_data[\"RiesgoInt\"] = riesgo\n",
    "\n",
    "\n",
    "    return niu_data\n",
    "\n",
    "def derivados_dBDerivados(cantidad, cn):\n",
    "\n",
    "    derivados = \"SELECT TOP (\"+ str(cantidad) +\") * FROM [dbDerivados].[dbo].[TdCarteraDerivados_V2] WHERE Tipo = 'SCC'\"\n",
    "    derivados = pd.read_sql(derivados, cn)\n",
    "\n",
    "    derivado = pd.DataFrame()\n",
    "    dev = []\n",
    "\n",
    "    for i in range(cantidad):\n",
    "\n",
    "        info_derivado = dict()\n",
    "        info_derivado[\"Tipo\"] = derivados[\"Tipo\"][i]\n",
    "        info_derivado[\"ID_Key\"] = derivados[\"ID_Key\"][i]\n",
    "        info_derivado[\"Administradora\"] = derivados[\"Administradora\"][i]\n",
    "        info_derivado[\"Fondo\"] = derivados[\"Fondo\"][i]\n",
    "        info_derivado[\"Contraparte\"] = derivados[\"Contraparte\"][i]\n",
    "        info_derivado[\"ID\"] = int(derivados[\"ID\"][i])\n",
    "        info_derivado[\"Nemotecnico\"] = derivados[\"Nemotecnico\"][i]\n",
    "        info_derivado[\"Mercado\"] = derivados[\"Mercado\"][i]     \n",
    "        fecha = datetime.date(2019, 10, 14)\n",
    "        hora = '1700'\n",
    "        info_derivado[\"FechaEfectiva\"] = cambiar_fecha(str(derivados[\"FechaEfectiva\"][i]))\n",
    "        info_derivado[\"FechaVenc\"] = cambiar_fecha(str(derivados[\"FechaVenc\"][i]))\n",
    "        info_derivado[\"AjusteFeriados\"] = derivados[\"AjusteFeriados\"][i]\n",
    "        info_derivado[\"NocionalActivo\"] = derivados[\"NocionalActivo\"][i]\n",
    "        info_derivado[\"NocionalPasivo\"] = derivados[\"NocionalActivo\"][i]\n",
    "\n",
    "        info_derivado[\"MonedaActivo\"] = derivados[\"MonedaActivo\"][i]\n",
    "        info_derivado[\"MonedaPasivo\"] = derivados[\"MonedaPasivo\"][i]\n",
    "\n",
    "        info_derivado[\"MonedaBase\"] = derivados[\"MonedaBase\"][i]\n",
    "        info_derivado[\"TipoTasaActivo\"] = derivados[\"TipoTasaActivo\"][i]\n",
    "        info_derivado[\"TipoTasaPasivo\"] = derivados[\"TipoTasaPasivo\"][i]\n",
    "        info_derivado[\"TasaActivo\"] = derivados[\"TasaActivo\"][i]\n",
    "        info_derivado[\"TasaPasivo\"] = derivados[\"TasaPasivo\"][i]\n",
    "        info_derivado[\"FrecuenciaActivo\"] = derivados[\"FrecuenciaActivo\"][i]\n",
    "        info_derivado[\"FrecuenciaPasivo\"] = info_derivado[\"FrecuenciaActivo\"]\n",
    "\n",
    "        info1 = pd.DataFrame([info_derivado])\n",
    "\n",
    "        tipo_derivado = derivados[\"Tipo\"][i]\n",
    "        \n",
    "        if tipo_derivado == 'SCC':\n",
    "\n",
    "            derivado_info = DerivadosSCC(fecha, hora, info1, cn)\n",
    "        \n",
    "        elif tipo_derivado == 'FWD':\n",
    "\n",
    "            derivado_info = DerivadosFWD(fecha, hora, info1, cn)\n",
    "\n",
    "\n",
    "        dev.append(derivado_info)\n",
    "\n",
    "    derivado[\"Derivado\"] = dev\n",
    "    derivado[\"Nemotecnico\"] = 'BCINO UF 200709_A'\n",
    "    return derivado"
   ]
  },
  {
   "cell_type": "code",
   "execution_count": 5,
   "metadata": {},
   "outputs": [],
   "source": [
    "def conversionSYP(riesgo):\n",
    "    return {-1: \"AAA\", 1: 'AAA',2: 'AA',3: 'AA',4: 'AA',5: 'A',6: 'A',7: 'A',8: 'BBB',9: 'BBB',10: 'BBB',\\\n",
    "            11: 'BB',12: 'BB',13: 'BB',14: 'B',15: 'B',16: 'B',17: 'CCC',18: 'CC',19: 'CC',20: 'C',\\\n",
    "            21: 'C',22: 'C',23: 'D',24: 'E'}.get(riesgo)\n",
    "\n",
    "def ajustes(bonos):\n",
    "    bonos['FechaEmision'] = bonos['FechaEmision'].apply(lambda x: x.strftime('%Y-%m-%d'))\n",
    "    bonos['Base1'] = bonos['Base1'].apply(lambda x: x if x != -1 else 'ACT')\n",
    "    bonos['Base2'] = bonos['Base2'].apply(lambda x: x if x != -1 else 'ACT')\n",
    "    bonos['Convencion'] = bonos['Base1'].apply(lambda x: str(x)) + '/' + bonos['Base2'].apply(lambda x: str(x))\n",
    "    bonos['Riesgo'] = bonos['RiesgoInt'].apply(lambda x: conversionSYP(x))\n",
    "    return bonos"
   ]
  },
  {
   "cell_type": "code",
   "execution_count": 6,
   "metadata": {},
   "outputs": [
    {
     "data": {
      "text/html": "<div>\n<style scoped>\n    .dataframe tbody tr th:only-of-type {\n        vertical-align: middle;\n    }\n\n    .dataframe tbody tr th {\n        vertical-align: top;\n    }\n\n    .dataframe thead th {\n        text-align: right;\n    }\n</style>\n<table border=\"1\" class=\"dataframe\">\n  <thead>\n    <tr style=\"text-align: right;\">\n      <th></th>\n      <th>Moneda</th>\n      <th>Base1</th>\n      <th>Base2</th>\n      <th>TablaDesarrollo</th>\n      <th>FechaEmision</th>\n      <th>Nemotecnico</th>\n      <th>RiesgoInt</th>\n      <th>Convencion</th>\n      <th>Riesgo</th>\n    </tr>\n  </thead>\n  <tbody>\n    <tr>\n      <th>0</th>\n      <td>UF</td>\n      <td>ACT</td>\n      <td>365</td>\n      <td>1#01-10-2013#1,8823#0#100#1,8823|2#01-04-2014#...</td>\n      <td>2013-04-01</td>\n      <td>BAGUA-U</td>\n      <td>2</td>\n      <td>ACT/365</td>\n      <td>AA</td>\n    </tr>\n    <tr>\n      <th>1</th>\n      <td>UF</td>\n      <td>ACT</td>\n      <td>365</td>\n      <td>1#01-12-2014#1,6366#0#100#1,6366|2#01-06-2015#...</td>\n      <td>2014-06-01</td>\n      <td>BAGUA-W</td>\n      <td>2</td>\n      <td>ACT/365</td>\n      <td>AA</td>\n    </tr>\n    <tr>\n      <th>2</th>\n      <td>UF</td>\n      <td>ACT</td>\n      <td>365</td>\n      <td>1#15-07-2016#1,1929#0#100#1,1929|2#15-01-2017#...</td>\n      <td>2016-01-15</td>\n      <td>BAGUA-Z</td>\n      <td>2</td>\n      <td>ACT/365</td>\n      <td>AA</td>\n    </tr>\n    <tr>\n      <th>3</th>\n      <td>UF</td>\n      <td>ACT</td>\n      <td>365</td>\n      <td>1#10-04-2019#1,0445#0#100#1,0445|2#10-10-2019#...</td>\n      <td>2018-10-10</td>\n      <td>BARAU-W</td>\n      <td>4</td>\n      <td>ACT/365</td>\n      <td>AA</td>\n    </tr>\n    <tr>\n      <th>4</th>\n      <td>UF</td>\n      <td>ACT</td>\n      <td>365</td>\n      <td>1#01-11-2017#1#0#100#1|2#01-05-2018#1#0#100#1|...</td>\n      <td>2017-05-01</td>\n      <td>BBCIB20517</td>\n      <td>2</td>\n      <td>ACT/365</td>\n      <td>AA</td>\n    </tr>\n    <tr>\n      <th>...</th>\n      <td>...</td>\n      <td>...</td>\n      <td>...</td>\n      <td>...</td>\n      <td>...</td>\n      <td>...</td>\n      <td>...</td>\n      <td>...</td>\n      <td>...</td>\n    </tr>\n    <tr>\n      <th>88</th>\n      <td>UF</td>\n      <td>ACT</td>\n      <td>365</td>\n      <td>1#01-03-2016#1,7841#0#100#1,7841|2#01-09-2016#...</td>\n      <td>2015-09-01</td>\n      <td>BCNO-W0915</td>\n      <td>4</td>\n      <td>ACT/365</td>\n      <td>AA</td>\n    </tr>\n    <tr>\n      <th>89</th>\n      <td>UF</td>\n      <td>ACT</td>\n      <td>365</td>\n      <td>1#24-02-2017#1,24228#0#100#1,24228|2#24-08-201...</td>\n      <td>2016-08-24</td>\n      <td>BCODE-C</td>\n      <td>1</td>\n      <td>ACT/365</td>\n      <td>AAA</td>\n    </tr>\n    <tr>\n      <th>90</th>\n      <td>UF</td>\n      <td>ACT</td>\n      <td>365</td>\n      <td>1#15-04-2001#3,440804#0#100#3,440804|2#15-10-2...</td>\n      <td>2000-10-15</td>\n      <td>BCOLB-C</td>\n      <td>6</td>\n      <td>ACT/365</td>\n      <td>A</td>\n    </tr>\n    <tr>\n      <th>91</th>\n      <td>UF</td>\n      <td>ACT</td>\n      <td>365</td>\n      <td>1#05-11-2014#1,8823#2#98#3,8823|2#05-05-2015#1...</td>\n      <td>2014-05-05</td>\n      <td>BCOOD20514</td>\n      <td>3</td>\n      <td>ACT/365</td>\n      <td>AA</td>\n    </tr>\n    <tr>\n      <th>92</th>\n      <td>UF</td>\n      <td>ACT</td>\n      <td>365</td>\n      <td>1#01-01-2011#1,5#0#100#1,5|2#01-07-2011#1,5#0#...</td>\n      <td>2010-07-01</td>\n      <td>BCORAJ0710</td>\n      <td>4</td>\n      <td>ACT/365</td>\n      <td>AA</td>\n    </tr>\n  </tbody>\n</table>\n<p>93 rows × 9 columns</p>\n</div>",
      "text/plain": "   Moneda Base1  Base2                                    TablaDesarrollo  \\\n0      UF   ACT    365  1#01-10-2013#1,8823#0#100#1,8823|2#01-04-2014#...   \n1      UF   ACT    365  1#01-12-2014#1,6366#0#100#1,6366|2#01-06-2015#...   \n2      UF   ACT    365  1#15-07-2016#1,1929#0#100#1,1929|2#15-01-2017#...   \n3      UF   ACT    365  1#10-04-2019#1,0445#0#100#1,0445|2#10-10-2019#...   \n4      UF   ACT    365  1#01-11-2017#1#0#100#1|2#01-05-2018#1#0#100#1|...   \n..    ...   ...    ...                                                ...   \n88     UF   ACT    365  1#01-03-2016#1,7841#0#100#1,7841|2#01-09-2016#...   \n89     UF   ACT    365  1#24-02-2017#1,24228#0#100#1,24228|2#24-08-201...   \n90     UF   ACT    365  1#15-04-2001#3,440804#0#100#3,440804|2#15-10-2...   \n91     UF   ACT    365  1#05-11-2014#1,8823#2#98#3,8823|2#05-05-2015#1...   \n92     UF   ACT    365  1#01-01-2011#1,5#0#100#1,5|2#01-07-2011#1,5#0#...   \n\n   FechaEmision Nemotecnico  RiesgoInt Convencion Riesgo  \n0    2013-04-01     BAGUA-U          2    ACT/365     AA  \n1    2014-06-01     BAGUA-W          2    ACT/365     AA  \n2    2016-01-15     BAGUA-Z          2    ACT/365     AA  \n3    2018-10-10     BARAU-W          4    ACT/365     AA  \n4    2017-05-01  BBCIB20517          2    ACT/365     AA  \n..          ...         ...        ...        ...    ...  \n88   2015-09-01  BCNO-W0915          4    ACT/365     AA  \n89   2016-08-24     BCODE-C          1    ACT/365    AAA  \n90   2000-10-15     BCOLB-C          6    ACT/365      A  \n91   2014-05-05  BCOOD20514          3    ACT/365     AA  \n92   2010-07-01  BCORAJ0710          4    ACT/365     AA  \n\n[93 rows x 9 columns]"
     },
     "execution_count": 6,
     "metadata": {},
     "output_type": "execute_result"
    }
   ],
   "source": [
    "bonos = ajustes(bonos_dbAlgebra(1000,cn))\n",
    "bonos"
   ]
  },
  {
   "cell_type": "code",
   "execution_count": 7,
   "metadata": {},
   "outputs": [
    {
     "data": {
      "text/html": "<div>\n<style scoped>\n    .dataframe tbody tr th:only-of-type {\n        vertical-align: middle;\n    }\n\n    .dataframe tbody tr th {\n        vertical-align: top;\n    }\n\n    .dataframe thead th {\n        text-align: right;\n    }\n</style>\n<table border=\"1\" class=\"dataframe\">\n  <thead>\n    <tr style=\"text-align: right;\">\n      <th></th>\n      <th>ID</th>\n      <th>ActivoPasivo</th>\n      <th>Fecha</th>\n      <th>FechaFixing</th>\n      <th>FechaFlujo</th>\n      <th>FechaPago</th>\n      <th>Flujo</th>\n      <th>ValorPresenteMonFlujo</th>\n      <th>Moneda</th>\n      <th>MonedaBase</th>\n    </tr>\n  </thead>\n  <tbody>\n    <tr>\n      <th>0</th>\n      <td>1368</td>\n      <td>-1</td>\n      <td>2019-10-14</td>\n      <td>2020-05-12</td>\n      <td>2020-05-12</td>\n      <td>2020-05-12</td>\n      <td>4.331011e+07</td>\n      <td>4.293818e+07</td>\n      <td>CLP</td>\n      <td>CLP</td>\n    </tr>\n    <tr>\n      <th>1</th>\n      <td>1368</td>\n      <td>-1</td>\n      <td>2019-10-14</td>\n      <td>2020-11-12</td>\n      <td>2020-11-12</td>\n      <td>2020-11-12</td>\n      <td>3.549401e+07</td>\n      <td>3.494116e+07</td>\n      <td>CLP</td>\n      <td>CLP</td>\n    </tr>\n    <tr>\n      <th>2</th>\n      <td>1368</td>\n      <td>-1</td>\n      <td>2019-10-14</td>\n      <td>2021-05-12</td>\n      <td>2021-05-12</td>\n      <td>2021-05-12</td>\n      <td>4.784481e+07</td>\n      <td>4.665317e+07</td>\n      <td>CLP</td>\n      <td>CLP</td>\n    </tr>\n    <tr>\n      <th>3</th>\n      <td>1368</td>\n      <td>-1</td>\n      <td>2019-10-14</td>\n      <td>2021-11-12</td>\n      <td>2021-11-12</td>\n      <td>2021-11-12</td>\n      <td>5.042244e+09</td>\n      <td>4.875468e+09</td>\n      <td>CLP</td>\n      <td>CLP</td>\n    </tr>\n    <tr>\n      <th>4</th>\n      <td>1368</td>\n      <td>1</td>\n      <td>2019-10-14</td>\n      <td>2020-05-12</td>\n      <td>2020-05-12</td>\n      <td>2020-05-12</td>\n      <td>3.652233e+07</td>\n      <td>3.620869e+07</td>\n      <td>CLP</td>\n      <td>CLP</td>\n    </tr>\n    <tr>\n      <th>5</th>\n      <td>1368</td>\n      <td>1</td>\n      <td>2019-10-14</td>\n      <td>2020-11-12</td>\n      <td>2020-11-12</td>\n      <td>2020-11-12</td>\n      <td>3.692515e+07</td>\n      <td>3.635001e+07</td>\n      <td>CLP</td>\n      <td>CLP</td>\n    </tr>\n    <tr>\n      <th>6</th>\n      <td>1368</td>\n      <td>1</td>\n      <td>2019-10-14</td>\n      <td>2021-05-12</td>\n      <td>2021-05-12</td>\n      <td>2021-05-12</td>\n      <td>3.632093e+07</td>\n      <td>3.541630e+07</td>\n      <td>CLP</td>\n      <td>CLP</td>\n    </tr>\n    <tr>\n      <th>7</th>\n      <td>1368</td>\n      <td>1</td>\n      <td>2019-10-14</td>\n      <td>2021-11-12</td>\n      <td>2021-11-12</td>\n      <td>2021-11-12</td>\n      <td>5.036925e+09</td>\n      <td>4.870324e+09</td>\n      <td>CLP</td>\n      <td>CLP</td>\n    </tr>\n  </tbody>\n</table>\n</div>",
      "text/plain": "     ID ActivoPasivo       Fecha FechaFixing  FechaFlujo   FechaPago  \\\n0  1368           -1  2019-10-14  2020-05-12  2020-05-12  2020-05-12   \n1  1368           -1  2019-10-14  2020-11-12  2020-11-12  2020-11-12   \n2  1368           -1  2019-10-14  2021-05-12  2021-05-12  2021-05-12   \n3  1368           -1  2019-10-14  2021-11-12  2021-11-12  2021-11-12   \n4  1368            1  2019-10-14  2020-05-12  2020-05-12  2020-05-12   \n5  1368            1  2019-10-14  2020-11-12  2020-11-12  2020-11-12   \n6  1368            1  2019-10-14  2021-05-12  2021-05-12  2021-05-12   \n7  1368            1  2019-10-14  2021-11-12  2021-11-12  2021-11-12   \n\n          Flujo  ValorPresenteMonFlujo Moneda MonedaBase  \n0  4.331011e+07           4.293818e+07    CLP        CLP  \n1  3.549401e+07           3.494116e+07    CLP        CLP  \n2  4.784481e+07           4.665317e+07    CLP        CLP  \n3  5.042244e+09           4.875468e+09    CLP        CLP  \n4  3.652233e+07           3.620869e+07    CLP        CLP  \n5  3.692515e+07           3.635001e+07    CLP        CLP  \n6  3.632093e+07           3.541630e+07    CLP        CLP  \n7  5.036925e+09           4.870324e+09    CLP        CLP  "
     },
     "execution_count": 7,
     "metadata": {},
     "output_type": "execute_result"
    }
   ],
   "source": [
    "derivados = derivados_dBDerivados(5, cn)\n",
    "derivados[\"Derivado\"][0].genera_flujos()\n",
    "derivados[\"Derivado\"][0].valoriza_flujos()\n",
    "derivados[\"Derivado\"][0].flujos_valorizados[[\"ID\",\"ActivoPasivo\", \"Fecha\", \"FechaFixing\", \"FechaFlujo\", \"FechaPago\", \"Flujo\", \"ValorPresenteMonFlujo\", \"Moneda\", \"MonedaBase\"]]"
   ]
  },
  {
   "cell_type": "code",
   "execution_count": 8,
   "metadata": {},
   "outputs": [
    {
     "data": {
      "text/html": "<div>\n<style scoped>\n    .dataframe tbody tr th:only-of-type {\n        vertical-align: middle;\n    }\n\n    .dataframe tbody tr th {\n        vertical-align: top;\n    }\n\n    .dataframe thead th {\n        text-align: right;\n    }\n</style>\n<table border=\"1\" class=\"dataframe\">\n  <thead>\n    <tr style=\"text-align: right;\">\n      <th></th>\n      <th>Moneda</th>\n      <th>Nombre</th>\n      <th>Nemotecnico</th>\n      <th>Inversion</th>\n      <th>Historico</th>\n    </tr>\n  </thead>\n  <tbody>\n    <tr>\n      <th>0</th>\n      <td>CLP</td>\n      <td>AESGENER</td>\n      <td>AESGENER</td>\n      <td>1.743959e+09</td>\n      <td>[[0, 0.0025957870479299534, -0.007433469137058...</td>\n    </tr>\n    <tr>\n      <th>1</th>\n      <td>CLP</td>\n      <td>AGUAS-A</td>\n      <td>AGUAS-A</td>\n      <td>1.566402e+07</td>\n      <td>[[0, 0.003305297208302039, 0.03566773260328181...</td>\n    </tr>\n    <tr>\n      <th>2</th>\n      <td>CLP</td>\n      <td>ANDINA-A</td>\n      <td>ANDINA-A</td>\n      <td>1.492768e+08</td>\n      <td>[[0, 0.00034804011961498776, 0.018505998119275...</td>\n    </tr>\n    <tr>\n      <th>3</th>\n      <td>CLP</td>\n      <td>ANDINA-B</td>\n      <td>ANDINA-B</td>\n      <td>1.098975e+09</td>\n      <td>[[0, 0.005746838657845234, 0.0175731917247771,...</td>\n    </tr>\n    <tr>\n      <th>4</th>\n      <td>CLP</td>\n      <td>DE000DWS2D90</td>\n      <td>DE000DWS2D90</td>\n      <td>1.258575e+10</td>\n      <td>[[0, -0.011984448831005957, -0.025391621016988...</td>\n    </tr>\n    <tr>\n      <th>5</th>\n      <td>CLP</td>\n      <td>ANTARCHILE</td>\n      <td>ANTARCHILE</td>\n      <td>1.567905e+08</td>\n      <td>[[0, 0.009876696995043567, 0.00310408270978682...</td>\n    </tr>\n  </tbody>\n</table>\n</div>",
      "text/plain": "  Moneda        Nombre   Nemotecnico     Inversion  \\\n0    CLP      AESGENER      AESGENER  1.743959e+09   \n1    CLP       AGUAS-A       AGUAS-A  1.566402e+07   \n2    CLP      ANDINA-A      ANDINA-A  1.492768e+08   \n3    CLP      ANDINA-B      ANDINA-B  1.098975e+09   \n4    CLP  DE000DWS2D90  DE000DWS2D90  1.258575e+10   \n5    CLP    ANTARCHILE    ANTARCHILE  1.567905e+08   \n\n                                           Historico  \n0  [[0, 0.0025957870479299534, -0.007433469137058...  \n1  [[0, 0.003305297208302039, 0.03566773260328181...  \n2  [[0, 0.00034804011961498776, 0.018505998119275...  \n3  [[0, 0.005746838657845234, 0.0175731917247771,...  \n4  [[0, -0.011984448831005957, -0.025391621016988...  \n5  [[0, 0.009876696995043567, 0.00310408270978682...  "
     },
     "execution_count": 8,
     "metadata": {},
     "output_type": "execute_result"
    }
   ],
   "source": [
    "arreglo_acciones = [\"AESGENER\", \"AGUAS-A\", \"ANDINA-A\", \"ANDINA-B\", \"DE000DWS2D90\", \"ANTARCHILE\"]\n",
    "arreglo_fondos = [\"A\", \"A\", \"A\", \"A\", \"A\", \"A\"]\n",
    "\n",
    "\n",
    "acciones = historico(arreglo_acciones, arreglo_fondos, 60)\n",
    "acciones\n"
   ]
  },
  {
   "cell_type": "code",
   "execution_count": 9,
   "metadata": {},
   "outputs": [
    {
     "ename": "KeyboardInterrupt",
     "evalue": "",
     "output_type": "error",
     "traceback": [
      "\u001b[1;31m---------------------------------------------------------------------------\u001b[0m",
      "\u001b[1;31mKeyboardInterrupt\u001b[0m                         Traceback (most recent call last)",
      "\u001b[1;32m<ipython-input-9-f023fce00b7b>\u001b[0m in \u001b[0;36m<module>\u001b[1;34m\u001b[0m\n\u001b[1;32m----> 1\u001b[1;33m \u001b[0mcartera\u001b[0m \u001b[1;33m=\u001b[0m \u001b[0mCartera\u001b[0m\u001b[1;33m(\u001b[0m\u001b[0macciones\u001b[0m\u001b[1;33m,\u001b[0m \u001b[0mbonos\u001b[0m\u001b[1;33m,\u001b[0m \u001b[0mderivados\u001b[0m\u001b[1;33m,\u001b[0m \u001b[1;34m\"CLP\"\u001b[0m\u001b[1;33m,\u001b[0m \u001b[0mdatetime\u001b[0m\u001b[1;33m.\u001b[0m\u001b[0mdate\u001b[0m\u001b[1;33m(\u001b[0m\u001b[1;36m2019\u001b[0m\u001b[1;33m,\u001b[0m \u001b[1;36m10\u001b[0m\u001b[1;33m,\u001b[0m \u001b[1;36m14\u001b[0m\u001b[1;33m)\u001b[0m\u001b[1;33m,\u001b[0m \u001b[0mcn\u001b[0m\u001b[1;33m)\u001b[0m\u001b[1;33m\u001b[0m\u001b[1;33m\u001b[0m\u001b[0m\n\u001b[0m",
      "\u001b[1;32mc:\\Users\\groso\\Desktop\\PractivaV6\\Practica\\Intento\\Cartera\\Cartera.py\u001b[0m in \u001b[0;36m__init__\u001b[1;34m(self, acciones, bonos, derivados, moneda, fecha, cn, n)\u001b[0m\n\u001b[0;32m     86\u001b[0m             \u001b[1;31m# Se crea el objeto bono con la clase Bono\u001b[0m\u001b[1;33m\u001b[0m\u001b[1;33m\u001b[0m\u001b[1;33m\u001b[0m\u001b[0m\n\u001b[0;32m     87\u001b[0m             \u001b[1;32mif\u001b[0m\u001b[1;33m(\u001b[0m\u001b[1;32mnot\u001b[0m \u001b[0mset\u001b[0m\u001b[1;33m(\u001b[0m\u001b[1;33m[\u001b[0m\u001b[1;34m'Riesgo'\u001b[0m\u001b[1;33m,\u001b[0m\u001b[1;34m'Moneda'\u001b[0m\u001b[1;33m,\u001b[0m \u001b[1;34m'TablaDesarrollo'\u001b[0m\u001b[1;33m,\u001b[0m \u001b[1;34m'Convencion'\u001b[0m\u001b[1;33m,\u001b[0m \u001b[1;34m'FechaEmision'\u001b[0m\u001b[1;33m,\u001b[0m \u001b[1;34m'Nemotecnico'\u001b[0m\u001b[1;33m]\u001b[0m\u001b[1;33m)\u001b[0m\u001b[1;33m.\u001b[0m\u001b[0missubset\u001b[0m\u001b[1;33m(\u001b[0m\u001b[0mbonos\u001b[0m\u001b[1;33m.\u001b[0m\u001b[0mcolumns\u001b[0m\u001b[1;33m)\u001b[0m\u001b[1;33m)\u001b[0m\u001b[1;33m:\u001b[0m \u001b[1;32mraise\u001b[0m \u001b[0mException\u001b[0m\u001b[1;33m(\u001b[0m\u001b[1;34m'Falta información sobre los bonos en el DataFrame.'\u001b[0m\u001b[1;33m)\u001b[0m\u001b[1;33m\u001b[0m\u001b[1;33m\u001b[0m\u001b[0m\n\u001b[1;32m---> 88\u001b[1;33m             \u001b[0mobj_bono\u001b[0m \u001b[1;33m=\u001b[0m \u001b[0mBono\u001b[0m\u001b[1;33m(\u001b[0m\u001b[0mbono\u001b[0m\u001b[1;33m[\u001b[0m\u001b[1;34m'Riesgo'\u001b[0m\u001b[1;33m]\u001b[0m\u001b[1;33m,\u001b[0m \u001b[0mbono\u001b[0m\u001b[1;33m[\u001b[0m\u001b[1;34m'Moneda'\u001b[0m\u001b[1;33m]\u001b[0m\u001b[1;33m,\u001b[0m \u001b[0mbono\u001b[0m\u001b[1;33m[\u001b[0m\u001b[1;34m'TablaDesarrollo'\u001b[0m\u001b[1;33m]\u001b[0m\u001b[1;33m,\u001b[0m \u001b[0mbono\u001b[0m\u001b[1;33m[\u001b[0m\u001b[1;34m'Convencion'\u001b[0m\u001b[1;33m]\u001b[0m\u001b[1;33m,\u001b[0m \u001b[0mbono\u001b[0m\u001b[1;33m[\u001b[0m\u001b[1;34m'FechaEmision'\u001b[0m\u001b[1;33m]\u001b[0m\u001b[1;33m,\u001b[0m \u001b[0mmoneda\u001b[0m\u001b[1;33m,\u001b[0m \u001b[0mfecha\u001b[0m\u001b[1;33m,\u001b[0m \u001b[0mcn\u001b[0m\u001b[1;33m,\u001b[0m \u001b[0mn\u001b[0m\u001b[1;33m,\u001b[0m \u001b[0mbono\u001b[0m\u001b[1;33m[\u001b[0m\u001b[1;34m'Nemotecnico'\u001b[0m\u001b[1;33m]\u001b[0m\u001b[1;33m)\u001b[0m\u001b[1;33m\u001b[0m\u001b[1;33m\u001b[0m\u001b[0m\n\u001b[0m\u001b[0;32m     89\u001b[0m \u001b[1;33m\u001b[0m\u001b[0m\n\u001b[0;32m     90\u001b[0m             \u001b[1;31m# Se agrega al arreglo de bonos en la cartera\u001b[0m\u001b[1;33m\u001b[0m\u001b[1;33m\u001b[0m\u001b[1;33m\u001b[0m\u001b[0m\n",
      "\u001b[1;32mc:\\Users\\groso\\Desktop\\PractivaV6\\Practica\\Intento\\Cartera\\Bono.py\u001b[0m in \u001b[0;36m__init__\u001b[1;34m(self, riesgo, moneda, cupones, convencion, fechaEmision, monedaCartera, fecha, cn, n, nemo)\u001b[0m\n\u001b[0;32m     18\u001b[0m \u001b[1;33m\u001b[0m\u001b[0m\n\u001b[0;32m     19\u001b[0m \u001b[1;33m\u001b[0m\u001b[0m\n\u001b[1;32m---> 20\u001b[1;33m         \u001b[0msuper\u001b[0m\u001b[1;33m(\u001b[0m\u001b[0mBono\u001b[0m\u001b[1;33m,\u001b[0m \u001b[0mself\u001b[0m\u001b[1;33m)\u001b[0m\u001b[1;33m.\u001b[0m\u001b[0m__init__\u001b[0m\u001b[1;33m(\u001b[0m\u001b[0mmonedaCartera\u001b[0m\u001b[1;33m,\u001b[0m \u001b[0mfecha\u001b[0m\u001b[1;33m,\u001b[0m \u001b[0mcn\u001b[0m\u001b[1;33m,\u001b[0m \u001b[0mnemo\u001b[0m\u001b[1;33m)\u001b[0m\u001b[1;33m\u001b[0m\u001b[1;33m\u001b[0m\u001b[0m\n\u001b[0m\u001b[0;32m     21\u001b[0m \u001b[1;33m\u001b[0m\u001b[0m\n\u001b[0;32m     22\u001b[0m         \u001b[1;31m# Parametro n con la cantidad de datos que se extraeran de sus fechas\u001b[0m\u001b[1;33m\u001b[0m\u001b[1;33m\u001b[0m\u001b[1;33m\u001b[0m\u001b[0m\n",
      "\u001b[1;32mc:\\Users\\groso\\Desktop\\PractivaV6\\Practica\\Intento\\Cartera\\Activo.py\u001b[0m in \u001b[0;36m__init__\u001b[1;34m(self, monedaCartera, fecha_valorizacion, cn, nemo)\u001b[0m\n\u001b[0;32m     66\u001b[0m         \u001b[0mself\u001b[0m\u001b[1;33m.\u001b[0m\u001b[0mnivel2\u001b[0m \u001b[1;33m=\u001b[0m \u001b[1;34m''\u001b[0m\u001b[1;33m\u001b[0m\u001b[1;33m\u001b[0m\u001b[0m\n\u001b[0;32m     67\u001b[0m \u001b[1;33m\u001b[0m\u001b[0m\n\u001b[1;32m---> 68\u001b[1;33m         \u001b[0mself\u001b[0m\u001b[1;33m.\u001b[0m\u001b[0mset_niveles\u001b[0m\u001b[1;33m(\u001b[0m\u001b[1;33m)\u001b[0m\u001b[1;33m\u001b[0m\u001b[1;33m\u001b[0m\u001b[0m\n\u001b[0m\u001b[0;32m     69\u001b[0m \u001b[1;33m\u001b[0m\u001b[0m\n\u001b[0;32m     70\u001b[0m         \u001b[0mself\u001b[0m\u001b[1;33m.\u001b[0m\u001b[0mdistribucion_niveles\u001b[0m \u001b[1;33m=\u001b[0m \u001b[0mdict\u001b[0m\u001b[1;33m(\u001b[0m\u001b[1;33m)\u001b[0m\u001b[1;33m\u001b[0m\u001b[1;33m\u001b[0m\u001b[0m\n",
      "\u001b[1;32mc:\\Users\\groso\\Desktop\\PractivaV6\\Practica\\Intento\\Cartera\\Activo.py\u001b[0m in \u001b[0;36mset_niveles\u001b[1;34m(self)\u001b[0m\n\u001b[0;32m    249\u001b[0m         \u001b[0mcn\u001b[0m \u001b[1;33m=\u001b[0m \u001b[0mself\u001b[0m\u001b[1;33m.\u001b[0m\u001b[0mget_cn\u001b[0m\u001b[1;33m(\u001b[0m\u001b[1;33m)\u001b[0m\u001b[1;33m\u001b[0m\u001b[1;33m\u001b[0m\u001b[0m\n\u001b[0;32m    250\u001b[0m         \u001b[0mniveles\u001b[0m \u001b[1;33m=\u001b[0m \u001b[1;34m\"SELECT TOP (1) [Nivel1] , [Nivel2] FROM [dbPortFolio].[dbo].[TdPlanvitalAtributos] WHERE Nemotecnico = '\"\u001b[0m \u001b[1;33m+\u001b[0m \u001b[0mnemo\u001b[0m \u001b[1;33m+\u001b[0m \u001b[1;34m\"'\"\u001b[0m\u001b[1;33m\u001b[0m\u001b[1;33m\u001b[0m\u001b[0m\n\u001b[1;32m--> 251\u001b[1;33m         \u001b[0mniveles\u001b[0m \u001b[1;33m=\u001b[0m \u001b[0mpd\u001b[0m\u001b[1;33m.\u001b[0m\u001b[0mread_sql\u001b[0m\u001b[1;33m(\u001b[0m\u001b[0mniveles\u001b[0m\u001b[1;33m,\u001b[0m \u001b[0mcn\u001b[0m\u001b[1;33m)\u001b[0m\u001b[1;33m\u001b[0m\u001b[1;33m\u001b[0m\u001b[0m\n\u001b[0m\u001b[0;32m    252\u001b[0m         \u001b[1;32mif\u001b[0m \u001b[1;33m(\u001b[0m\u001b[0mniveles\u001b[0m\u001b[1;33m.\u001b[0m\u001b[0mempty\u001b[0m\u001b[1;33m)\u001b[0m\u001b[1;33m:\u001b[0m \u001b[1;32mraise\u001b[0m \u001b[0mException\u001b[0m\u001b[1;33m(\u001b[0m\u001b[1;34m'Para el instrumento de nemotécnico '\u001b[0m \u001b[1;33m+\u001b[0m \u001b[0mnemo\u001b[0m \u001b[1;33m+\u001b[0m \u001b[1;34m' no existe información de sus niveles en base de datos.'\u001b[0m\u001b[1;33m)\u001b[0m\u001b[1;33m\u001b[0m\u001b[1;33m\u001b[0m\u001b[0m\n\u001b[0;32m    253\u001b[0m         \u001b[0mself\u001b[0m\u001b[1;33m.\u001b[0m\u001b[0mnivel1\u001b[0m \u001b[1;33m=\u001b[0m \u001b[0mniveles\u001b[0m\u001b[1;33m[\u001b[0m\u001b[1;34m'Nivel1'\u001b[0m\u001b[1;33m]\u001b[0m\u001b[1;33m[\u001b[0m\u001b[1;36m0\u001b[0m\u001b[1;33m]\u001b[0m\u001b[1;33m\u001b[0m\u001b[1;33m\u001b[0m\u001b[0m\n",
      "\u001b[1;32m~\\AppData\\Local\\Programs\\Python\\Python36\\lib\\site-packages\\pandas\\io\\sql.py\u001b[0m in \u001b[0;36mread_sql\u001b[1;34m(sql, con, index_col, coerce_float, params, parse_dates, columns, chunksize)\u001b[0m\n\u001b[0;32m    408\u001b[0m             \u001b[0mcoerce_float\u001b[0m\u001b[1;33m=\u001b[0m\u001b[0mcoerce_float\u001b[0m\u001b[1;33m,\u001b[0m\u001b[1;33m\u001b[0m\u001b[1;33m\u001b[0m\u001b[0m\n\u001b[0;32m    409\u001b[0m             \u001b[0mparse_dates\u001b[0m\u001b[1;33m=\u001b[0m\u001b[0mparse_dates\u001b[0m\u001b[1;33m,\u001b[0m\u001b[1;33m\u001b[0m\u001b[1;33m\u001b[0m\u001b[0m\n\u001b[1;32m--> 410\u001b[1;33m             \u001b[0mchunksize\u001b[0m\u001b[1;33m=\u001b[0m\u001b[0mchunksize\u001b[0m\u001b[1;33m,\u001b[0m\u001b[1;33m\u001b[0m\u001b[1;33m\u001b[0m\u001b[0m\n\u001b[0m\u001b[0;32m    411\u001b[0m         )\n\u001b[0;32m    412\u001b[0m \u001b[1;33m\u001b[0m\u001b[0m\n",
      "\u001b[1;32m~\\AppData\\Local\\Programs\\Python\\Python36\\lib\\site-packages\\pandas\\io\\sql.py\u001b[0m in \u001b[0;36mread_query\u001b[1;34m(self, sql, index_col, coerce_float, params, parse_dates, chunksize)\u001b[0m\n\u001b[0;32m   1643\u001b[0m \u001b[1;33m\u001b[0m\u001b[0m\n\u001b[0;32m   1644\u001b[0m         \u001b[0margs\u001b[0m \u001b[1;33m=\u001b[0m \u001b[0m_convert_params\u001b[0m\u001b[1;33m(\u001b[0m\u001b[0msql\u001b[0m\u001b[1;33m,\u001b[0m \u001b[0mparams\u001b[0m\u001b[1;33m)\u001b[0m\u001b[1;33m\u001b[0m\u001b[1;33m\u001b[0m\u001b[0m\n\u001b[1;32m-> 1645\u001b[1;33m         \u001b[0mcursor\u001b[0m \u001b[1;33m=\u001b[0m \u001b[0mself\u001b[0m\u001b[1;33m.\u001b[0m\u001b[0mexecute\u001b[0m\u001b[1;33m(\u001b[0m\u001b[1;33m*\u001b[0m\u001b[0margs\u001b[0m\u001b[1;33m)\u001b[0m\u001b[1;33m\u001b[0m\u001b[1;33m\u001b[0m\u001b[0m\n\u001b[0m\u001b[0;32m   1646\u001b[0m         \u001b[0mcolumns\u001b[0m \u001b[1;33m=\u001b[0m \u001b[1;33m[\u001b[0m\u001b[0mcol_desc\u001b[0m\u001b[1;33m[\u001b[0m\u001b[1;36m0\u001b[0m\u001b[1;33m]\u001b[0m \u001b[1;32mfor\u001b[0m \u001b[0mcol_desc\u001b[0m \u001b[1;32min\u001b[0m \u001b[0mcursor\u001b[0m\u001b[1;33m.\u001b[0m\u001b[0mdescription\u001b[0m\u001b[1;33m]\u001b[0m\u001b[1;33m\u001b[0m\u001b[1;33m\u001b[0m\u001b[0m\n\u001b[0;32m   1647\u001b[0m \u001b[1;33m\u001b[0m\u001b[0m\n",
      "\u001b[1;32m~\\AppData\\Local\\Programs\\Python\\Python36\\lib\\site-packages\\pandas\\io\\sql.py\u001b[0m in \u001b[0;36mexecute\u001b[1;34m(self, *args, **kwargs)\u001b[0m\n\u001b[0;32m   1593\u001b[0m                 \u001b[0mcur\u001b[0m\u001b[1;33m.\u001b[0m\u001b[0mexecute\u001b[0m\u001b[1;33m(\u001b[0m\u001b[1;33m*\u001b[0m\u001b[0margs\u001b[0m\u001b[1;33m,\u001b[0m \u001b[1;33m**\u001b[0m\u001b[0mkwargs\u001b[0m\u001b[1;33m)\u001b[0m\u001b[1;33m\u001b[0m\u001b[1;33m\u001b[0m\u001b[0m\n\u001b[0;32m   1594\u001b[0m             \u001b[1;32melse\u001b[0m\u001b[1;33m:\u001b[0m\u001b[1;33m\u001b[0m\u001b[1;33m\u001b[0m\u001b[0m\n\u001b[1;32m-> 1595\u001b[1;33m                 \u001b[0mcur\u001b[0m\u001b[1;33m.\u001b[0m\u001b[0mexecute\u001b[0m\u001b[1;33m(\u001b[0m\u001b[1;33m*\u001b[0m\u001b[0margs\u001b[0m\u001b[1;33m)\u001b[0m\u001b[1;33m\u001b[0m\u001b[1;33m\u001b[0m\u001b[0m\n\u001b[0m\u001b[0;32m   1596\u001b[0m             \u001b[1;32mreturn\u001b[0m \u001b[0mcur\u001b[0m\u001b[1;33m\u001b[0m\u001b[1;33m\u001b[0m\u001b[0m\n\u001b[0;32m   1597\u001b[0m         \u001b[1;32mexcept\u001b[0m \u001b[0mException\u001b[0m \u001b[1;32mas\u001b[0m \u001b[0mexc\u001b[0m\u001b[1;33m:\u001b[0m\u001b[1;33m\u001b[0m\u001b[1;33m\u001b[0m\u001b[0m\n",
      "\u001b[1;31mKeyboardInterrupt\u001b[0m: "
     ]
    }
   ],
   "source": [
    "cartera = Cartera(acciones, bonos, derivados, \"CLP\", datetime.date(2019, 10, 14), cn)"
   ]
  },
  {
   "cell_type": "code",
   "execution_count": null,
   "metadata": {},
   "outputs": [],
   "source": [
    "print(cartera.get_historicos_totales())"
   ]
  },
  {
   "cell_type": "code",
   "execution_count": null,
   "metadata": {},
   "outputs": [],
   "source": [
    "print(cartera.get_retornos_totales())"
   ]
  },
  {
   "cell_type": "code",
   "execution_count": null,
   "metadata": {},
   "outputs": [],
   "source": [
    "cartera.set_volatilidad_cartera()\n",
    "print(cartera.get_volatilidad_cartera())"
   ]
  },
  {
   "cell_type": "code",
   "execution_count": null,
   "metadata": {},
   "outputs": [],
   "source": [
    "cartera.get_covarianza()"
   ]
  },
  {
   "cell_type": "code",
   "execution_count": null,
   "metadata": {},
   "outputs": [],
   "source": [
    "cartera.get_correlacion()"
   ]
  },
  {
   "cell_type": "code",
   "execution_count": null,
   "metadata": {},
   "outputs": [],
   "source": [
    "cartera.get_volatilidad_niveles()"
   ]
  },
  {
   "cell_type": "code",
   "execution_count": null,
   "metadata": {},
   "outputs": [],
   "source": [
    "cartera.var_i_porcentual_dinero()"
   ]
  },
  {
   "cell_type": "code",
   "execution_count": null,
   "metadata": {},
   "outputs": [],
   "source": [
    "cartera.var_i_porcentual_dinero(cartera.get_monto())"
   ]
  }
 ],
 "metadata": {
  "kernelspec": {
   "display_name": "Python 3.6.8 64-bit",
   "language": "python",
   "name": "python36864bit95f61d10654543119976a9b54263d6fa"
  },
  "language_info": {
   "codemirror_mode": {
    "name": "ipython",
    "version": 3
   },
   "file_extension": ".py",
   "mimetype": "text/x-python",
   "name": "python",
   "nbconvert_exporter": "python",
   "pygments_lexer": "ipython3",
   "version": "3.6.8-final"
  }
 },
 "nbformat": 4,
 "nbformat_minor": 4
}