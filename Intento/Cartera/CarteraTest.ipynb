{
 "nbformat": 4,
 "nbformat_minor": 2,
 "metadata": {
  "language_info": {
   "name": "python",
   "codemirror_mode": {
    "name": "ipython",
    "version": 3
   },
   "version": "3.6.8-final"
  },
  "orig_nbformat": 2,
  "file_extension": ".py",
  "mimetype": "text/x-python",
  "name": "python",
  "npconvert_exporter": "python",
  "pygments_lexer": "ipython3",
  "version": 3,
  "kernelspec": {
   "name": "python36864bit95f61d10654543119976a9b54263d6fa",
   "display_name": "Python 3.6.8 64-bit"
  }
 },
 "cells": [
  {
   "cell_type": "code",
   "execution_count": 1,
   "metadata": {},
   "outputs": [
    {
     "name": "stderr",
     "output_type": "stream",
     "text": "c:\\Users\\groso\\Desktop\\Practica\\Intento\\Cartera\\Derivados\\DerivadosTipos\\DerivadosSCC.py:48: SettingWithCopyWarning: \nA value is trying to be set on a copy of a slice from a DataFrame\n\nSee the caveats in the documentation: http://pandas.pydata.org/pandas-docs/stable/user_guide/indexing.html#returning-a-view-versus-a-copy\n  info_cartera.MonedaActivo[0] = \"CLP\"\nNone\n"
    }
   ],
   "source": [
    "from Cartera import *\n",
    "miCartera = Cartera(datetime.date(2018, 4, 18), [\"BENTE-M\"], [\"146854\"], [\"BSANTANDER.SN.xlsx\"], cn)\n",
    "miCartera.crearObjDerivados(\"1700\")\n",
    "a = miCartera.calculoPivote_derivados()\n",
    "print(a)"
   ]
  },
  {
   "cell_type": "code",
   "execution_count": null,
   "metadata": {},
   "outputs": [],
   "source": []
  }
 ]
}