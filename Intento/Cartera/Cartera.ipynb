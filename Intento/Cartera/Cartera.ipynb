{
 "cells": [
  {
   "cell_type": "markdown",
   "metadata": {},
   "source": [
    "## Documentación uso de Cartera"
   ]
  },
  {
   "cell_type": "markdown",
   "metadata": {},
   "source": [
    "### Los import necesarios"
   ]
  },
  {
   "cell_type": "code",
   "execution_count": null,
   "metadata": {},
   "outputs": [
    {
     "ename": "Error",
     "evalue": "Agent terminated with exit code: 0 and signal null: A fatal error occurred. The required library hostfxr.dll could not be found.\r\nIf this is a self-contained application, that library should exist in [c:\\Users\\groso\\.vscode\\extensions\\ms-vsliveshare.vsliveshare-1.0.1587\\dotnet_modules\\].\r\nIf this is a framework-dependentapplication, install the runtimein the global location [C:\\Program Files (x86)\\dotnet] or use the DOTNET_ROOT(x86) environment variable to specify the runtimelocation orregister the runtime location in [HKLM\\SOFTWARE\\dotnet\\Setup\\InstalledVersions\\x86\\InstallLocation].",
     "output_type": "error",
     "traceback": [
      "Error: Agent terminated with exit code: 0 and signal null: A fatal error occurred. The required library hostfxr.dll could not be found.",
      "If this is a self-contained application, that library should exist in [c:\\Users\\groso\\.vscode\\extensions\\ms-vsliveshare.vsliveshare-1.0.1587\\dotnet_modules\\].",
      "If this is a framework-dependentapplication, install the runtimein the global location [C:\\Program Files (x86)\\dotnet] or use the DOTNET_ROOT(x86) environment variable to specify the runtimelocation orregister the runtime location in [HKLM\\SOFTWARE\\dotnet\\Setup\\InstalledVersions\\x86\\InstallLocation].",
      "at ChildProcess.<anonymous> (c:\\Users\\groso\\.vscode\\extensions\\ms-vsliveshare.vsliveshare-1.0.1587\\out\\prod\\extension-prod.js:128779:32)",
      "at ChildProcess.emit (events.js:205:15)",
      "at maybeClose (internal/child_process.js:1021:16)",
      "at Socket.<anonymous> (internal/child_process.js:430:11)",
      "at Socket.emit (events.js:200:13)",
      "at Pipe.<anonymous> (net.js:586:12)"
     ]
    }
   ],
   "source": [
    "import pyodbc\n",
    "\n",
    "from Activo import *\n",
    "from Accion import *\n",
    "from Bono import *\n",
    "from Derivado import *\n",
    "from DerivadosTipos.DerivadosSCC import *\n",
    "\n",
    "from Cartera import *"
   ]
  },
  {
   "cell_type": "markdown",
   "metadata": {},
   "source": [
    "### Definimos la conexión a base de datos"
   ]
  },
  {
   "cell_type": "code",
   "execution_count": null,
   "metadata": {},
   "outputs": [
    {
     "ename": "Error",
     "evalue": "Agent terminated with exit code: 0 and signal null: A fatal error occurred. The required library hostfxr.dll could not be found.\r\nIf this is a self-contained application, that library should exist in [c:\\Users\\groso\\.vscode\\extensions\\ms-vsliveshare.vsliveshare-1.0.1587\\dotnet_modules\\].\r\nIf this is a framework-dependentapplication, install the runtimein the global location [C:\\Program Files (x86)\\dotnet] or use the DOTNET_ROOT(x86) environment variable to specify the runtimelocation orregister the runtime location in [HKLM\\SOFTWARE\\dotnet\\Setup\\InstalledVersions\\x86\\InstallLocation].",
     "output_type": "error",
     "traceback": [
      "Error: Agent terminated with exit code: 0 and signal null: A fatal error occurred. The required library hostfxr.dll could not be found.",
      "If this is a self-contained application, that library should exist in [c:\\Users\\groso\\.vscode\\extensions\\ms-vsliveshare.vsliveshare-1.0.1587\\dotnet_modules\\].",
      "If this is a framework-dependentapplication, install the runtimein the global location [C:\\Program Files (x86)\\dotnet] or use the DOTNET_ROOT(x86) environment variable to specify the runtimelocation orregister the runtime location in [HKLM\\SOFTWARE\\dotnet\\Setup\\InstalledVersions\\x86\\InstallLocation].",
      "at ChildProcess.<anonymous> (c:\\Users\\groso\\.vscode\\extensions\\ms-vsliveshare.vsliveshare-1.0.1587\\out\\prod\\extension-prod.js:128779:32)",
      "at ChildProcess.emit (events.js:205:15)",
      "at maybeClose (internal/child_process.js:1021:16)",
      "at Socket.<anonymous> (internal/child_process.js:430:11)",
      "at Socket.emit (events.js:200:13)",
      "at Pipe.<anonymous> (net.js:586:12)"
     ]
    }
   ],
   "source": [
    "server = '172.16.1.38'\n",
    "username = 'sa'\n",
    "password = 'qwerty123'\n",
    "driver = '{ODBC Driver 17 for SQL Server}'\n",
    "cn = pyodbc.connect('DRIVER=' + driver + ';SERVER=' + server + ';UID=' + username + ';PWD=' + password)"
   ]
  },
  {
   "cell_type": "markdown",
   "metadata": {},
   "source": [
    "### Primero, definimos los inputs (activos) que se le entregarán a la cartera"
   ]
  },
  {
   "cell_type": "markdown",
   "metadata": {},
   "source": [
    "#### Construimos una acción\n",
    " A partir de un archivo xlsx se extrae la columna 'Adj Close' para definir el historico de la acción. Hay que insertar la ruta correcta del archivo."
   ]
  },
  {
   "cell_type": "code",
   "execution_count": null,
   "metadata": {},
   "outputs": [
    {
     "ename": "Error",
     "evalue": "Agent terminated with exit code: 0 and signal null: A fatal error occurred. The required library hostfxr.dll could not be found.\r\nIf this is a self-contained application, that library should exist in [c:\\Users\\groso\\.vscode\\extensions\\ms-vsliveshare.vsliveshare-1.0.1587\\dotnet_modules\\].\r\nIf this is a framework-dependentapplication, install the runtimein the global location [C:\\Program Files (x86)\\dotnet] or use the DOTNET_ROOT(x86) environment variable to specify the runtimelocation orregister the runtime location in [HKLM\\SOFTWARE\\dotnet\\Setup\\InstalledVersions\\x86\\InstallLocation].",
     "output_type": "error",
     "traceback": [
      "Error: Agent terminated with exit code: 0 and signal null: A fatal error occurred. The required library hostfxr.dll could not be found.",
      "If this is a self-contained application, that library should exist in [c:\\Users\\groso\\.vscode\\extensions\\ms-vsliveshare.vsliveshare-1.0.1587\\dotnet_modules\\].",
      "If this is a framework-dependentapplication, install the runtimein the global location [C:\\Program Files (x86)\\dotnet] or use the DOTNET_ROOT(x86) environment variable to specify the runtimelocation orregister the runtime location in [HKLM\\SOFTWARE\\dotnet\\Setup\\InstalledVersions\\x86\\InstallLocation].",
      "at ChildProcess.<anonymous> (c:\\Users\\groso\\.vscode\\extensions\\ms-vsliveshare.vsliveshare-1.0.1587\\out\\prod\\extension-prod.js:128779:32)",
      "at ChildProcess.emit (events.js:205:15)",
      "at maybeClose (internal/child_process.js:1021:16)",
      "at Socket.<anonymous> (internal/child_process.js:430:11)",
      "at Socket.emit (events.js:200:13)",
      "at Pipe.<anonymous> (net.js:586:12)"
     ]
    }
   ],
   "source": [
    "#archivo = pd.read_excel('C:\\\\Users\\\\groso\\\\Desktop\\\\Practica\\\\Intento\\\\Cartera_definitiva\\\\AMZN.xlsx')    \n",
    "archivo = pd.read_excel('C:\\\\Users\\\\Lenovo\\\\Documents\\\\Universidad\\\\Practica\\\\Cartera_V2\\\\Practica\\\\Intento\\\\Cartera\\\\AMZN.xlsx')\n",
    "columnas = [\"Date\", \"Open\", \"High\", \"Low\", \"Close\", \"Adj Close\", \"Volume\"]\n",
    "archivo = archivo[columnas][:60]\n",
    "accion = pd.DataFrame()\n",
    "accion['Moneda'] = ['USD']\n",
    "accion['Historico'] = [[archivo[\"Adj Close\"]]]\n",
    "accion['Nombre'] = \"Amazon\"\n",
    "accion['Inversion'] = [500000]"
   ]
  },
  {
   "cell_type": "markdown",
   "metadata": {},
   "source": [
    "#### Definimos un bono"
   ]
  },
  {
   "cell_type": "code",
   "execution_count": null,
   "metadata": {},
   "outputs": [
    {
     "ename": "Error",
     "evalue": "Agent terminated with exit code: 0 and signal null: A fatal error occurred. The required library hostfxr.dll could not be found.\r\nIf this is a self-contained application, that library should exist in [c:\\Users\\groso\\.vscode\\extensions\\ms-vsliveshare.vsliveshare-1.0.1587\\dotnet_modules\\].\r\nIf this is a framework-dependentapplication, install the runtimein the global location [C:\\Program Files (x86)\\dotnet] or use the DOTNET_ROOT(x86) environment variable to specify the runtimelocation orregister the runtime location in [HKLM\\SOFTWARE\\dotnet\\Setup\\InstalledVersions\\x86\\InstallLocation].",
     "output_type": "error",
     "traceback": [
      "Error: Agent terminated with exit code: 0 and signal null: A fatal error occurred. The required library hostfxr.dll could not be found.",
      "If this is a self-contained application, that library should exist in [c:\\Users\\groso\\.vscode\\extensions\\ms-vsliveshare.vsliveshare-1.0.1587\\dotnet_modules\\].",
      "If this is a framework-dependentapplication, install the runtimein the global location [C:\\Program Files (x86)\\dotnet] or use the DOTNET_ROOT(x86) environment variable to specify the runtimelocation orregister the runtime location in [HKLM\\SOFTWARE\\dotnet\\Setup\\InstalledVersions\\x86\\InstallLocation].",
      "at ChildProcess.<anonymous> (c:\\Users\\groso\\.vscode\\extensions\\ms-vsliveshare.vsliveshare-1.0.1587\\out\\prod\\extension-prod.js:128779:32)",
      "at ChildProcess.emit (events.js:205:15)",
      "at maybeClose (internal/child_process.js:1021:16)",
      "at Socket.<anonymous> (internal/child_process.js:430:11)",
      "at Socket.emit (events.js:200:13)",
      "at Pipe.<anonymous> (net.js:586:12)"
     ]
    }
   ],
   "source": [
    "bono = pd.DataFrame()\n",
    "bono['Riesgo'] = ['AAA']  \n",
    "bono['Moneda'] = [\"CLP\"]\n",
    "bono['TablaDesarrollo'] = [\"1#25-09-2018#2,2252#0#100#2,2252|2#25-03-2019#2,2252#0#100#2,2252|3#25-09-2019#2,2252#0#100#2,2252|4#25-03-2020#2,2252#0#100#2,2252|5#25-09-2020#2,2252#0#100#2,2252|6#25-03-2021#2,2252#100#0#102,2252\"]\n",
    "bono['Convencion'] = [\"ACT360\"]\n",
    "bono['FechaEmision'] = ['2018-02-20']"
   ]
  },
  {
   "cell_type": "markdown",
   "metadata": {},
   "source": [
    "#### Declaramos un derivado"
   ]
  },
  {
   "cell_type": "code",
   "execution_count": null,
   "metadata": {},
   "outputs": [
    {
     "ename": "Error",
     "evalue": "Agent terminated with exit code: 0 and signal null: A fatal error occurred. The required library hostfxr.dll could not be found.\r\nIf this is a self-contained application, that library should exist in [c:\\Users\\groso\\.vscode\\extensions\\ms-vsliveshare.vsliveshare-1.0.1587\\dotnet_modules\\].\r\nIf this is a framework-dependentapplication, install the runtimein the global location [C:\\Program Files (x86)\\dotnet] or use the DOTNET_ROOT(x86) environment variable to specify the runtimelocation orregister the runtime location in [HKLM\\SOFTWARE\\dotnet\\Setup\\InstalledVersions\\x86\\InstallLocation].",
     "output_type": "error",
     "traceback": [
      "Error: Agent terminated with exit code: 0 and signal null: A fatal error occurred. The required library hostfxr.dll could not be found.",
      "If this is a self-contained application, that library should exist in [c:\\Users\\groso\\.vscode\\extensions\\ms-vsliveshare.vsliveshare-1.0.1587\\dotnet_modules\\].",
      "If this is a framework-dependentapplication, install the runtimein the global location [C:\\Program Files (x86)\\dotnet] or use the DOTNET_ROOT(x86) environment variable to specify the runtimelocation orregister the runtime location in [HKLM\\SOFTWARE\\dotnet\\Setup\\InstalledVersions\\x86\\InstallLocation].",
      "at ChildProcess.<anonymous> (c:\\Users\\groso\\.vscode\\extensions\\ms-vsliveshare.vsliveshare-1.0.1587\\out\\prod\\extension-prod.js:128779:32)",
      "at ChildProcess.emit (events.js:205:15)",
      "at maybeClose (internal/child_process.js:1021:16)",
      "at Socket.<anonymous> (internal/child_process.js:430:11)",
      "at Socket.emit (events.js:200:13)",
      "at Pipe.<anonymous> (net.js:586:12)"
     ]
    }
   ],
   "source": [
    "info_derivado = dict()\n",
    "info_derivado[\"Tipo\"] = 'SCC'\n",
    "info_derivado[\"ID_Key\"] = \"\"\n",
    "info_derivado[\"Administradora\"] = \"Admin\"\n",
    "info_derivado[\"Fondo\"] = \"Fondo\"\n",
    "info_derivado[\"Contraparte\"] = \"Contraparte\"\n",
    "info_derivado[\"ID\"] = 3\n",
    "info_derivado[\"Nemotecnico\"] = \"\"\n",
    "info_derivado[\"Mercado\"] = \"Local\"\n",
    "fecha = datetime.date(2019, 12, 20)\n",
    "hora = '1700'\n",
    "info_derivado[\"FechaEfectiva\"] = '12/11/2019'\n",
    "info_derivado[\"FechaVenc\"] = '12/11/2021'\n",
    "info_derivado[\"AjusteFeriados\"] = \"CL\"\n",
    "info_derivado[\"NocionalActivo\"] = 10*(10**9)\n",
    "info_derivado[\"MonedaActivo\"] = 'CLP'\n",
    "info_derivado[\"MonedaBase\"] = 'CLP'\n",
    "info_derivado[\"TipoTasaActivo\"] = 'Fija'\n",
    "info_derivado[\"TipoTasaPasivo\"] = 'Flotante'\n",
    "info_derivado[\"TasaActivo\"] = 1.45\n",
    "info_derivado[\"TasaPasivo\"] = -1000\n",
    "info_derivado[\"FrecuenciaActivo\"] = \"Semi annual\"\n",
    "info_derivado[\"FrecuenciaPasivo\"] = info_derivado[\"FrecuenciaActivo\"]\n",
    "\n",
    "info1 = pd.DataFrame([info_derivado])\n",
    "derivado_info = DerivadosSCC(fecha, hora, info1, cn)\n",
    "print(derivado_info.get_fecha_efectiva())\n",
    "derivado = pd.DataFrame()\n",
    "derivado['Derivado'] = [derivado_info]"
   ]
  },
  {
   "cell_type": "markdown",
   "metadata": {},
   "source": [
    "### La cartera\n",
    "\n",
    "Ahora entregamos estos activos a la cartera para que esta los pueda procesar. A Cartera se le debe entregar un dataFrame con las acciones, otro para bonos y aparte para derivados, luego se declara la moneda con la que se desea evaluar los indicadores de la cartera, la fecha a valorizar y la conexión a base de datos."
   ]
  },
  {
   "cell_type": "code",
   "execution_count": null,
   "metadata": {},
   "outputs": [
    {
     "ename": "Error",
     "evalue": "Agent terminated with exit code: 0 and signal null: A fatal error occurred. The required library hostfxr.dll could not be found.\r\nIf this is a self-contained application, that library should exist in [c:\\Users\\groso\\.vscode\\extensions\\ms-vsliveshare.vsliveshare-1.0.1587\\dotnet_modules\\].\r\nIf this is a framework-dependentapplication, install the runtimein the global location [C:\\Program Files (x86)\\dotnet] or use the DOTNET_ROOT(x86) environment variable to specify the runtimelocation orregister the runtime location in [HKLM\\SOFTWARE\\dotnet\\Setup\\InstalledVersions\\x86\\InstallLocation].",
     "output_type": "error",
     "traceback": [
      "Error: Agent terminated with exit code: 0 and signal null: A fatal error occurred. The required library hostfxr.dll could not be found.",
      "If this is a self-contained application, that library should exist in [c:\\Users\\groso\\.vscode\\extensions\\ms-vsliveshare.vsliveshare-1.0.1587\\dotnet_modules\\].",
      "If this is a framework-dependentapplication, install the runtimein the global location [C:\\Program Files (x86)\\dotnet] or use the DOTNET_ROOT(x86) environment variable to specify the runtimelocation orregister the runtime location in [HKLM\\SOFTWARE\\dotnet\\Setup\\InstalledVersions\\x86\\InstallLocation].",
      "at ChildProcess.<anonymous> (c:\\Users\\groso\\.vscode\\extensions\\ms-vsliveshare.vsliveshare-1.0.1587\\out\\prod\\extension-prod.js:128779:32)",
      "at ChildProcess.emit (events.js:205:15)",
      "at maybeClose (internal/child_process.js:1021:16)",
      "at Socket.<anonymous> (internal/child_process.js:430:11)",
      "at Socket.emit (events.js:200:13)",
      "at Pipe.<anonymous> (net.js:586:12)"
     ]
    }
   ],
   "source": [
    "cartera = Cartera(accion, bono, derivado, 'CLP', datetime.date(2019,2,1), cn)"
   ]
  },
  {
   "cell_type": "markdown",
   "metadata": {},
   "source": [
    "Para inicializar los cálculos, se debe pedir que se seteen los historicos, retornos y volatilidades respectivas."
   ]
  },
  {
   "cell_type": "code",
   "execution_count": null,
   "metadata": {},
   "outputs": [
    {
     "ename": "Error",
     "evalue": "Agent terminated with exit code: 0 and signal null: A fatal error occurred. The required library hostfxr.dll could not be found.\r\nIf this is a self-contained application, that library should exist in [c:\\Users\\groso\\.vscode\\extensions\\ms-vsliveshare.vsliveshare-1.0.1587\\dotnet_modules\\].\r\nIf this is a framework-dependentapplication, install the runtimein the global location [C:\\Program Files (x86)\\dotnet] or use the DOTNET_ROOT(x86) environment variable to specify the runtimelocation orregister the runtime location in [HKLM\\SOFTWARE\\dotnet\\Setup\\InstalledVersions\\x86\\InstallLocation].",
     "output_type": "error",
     "traceback": [
      "Error: Agent terminated with exit code: 0 and signal null: A fatal error occurred. The required library hostfxr.dll could not be found.",
      "If this is a self-contained application, that library should exist in [c:\\Users\\groso\\.vscode\\extensions\\ms-vsliveshare.vsliveshare-1.0.1587\\dotnet_modules\\].",
      "If this is a framework-dependentapplication, install the runtimein the global location [C:\\Program Files (x86)\\dotnet] or use the DOTNET_ROOT(x86) environment variable to specify the runtimelocation orregister the runtime location in [HKLM\\SOFTWARE\\dotnet\\Setup\\InstalledVersions\\x86\\InstallLocation].",
      "at ChildProcess.<anonymous> (c:\\Users\\groso\\.vscode\\extensions\\ms-vsliveshare.vsliveshare-1.0.1587\\out\\prod\\extension-prod.js:128779:32)",
      "at ChildProcess.emit (events.js:205:15)",
      "at maybeClose (internal/child_process.js:1021:16)",
      "at Socket.<anonymous> (internal/child_process.js:430:11)",
      "at Socket.emit (events.js:200:13)",
      "at Pipe.<anonymous> (net.js:586:12)"
     ]
    }
   ],
   "source": [
    "cartera.set_hist_ret_vol_totales()"
   ]
  },
  {
   "cell_type": "markdown",
   "metadata": {},
   "source": [
    "#### Acciones"
   ]
  },
  {
   "cell_type": "code",
   "execution_count": null,
   "metadata": {},
   "outputs": [
    {
     "ename": "Error",
     "evalue": "Agent terminated with exit code: 0 and signal null: A fatal error occurred. The required library hostfxr.dll could not be found.\r\nIf this is a self-contained application, that library should exist in [c:\\Users\\groso\\.vscode\\extensions\\ms-vsliveshare.vsliveshare-1.0.1587\\dotnet_modules\\].\r\nIf this is a framework-dependentapplication, install the runtimein the global location [C:\\Program Files (x86)\\dotnet] or use the DOTNET_ROOT(x86) environment variable to specify the runtimelocation orregister the runtime location in [HKLM\\SOFTWARE\\dotnet\\Setup\\InstalledVersions\\x86\\InstallLocation].",
     "output_type": "error",
     "traceback": [
      "Error: Agent terminated with exit code: 0 and signal null: A fatal error occurred. The required library hostfxr.dll could not be found.",
      "If this is a self-contained application, that library should exist in [c:\\Users\\groso\\.vscode\\extensions\\ms-vsliveshare.vsliveshare-1.0.1587\\dotnet_modules\\].",
      "If this is a framework-dependentapplication, install the runtimein the global location [C:\\Program Files (x86)\\dotnet] or use the DOTNET_ROOT(x86) environment variable to specify the runtimelocation orregister the runtime location in [HKLM\\SOFTWARE\\dotnet\\Setup\\InstalledVersions\\x86\\InstallLocation].",
      "at ChildProcess.<anonymous> (c:\\Users\\groso\\.vscode\\extensions\\ms-vsliveshare.vsliveshare-1.0.1587\\out\\prod\\extension-prod.js:128779:32)",
      "at ChildProcess.emit (events.js:205:15)",
      "at maybeClose (internal/child_process.js:1021:16)",
      "at Socket.<anonymous> (internal/child_process.js:430:11)",
      "at Socket.emit (events.js:200:13)",
      "at Pipe.<anonymous> (net.js:586:12)"
     ]
    }
   ],
   "source": [
    "acciones = cartera.get_acciones()\n",
    "acciones"
   ]
  },
  {
   "cell_type": "code",
   "execution_count": null,
   "metadata": {},
   "outputs": [
    {
     "ename": "Error",
     "evalue": "Agent terminated with exit code: 0 and signal null: A fatal error occurred. The required library hostfxr.dll could not be found.\r\nIf this is a self-contained application, that library should exist in [c:\\Users\\groso\\.vscode\\extensions\\ms-vsliveshare.vsliveshare-1.0.1587\\dotnet_modules\\].\r\nIf this is a framework-dependentapplication, install the runtimein the global location [C:\\Program Files (x86)\\dotnet] or use the DOTNET_ROOT(x86) environment variable to specify the runtimelocation orregister the runtime location in [HKLM\\SOFTWARE\\dotnet\\Setup\\InstalledVersions\\x86\\InstallLocation].",
     "output_type": "error",
     "traceback": [
      "Error: Agent terminated with exit code: 0 and signal null: A fatal error occurred. The required library hostfxr.dll could not be found.",
      "If this is a self-contained application, that library should exist in [c:\\Users\\groso\\.vscode\\extensions\\ms-vsliveshare.vsliveshare-1.0.1587\\dotnet_modules\\].",
      "If this is a framework-dependentapplication, install the runtimein the global location [C:\\Program Files (x86)\\dotnet] or use the DOTNET_ROOT(x86) environment variable to specify the runtimelocation orregister the runtime location in [HKLM\\SOFTWARE\\dotnet\\Setup\\InstalledVersions\\x86\\InstallLocation].",
      "at ChildProcess.<anonymous> (c:\\Users\\groso\\.vscode\\extensions\\ms-vsliveshare.vsliveshare-1.0.1587\\out\\prod\\extension-prod.js:128779:32)",
      "at ChildProcess.emit (events.js:205:15)",
      "at maybeClose (internal/child_process.js:1021:16)",
      "at Socket.<anonymous> (internal/child_process.js:430:11)",
      "at Socket.emit (events.js:200:13)",
      "at Pipe.<anonymous> (net.js:586:12)"
     ]
    }
   ],
   "source": [
    "accion = acciones[0]\n",
    "accion.get_retornos()"
   ]
  },
  {
   "cell_type": "code",
   "execution_count": null,
   "metadata": {},
   "outputs": [
    {
     "ename": "Error",
     "evalue": "Agent terminated with exit code: 0 and signal null: A fatal error occurred. The required library hostfxr.dll could not be found.\r\nIf this is a self-contained application, that library should exist in [c:\\Users\\groso\\.vscode\\extensions\\ms-vsliveshare.vsliveshare-1.0.1587\\dotnet_modules\\].\r\nIf this is a framework-dependentapplication, install the runtimein the global location [C:\\Program Files (x86)\\dotnet] or use the DOTNET_ROOT(x86) environment variable to specify the runtimelocation orregister the runtime location in [HKLM\\SOFTWARE\\dotnet\\Setup\\InstalledVersions\\x86\\InstallLocation].",
     "output_type": "error",
     "traceback": [
      "Error: Agent terminated with exit code: 0 and signal null: A fatal error occurred. The required library hostfxr.dll could not be found.",
      "If this is a self-contained application, that library should exist in [c:\\Users\\groso\\.vscode\\extensions\\ms-vsliveshare.vsliveshare-1.0.1587\\dotnet_modules\\].",
      "If this is a framework-dependentapplication, install the runtimein the global location [C:\\Program Files (x86)\\dotnet] or use the DOTNET_ROOT(x86) environment variable to specify the runtimelocation orregister the runtime location in [HKLM\\SOFTWARE\\dotnet\\Setup\\InstalledVersions\\x86\\InstallLocation].",
      "at ChildProcess.<anonymous> (c:\\Users\\groso\\.vscode\\extensions\\ms-vsliveshare.vsliveshare-1.0.1587\\out\\prod\\extension-prod.js:128779:32)",
      "at ChildProcess.emit (events.js:205:15)",
      "at maybeClose (internal/child_process.js:1021:16)",
      "at Socket.<anonymous> (internal/child_process.js:430:11)",
      "at Socket.emit (events.js:200:13)",
      "at Pipe.<anonymous> (net.js:586:12)"
     ]
    }
   ],
   "source": [
    "accion.get_volatilidad()"
   ]
  },
  {
   "cell_type": "markdown",
   "metadata": {},
   "source": [
    "#### Bonos\n"
   ]
  },
  {
   "cell_type": "code",
   "execution_count": null,
   "metadata": {},
   "outputs": [
    {
     "ename": "Error",
     "evalue": "Agent terminated with exit code: 0 and signal null: A fatal error occurred. The required library hostfxr.dll could not be found.\r\nIf this is a self-contained application, that library should exist in [c:\\Users\\groso\\.vscode\\extensions\\ms-vsliveshare.vsliveshare-1.0.1587\\dotnet_modules\\].\r\nIf this is a framework-dependentapplication, install the runtimein the global location [C:\\Program Files (x86)\\dotnet] or use the DOTNET_ROOT(x86) environment variable to specify the runtimelocation orregister the runtime location in [HKLM\\SOFTWARE\\dotnet\\Setup\\InstalledVersions\\x86\\InstallLocation].",
     "output_type": "error",
     "traceback": [
      "Error: Agent terminated with exit code: 0 and signal null: A fatal error occurred. The required library hostfxr.dll could not be found.",
      "If this is a self-contained application, that library should exist in [c:\\Users\\groso\\.vscode\\extensions\\ms-vsliveshare.vsliveshare-1.0.1587\\dotnet_modules\\].",
      "If this is a framework-dependentapplication, install the runtimein the global location [C:\\Program Files (x86)\\dotnet] or use the DOTNET_ROOT(x86) environment variable to specify the runtimelocation orregister the runtime location in [HKLM\\SOFTWARE\\dotnet\\Setup\\InstalledVersions\\x86\\InstallLocation].",
      "at ChildProcess.<anonymous> (c:\\Users\\groso\\.vscode\\extensions\\ms-vsliveshare.vsliveshare-1.0.1587\\out\\prod\\extension-prod.js:128779:32)",
      "at ChildProcess.emit (events.js:205:15)",
      "at maybeClose (internal/child_process.js:1021:16)",
      "at Socket.<anonymous> (internal/child_process.js:430:11)",
      "at Socket.emit (events.js:200:13)",
      "at Pipe.<anonymous> (net.js:586:12)"
     ]
    }
   ],
   "source": [
    "bonos = cartera.get_bonos()\n",
    "bonos"
   ]
  },
  {
   "cell_type": "code",
   "execution_count": null,
   "metadata": {},
   "outputs": [
    {
     "ename": "Error",
     "evalue": "Agent terminated with exit code: 0 and signal null: A fatal error occurred. The required library hostfxr.dll could not be found.\r\nIf this is a self-contained application, that library should exist in [c:\\Users\\groso\\.vscode\\extensions\\ms-vsliveshare.vsliveshare-1.0.1587\\dotnet_modules\\].\r\nIf this is a framework-dependentapplication, install the runtimein the global location [C:\\Program Files (x86)\\dotnet] or use the DOTNET_ROOT(x86) environment variable to specify the runtimelocation orregister the runtime location in [HKLM\\SOFTWARE\\dotnet\\Setup\\InstalledVersions\\x86\\InstallLocation].",
     "output_type": "error",
     "traceback": [
      "Error: Agent terminated with exit code: 0 and signal null: A fatal error occurred. The required library hostfxr.dll could not be found.",
      "If this is a self-contained application, that library should exist in [c:\\Users\\groso\\.vscode\\extensions\\ms-vsliveshare.vsliveshare-1.0.1587\\dotnet_modules\\].",
      "If this is a framework-dependentapplication, install the runtimein the global location [C:\\Program Files (x86)\\dotnet] or use the DOTNET_ROOT(x86) environment variable to specify the runtimelocation orregister the runtime location in [HKLM\\SOFTWARE\\dotnet\\Setup\\InstalledVersions\\x86\\InstallLocation].",
      "at ChildProcess.<anonymous> (c:\\Users\\groso\\.vscode\\extensions\\ms-vsliveshare.vsliveshare-1.0.1587\\out\\prod\\extension-prod.js:128779:32)",
      "at ChildProcess.emit (events.js:205:15)",
      "at maybeClose (internal/child_process.js:1021:16)",
      "at Socket.<anonymous> (internal/child_process.js:430:11)",
      "at Socket.emit (events.js:200:13)",
      "at Pipe.<anonymous> (net.js:586:12)"
     ]
    }
   ],
   "source": [
    "bono = bonos[0]\n",
    "bono.get_historicos()"
   ]
  },
  {
   "cell_type": "code",
   "execution_count": null,
   "metadata": {},
   "outputs": [
    {
     "ename": "Error",
     "evalue": "Agent terminated with exit code: 0 and signal null: A fatal error occurred. The required library hostfxr.dll could not be found.\r\nIf this is a self-contained application, that library should exist in [c:\\Users\\groso\\.vscode\\extensions\\ms-vsliveshare.vsliveshare-1.0.1587\\dotnet_modules\\].\r\nIf this is a framework-dependentapplication, install the runtimein the global location [C:\\Program Files (x86)\\dotnet] or use the DOTNET_ROOT(x86) environment variable to specify the runtimelocation orregister the runtime location in [HKLM\\SOFTWARE\\dotnet\\Setup\\InstalledVersions\\x86\\InstallLocation].",
     "output_type": "error",
     "traceback": [
      "Error: Agent terminated with exit code: 0 and signal null: A fatal error occurred. The required library hostfxr.dll could not be found.",
      "If this is a self-contained application, that library should exist in [c:\\Users\\groso\\.vscode\\extensions\\ms-vsliveshare.vsliveshare-1.0.1587\\dotnet_modules\\].",
      "If this is a framework-dependentapplication, install the runtimein the global location [C:\\Program Files (x86)\\dotnet] or use the DOTNET_ROOT(x86) environment variable to specify the runtimelocation orregister the runtime location in [HKLM\\SOFTWARE\\dotnet\\Setup\\InstalledVersions\\x86\\InstallLocation].",
      "at ChildProcess.<anonymous> (c:\\Users\\groso\\.vscode\\extensions\\ms-vsliveshare.vsliveshare-1.0.1587\\out\\prod\\extension-prod.js:128779:32)",
      "at ChildProcess.emit (events.js:205:15)",
      "at maybeClose (internal/child_process.js:1021:16)",
      "at Socket.<anonymous> (internal/child_process.js:430:11)",
      "at Socket.emit (events.js:200:13)",
      "at Pipe.<anonymous> (net.js:586:12)"
     ]
    }
   ],
   "source": [
    "bono.get_volatilidad()"
   ]
  },
  {
   "cell_type": "code",
   "execution_count": null,
   "metadata": {},
   "outputs": [
    {
     "ename": "Error",
     "evalue": "Agent terminated with exit code: 0 and signal null: A fatal error occurred. The required library hostfxr.dll could not be found.\r\nIf this is a self-contained application, that library should exist in [c:\\Users\\groso\\.vscode\\extensions\\ms-vsliveshare.vsliveshare-1.0.1587\\dotnet_modules\\].\r\nIf this is a framework-dependentapplication, install the runtimein the global location [C:\\Program Files (x86)\\dotnet] or use the DOTNET_ROOT(x86) environment variable to specify the runtimelocation orregister the runtime location in [HKLM\\SOFTWARE\\dotnet\\Setup\\InstalledVersions\\x86\\InstallLocation].",
     "output_type": "error",
     "traceback": [
      "Error: Agent terminated with exit code: 0 and signal null: A fatal error occurred. The required library hostfxr.dll could not be found.",
      "If this is a self-contained application, that library should exist in [c:\\Users\\groso\\.vscode\\extensions\\ms-vsliveshare.vsliveshare-1.0.1587\\dotnet_modules\\].",
      "If this is a framework-dependentapplication, install the runtimein the global location [C:\\Program Files (x86)\\dotnet] or use the DOTNET_ROOT(x86) environment variable to specify the runtimelocation orregister the runtime location in [HKLM\\SOFTWARE\\dotnet\\Setup\\InstalledVersions\\x86\\InstallLocation].",
      "at ChildProcess.<anonymous> (c:\\Users\\groso\\.vscode\\extensions\\ms-vsliveshare.vsliveshare-1.0.1587\\out\\prod\\extension-prod.js:128779:32)",
      "at ChildProcess.emit (events.js:205:15)",
      "at maybeClose (internal/child_process.js:1021:16)",
      "at Socket.<anonymous> (internal/child_process.js:430:11)",
      "at Socket.emit (events.js:200:13)",
      "at Pipe.<anonymous> (net.js:586:12)"
     ]
    }
   ],
   "source": [
    "bono.get_correlacion()"
   ]
  },
  {
   "cell_type": "code",
   "execution_count": null,
   "metadata": {},
   "outputs": [
    {
     "ename": "Error",
     "evalue": "Agent terminated with exit code: 0 and signal null: A fatal error occurred. The required library hostfxr.dll could not be found.\r\nIf this is a self-contained application, that library should exist in [c:\\Users\\groso\\.vscode\\extensions\\ms-vsliveshare.vsliveshare-1.0.1587\\dotnet_modules\\].\r\nIf this is a framework-dependentapplication, install the runtimein the global location [C:\\Program Files (x86)\\dotnet] or use the DOTNET_ROOT(x86) environment variable to specify the runtimelocation orregister the runtime location in [HKLM\\SOFTWARE\\dotnet\\Setup\\InstalledVersions\\x86\\InstallLocation].",
     "output_type": "error",
     "traceback": [
      "Error: Agent terminated with exit code: 0 and signal null: A fatal error occurred. The required library hostfxr.dll could not be found.",
      "If this is a self-contained application, that library should exist in [c:\\Users\\groso\\.vscode\\extensions\\ms-vsliveshare.vsliveshare-1.0.1587\\dotnet_modules\\].",
      "If this is a framework-dependentapplication, install the runtimein the global location [C:\\Program Files (x86)\\dotnet] or use the DOTNET_ROOT(x86) environment variable to specify the runtimelocation orregister the runtime location in [HKLM\\SOFTWARE\\dotnet\\Setup\\InstalledVersions\\x86\\InstallLocation].",
      "at ChildProcess.<anonymous> (c:\\Users\\groso\\.vscode\\extensions\\ms-vsliveshare.vsliveshare-1.0.1587\\out\\prod\\extension-prod.js:128779:32)",
      "at ChildProcess.emit (events.js:205:15)",
      "at maybeClose (internal/child_process.js:1021:16)",
      "at Socket.<anonymous> (internal/child_process.js:430:11)",
      "at Socket.emit (events.js:200:13)",
      "at Pipe.<anonymous> (net.js:586:12)"
     ]
    }
   ],
   "source": [
    "bono.get_volatilidad_general()"
   ]
  },
  {
   "cell_type": "markdown",
   "metadata": {},
   "source": [
    "#### Derivados"
   ]
  },
  {
   "cell_type": "code",
   "execution_count": null,
   "metadata": {},
   "outputs": [
    {
     "ename": "Error",
     "evalue": "Agent terminated with exit code: 0 and signal null: A fatal error occurred. The required library hostfxr.dll could not be found.\r\nIf this is a self-contained application, that library should exist in [c:\\Users\\groso\\.vscode\\extensions\\ms-vsliveshare.vsliveshare-1.0.1587\\dotnet_modules\\].\r\nIf this is a framework-dependentapplication, install the runtimein the global location [C:\\Program Files (x86)\\dotnet] or use the DOTNET_ROOT(x86) environment variable to specify the runtimelocation orregister the runtime location in [HKLM\\SOFTWARE\\dotnet\\Setup\\InstalledVersions\\x86\\InstallLocation].",
     "output_type": "error",
     "traceback": [
      "Error: Agent terminated with exit code: 0 and signal null: A fatal error occurred. The required library hostfxr.dll could not be found.",
      "If this is a self-contained application, that library should exist in [c:\\Users\\groso\\.vscode\\extensions\\ms-vsliveshare.vsliveshare-1.0.1587\\dotnet_modules\\].",
      "If this is a framework-dependentapplication, install the runtimein the global location [C:\\Program Files (x86)\\dotnet] or use the DOTNET_ROOT(x86) environment variable to specify the runtimelocation orregister the runtime location in [HKLM\\SOFTWARE\\dotnet\\Setup\\InstalledVersions\\x86\\InstallLocation].",
      "at ChildProcess.<anonymous> (c:\\Users\\groso\\.vscode\\extensions\\ms-vsliveshare.vsliveshare-1.0.1587\\out\\prod\\extension-prod.js:128779:32)",
      "at ChildProcess.emit (events.js:205:15)",
      "at maybeClose (internal/child_process.js:1021:16)",
      "at Socket.<anonymous> (internal/child_process.js:430:11)",
      "at Socket.emit (events.js:200:13)",
      "at Pipe.<anonymous> (net.js:586:12)"
     ]
    }
   ],
   "source": [
    "derivados = cartera.get_derivados()\n",
    "derivados"
   ]
  },
  {
   "cell_type": "code",
   "execution_count": null,
   "metadata": {},
   "outputs": [
    {
     "ename": "Error",
     "evalue": "Agent terminated with exit code: 0 and signal null: A fatal error occurred. The required library hostfxr.dll could not be found.\r\nIf this is a self-contained application, that library should exist in [c:\\Users\\groso\\.vscode\\extensions\\ms-vsliveshare.vsliveshare-1.0.1587\\dotnet_modules\\].\r\nIf this is a framework-dependentapplication, install the runtimein the global location [C:\\Program Files (x86)\\dotnet] or use the DOTNET_ROOT(x86) environment variable to specify the runtimelocation orregister the runtime location in [HKLM\\SOFTWARE\\dotnet\\Setup\\InstalledVersions\\x86\\InstallLocation].",
     "output_type": "error",
     "traceback": [
      "Error: Agent terminated with exit code: 0 and signal null: A fatal error occurred. The required library hostfxr.dll could not be found.",
      "If this is a self-contained application, that library should exist in [c:\\Users\\groso\\.vscode\\extensions\\ms-vsliveshare.vsliveshare-1.0.1587\\dotnet_modules\\].",
      "If this is a framework-dependentapplication, install the runtimein the global location [C:\\Program Files (x86)\\dotnet] or use the DOTNET_ROOT(x86) environment variable to specify the runtimelocation orregister the runtime location in [HKLM\\SOFTWARE\\dotnet\\Setup\\InstalledVersions\\x86\\InstallLocation].",
      "at ChildProcess.<anonymous> (c:\\Users\\groso\\.vscode\\extensions\\ms-vsliveshare.vsliveshare-1.0.1587\\out\\prod\\extension-prod.js:128779:32)",
      "at ChildProcess.emit (events.js:205:15)",
      "at maybeClose (internal/child_process.js:1021:16)",
      "at Socket.<anonymous> (internal/child_process.js:430:11)",
      "at Socket.emit (events.js:200:13)",
      "at Pipe.<anonymous> (net.js:586:12)"
     ]
    }
   ],
   "source": [
    "derivado = derivados[0]\n",
    "derivado.get_volatilidad()"
   ]
  },
  {
   "cell_type": "code",
   "execution_count": null,
   "metadata": {},
   "outputs": [
    {
     "ename": "Error",
     "evalue": "Agent terminated with exit code: 0 and signal null: A fatal error occurred. The required library hostfxr.dll could not be found.\r\nIf this is a self-contained application, that library should exist in [c:\\Users\\groso\\.vscode\\extensions\\ms-vsliveshare.vsliveshare-1.0.1587\\dotnet_modules\\].\r\nIf this is a framework-dependentapplication, install the runtimein the global location [C:\\Program Files (x86)\\dotnet] or use the DOTNET_ROOT(x86) environment variable to specify the runtimelocation orregister the runtime location in [HKLM\\SOFTWARE\\dotnet\\Setup\\InstalledVersions\\x86\\InstallLocation].",
     "output_type": "error",
     "traceback": [
      "Error: Agent terminated with exit code: 0 and signal null: A fatal error occurred. The required library hostfxr.dll could not be found.",
      "If this is a self-contained application, that library should exist in [c:\\Users\\groso\\.vscode\\extensions\\ms-vsliveshare.vsliveshare-1.0.1587\\dotnet_modules\\].",
      "If this is a framework-dependentapplication, install the runtimein the global location [C:\\Program Files (x86)\\dotnet] or use the DOTNET_ROOT(x86) environment variable to specify the runtimelocation orregister the runtime location in [HKLM\\SOFTWARE\\dotnet\\Setup\\InstalledVersions\\x86\\InstallLocation].",
      "at ChildProcess.<anonymous> (c:\\Users\\groso\\.vscode\\extensions\\ms-vsliveshare.vsliveshare-1.0.1587\\out\\prod\\extension-prod.js:128779:32)",
      "at ChildProcess.emit (events.js:205:15)",
      "at maybeClose (internal/child_process.js:1021:16)",
      "at Socket.<anonymous> (internal/child_process.js:430:11)",
      "at Socket.emit (events.js:200:13)",
      "at Pipe.<anonymous> (net.js:586:12)"
     ]
    }
   ],
   "source": [
    "derivado.get_correlacion()"
   ]
  },
  {
   "cell_type": "code",
   "execution_count": null,
   "metadata": {},
   "outputs": [
    {
     "ename": "Error",
     "evalue": "Agent terminated with exit code: 0 and signal null: A fatal error occurred. The required library hostfxr.dll could not be found.\r\nIf this is a self-contained application, that library should exist in [c:\\Users\\groso\\.vscode\\extensions\\ms-vsliveshare.vsliveshare-1.0.1587\\dotnet_modules\\].\r\nIf this is a framework-dependentapplication, install the runtimein the global location [C:\\Program Files (x86)\\dotnet] or use the DOTNET_ROOT(x86) environment variable to specify the runtimelocation orregister the runtime location in [HKLM\\SOFTWARE\\dotnet\\Setup\\InstalledVersions\\x86\\InstallLocation].",
     "output_type": "error",
     "traceback": [
      "Error: Agent terminated with exit code: 0 and signal null: A fatal error occurred. The required library hostfxr.dll could not be found.",
      "If this is a self-contained application, that library should exist in [c:\\Users\\groso\\.vscode\\extensions\\ms-vsliveshare.vsliveshare-1.0.1587\\dotnet_modules\\].",
      "If this is a framework-dependentapplication, install the runtimein the global location [C:\\Program Files (x86)\\dotnet] or use the DOTNET_ROOT(x86) environment variable to specify the runtimelocation orregister the runtime location in [HKLM\\SOFTWARE\\dotnet\\Setup\\InstalledVersions\\x86\\InstallLocation].",
      "at ChildProcess.<anonymous> (c:\\Users\\groso\\.vscode\\extensions\\ms-vsliveshare.vsliveshare-1.0.1587\\out\\prod\\extension-prod.js:128779:32)",
      "at ChildProcess.emit (events.js:205:15)",
      "at maybeClose (internal/child_process.js:1021:16)",
      "at Socket.<anonymous> (internal/child_process.js:430:11)",
      "at Socket.emit (events.js:200:13)",
      "at Pipe.<anonymous> (net.js:586:12)"
     ]
    }
   ],
   "source": [
    "derivado.get_volatilidad_general()"
   ]
  },
  {
   "cell_type": "markdown",
   "metadata": {},
   "source": [
    "Por ejemplo, si deseamos saber la volatilidad de la cartera, se debe invocar al siguiente método:"
   ]
  },
  {
   "cell_type": "code",
   "execution_count": null,
   "metadata": {},
   "outputs": [
    {
     "ename": "Error",
     "evalue": "Agent terminated with exit code: 0 and signal null: A fatal error occurred. The required library hostfxr.dll could not be found.\r\nIf this is a self-contained application, that library should exist in [c:\\Users\\groso\\.vscode\\extensions\\ms-vsliveshare.vsliveshare-1.0.1587\\dotnet_modules\\].\r\nIf this is a framework-dependentapplication, install the runtimein the global location [C:\\Program Files (x86)\\dotnet] or use the DOTNET_ROOT(x86) environment variable to specify the runtimelocation orregister the runtime location in [HKLM\\SOFTWARE\\dotnet\\Setup\\InstalledVersions\\x86\\InstallLocation].",
     "output_type": "error",
     "traceback": [
      "Error: Agent terminated with exit code: 0 and signal null: A fatal error occurred. The required library hostfxr.dll could not be found.",
      "If this is a self-contained application, that library should exist in [c:\\Users\\groso\\.vscode\\extensions\\ms-vsliveshare.vsliveshare-1.0.1587\\dotnet_modules\\].",
      "If this is a framework-dependentapplication, install the runtimein the global location [C:\\Program Files (x86)\\dotnet] or use the DOTNET_ROOT(x86) environment variable to specify the runtimelocation orregister the runtime location in [HKLM\\SOFTWARE\\dotnet\\Setup\\InstalledVersions\\x86\\InstallLocation].",
      "at ChildProcess.<anonymous> (c:\\Users\\groso\\.vscode\\extensions\\ms-vsliveshare.vsliveshare-1.0.1587\\out\\prod\\extension-prod.js:128779:32)",
      "at ChildProcess.emit (events.js:205:15)",
      "at maybeClose (internal/child_process.js:1021:16)",
      "at Socket.<anonymous> (internal/child_process.js:430:11)",
      "at Socket.emit (events.js:200:13)",
      "at Pipe.<anonymous> (net.js:586:12)"
     ]
    }
   ],
   "source": [
    "cartera.set_volatilidad_cartera()\n",
    "volatilidad = cartera.get_volatilidad_cartera()\n",
    "volatilidad"
   ]
  },
  {
   "cell_type": "code",
   "execution_count": null,
   "metadata": {},
   "outputs": [
    {
     "ename": "Error",
     "evalue": "Agent terminated with exit code: 0 and signal null: A fatal error occurred. The required library hostfxr.dll could not be found.\r\nIf this is a self-contained application, that library should exist in [c:\\Users\\groso\\.vscode\\extensions\\ms-vsliveshare.vsliveshare-1.0.1587\\dotnet_modules\\].\r\nIf this is a framework-dependentapplication, install the runtimein the global location [C:\\Program Files (x86)\\dotnet] or use the DOTNET_ROOT(x86) environment variable to specify the runtimelocation orregister the runtime location in [HKLM\\SOFTWARE\\dotnet\\Setup\\InstalledVersions\\x86\\InstallLocation].",
     "output_type": "error",
     "traceback": [
      "Error: Agent terminated with exit code: 0 and signal null: A fatal error occurred. The required library hostfxr.dll could not be found.",
      "If this is a self-contained application, that library should exist in [c:\\Users\\groso\\.vscode\\extensions\\ms-vsliveshare.vsliveshare-1.0.1587\\dotnet_modules\\].",
      "If this is a framework-dependentapplication, install the runtimein the global location [C:\\Program Files (x86)\\dotnet] or use the DOTNET_ROOT(x86) environment variable to specify the runtimelocation orregister the runtime location in [HKLM\\SOFTWARE\\dotnet\\Setup\\InstalledVersions\\x86\\InstallLocation].",
      "at ChildProcess.<anonymous> (c:\\Users\\groso\\.vscode\\extensions\\ms-vsliveshare.vsliveshare-1.0.1587\\out\\prod\\extension-prod.js:128779:32)",
      "at ChildProcess.emit (events.js:205:15)",
      "at maybeClose (internal/child_process.js:1021:16)",
      "at Socket.<anonymous> (internal/child_process.js:430:11)",
      "at Socket.emit (events.js:200:13)",
      "at Pipe.<anonymous> (net.js:586:12)"
     ]
    }
   ],
   "source": [
    "cartera.get_historicos_totales()"
   ]
  },
  {
   "cell_type": "code",
   "execution_count": null,
   "metadata": {},
   "outputs": [
    {
     "ename": "Error",
     "evalue": "Agent terminated with exit code: 0 and signal null: A fatal error occurred. The required library hostfxr.dll could not be found.\r\nIf this is a self-contained application, that library should exist in [c:\\Users\\groso\\.vscode\\extensions\\ms-vsliveshare.vsliveshare-1.0.1587\\dotnet_modules\\].\r\nIf this is a framework-dependentapplication, install the runtimein the global location [C:\\Program Files (x86)\\dotnet] or use the DOTNET_ROOT(x86) environment variable to specify the runtimelocation orregister the runtime location in [HKLM\\SOFTWARE\\dotnet\\Setup\\InstalledVersions\\x86\\InstallLocation].",
     "output_type": "error",
     "traceback": [
      "Error: Agent terminated with exit code: 0 and signal null: A fatal error occurred. The required library hostfxr.dll could not be found.",
      "If this is a self-contained application, that library should exist in [c:\\Users\\groso\\.vscode\\extensions\\ms-vsliveshare.vsliveshare-1.0.1587\\dotnet_modules\\].",
      "If this is a framework-dependentapplication, install the runtimein the global location [C:\\Program Files (x86)\\dotnet] or use the DOTNET_ROOT(x86) environment variable to specify the runtimelocation orregister the runtime location in [HKLM\\SOFTWARE\\dotnet\\Setup\\InstalledVersions\\x86\\InstallLocation].",
      "at ChildProcess.<anonymous> (c:\\Users\\groso\\.vscode\\extensions\\ms-vsliveshare.vsliveshare-1.0.1587\\out\\prod\\extension-prod.js:128779:32)",
      "at ChildProcess.emit (events.js:205:15)",
      "at maybeClose (internal/child_process.js:1021:16)",
      "at Socket.<anonymous> (internal/child_process.js:430:11)",
      "at Socket.emit (events.js:200:13)",
      "at Pipe.<anonymous> (net.js:586:12)"
     ]
    }
   ],
   "source": [
    "cartera.get_retornos_totales()"
   ]
  },
  {
   "cell_type": "code",
   "execution_count": null,
   "metadata": {},
   "outputs": [
    {
     "ename": "Error",
     "evalue": "Agent terminated with exit code: 0 and signal null: A fatal error occurred. The required library hostfxr.dll could not be found.\r\nIf this is a self-contained application, that library should exist in [c:\\Users\\groso\\.vscode\\extensions\\ms-vsliveshare.vsliveshare-1.0.1587\\dotnet_modules\\].\r\nIf this is a framework-dependentapplication, install the runtimein the global location [C:\\Program Files (x86)\\dotnet] or use the DOTNET_ROOT(x86) environment variable to specify the runtimelocation orregister the runtime location in [HKLM\\SOFTWARE\\dotnet\\Setup\\InstalledVersions\\x86\\InstallLocation].",
     "output_type": "error",
     "traceback": [
      "Error: Agent terminated with exit code: 0 and signal null: A fatal error occurred. The required library hostfxr.dll could not be found.",
      "If this is a self-contained application, that library should exist in [c:\\Users\\groso\\.vscode\\extensions\\ms-vsliveshare.vsliveshare-1.0.1587\\dotnet_modules\\].",
      "If this is a framework-dependentapplication, install the runtimein the global location [C:\\Program Files (x86)\\dotnet] or use the DOTNET_ROOT(x86) environment variable to specify the runtimelocation orregister the runtime location in [HKLM\\SOFTWARE\\dotnet\\Setup\\InstalledVersions\\x86\\InstallLocation].",
      "at ChildProcess.<anonymous> (c:\\Users\\groso\\.vscode\\extensions\\ms-vsliveshare.vsliveshare-1.0.1587\\out\\prod\\extension-prod.js:128779:32)",
      "at ChildProcess.emit (events.js:205:15)",
      "at maybeClose (internal/child_process.js:1021:16)",
      "at Socket.<anonymous> (internal/child_process.js:430:11)",
      "at Socket.emit (events.js:200:13)",
      "at Pipe.<anonymous> (net.js:586:12)"
     ]
    }
   ],
   "source": [
    "cartera.get_volatilidades_totales()"
   ]
  },
  {
   "cell_type": "code",
   "execution_count": null,
   "metadata": {},
   "outputs": [
    {
     "ename": "Error",
     "evalue": "Agent terminated with exit code: 0 and signal null: A fatal error occurred. The required library hostfxr.dll could not be found.\r\nIf this is a self-contained application, that library should exist in [c:\\Users\\groso\\.vscode\\extensions\\ms-vsliveshare.vsliveshare-1.0.1587\\dotnet_modules\\].\r\nIf this is a framework-dependentapplication, install the runtimein the global location [C:\\Program Files (x86)\\dotnet] or use the DOTNET_ROOT(x86) environment variable to specify the runtimelocation orregister the runtime location in [HKLM\\SOFTWARE\\dotnet\\Setup\\InstalledVersions\\x86\\InstallLocation].",
     "output_type": "error",
     "traceback": [
      "Error: Agent terminated with exit code: 0 and signal null: A fatal error occurred. The required library hostfxr.dll could not be found.",
      "If this is a self-contained application, that library should exist in [c:\\Users\\groso\\.vscode\\extensions\\ms-vsliveshare.vsliveshare-1.0.1587\\dotnet_modules\\].",
      "If this is a framework-dependentapplication, install the runtimein the global location [C:\\Program Files (x86)\\dotnet] or use the DOTNET_ROOT(x86) environment variable to specify the runtimelocation orregister the runtime location in [HKLM\\SOFTWARE\\dotnet\\Setup\\InstalledVersions\\x86\\InstallLocation].",
      "at ChildProcess.<anonymous> (c:\\Users\\groso\\.vscode\\extensions\\ms-vsliveshare.vsliveshare-1.0.1587\\out\\prod\\extension-prod.js:128779:32)",
      "at ChildProcess.emit (events.js:205:15)",
      "at maybeClose (internal/child_process.js:1021:16)",
      "at Socket.<anonymous> (internal/child_process.js:430:11)",
      "at Socket.emit (events.js:200:13)",
      "at Pipe.<anonymous> (net.js:586:12)"
     ]
    }
   ],
   "source": [
    "cartera.get_correlacion()"
   ]
  },
  {
   "cell_type": "code",
   "execution_count": null,
   "metadata": {},
   "outputs": [
    {
     "ename": "Error",
     "evalue": "Agent terminated with exit code: 0 and signal null: A fatal error occurred. The required library hostfxr.dll could not be found.\r\nIf this is a self-contained application, that library should exist in [c:\\Users\\groso\\.vscode\\extensions\\ms-vsliveshare.vsliveshare-1.0.1587\\dotnet_modules\\].\r\nIf this is a framework-dependentapplication, install the runtimein the global location [C:\\Program Files (x86)\\dotnet] or use the DOTNET_ROOT(x86) environment variable to specify the runtimelocation orregister the runtime location in [HKLM\\SOFTWARE\\dotnet\\Setup\\InstalledVersions\\x86\\InstallLocation].",
     "output_type": "error",
     "traceback": [
      "Error: Agent terminated with exit code: 0 and signal null: A fatal error occurred. The required library hostfxr.dll could not be found.",
      "If this is a self-contained application, that library should exist in [c:\\Users\\groso\\.vscode\\extensions\\ms-vsliveshare.vsliveshare-1.0.1587\\dotnet_modules\\].",
      "If this is a framework-dependentapplication, install the runtimein the global location [C:\\Program Files (x86)\\dotnet] or use the DOTNET_ROOT(x86) environment variable to specify the runtimelocation orregister the runtime location in [HKLM\\SOFTWARE\\dotnet\\Setup\\InstalledVersions\\x86\\InstallLocation].",
      "at ChildProcess.<anonymous> (c:\\Users\\groso\\.vscode\\extensions\\ms-vsliveshare.vsliveshare-1.0.1587\\out\\prod\\extension-prod.js:128779:32)",
      "at ChildProcess.emit (events.js:205:15)",
      "at maybeClose (internal/child_process.js:1021:16)",
      "at Socket.<anonymous> (internal/child_process.js:430:11)",
      "at Socket.emit (events.js:200:13)",
      "at Pipe.<anonymous> (net.js:586:12)"
     ]
    }
   ],
   "source": [
    "cartera.get_covarianza()"
   ]
  }
 ],
 "metadata": {
  "file_extension": ".py",
  "kernelspec": {
   "display_name": "Python 3",
   "language": "python",
   "name": "python3"
  },
  "language_info": {
   "codemirror_mode": {
    "name": "ipython",
    "version": 3
   },
   "file_extension": ".py",
   "mimetype": "text/x-python",
   "name": "python",
   "nbconvert_exporter": "python",
   "pygments_lexer": "ipython3",
   "version": "3.7.6"
  },
  "mimetype": "text/x-python",
  "name": "python",
  "npconvert_exporter": "python",
  "pygments_lexer": "ipython3",
  "version": 3
 },
 "nbformat": 4,
 "nbformat_minor": 2
}