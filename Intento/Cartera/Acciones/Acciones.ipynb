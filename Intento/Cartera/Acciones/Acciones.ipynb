{
 "nbformat": 4,
 "nbformat_minor": 2,
 "metadata": {
  "language_info": {
   "name": "python",
   "codemirror_mode": {
    "name": "ipython",
    "version": 3
   },
   "version": "3.6.8-final"
  },
  "orig_nbformat": 2,
  "file_extension": ".py",
  "mimetype": "text/x-python",
  "name": "python",
  "npconvert_exporter": "python",
  "pygments_lexer": "ipython3",
  "version": 3,
  "kernelspec": {
   "name": "python36864bit95f61d10654543119976a9b54263d6fa",
   "display_name": "Python 3.6.8 64-bit"
  }
 },
 "cells": [
  {
   "cell_type": "code",
   "execution_count": 37,
   "metadata": {},
   "outputs": [],
   "source": [
    "import numpy as np\n",
    "import pandas as pd\n",
    "\n",
    "from Correlaciones import ewma\n",
    "from Curvas import seleccionar_bono_fecha, seleccionar_todos_bonos\n",
    "from Pivotes import *"
   ]
  },
  {
   "cell_type": "code",
   "execution_count": 38,
   "metadata": {},
   "outputs": [
    {
     "data": {
      "text/html": "<div>\n<style scoped>\n    .dataframe tbody tr th:only-of-type {\n        vertical-align: middle;\n    }\n\n    .dataframe tbody tr th {\n        vertical-align: top;\n    }\n\n    .dataframe thead th {\n        text-align: right;\n    }\n</style>\n<table border=\"1\" class=\"dataframe\">\n  <thead>\n    <tr style=\"text-align: right;\">\n      <th></th>\n      <th>Date</th>\n      <th>Open</th>\n      <th>High</th>\n      <th>Low</th>\n      <th>Close</th>\n      <th>Adj Close</th>\n      <th>Volume</th>\n    </tr>\n  </thead>\n  <tbody>\n    <tr>\n      <th>0</th>\n      <td>2011-06-01</td>\n      <td>40.450001</td>\n      <td>40.700001</td>\n      <td>40.400002</td>\n      <td>40.400002</td>\n      <td>28.522612</td>\n      <td>56108459</td>\n    </tr>\n    <tr>\n      <th>1</th>\n      <td>2011-06-02</td>\n      <td>40.400002</td>\n      <td>40.709999</td>\n      <td>40.110001</td>\n      <td>40.599998</td>\n      <td>28.663807</td>\n      <td>54130590</td>\n    </tr>\n    <tr>\n      <th>2</th>\n      <td>2011-06-03</td>\n      <td>40.630001</td>\n      <td>40.799999</td>\n      <td>40.500000</td>\n      <td>40.799999</td>\n      <td>28.805012</td>\n      <td>47355452</td>\n    </tr>\n    <tr>\n      <th>3</th>\n      <td>2011-06-06</td>\n      <td>40.799999</td>\n      <td>40.900002</td>\n      <td>40.680000</td>\n      <td>40.689999</td>\n      <td>28.727345</td>\n      <td>35107202</td>\n    </tr>\n    <tr>\n      <th>4</th>\n      <td>2011-06-07</td>\n      <td>40.900002</td>\n      <td>41.279999</td>\n      <td>40.900002</td>\n      <td>41.230000</td>\n      <td>29.108595</td>\n      <td>57176259</td>\n    </tr>\n    <tr>\n      <th>...</th>\n      <td>...</td>\n      <td>...</td>\n      <td>...</td>\n      <td>...</td>\n      <td>...</td>\n      <td>...</td>\n      <td>...</td>\n    </tr>\n    <tr>\n      <th>2134</th>\n      <td>2020-01-03</td>\n      <td>45.279999</td>\n      <td>45.279999</td>\n      <td>43.560001</td>\n      <td>45.279999</td>\n      <td>45.279999</td>\n      <td>29739554</td>\n    </tr>\n    <tr>\n      <th>2135</th>\n      <td>2020-01-06</td>\n      <td>46.000000</td>\n      <td>46.000000</td>\n      <td>44.490002</td>\n      <td>46.000000</td>\n      <td>46.000000</td>\n      <td>72818156</td>\n    </tr>\n    <tr>\n      <th>2136</th>\n      <td>2020-01-07</td>\n      <td>46.299999</td>\n      <td>46.299999</td>\n      <td>44.709999</td>\n      <td>46.299999</td>\n      <td>46.299999</td>\n      <td>5343453</td>\n    </tr>\n    <tr>\n      <th>2137</th>\n      <td>2020-01-08</td>\n      <td>46.200001</td>\n      <td>46.389999</td>\n      <td>45.509998</td>\n      <td>46.200001</td>\n      <td>46.200001</td>\n      <td>30273536</td>\n    </tr>\n    <tr>\n      <th>2138</th>\n      <td>2020-01-09</td>\n      <td>46.480000</td>\n      <td>46.500000</td>\n      <td>46.009998</td>\n      <td>46.480000</td>\n      <td>46.480000</td>\n      <td>15159428</td>\n    </tr>\n  </tbody>\n</table>\n<p>2139 rows × 7 columns</p>\n</div>",
      "text/plain": "            Date       Open       High        Low      Close  Adj Close  \\\n0     2011-06-01  40.450001  40.700001  40.400002  40.400002  28.522612   \n1     2011-06-02  40.400002  40.709999  40.110001  40.599998  28.663807   \n2     2011-06-03  40.630001  40.799999  40.500000  40.799999  28.805012   \n3     2011-06-06  40.799999  40.900002  40.680000  40.689999  28.727345   \n4     2011-06-07  40.900002  41.279999  40.900002  41.230000  29.108595   \n...          ...        ...        ...        ...        ...        ...   \n2134  2020-01-03  45.279999  45.279999  43.560001  45.279999  45.279999   \n2135  2020-01-06  46.000000  46.000000  44.490002  46.000000  46.000000   \n2136  2020-01-07  46.299999  46.299999  44.709999  46.299999  46.299999   \n2137  2020-01-08  46.200001  46.389999  45.509998  46.200001  46.200001   \n2138  2020-01-09  46.480000  46.500000  46.009998  46.480000  46.480000   \n\n        Volume  \n0     56108459  \n1     54130590  \n2     47355452  \n3     35107202  \n4     57176259  \n...        ...  \n2134  29739554  \n2135  72818156  \n2136   5343453  \n2137  30273536  \n2138  15159428  \n\n[2139 rows x 7 columns]"
     },
     "execution_count": 38,
     "metadata": {},
     "output_type": "execute_result"
    }
   ],
   "source": [
    "def leer_archivo(nombreArchivo):\n",
    "\n",
    "    \"\"\"\n",
    "    Extrae un archivo excel a un dataframe, calculando su valor de retorno\n",
    "    con la funcion retorno_bonos\n",
    "    \n",
    "    \"\"\"\n",
    "\n",
    "    archivo = pd.read_excel('C:\\\\Users\\\\groso\\\\Desktop\\\\Practica\\\\Intento\\\\ArchivosExcel\\\\'+ nombreArchivo)\n",
    "    columnas = [\"Date\", \"Open\", \"High\", \"Low\", \"Close\", \"Adj Close\", \"Volume\"]\n",
    "    archivo = archivo[columnas]\n",
    "\n",
    "    return archivo\n",
    "\n",
    "leer_archivo(\"BSANTANDER.SN.xlsx\")\n"
   ]
  },
  {
   "cell_type": "code",
   "execution_count": 39,
   "metadata": {},
   "outputs": [
    {
     "data": {
      "text/html": "<div>\n<style scoped>\n    .dataframe tbody tr th:only-of-type {\n        vertical-align: middle;\n    }\n\n    .dataframe tbody tr th {\n        vertical-align: top;\n    }\n\n    .dataframe thead th {\n        text-align: right;\n    }\n</style>\n<table border=\"1\" class=\"dataframe\">\n  <thead>\n    <tr style=\"text-align: right;\">\n      <th></th>\n      <th>Fecha</th>\n      <th>Adj Close</th>\n      <th>Retornos</th>\n    </tr>\n  </thead>\n  <tbody>\n    <tr>\n      <th>0</th>\n      <td>2011-06-01</td>\n      <td>28.522612</td>\n      <td>0.000000</td>\n    </tr>\n    <tr>\n      <th>1</th>\n      <td>2011-06-02</td>\n      <td>28.663807</td>\n      <td>0.004938</td>\n    </tr>\n    <tr>\n      <th>2</th>\n      <td>2011-06-03</td>\n      <td>28.805012</td>\n      <td>0.004914</td>\n    </tr>\n    <tr>\n      <th>3</th>\n      <td>2011-06-06</td>\n      <td>28.727345</td>\n      <td>-0.002700</td>\n    </tr>\n    <tr>\n      <th>4</th>\n      <td>2011-06-07</td>\n      <td>29.108595</td>\n      <td>0.013184</td>\n    </tr>\n    <tr>\n      <th>...</th>\n      <td>...</td>\n      <td>...</td>\n      <td>...</td>\n    </tr>\n    <tr>\n      <th>2134</th>\n      <td>2020-01-03</td>\n      <td>45.279999</td>\n      <td>0.017601</td>\n    </tr>\n    <tr>\n      <th>2135</th>\n      <td>2020-01-06</td>\n      <td>46.000000</td>\n      <td>0.015776</td>\n    </tr>\n    <tr>\n      <th>2136</th>\n      <td>2020-01-07</td>\n      <td>46.299999</td>\n      <td>0.006501</td>\n    </tr>\n    <tr>\n      <th>2137</th>\n      <td>2020-01-08</td>\n      <td>46.200001</td>\n      <td>-0.002162</td>\n    </tr>\n    <tr>\n      <th>2138</th>\n      <td>2020-01-09</td>\n      <td>46.480000</td>\n      <td>0.006042</td>\n    </tr>\n  </tbody>\n</table>\n<p>2139 rows × 3 columns</p>\n</div>",
      "text/plain": "           Fecha  Adj Close  Retornos\n0     2011-06-01  28.522612  0.000000\n1     2011-06-02  28.663807  0.004938\n2     2011-06-03  28.805012  0.004914\n3     2011-06-06  28.727345 -0.002700\n4     2011-06-07  29.108595  0.013184\n...          ...        ...       ...\n2134  2020-01-03  45.279999  0.017601\n2135  2020-01-06  46.000000  0.015776\n2136  2020-01-07  46.299999  0.006501\n2137  2020-01-08  46.200001 -0.002162\n2138  2020-01-09  46.480000  0.006042\n\n[2139 rows x 3 columns]"
     },
     "execution_count": 39,
     "metadata": {},
     "output_type": "execute_result"
    }
   ],
   "source": [
    "def retornos_acciones(nombreAccion):\n",
    "\n",
    "    \"\"\"\n",
    "    Funcion encargada de calcular los retornos\n",
    "    de una accion con la columna Adj Close\n",
    "    :param nombreAccion: Nombre del archivo de la accion\n",
    "\n",
    "    \"\"\"\n",
    "\n",
    "    tabla_accion = leer_archivo(nombreAccion)\n",
    "    tabla_adj = tabla_accion[\"Adj Close\"]\n",
    "    fechas = tabla_accion[\"Date\"]\n",
    "    lenght = len(tabla_adj)\n",
    "    arreglo = []\n",
    "\n",
    "    for i in range(lenght):\n",
    "        \n",
    "        if i == 0:\n",
    "            arreglo.append(0)\n",
    "\n",
    "        else:\n",
    "            valor = np.log(tabla_adj[i] / tabla_adj[i-1])\n",
    "            arreglo.append(valor)\n",
    "\n",
    "    df = pd.DataFrame({\"Fecha\": fechas, \"Adj Close\": tabla_adj, \"Retornos\": arreglo})\n",
    "    return df\n",
    "\n",
    "retornos = retornos_acciones(\"BSANTANDER.SN.xlsx\")\n",
    "retornos"
   ]
  },
  {
   "cell_type": "code",
   "execution_count": 40,
   "metadata": {},
   "outputs": [
    {
     "data": {
      "text/html": "<div>\n<style scoped>\n    .dataframe tbody tr th:only-of-type {\n        vertical-align: middle;\n    }\n\n    .dataframe tbody tr th {\n        vertical-align: top;\n    }\n\n    .dataframe thead th {\n        text-align: right;\n    }\n</style>\n<table border=\"1\" class=\"dataframe\">\n  <thead>\n    <tr style=\"text-align: right;\">\n      <th></th>\n      <th>Volatilidad</th>\n    </tr>\n  </thead>\n  <tbody>\n    <tr>\n      <th>0</th>\n      <td>0.017051</td>\n    </tr>\n  </tbody>\n</table>\n</div>",
      "text/plain": "   Volatilidad\n0     0.017051"
     },
     "execution_count": 40,
     "metadata": {},
     "output_type": "execute_result"
    }
   ],
   "source": [
    "def volatilidades_acciones(retornos_acciones):\n",
    "\n",
    "    \"\"\"\n",
    "    Funcion que calcula las volatilidades de una accion\n",
    "    dado los retornos de esta\n",
    "    :param retorno_acciones: DataFrame con los retornos de una accion\n",
    "    :return DataFrame con las volatilidades\n",
    "\n",
    "    \"\"\"\n",
    "\n",
    "    final = []\n",
    "    lenght = len(retornos_acciones)\n",
    "\n",
    "    calculo = ewma(retornos_acciones, 0.94)\n",
    "    final.append(calculo[\"Vol c/ajuste\"][0])\n",
    "\n",
    "    df = pd.DataFrame({\"Volatilidad\": final})\n",
    "\n",
    "    return df\n",
    "\n",
    "volatilidades_acciones(retornos[\"Retornos\"])"
   ]
  },
  {
   "cell_type": "code",
   "execution_count": 41,
   "metadata": {},
   "outputs": [
    {
     "data": {
      "text/html": "<div>\n<style scoped>\n    .dataframe tbody tr th:only-of-type {\n        vertical-align: middle;\n    }\n\n    .dataframe tbody tr th {\n        vertical-align: top;\n    }\n\n    .dataframe thead th {\n        text-align: right;\n    }\n</style>\n<table border=\"1\" class=\"dataframe\">\n  <thead>\n    <tr style=\"text-align: right;\">\n      <th></th>\n      <th>BSANTANDER</th>\n      <th>ENTEL</th>\n      <th>IANSA</th>\n    </tr>\n  </thead>\n  <tbody>\n    <tr>\n      <th>0</th>\n      <td>0.000000</td>\n      <td>0.000000</td>\n      <td>0.000000</td>\n    </tr>\n    <tr>\n      <th>1</th>\n      <td>0.004938</td>\n      <td>-0.005686</td>\n      <td>0.008785</td>\n    </tr>\n    <tr>\n      <th>2</th>\n      <td>0.004914</td>\n      <td>0.000340</td>\n      <td>-0.016857</td>\n    </tr>\n    <tr>\n      <th>3</th>\n      <td>-0.002700</td>\n      <td>-0.004205</td>\n      <td>-0.011731</td>\n    </tr>\n    <tr>\n      <th>4</th>\n      <td>0.013184</td>\n      <td>0.003832</td>\n      <td>-0.016129</td>\n    </tr>\n    <tr>\n      <th>...</th>\n      <td>...</td>\n      <td>...</td>\n      <td>...</td>\n    </tr>\n    <tr>\n      <th>2134</th>\n      <td>0.017601</td>\n      <td>0.018349</td>\n      <td>0.000000</td>\n    </tr>\n    <tr>\n      <th>2135</th>\n      <td>0.015776</td>\n      <td>-0.005305</td>\n      <td>0.000000</td>\n    </tr>\n    <tr>\n      <th>2136</th>\n      <td>0.006501</td>\n      <td>0.005305</td>\n      <td>0.000000</td>\n    </tr>\n    <tr>\n      <th>2137</th>\n      <td>-0.002162</td>\n      <td>0.011389</td>\n      <td>0.000000</td>\n    </tr>\n    <tr>\n      <th>2138</th>\n      <td>0.006042</td>\n      <td>0.006629</td>\n      <td>0.000000</td>\n    </tr>\n  </tbody>\n</table>\n<p>2139 rows × 3 columns</p>\n</div>",
      "text/plain": "      BSANTANDER     ENTEL     IANSA\n0       0.000000  0.000000  0.000000\n1       0.004938 -0.005686  0.008785\n2       0.004914  0.000340 -0.016857\n3      -0.002700 -0.004205 -0.011731\n4       0.013184  0.003832 -0.016129\n...          ...       ...       ...\n2134    0.017601  0.018349  0.000000\n2135    0.015776 -0.005305  0.000000\n2136    0.006501  0.005305  0.000000\n2137   -0.002162  0.011389  0.000000\n2138    0.006042  0.006629  0.000000\n\n[2139 rows x 3 columns]"
     },
     "execution_count": 41,
     "metadata": {},
     "output_type": "execute_result"
    }
   ],
   "source": [
    "def calculo_varias_acciones(nombreAcciones):\n",
    "\n",
    "    \"\"\"\n",
    "    Funcion encargada del calculo de retornos\n",
    "    para muchas acciones\n",
    "    :param nombreAcciones: Vector con el nombre de el archivo de las acciones\n",
    "    :return DataFrame con los retornos de cada accion\n",
    "\n",
    "    \"\"\"\n",
    "\n",
    "    lenght = len(nombreAcciones)\n",
    "    df = pd.DataFrame()\n",
    "    for i in range(lenght):\n",
    "\n",
    "        retornos = retornos_acciones(nombreAcciones[i])\n",
    "        df[str(nombreAcciones[i]).split(\".\")[0]] = retornos[\"Retornos\"]\n",
    "\n",
    "\n",
    "    return df\n",
    "\n",
    "acciones = [\"BSANTANDER.SN.xlsx\", \"ENTEL.SN.xlsx\", \"IANSA.SN.xlsx\"]\n",
    "retornos_acciones = calculo_varias_acciones(acciones)\n",
    "retornos_acciones\n"
   ]
  },
  {
   "cell_type": "code",
   "execution_count": 42,
   "metadata": {},
   "outputs": [
    {
     "data": {
      "text/html": "<div>\n<style scoped>\n    .dataframe tbody tr th:only-of-type {\n        vertical-align: middle;\n    }\n\n    .dataframe tbody tr th {\n        vertical-align: top;\n    }\n\n    .dataframe thead th {\n        text-align: right;\n    }\n</style>\n<table border=\"1\" class=\"dataframe\">\n  <thead>\n    <tr style=\"text-align: right;\">\n      <th></th>\n      <th>Empresa</th>\n      <th>Volatilidades</th>\n    </tr>\n  </thead>\n  <tbody>\n    <tr>\n      <th>0</th>\n      <td>BSANTANDER</td>\n      <td>0.017051</td>\n    </tr>\n    <tr>\n      <th>1</th>\n      <td>ENTEL</td>\n      <td>0.025222</td>\n    </tr>\n    <tr>\n      <th>2</th>\n      <td>IANSA</td>\n      <td>0.012328</td>\n    </tr>\n  </tbody>\n</table>\n</div>",
      "text/plain": "      Empresa  Volatilidades\n0  BSANTANDER       0.017051\n1       ENTEL       0.025222\n2       IANSA       0.012328"
     },
     "execution_count": 42,
     "metadata": {},
     "output_type": "execute_result"
    }
   ],
   "source": [
    "def calculo_volatilidades_acciones(dfRetornos):\n",
    "\n",
    "    \"\"\"\n",
    "    Funcion encargada de calcular las volatilidades\n",
    "    para todas las acciones con el DataFrame de los retornos\n",
    "    :param dfRetornos: DataFrame con todos los retornos de las acciones\n",
    "    :return DataFrame con las volatilidad de cada accion\n",
    "\n",
    "    \"\"\"\n",
    "\n",
    "    lenght = dfRetornos.shape[1]\n",
    "    columnas = list(dfRetornos)\n",
    "    df = pd.DataFrame()\n",
    "    archivo = leer_archivo(\"BSANTANDER.SN.xlsx\")\n",
    "    df[\"Empresa\"] = columnas\n",
    "    volatilidades = []\n",
    "\n",
    "    for i in range(lenght):\n",
    "\n",
    "        retornos = dfRetornos[columnas[i]]\n",
    "        volatilidad = volatilidades_acciones(retornos)\n",
    "        volatilidades.append(volatilidad.values[0][0]) \n",
    "\n",
    "    df[\"Volatilidades\"] = volatilidades\n",
    "    return df\n",
    "\n",
    "volatilidades = calculo_volatilidades_acciones(retornos_acciones)\n",
    "volatilidades"
   ]
  },
  {
   "cell_type": "code",
   "execution_count": 43,
   "metadata": {},
   "outputs": [
    {
     "data": {
      "text/html": "<div>\n<style scoped>\n    .dataframe tbody tr th:only-of-type {\n        vertical-align: middle;\n    }\n\n    .dataframe tbody tr th {\n        vertical-align: top;\n    }\n\n    .dataframe thead th {\n        text-align: right;\n    }\n</style>\n<table border=\"1\" class=\"dataframe\">\n  <thead>\n    <tr style=\"text-align: right;\">\n      <th></th>\n      <th>BSANTANDER</th>\n      <th>ENTEL</th>\n      <th>IANSA</th>\n    </tr>\n  </thead>\n  <tbody>\n    <tr>\n      <th>BSANTANDER</th>\n      <td>0.017051</td>\n      <td>0.485747</td>\n      <td>0.000886</td>\n    </tr>\n    <tr>\n      <th>ENTEL</th>\n      <td>0.485747</td>\n      <td>0.025222</td>\n      <td>0.098124</td>\n    </tr>\n    <tr>\n      <th>IANSA</th>\n      <td>0.000886</td>\n      <td>0.098124</td>\n      <td>0.012328</td>\n    </tr>\n  </tbody>\n</table>\n</div>",
      "text/plain": "            BSANTANDER     ENTEL     IANSA\nBSANTANDER    0.017051  0.485747  0.000886\nENTEL         0.485747  0.025222  0.098124\nIANSA         0.000886  0.098124  0.012328"
     },
     "execution_count": 43,
     "metadata": {},
     "output_type": "execute_result"
    }
   ],
   "source": [
    "def correlacion_acciones(dfRetornos, dfVolatilidades):\n",
    "\n",
    "    \"\"\"\n",
    "    Funcion encargada de calcular la correlacion de las acciones\n",
    "    :param dfRetornos: DataFrame con todos los retornos de las acciones\n",
    "    :param dfVolatilidades: DataFrame con las volatilidades de las acciones\n",
    "    :return DataFrame con la matriz de correlacion\n",
    "\n",
    "    \"\"\"\n",
    "\n",
    "    num_acciones = len(dfVolatilidades)\n",
    "    correlacion = ewma_new_new_pivotes(num_acciones, dfRetornos, dfVolatilidades)\n",
    "    return correlacion\n",
    "\n",
    "correlacion = correlacion_acciones(retornos_acciones, volatilidades[\"Volatilidades\"] )\n",
    "\n",
    "correlacion"
   ]
  },
  {
   "cell_type": "code",
   "execution_count": 44,
   "metadata": {},
   "outputs": [
    {
     "data": {
      "text/html": "<div>\n<style scoped>\n    .dataframe tbody tr th:only-of-type {\n        vertical-align: middle;\n    }\n\n    .dataframe tbody tr th {\n        vertical-align: top;\n    }\n\n    .dataframe thead th {\n        text-align: right;\n    }\n</style>\n<table border=\"1\" class=\"dataframe\">\n  <thead>\n    <tr style=\"text-align: right;\">\n      <th></th>\n      <th>BSANTANDER</th>\n      <th>ENTEL</th>\n      <th>IANSA</th>\n    </tr>\n  </thead>\n  <tbody>\n    <tr>\n      <th>BSANTANDER</th>\n      <td>2.907342e-04</td>\n      <td>0.000209</td>\n      <td>1.862122e-07</td>\n    </tr>\n    <tr>\n      <th>ENTEL</th>\n      <td>2.089026e-04</td>\n      <td>0.000636</td>\n      <td>3.050953e-05</td>\n    </tr>\n    <tr>\n      <th>IANSA</th>\n      <td>1.862122e-07</td>\n      <td>0.000031</td>\n      <td>1.519679e-04</td>\n    </tr>\n  </tbody>\n</table>\n</div>",
      "text/plain": "              BSANTANDER     ENTEL         IANSA\nBSANTANDER  2.907342e-04  0.000209  1.862122e-07\nENTEL       2.089026e-04  0.000636  3.050953e-05\nIANSA       1.862122e-07  0.000031  1.519679e-04"
     },
     "execution_count": 44,
     "metadata": {},
     "output_type": "execute_result"
    }
   ],
   "source": [
    "def covarianza_acciones(dfRetornos, dfVolatilidades):\n",
    "\n",
    "    \"\"\"\n",
    "    Funcion encargada de calcular la covarianza de las acciones\n",
    "    :param dfRetornos: DataFrame con los retornos de todas las acciones\n",
    "    :param dfVolatilidades: DataFrame con la volatilidad de las acciones\n",
    "    :return DataFrame con la matriz de covarianza de las acciones\n",
    "\n",
    "    \"\"\"\n",
    "\n",
    "    num_acciones = len(dfVolatilidades)\n",
    "    covarianza = covarianza_pivotes(num_acciones, dfRetornos, dfVolatilidades)\n",
    "    return covarianza\n",
    "\n",
    "covarianza = covarianza_acciones(retornos_acciones, volatilidades[\"Volatilidades\"])\n",
    "covarianza"
   ]
  }
 ]
}