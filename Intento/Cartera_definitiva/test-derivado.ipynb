{
 "nbformat": 4,
 "nbformat_minor": 2,
 "metadata": {
  "language_info": {
   "name": "python",
   "codemirror_mode": {
    "name": "ipython",
    "version": 3
   },
   "version": "3.6.8-final"
  },
  "orig_nbformat": 2,
  "file_extension": ".py",
  "mimetype": "text/x-python",
  "name": "python",
  "npconvert_exporter": "python",
  "pygments_lexer": "ipython3",
  "version": 3,
  "kernelspec": {
   "name": "python36864bit95f61d10654543119976a9b54263d6fa",
   "display_name": "Python 3.6.8 64-bit"
  }
 },
 "cells": [
  {
   "cell_type": "code",
   "execution_count": 13,
   "metadata": {},
   "outputs": [],
   "source": [
    "from Derivado import Derivado\n",
    "from DerivadosTipos.DerivadosSCC import *\n",
    "import pyodbc\n",
    "import pandas as np"
   ]
  },
  {
   "cell_type": "code",
   "execution_count": 14,
   "metadata": {},
   "outputs": [],
   "source": [
    "server = '172.16.1.38'\n",
    "username = 'sa'\n",
    "password = 'qwerty123'\n",
    "driver = '{ODBC Driver 17 for SQL Server}'\n",
    "\n",
    "cnn = pyodbc.connect('DRIVER=' + driver + ';SERVER=' + server + ';UID=' + username + ';PWD=' + password)"
   ]
  },
  {
   "cell_type": "code",
   "execution_count": 15,
   "metadata": {},
   "outputs": [],
   "source": [
    "info_derivado = dict()\n",
    "info_derivado[\"Tipo\"] = 'SCC'\n",
    "info_derivado[\"ID_Key\"] = \"\"\n",
    "info_derivado[\"Administradora\"] = \"Admin\"\n",
    "info_derivado[\"Fondo\"] = \"Fondo\"\n",
    "info_derivado[\"Contraparte\"] = \"Contraparte\"\n",
    "info_derivado[\"ID\"] = 3\n",
    "info_derivado[\"Nemotecnico\"] = \"\"\n",
    "info_derivado[\"Mercado\"] = \"Local\""
   ]
  },
  {
   "cell_type": "code",
   "execution_count": 16,
   "metadata": {},
   "outputs": [],
   "source": [
    "fecha = datetime.date(2019, 12, 20)\n",
    "hora = '1700'\n",
    "\n",
    "info_derivado[\"FechaEfectiva\"] = '12/11/2019'\n",
    "info_derivado[\"FechaVenc\"] = '12/11/2021'\n",
    "\n",
    "info_derivado[\"AjusteFeriados\"] = \"CL\"\n",
    "\n",
    "info_derivado[\"NocionalActivo\"] = 10*(10**9)\n",
    "\n",
    "info_derivado[\"MonedaActivo\"] = 'CLP'\n",
    "info_derivado[\"MonedaBase\"] = 'CLP'\n",
    "\n",
    "info_derivado[\"TipoTasaActivo\"] = 'Fija'\n",
    "info_derivado[\"TipoTasaPasivo\"] = 'Flotante'\n",
    "\n",
    "info_derivado[\"TasaActivo\"] = 1.45\n",
    "info_derivado[\"TasaPasivo\"] = -1000\n",
    "\n",
    "info_derivado[\"FrecuenciaActivo\"] = \"Semi annual\"\n",
    "info_derivado[\"FrecuenciaPasivo\"] = info_derivado[\"FrecuenciaActivo\"]"
   ]
  },
  {
   "cell_type": "code",
   "execution_count": 17,
   "metadata": {},
   "outputs": [
    {
     "name": "stderr",
     "output_type": "stream",
     "text": "c:\\Users\\groso\\Desktop\\Practica\\Intento\\Cartera_definitiva\\DerivadosTipos\\DerivadosSCC.py:48: SettingWithCopyWarning: \nA value is trying to be set on a copy of a slice from a DataFrame\n\nSee the caveats in the documentation: http://pandas.pydata.org/pandas-docs/stable/user_guide/indexing.html#returning-a-view-versus-a-copy\n  info_cartera.MonedaActivo[0] = \"CLP\"\n"
    }
   ],
   "source": [
    "info1 = pd.DataFrame([info_derivado])\n",
    "derivado10 = DerivadosSCC(fecha, hora, info1, cnn)\n",
    "\n",
    "derivado_real = Derivado(derivado10, \"CLP\", fecha, cnn)"
   ]
  },
  {
   "cell_type": "code",
   "execution_count": 18,
   "metadata": {},
   "outputs": [
    {
     "data": {
      "text/html": "<div>\n<style scoped>\n    .dataframe tbody tr th:only-of-type {\n        vertical-align: middle;\n    }\n\n    .dataframe tbody tr th {\n        vertical-align: top;\n    }\n\n    .dataframe thead th {\n        text-align: right;\n    }\n</style>\n<table border=\"1\" class=\"dataframe\">\n  <thead>\n    <tr style=\"text-align: right;\">\n      <th></th>\n      <th>ID</th>\n      <th>ActivoPasivo</th>\n      <th>Fecha</th>\n      <th>FechaFixing</th>\n      <th>FechaFlujo</th>\n      <th>FechaPago</th>\n      <th>Flujo</th>\n      <th>ValorPresenteMonFlujo</th>\n      <th>Moneda</th>\n      <th>MonedaBase</th>\n    </tr>\n  </thead>\n  <tbody>\n    <tr>\n      <th>0</th>\n      <td>3</td>\n      <td>-1</td>\n      <td>2019-12-20</td>\n      <td>2020-05-12</td>\n      <td>2020-05-12</td>\n      <td>2020-05-12</td>\n      <td>5.647471e+07</td>\n      <td>5.625791e+07</td>\n      <td>CLP</td>\n      <td>CLP</td>\n    </tr>\n    <tr>\n      <th>1</th>\n      <td>3</td>\n      <td>-1</td>\n      <td>2019-12-20</td>\n      <td>2020-11-12</td>\n      <td>2020-11-12</td>\n      <td>2020-11-12</td>\n      <td>9.480344e+07</td>\n      <td>9.355259e+07</td>\n      <td>CLP</td>\n      <td>CLP</td>\n    </tr>\n    <tr>\n      <th>2</th>\n      <td>3</td>\n      <td>-1</td>\n      <td>2019-12-20</td>\n      <td>2021-05-12</td>\n      <td>2021-05-12</td>\n      <td>2021-05-12</td>\n      <td>1.015675e+08</td>\n      <td>9.921964e+07</td>\n      <td>CLP</td>\n      <td>CLP</td>\n    </tr>\n    <tr>\n      <th>3</th>\n      <td>3</td>\n      <td>-1</td>\n      <td>2019-12-20</td>\n      <td>2021-11-12</td>\n      <td>2021-11-12</td>\n      <td>2021-11-12</td>\n      <td>1.009595e+10</td>\n      <td>9.768839e+09</td>\n      <td>CLP</td>\n      <td>CLP</td>\n    </tr>\n    <tr>\n      <th>4</th>\n      <td>3</td>\n      <td>1</td>\n      <td>2019-12-20</td>\n      <td>2020-05-12</td>\n      <td>2020-05-12</td>\n      <td>2020-05-12</td>\n      <td>7.304466e+07</td>\n      <td>7.276424e+07</td>\n      <td>CLP</td>\n      <td>CLP</td>\n    </tr>\n    <tr>\n      <th>5</th>\n      <td>3</td>\n      <td>1</td>\n      <td>2019-12-20</td>\n      <td>2020-11-12</td>\n      <td>2020-11-12</td>\n      <td>2020-11-12</td>\n      <td>7.385030e+07</td>\n      <td>7.287591e+07</td>\n      <td>CLP</td>\n      <td>CLP</td>\n    </tr>\n    <tr>\n      <th>6</th>\n      <td>3</td>\n      <td>1</td>\n      <td>2019-12-20</td>\n      <td>2021-05-12</td>\n      <td>2021-05-12</td>\n      <td>2021-05-12</td>\n      <td>7.264186e+07</td>\n      <td>7.096266e+07</td>\n      <td>CLP</td>\n      <td>CLP</td>\n    </tr>\n    <tr>\n      <th>7</th>\n      <td>3</td>\n      <td>1</td>\n      <td>2019-12-20</td>\n      <td>2021-11-12</td>\n      <td>2021-11-12</td>\n      <td>2021-11-12</td>\n      <td>1.007385e+10</td>\n      <td>9.747450e+09</td>\n      <td>CLP</td>\n      <td>CLP</td>\n    </tr>\n  </tbody>\n</table>\n</div>",
      "text/plain": "  ID ActivoPasivo       Fecha FechaFixing  FechaFlujo   FechaPago  \\\n0  3           -1  2019-12-20  2020-05-12  2020-05-12  2020-05-12   \n1  3           -1  2019-12-20  2020-11-12  2020-11-12  2020-11-12   \n2  3           -1  2019-12-20  2021-05-12  2021-05-12  2021-05-12   \n3  3           -1  2019-12-20  2021-11-12  2021-11-12  2021-11-12   \n4  3            1  2019-12-20  2020-05-12  2020-05-12  2020-05-12   \n5  3            1  2019-12-20  2020-11-12  2020-11-12  2020-11-12   \n6  3            1  2019-12-20  2021-05-12  2021-05-12  2021-05-12   \n7  3            1  2019-12-20  2021-11-12  2021-11-12  2021-11-12   \n\n          Flujo  ValorPresenteMonFlujo Moneda MonedaBase  \n0  5.647471e+07           5.625791e+07    CLP        CLP  \n1  9.480344e+07           9.355259e+07    CLP        CLP  \n2  1.015675e+08           9.921964e+07    CLP        CLP  \n3  1.009595e+10           9.768839e+09    CLP        CLP  \n4  7.304466e+07           7.276424e+07    CLP        CLP  \n5  7.385030e+07           7.287591e+07    CLP        CLP  \n6  7.264186e+07           7.096266e+07    CLP        CLP  \n7  1.007385e+10           9.747450e+09    CLP        CLP  "
     },
     "execution_count": 18,
     "metadata": {},
     "output_type": "execute_result"
    }
   ],
   "source": [
    "derivado_real.get_flujos()"
   ]
  },
  {
   "cell_type": "code",
   "execution_count": 19,
   "metadata": {},
   "outputs": [],
   "source": [
    "derivado_real.set_historico()\n",
    "\n"
   ]
  },
  {
   "cell_type": "code",
   "execution_count": 20,
   "metadata": {},
   "outputs": [],
   "source": [
    "derivado_real.set_retorno()\n",
    "\n",
    "print(derivado_real.get_retornos())\n",
    "\n"
   ]
  },
  {
   "cell_type": "code",
   "execution_count": 21,
   "metadata": {},
   "outputs": [],
   "source": [
    "derivado_real.set_volatilidad()\n",
    "\n",
    "print(derivado_real.get_volatilidad())\n",
    "\n"
   ]
  },
  {
   "cell_type": "code",
   "execution_count": 22,
   "metadata": {},
   "outputs": [
    {
     "name": "stdout",
     "output_type": "stream",
     "text": "0         1         2         3         4         5         6   \\\n0   1.000000  1.000000  1.000000  1.000000  0.997273  0.995826  0.997287   \n1   1.000000  1.000000  1.000000  1.000000  0.997273  0.995826  0.997287   \n2   1.000000  1.000000  1.000000  1.000000  0.997273  0.995826  0.997287   \n3   1.000000  1.000000  1.000000  1.000000  0.997273  0.995826  0.997287   \n4   0.997273  0.997273  0.997273  0.997273  1.000000  0.999409  0.999022   \n5   0.995826  0.995826  0.995826  0.995826  0.999409  1.000000  0.999299   \n6   0.997287  0.997287  0.997287  0.997287  0.999022  0.999299  1.000000   \n7   0.998018  0.998018  0.998018  0.998018  0.998228  0.998177  0.999651   \n8   0.997997  0.997997  0.997997  0.997997  0.996462  0.996035  0.998390   \n9   0.910999  0.910999  0.910999  0.910999  0.911579  0.913908  0.917475   \n10  0.826669  0.826669  0.826669  0.826669  0.828236  0.831667  0.835595   \n11  0.542907  0.542907  0.542907  0.542907  0.546045  0.551956  0.556214   \n12  0.632966  0.632966  0.632966  0.632966  0.633138  0.639802  0.643645   \n13  0.658727  0.658727  0.658727  0.658727  0.655060  0.661745  0.664507   \n\n          7         8         9         10        11        12        13  \n0   0.998018  0.997997  0.910999  0.826669  0.542907  0.632966  0.658727  \n1   0.998018  0.997997  0.910999  0.826669  0.542907  0.632966  0.658727  \n2   0.998018  0.997997  0.910999  0.826669  0.542907  0.632966  0.658727  \n3   0.998018  0.997997  0.910999  0.826669  0.542907  0.632966  0.658727  \n4   0.998228  0.996462  0.911579  0.828236  0.546045  0.633138  0.655060  \n5   0.998177  0.996035  0.913908  0.831667  0.551956  0.639802  0.661745  \n6   0.999651  0.998390  0.917475  0.835595  0.556214  0.643645  0.664507  \n7   1.000000  0.999537  0.916831  0.834226  0.553634  0.642880  0.666185  \n8   0.999537  1.000000  0.915320  0.831956  0.550217  0.641452  0.667518  \n9   0.916831  0.915320  1.000000  0.984930  0.838730  0.866625  0.779179  \n10  0.834226  0.831956  0.984930  1.000000  0.919700  0.919347  0.788064  \n11  0.553634  0.550217  0.838730  0.919700  1.000000  0.952066  0.754928  \n12  0.642880  0.641452  0.866625  0.919347  0.952066  1.000000  0.919348  \n13  0.666185  0.667518  0.779179  0.788064  0.754928  0.919348  1.000000  \n"
    }
   ],
   "source": [
    "derivado_real.set_correlacion()\n",
    "\n",
    "print(derivado_real.get_correlacion())\n",
    "\n"
   ]
  },
  {
   "cell_type": "code",
   "execution_count": 23,
   "metadata": {},
   "outputs": [],
   "source": [
    "derivado_real.set_covarianza()\n",
    "\n"
   ]
  },
  {
   "cell_type": "code",
   "execution_count": 24,
   "metadata": {},
   "outputs": [
    {
     "name": "stdout",
     "output_type": "stream",
     "text": "1 2\n1.2654715141183718e-07\n[1.26547151e-06]\n[2.53094303e-06]\n1.0000000000000007\n[array([2.1]), array([1.9])]\nJavier, nos fallaste\n"
    },
    {
     "ename": "SystemExit",
     "evalue": "1",
     "output_type": "error",
     "traceback": [
      "An exception has occurred, use %tb to see the full traceback.\n",
      "\u001b[1;31mSystemExit\u001b[0m\u001b[1;31m:\u001b[0m 1\n"
     ]
    }
   ],
   "source": [
    "derivado_real.distribucion_pivotes()"
   ]
  }
 ]
}