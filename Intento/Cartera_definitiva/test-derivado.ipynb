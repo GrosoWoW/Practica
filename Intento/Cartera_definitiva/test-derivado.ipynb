{
 "nbformat": 4,
 "nbformat_minor": 2,
 "metadata": {
  "language_info": {
   "name": "python",
   "codemirror_mode": {
    "name": "ipython",
    "version": 3
   },
   "version": "3.6.8-final"
  },
  "orig_nbformat": 2,
  "file_extension": ".py",
  "mimetype": "text/x-python",
  "name": "python",
  "npconvert_exporter": "python",
  "pygments_lexer": "ipython3",
  "version": 3,
  "kernelspec": {
   "name": "python36864bit95f61d10654543119976a9b54263d6fa",
   "display_name": "Python 3.6.8 64-bit"
  }
 },
 "cells": [
  {
   "cell_type": "code",
   "execution_count": 1,
   "metadata": {},
   "outputs": [],
   "source": [
    "from Derivado import Derivado\n",
    "from DerivadosTipos.DerivadosSCC import *\n",
    "import pyodbc\n",
    "import pandas as np"
   ]
  },
  {
   "cell_type": "code",
   "execution_count": 2,
   "metadata": {},
   "outputs": [],
   "source": [
    "server = '172.16.1.38'\n",
    "username = 'sa'\n",
    "password = 'qwerty123'\n",
    "driver = '{ODBC Driver 17 for SQL Server}'\n",
    "\n",
    "cnn = pyodbc.connect('DRIVER=' + driver + ';SERVER=' + server + ';UID=' + username + ';PWD=' + password)"
   ]
  },
  {
   "cell_type": "code",
   "execution_count": 3,
   "metadata": {},
   "outputs": [],
   "source": [
    "info_derivado = dict()\n",
    "info_derivado[\"Tipo\"] = 'SCC'\n",
    "info_derivado[\"ID_Key\"] = \"\"\n",
    "info_derivado[\"Administradora\"] = \"Admin\"\n",
    "info_derivado[\"Fondo\"] = \"Fondo\"\n",
    "info_derivado[\"Contraparte\"] = \"Contraparte\"\n",
    "info_derivado[\"ID\"] = 3\n",
    "info_derivado[\"Nemotecnico\"] = \"\"\n",
    "info_derivado[\"Mercado\"] = \"Local\""
   ]
  },
  {
   "cell_type": "code",
   "execution_count": 4,
   "metadata": {},
   "outputs": [],
   "source": [
    "fecha = datetime.date(2019, 12, 20)\n",
    "hora = '1700'\n",
    "\n",
    "info_derivado[\"FechaEfectiva\"] = '12/11/2019'\n",
    "info_derivado[\"FechaVenc\"] = '12/11/2021'\n",
    "\n",
    "info_derivado[\"AjusteFeriados\"] = \"CL\"\n",
    "\n",
    "info_derivado[\"NocionalActivo\"] = 10*(10**9)\n",
    "\n",
    "info_derivado[\"MonedaActivo\"] = 'CLP'\n",
    "info_derivado[\"MonedaBase\"] = 'CLP'\n",
    "\n",
    "info_derivado[\"TipoTasaActivo\"] = 'Fija'\n",
    "info_derivado[\"TipoTasaPasivo\"] = 'Flotante'\n",
    "\n",
    "info_derivado[\"TasaActivo\"] = 1.45\n",
    "info_derivado[\"TasaPasivo\"] = -1000\n",
    "\n",
    "info_derivado[\"FrecuenciaActivo\"] = \"Semi annual\"\n",
    "info_derivado[\"FrecuenciaPasivo\"] = info_derivado[\"FrecuenciaActivo\"]"
   ]
  },
  {
   "cell_type": "code",
   "execution_count": 5,
   "metadata": {},
   "outputs": [
    {
     "name": "stderr",
     "output_type": "stream",
     "text": "c:\\Users\\groso\\Desktop\\Practica\\Intento\\Cartera_definitiva\\DerivadosTipos\\DerivadosSCC.py:48: SettingWithCopyWarning: \nA value is trying to be set on a copy of a slice from a DataFrame\n\nSee the caveats in the documentation: http://pandas.pydata.org/pandas-docs/stable/user_guide/indexing.html#returning-a-view-versus-a-copy\n  info_cartera.MonedaActivo[0] = \"CLP\"\n"
    }
   ],
   "source": [
    "info1 = pd.DataFrame([info_derivado])\n",
    "derivado10 = DerivadosSCC(fecha, hora, info1, cnn)\n",
    "\n",
    "derivado_real = Derivado(derivado10, \"CLP\", fecha, cnn)"
   ]
  },
  {
   "cell_type": "code",
   "execution_count": 6,
   "metadata": {},
   "outputs": [
    {
     "data": {
      "text/html": "<div>\n<style scoped>\n    .dataframe tbody tr th:only-of-type {\n        vertical-align: middle;\n    }\n\n    .dataframe tbody tr th {\n        vertical-align: top;\n    }\n\n    .dataframe thead th {\n        text-align: right;\n    }\n</style>\n<table border=\"1\" class=\"dataframe\">\n  <thead>\n    <tr style=\"text-align: right;\">\n      <th></th>\n      <th>ID</th>\n      <th>ActivoPasivo</th>\n      <th>Fecha</th>\n      <th>FechaFixing</th>\n      <th>FechaFlujo</th>\n      <th>FechaPago</th>\n      <th>Flujo</th>\n      <th>ValorPresenteMonFlujo</th>\n      <th>Moneda</th>\n      <th>MonedaBase</th>\n    </tr>\n  </thead>\n  <tbody>\n    <tr>\n      <th>0</th>\n      <td>3</td>\n      <td>-1</td>\n      <td>2019-12-20</td>\n      <td>2020-05-12</td>\n      <td>2020-05-12</td>\n      <td>2020-05-12</td>\n      <td>5.647471e+07</td>\n      <td>5.625791e+07</td>\n      <td>CLP</td>\n      <td>CLP</td>\n    </tr>\n    <tr>\n      <th>1</th>\n      <td>3</td>\n      <td>-1</td>\n      <td>2019-12-20</td>\n      <td>2020-11-12</td>\n      <td>2020-11-12</td>\n      <td>2020-11-12</td>\n      <td>9.480344e+07</td>\n      <td>9.355259e+07</td>\n      <td>CLP</td>\n      <td>CLP</td>\n    </tr>\n    <tr>\n      <th>2</th>\n      <td>3</td>\n      <td>-1</td>\n      <td>2019-12-20</td>\n      <td>2021-05-12</td>\n      <td>2021-05-12</td>\n      <td>2021-05-12</td>\n      <td>1.015675e+08</td>\n      <td>9.921964e+07</td>\n      <td>CLP</td>\n      <td>CLP</td>\n    </tr>\n    <tr>\n      <th>3</th>\n      <td>3</td>\n      <td>-1</td>\n      <td>2019-12-20</td>\n      <td>2021-11-12</td>\n      <td>2021-11-12</td>\n      <td>2021-11-12</td>\n      <td>1.009595e+10</td>\n      <td>9.768839e+09</td>\n      <td>CLP</td>\n      <td>CLP</td>\n    </tr>\n    <tr>\n      <th>4</th>\n      <td>3</td>\n      <td>1</td>\n      <td>2019-12-20</td>\n      <td>2020-05-12</td>\n      <td>2020-05-12</td>\n      <td>2020-05-12</td>\n      <td>7.304466e+07</td>\n      <td>7.276424e+07</td>\n      <td>CLP</td>\n      <td>CLP</td>\n    </tr>\n    <tr>\n      <th>5</th>\n      <td>3</td>\n      <td>1</td>\n      <td>2019-12-20</td>\n      <td>2020-11-12</td>\n      <td>2020-11-12</td>\n      <td>2020-11-12</td>\n      <td>7.385030e+07</td>\n      <td>7.287591e+07</td>\n      <td>CLP</td>\n      <td>CLP</td>\n    </tr>\n    <tr>\n      <th>6</th>\n      <td>3</td>\n      <td>1</td>\n      <td>2019-12-20</td>\n      <td>2021-05-12</td>\n      <td>2021-05-12</td>\n      <td>2021-05-12</td>\n      <td>7.264186e+07</td>\n      <td>7.096266e+07</td>\n      <td>CLP</td>\n      <td>CLP</td>\n    </tr>\n    <tr>\n      <th>7</th>\n      <td>3</td>\n      <td>1</td>\n      <td>2019-12-20</td>\n      <td>2021-11-12</td>\n      <td>2021-11-12</td>\n      <td>2021-11-12</td>\n      <td>1.007385e+10</td>\n      <td>9.747450e+09</td>\n      <td>CLP</td>\n      <td>CLP</td>\n    </tr>\n  </tbody>\n</table>\n</div>",
      "text/plain": "  ID ActivoPasivo       Fecha FechaFixing  FechaFlujo   FechaPago  \\\n0  3           -1  2019-12-20  2020-05-12  2020-05-12  2020-05-12   \n1  3           -1  2019-12-20  2020-11-12  2020-11-12  2020-11-12   \n2  3           -1  2019-12-20  2021-05-12  2021-05-12  2021-05-12   \n3  3           -1  2019-12-20  2021-11-12  2021-11-12  2021-11-12   \n4  3            1  2019-12-20  2020-05-12  2020-05-12  2020-05-12   \n5  3            1  2019-12-20  2020-11-12  2020-11-12  2020-11-12   \n6  3            1  2019-12-20  2021-05-12  2021-05-12  2021-05-12   \n7  3            1  2019-12-20  2021-11-12  2021-11-12  2021-11-12   \n\n          Flujo  ValorPresenteMonFlujo Moneda MonedaBase  \n0  5.647471e+07           5.625791e+07    CLP        CLP  \n1  9.480344e+07           9.355259e+07    CLP        CLP  \n2  1.015675e+08           9.921964e+07    CLP        CLP  \n3  1.009595e+10           9.768839e+09    CLP        CLP  \n4  7.304466e+07           7.276424e+07    CLP        CLP  \n5  7.385030e+07           7.287591e+07    CLP        CLP  \n6  7.264186e+07           7.096266e+07    CLP        CLP  \n7  1.007385e+10           9.747450e+09    CLP        CLP  "
     },
     "execution_count": 6,
     "metadata": {},
     "output_type": "execute_result"
    }
   ],
   "source": [
    "derivado_real.get_flujos()"
   ]
  },
  {
   "cell_type": "code",
   "execution_count": 7,
   "metadata": {},
   "outputs": [
    {
     "name": "stdout",
     "output_type": "stream",
     "text": "0         1         2         3         4         5         6  \\\n0    0.998571  0.995902  0.991631  0.982264  0.966468  0.945505  0.921717   \n1    0.998875  0.996141  0.991958  0.982687  0.966303  0.945408  0.921966   \n2    0.998878  0.996085  0.991839  0.982881  0.965917  0.944585  0.920531   \n3    0.998554  0.995443  0.991213  0.982015  0.964914  0.942910  0.917479   \n4    0.998156  0.994862  0.990249  0.981011  0.964421  0.941894  0.915942   \n..        ...       ...       ...       ...       ...       ...       ...   \n502  0.998303  0.994586  0.988017  0.973033  0.947487  0.913337  0.877169   \n503  0.998301  0.994391  0.987729  0.973116  0.947998  0.914070  0.878153   \n504  0.998300  0.994468  0.987794  0.972559  0.948010  0.914199  0.878153   \n505  0.998308  0.994446  0.987805  0.972716  0.947864  0.913530  0.877631   \n506  0.998232  0.994329  0.987752  0.972615  0.948057  0.913941  0.877315   \n\n            7         8         9        10        11        12        13  \n0    0.894395  0.832008  0.767146  0.738167  0.618230  0.525643  0.381076  \n1    0.894696  0.833058  0.768410  0.739573  0.620019  0.527619  0.383226  \n2    0.892919  0.830680  0.766395  0.737442  0.616786  0.525871  0.381424  \n3    0.888932  0.825432  0.760885  0.731264  0.610021  0.516319  0.370984  \n4    0.886688  0.822472  0.757257  0.726994  0.605628  0.510754  0.364994  \n..        ...       ...       ...       ...       ...       ...       ...  \n502  0.839818  0.763704  0.691282  0.656400  0.519009  0.393270  0.245609  \n503  0.840836  0.764545  0.692720  0.658631  0.520568  0.399213  0.251430  \n504  0.841202  0.764240  0.690689  0.657974  0.518936  0.396589  0.248891  \n505  0.840210  0.764085  0.690558  0.656556  0.517072  0.394652  0.247065  \n506  0.839757  0.763655  0.689912  0.655535  0.516251  0.394847  0.247290  \n\n[507 rows x 14 columns]\n"
    }
   ],
   "source": [
    "derivado_real.set_historico()\n",
    "\n",
    "print(derivado_real.get_historicos())\n",
    "\n"
   ]
  },
  {
   "cell_type": "code",
   "execution_count": 8,
   "metadata": {},
   "outputs": [
    {
     "name": "stdout",
     "output_type": "stream",
     "text": "507\n14\n            0         1         2         3         4         5             6  \\\n0    0.000000  0.000000  0.000000  0.000000  0.000000  0.000000  0.000000e+00   \n1    0.000304  0.000240  0.000330  0.000430 -0.000171 -0.000103  2.698608e-04   \n2    0.000003 -0.000055 -0.000120  0.000197 -0.000399 -0.000870 -1.557410e-03   \n3   -0.000324 -0.000645 -0.000631 -0.000882 -0.001039 -0.001776 -3.321728e-03   \n4   -0.000399 -0.000584 -0.000974 -0.001023 -0.000510 -0.001077 -1.675876e-03   \n..        ...       ...       ...       ...       ...       ...           ...   \n502  0.000046  0.000003 -0.000381 -0.000274 -0.000206 -0.000083  2.255312e-05   \n503 -0.000002 -0.000196 -0.000292  0.000086  0.000540  0.000803  1.121194e-03   \n504 -0.000002  0.000077  0.000066 -0.000573  0.000013  0.000140  8.695468e-07   \n505  0.000008 -0.000022  0.000012  0.000161 -0.000155 -0.000732 -5.950878e-04   \n506 -0.000075 -0.000117 -0.000054 -0.000104  0.000204  0.000450 -3.595756e-04   \n\n            7         8         9        10        11        12        13  \n0    0.000000  0.000000  0.000000  0.000000  0.000000  0.000000  0.000000  \n1    0.000336  0.001262  0.001646  0.001903  0.002888  0.003751  0.005625  \n2   -0.001988 -0.002859 -0.002626 -0.002885 -0.005228 -0.003318 -0.004712  \n3   -0.004474 -0.006337 -0.007215 -0.008413 -0.011028 -0.018331 -0.027753  \n4   -0.002527 -0.003593 -0.004780 -0.005856 -0.007227 -0.010836 -0.016280  \n..        ...       ...       ...       ...       ...       ...       ...  \n502  0.000032 -0.000352  0.000966  0.000644  0.005530 -0.006179 -0.010301  \n503  0.001211  0.001101  0.002078  0.003392  0.003000  0.014998  0.023426  \n504  0.000435 -0.000399 -0.002936 -0.000998 -0.003140 -0.006595 -0.010149  \n505 -0.001180 -0.000203 -0.000191 -0.002159 -0.003599 -0.004896 -0.007366  \n506 -0.000539 -0.000564 -0.000936 -0.001556 -0.001589  0.000494  0.000912  \n\n[507 rows x 14 columns]\n"
    }
   ],
   "source": [
    "derivado_real.set_retorno()\n",
    "\n",
    "print(derivado_real.get_retornos())\n",
    "\n"
   ]
  },
  {
   "cell_type": "code",
   "execution_count": 9,
   "metadata": {},
   "outputs": [
    {
     "name": "stdout",
     "output_type": "stream",
     "text": "0\n0   0.000117\n1   0.000180\n2   0.000300\n3   0.000390\n4   0.000591\n5   0.000813\n6   0.000882\n7   0.001048\n8   0.001296\n9   0.002012\n10  0.002517\n11  0.003190\n12  0.009280\n13  0.014488\n"
    }
   ],
   "source": [
    "derivado_real.set_volatilidad()\n",
    "\n",
    "print(derivado_real.get_volatilidad())\n",
    "\n"
   ]
  },
  {
   "cell_type": "code",
   "execution_count": 10,
   "metadata": {},
   "outputs": [
    {
     "name": "stdout",
     "output_type": "stream",
     "text": "0         1         2         3         4         5         6   \\\n0   1.000000  0.757692  0.686352  0.263059  0.401897  0.374721  0.349633   \n1   0.757692  1.000000  0.729940  0.372271  0.170679  0.080081  0.048563   \n2   0.686352  0.729940  1.000000  0.458968  0.551520  0.448935  0.399993   \n3   0.263059  0.372271  0.458968  1.000000  0.342627  0.224661  0.129419   \n4   0.401897  0.170679  0.551520  0.342627  1.000000  0.939691  0.878339   \n5   0.374721  0.080081  0.448935  0.224661  0.939691  1.000000  0.914357   \n6   0.349633  0.048563  0.399993  0.129419  0.878339  0.914357  1.000000   \n7   0.394009  0.141865  0.399901  0.149968  0.834357  0.872540  0.892325   \n8   0.343544  0.199034  0.257827  0.185575  0.605557  0.610719  0.610963   \n9   0.434445  0.174526  0.282304  0.264485  0.638711  0.642892  0.639875   \n10  0.404348  0.212601  0.321833  0.269146  0.588983  0.656377  0.670207   \n11  0.371279  0.219376  0.096193  0.051741  0.442543  0.499117  0.586348   \n12  0.270525  0.039000  0.240807  0.161628  0.524162  0.554464  0.525371   \n13  0.263319  0.033243  0.239238  0.162323  0.518532  0.547703  0.516608   \n\n          7         8         9         10        11        12        13  \n0   0.394009  0.343544  0.434445  0.404348  0.371279  0.270525  0.263319  \n1   0.141865  0.199034  0.174526  0.212601  0.219376  0.039000  0.033243  \n2   0.399901  0.257827  0.282304  0.321833  0.096193  0.240807  0.239238  \n3   0.149968  0.185575  0.264485  0.269146  0.051741  0.161628  0.162323  \n4   0.834357  0.605557  0.638711  0.588983  0.442543  0.524162  0.518532  \n5   0.872540  0.610719  0.642892  0.656377  0.499117  0.554464  0.547703  \n6   0.892325  0.610963  0.639875  0.670207  0.586348  0.525371  0.516608  \n7   1.000000  0.634776  0.624151  0.714578  0.557416  0.503482  0.495155  \n8   0.634776  1.000000  0.707702  0.675790  0.676193  0.456428  0.445714  \n9   0.624151  0.707702  1.000000  0.824840  0.728127  0.582588  0.571684  \n10  0.714578  0.675790  0.824840  1.000000  0.685869  0.527070  0.516257  \n11  0.557416  0.676193  0.728127  0.685869  1.000000  0.385644  0.366990  \n12  0.503482  0.456428  0.582588  0.527070  0.385644  1.000000  0.999786  \n13  0.495155  0.445714  0.571684  0.516257  0.366990  0.999786  1.000000  \n"
    }
   ],
   "source": [
    "derivado_real.set_correlacion()\n",
    "\n",
    "print(derivado_real.get_correlacion())\n",
    "\n"
   ]
  },
  {
   "cell_type": "code",
   "execution_count": 11,
   "metadata": {},
   "outputs": [],
   "source": [
    "derivado_real.set_covarianza()\n",
    "\n"
   ]
  },
  {
   "cell_type": "code",
   "execution_count": 12,
   "metadata": {},
   "outputs": [
    {
     "ename": "TypeError",
     "evalue": "'numpy.ndarray' object is not callable",
     "output_type": "error",
     "traceback": [
      "\u001b[1;31m---------------------------------------------------------------------------\u001b[0m",
      "\u001b[1;31mTypeError\u001b[0m                                 Traceback (most recent call last)",
      "\u001b[1;32m<ipython-input-12-d6aef8824d23>\u001b[0m in \u001b[0;36m<module>\u001b[1;34m\u001b[0m\n\u001b[1;32m----> 1\u001b[1;33m \u001b[0mderivado_real\u001b[0m\u001b[1;33m.\u001b[0m\u001b[0mdistribucion_pivotes\u001b[0m\u001b[1;33m(\u001b[0m\u001b[1;33m)\u001b[0m\u001b[1;33m\u001b[0m\u001b[1;33m\u001b[0m\u001b[0m\n\u001b[0m\u001b[0;32m      2\u001b[0m \u001b[1;33m\u001b[0m\u001b[0m\n\u001b[0;32m      3\u001b[0m \u001b[0mderivado_real\u001b[0m\u001b[1;33m.\u001b[0m\u001b[0mget_distribucion_pivotes\u001b[0m\u001b[1;33m(\u001b[0m\u001b[1;33m)\u001b[0m\u001b[1;33m\u001b[0m\u001b[1;33m\u001b[0m\u001b[0m\n",
      "\u001b[1;31mTypeError\u001b[0m: 'numpy.ndarray' object is not callable"
     ]
    }
   ],
   "source": [
    "derivado_real.distribucion_pivotes()\n",
    "\n",
    "derivado_real.get_distribucion_pivotes()"
   ]
  },
  {
   "cell_type": "code",
   "execution_count": null,
   "metadata": {},
   "outputs": [],
   "source": []
  }
 ]
}