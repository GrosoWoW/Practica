{
 "nbformat": 4,
 "nbformat_minor": 2,
 "metadata": {
  "language_info": {
   "name": "python",
   "codemirror_mode": {
    "name": "ipython",
    "version": 3
   },
   "version": "3.6.8-final"
  },
  "orig_nbformat": 2,
  "file_extension": ".py",
  "mimetype": "text/x-python",
  "name": "python",
  "npconvert_exporter": "python",
  "pygments_lexer": "ipython3",
  "version": 3,
  "kernelspec": {
   "name": "python36864bit95f61d10654543119976a9b54263d6fa",
   "display_name": "Python 3.6.8 64-bit"
  }
 },
 "cells": [
  {
   "cell_type": "code",
   "execution_count": 11,
   "metadata": {},
   "outputs": [],
   "source": [
    "from Derivado import Derivado\n",
    "from DerivadosTipos.DerivadosSCC import *\n",
    "import pyodbc\n",
    "import pandas as np"
   ]
  },
  {
   "cell_type": "code",
   "execution_count": 12,
   "metadata": {},
   "outputs": [],
   "source": [
    "server = '172.16.1.38'\n",
    "username = 'sa'\n",
    "password = 'qwerty123'\n",
    "driver = '{ODBC Driver 17 for SQL Server}'\n",
    "\n",
    "cnn = pyodbc.connect('DRIVER=' + driver + ';SERVER=' + server + ';UID=' + username + ';PWD=' + password)"
   ]
  },
  {
   "cell_type": "code",
   "execution_count": 13,
   "metadata": {},
   "outputs": [],
   "source": [
    "info_derivado = dict()\n",
    "info_derivado[\"Tipo\"] = 'SCC'\n",
    "info_derivado[\"ID_Key\"] = \"\"\n",
    "info_derivado[\"Administradora\"] = \"Admin\"\n",
    "info_derivado[\"Fondo\"] = \"Fondo\"\n",
    "info_derivado[\"Contraparte\"] = \"Contraparte\"\n",
    "info_derivado[\"ID\"] = 3\n",
    "info_derivado[\"Nemotecnico\"] = \"\"\n",
    "info_derivado[\"Mercado\"] = \"Local\""
   ]
  },
  {
   "cell_type": "code",
   "execution_count": 14,
   "metadata": {},
   "outputs": [],
   "source": [
    "fecha = datetime.date(2019, 12, 20)\n",
    "hora = '1700'\n",
    "\n",
    "info_derivado[\"FechaEfectiva\"] = '12/11/2019'\n",
    "info_derivado[\"FechaVenc\"] = '12/11/2021'\n",
    "\n",
    "info_derivado[\"AjusteFeriados\"] = \"CL\"\n",
    "\n",
    "info_derivado[\"NocionalActivo\"] = 10*(10**9)\n",
    "\n",
    "info_derivado[\"MonedaActivo\"] = 'CLP'\n",
    "info_derivado[\"MonedaBase\"] = 'CLP'\n",
    "\n",
    "info_derivado[\"TipoTasaActivo\"] = 'Fija'\n",
    "info_derivado[\"TipoTasaPasivo\"] = 'Flotante'\n",
    "\n",
    "info_derivado[\"TasaActivo\"] = 1.45\n",
    "info_derivado[\"TasaPasivo\"] = -1000\n",
    "\n",
    "info_derivado[\"FrecuenciaActivo\"] = \"Semi annual\"\n",
    "info_derivado[\"FrecuenciaPasivo\"] = info_derivado[\"FrecuenciaActivo\"]"
   ]
  },
  {
   "cell_type": "code",
   "execution_count": 15,
   "metadata": {},
   "outputs": [
    {
     "name": "stderr",
     "output_type": "stream",
     "text": "c:\\Users\\groso\\Desktop\\Practica\\Intento\\Cartera_definitiva\\DerivadosTipos\\DerivadosSCC.py:48: SettingWithCopyWarning: \nA value is trying to be set on a copy of a slice from a DataFrame\n\nSee the caveats in the documentation: http://pandas.pydata.org/pandas-docs/stable/user_guide/indexing.html#returning-a-view-versus-a-copy\n  info_cartera.MonedaActivo[0] = \"CLP\"\n"
    }
   ],
   "source": [
    "info1 = pd.DataFrame([info_derivado])\n",
    "derivado10 = DerivadosSCC(fecha, hora, info1, cnn)\n",
    "\n",
    "derivado_real = Derivado(derivado10, \"CLP\", fecha, cnn)"
   ]
  },
  {
   "cell_type": "code",
   "execution_count": 16,
   "metadata": {},
   "outputs": [
    {
     "data": {
      "text/html": "<div>\n<style scoped>\n    .dataframe tbody tr th:only-of-type {\n        vertical-align: middle;\n    }\n\n    .dataframe tbody tr th {\n        vertical-align: top;\n    }\n\n    .dataframe thead th {\n        text-align: right;\n    }\n</style>\n<table border=\"1\" class=\"dataframe\">\n  <thead>\n    <tr style=\"text-align: right;\">\n      <th></th>\n      <th>ID</th>\n      <th>ActivoPasivo</th>\n      <th>Fecha</th>\n      <th>FechaFixing</th>\n      <th>FechaFlujo</th>\n      <th>FechaPago</th>\n      <th>Flujo</th>\n      <th>ValorPresenteMonFlujo</th>\n      <th>Moneda</th>\n      <th>MonedaBase</th>\n    </tr>\n  </thead>\n  <tbody>\n    <tr>\n      <th>0</th>\n      <td>3</td>\n      <td>-1</td>\n      <td>2019-12-20</td>\n      <td>2020-05-12</td>\n      <td>2020-05-12</td>\n      <td>2020-05-12</td>\n      <td>5.647471e+07</td>\n      <td>5.625791e+07</td>\n      <td>CLP</td>\n      <td>CLP</td>\n    </tr>\n    <tr>\n      <th>1</th>\n      <td>3</td>\n      <td>-1</td>\n      <td>2019-12-20</td>\n      <td>2020-11-12</td>\n      <td>2020-11-12</td>\n      <td>2020-11-12</td>\n      <td>9.480344e+07</td>\n      <td>9.355259e+07</td>\n      <td>CLP</td>\n      <td>CLP</td>\n    </tr>\n    <tr>\n      <th>2</th>\n      <td>3</td>\n      <td>-1</td>\n      <td>2019-12-20</td>\n      <td>2021-05-12</td>\n      <td>2021-05-12</td>\n      <td>2021-05-12</td>\n      <td>1.015675e+08</td>\n      <td>9.921964e+07</td>\n      <td>CLP</td>\n      <td>CLP</td>\n    </tr>\n    <tr>\n      <th>3</th>\n      <td>3</td>\n      <td>-1</td>\n      <td>2019-12-20</td>\n      <td>2021-11-12</td>\n      <td>2021-11-12</td>\n      <td>2021-11-12</td>\n      <td>1.009595e+10</td>\n      <td>9.768839e+09</td>\n      <td>CLP</td>\n      <td>CLP</td>\n    </tr>\n    <tr>\n      <th>4</th>\n      <td>3</td>\n      <td>1</td>\n      <td>2019-12-20</td>\n      <td>2020-05-12</td>\n      <td>2020-05-12</td>\n      <td>2020-05-12</td>\n      <td>7.304466e+07</td>\n      <td>7.276424e+07</td>\n      <td>CLP</td>\n      <td>CLP</td>\n    </tr>\n    <tr>\n      <th>5</th>\n      <td>3</td>\n      <td>1</td>\n      <td>2019-12-20</td>\n      <td>2020-11-12</td>\n      <td>2020-11-12</td>\n      <td>2020-11-12</td>\n      <td>7.385030e+07</td>\n      <td>7.287591e+07</td>\n      <td>CLP</td>\n      <td>CLP</td>\n    </tr>\n    <tr>\n      <th>6</th>\n      <td>3</td>\n      <td>1</td>\n      <td>2019-12-20</td>\n      <td>2021-05-12</td>\n      <td>2021-05-12</td>\n      <td>2021-05-12</td>\n      <td>7.264186e+07</td>\n      <td>7.096266e+07</td>\n      <td>CLP</td>\n      <td>CLP</td>\n    </tr>\n    <tr>\n      <th>7</th>\n      <td>3</td>\n      <td>1</td>\n      <td>2019-12-20</td>\n      <td>2021-11-12</td>\n      <td>2021-11-12</td>\n      <td>2021-11-12</td>\n      <td>1.007385e+10</td>\n      <td>9.747450e+09</td>\n      <td>CLP</td>\n      <td>CLP</td>\n    </tr>\n  </tbody>\n</table>\n</div>",
      "text/plain": "  ID ActivoPasivo       Fecha FechaFixing  FechaFlujo   FechaPago  \\\n0  3           -1  2019-12-20  2020-05-12  2020-05-12  2020-05-12   \n1  3           -1  2019-12-20  2020-11-12  2020-11-12  2020-11-12   \n2  3           -1  2019-12-20  2021-05-12  2021-05-12  2021-05-12   \n3  3           -1  2019-12-20  2021-11-12  2021-11-12  2021-11-12   \n4  3            1  2019-12-20  2020-05-12  2020-05-12  2020-05-12   \n5  3            1  2019-12-20  2020-11-12  2020-11-12  2020-11-12   \n6  3            1  2019-12-20  2021-05-12  2021-05-12  2021-05-12   \n7  3            1  2019-12-20  2021-11-12  2021-11-12  2021-11-12   \n\n          Flujo  ValorPresenteMonFlujo Moneda MonedaBase  \n0  5.647471e+07           5.625791e+07    CLP        CLP  \n1  9.480344e+07           9.355259e+07    CLP        CLP  \n2  1.015675e+08           9.921964e+07    CLP        CLP  \n3  1.009595e+10           9.768839e+09    CLP        CLP  \n4  7.304466e+07           7.276424e+07    CLP        CLP  \n5  7.385030e+07           7.287591e+07    CLP        CLP  \n6  7.264186e+07           7.096266e+07    CLP        CLP  \n7  1.007385e+10           9.747450e+09    CLP        CLP  "
     },
     "execution_count": 16,
     "metadata": {},
     "output_type": "execute_result"
    }
   ],
   "source": [
    "derivado_real.get_flujos()"
   ]
  },
  {
   "cell_type": "code",
   "execution_count": 17,
   "metadata": {},
   "outputs": [
    {
     "name": "stdout",
     "output_type": "stream",
     "text": "0         1         2         3         4         5         6  \\\n0    0.999997  0.999991  0.999983  0.999966  0.999931  0.999897  0.999862   \n1    0.999997  0.999992  0.999984  0.999968  0.999935  0.999902  0.999869   \n2    0.999996  0.999988  0.999977  0.999953  0.999906  0.999859  0.999811   \n3    0.999995  0.999985  0.999970  0.999941  0.999881  0.999822  0.999762   \n4    0.999996  0.999987  0.999974  0.999948  0.999896  0.999843  0.999791   \n..        ...       ...       ...       ...       ...       ...       ...   \n195  0.999993  0.999980  0.999960  0.999919  0.999838  0.999756  0.999675   \n196  0.999994  0.999981  0.999962  0.999924  0.999847  0.999770  0.999693   \n197  0.999994  0.999981  0.999962  0.999924  0.999847  0.999771  0.999694   \n198  0.999994  0.999981  0.999962  0.999924  0.999847  0.999769  0.999692   \n199  0.999994  0.999981  0.999962  0.999924  0.999847  0.999769  0.999692   \n\n            7         8         9        10        11        12        13  \n0    0.999828  0.999759  0.999673  0.999630  0.999422  0.999244  0.998875  \n1    0.999837  0.999771  0.999692  0.999653  0.999458  0.999268  0.998878  \n2    0.999764  0.999669  0.999565  0.999513  0.999258  0.999025  0.998554  \n3    0.999702  0.999581  0.999449  0.999383  0.999059  0.998757  0.998156  \n4    0.999738  0.999633  0.999516  0.999457  0.999170  0.998908  0.998383  \n..        ...       ...       ...       ...       ...       ...       ...  \n195  0.999594  0.999431  0.999281  0.999206  0.998832  0.998458  0.997709  \n196  0.999616  0.999462  0.999290  0.999204  0.998791  0.998438  0.997735  \n197  0.999617  0.999461  0.999311  0.999236  0.998859  0.998474  0.997705  \n198  0.999615  0.999461  0.999297  0.999216  0.998813  0.998436  0.997683  \n199  0.999615  0.999461  0.999294  0.999210  0.998804  0.998442  0.997720  \n\n[200 rows x 14 columns]\n"
    }
   ],
   "source": [
    "derivado_real.set_historico()\n",
    "\n",
    "print(derivado_real.get_historicos())"
   ]
  },
  {
   "cell_type": "code",
   "execution_count": 18,
   "metadata": {},
   "outputs": [
    {
     "name": "stdout",
     "output_type": "stream",
     "text": "0             1             2             3             4  \\\n0    0.000000e+00  0.000000e+00  0.000000e+00  0.000000e+00  0.000000e+00   \n1    1.710304e-07  5.130912e-07  1.026182e-06  2.052365e-06  3.665715e-06   \n2   -1.221571e-06 -3.664713e-06 -7.329426e-06 -1.465885e-05 -2.915020e-05   \n3   -1.038172e-06 -3.114515e-06 -6.229029e-06 -1.245806e-05 -2.444935e-05   \n4    6.474097e-07  1.942229e-06  3.884458e-06  7.768916e-06  1.450875e-05   \n..            ...           ...           ...           ...           ...   \n195 -5.593969e-07 -1.678191e-06 -3.356382e-06 -6.712763e-06 -1.295456e-05   \n196  3.775906e-07  1.132772e-06  2.265544e-06  4.531087e-06  8.900097e-06   \n197 -2.232651e-09 -6.697953e-09 -1.339591e-08 -2.679181e-08  5.752528e-07   \n198  1.095348e-08  3.286045e-08  6.572091e-08  1.314418e-07 -6.191459e-07   \n199 -6.025163e-09 -1.807549e-08 -3.615098e-08 -7.230196e-08 -1.800087e-08   \n\n                5             6             7             8         9  \\\n0    0.000000e+00  0.000000e+00  0.000000e+00  0.000000e+00  0.000000   \n1    5.279064e-06  6.892414e-06  8.505764e-06  1.173246e-05  0.000019   \n2   -4.364156e-05 -5.813291e-05 -7.262426e-05 -1.016070e-04 -0.000127   \n3   -3.644064e-05 -4.940723e-05 -6.237381e-05 -8.830698e-05 -0.000116   \n4    2.124858e-05  2.896370e-05  3.667883e-05  5.210908e-05  0.000067   \n..            ...           ...           ...           ...       ...   \n195 -1.919636e-05 -2.543816e-05 -3.167995e-05 -4.416355e-05 -0.000046   \n196  1.326911e-05  1.763812e-05  2.200713e-05  3.074515e-05  0.000009   \n197  1.177297e-06  1.779342e-06  1.123714e-06 -1.875427e-07  0.000021   \n198 -1.369734e-06 -2.120321e-06 -1.613236e-06 -5.990662e-07 -0.000014   \n199  3.630021e-08  9.060130e-08  1.449024e-07  2.535045e-07 -0.000003   \n\n           10        11        12        13  \n0    0.000000  0.000000  0.000000  0.000000  \n1    0.000023  0.000036  0.000024  0.000003  \n2   -0.000140 -0.000200 -0.000243 -0.000324  \n3   -0.000130 -0.000199 -0.000268 -0.000399  \n4    0.000074  0.000111  0.000151  0.000228  \n..        ...       ...       ...       ...  \n195 -0.000046 -0.000043 -0.000032 -0.000011  \n196 -0.000002 -0.000042 -0.000019  0.000025  \n197  0.000032  0.000069  0.000036 -0.000030  \n198 -0.000021 -0.000046 -0.000038 -0.000022  \n199 -0.000005 -0.000010  0.000006  0.000037  \n\n[200 rows x 14 columns]\n"
    }
   ],
   "source": [
    "derivado_real.set_retorno()\n",
    "\n",
    "print(derivado_real.get_retornos())\n"
   ]
  },
  {
   "cell_type": "code",
   "execution_count": 19,
   "metadata": {},
   "outputs": [
    {
     "name": "stdout",
     "output_type": "stream",
     "text": "0\n0   4.218238e-07\n1   1.265472e-06\n2   2.530943e-06\n3   5.061886e-06\n4   1.006772e-05\n5   1.506473e-05\n6   2.006191e-05\n7   2.506500e-05\n8   3.510142e-05\n9   3.762434e-05\n10  4.090989e-05\n11  6.262408e-05\n12  6.958923e-05\n13  9.737679e-05\n"
    }
   ],
   "source": [
    "derivado_real.set_volatilidad()\n",
    "\n",
    "print(derivado_real.get_volatilidad())\n"
   ]
  },
  {
   "cell_type": "code",
   "execution_count": 20,
   "metadata": {},
   "outputs": [
    {
     "name": "stdout",
     "output_type": "stream",
     "text": "0         1         2         3         4         5         6   \\\n0   1.000000  1.000000  1.000000  1.000000  0.997273  0.995826  0.997287   \n1   1.000000  1.000000  1.000000  1.000000  0.997273  0.995826  0.997287   \n2   1.000000  1.000000  1.000000  1.000000  0.997273  0.995826  0.997287   \n3   1.000000  1.000000  1.000000  1.000000  0.997273  0.995826  0.997287   \n4   0.997273  0.997273  0.997273  0.997273  1.000000  0.999409  0.999022   \n5   0.995826  0.995826  0.995826  0.995826  0.999409  1.000000  0.999299   \n6   0.997287  0.997287  0.997287  0.997287  0.999022  0.999299  1.000000   \n7   0.998018  0.998018  0.998018  0.998018  0.998228  0.998177  0.999651   \n8   0.997997  0.997997  0.997997  0.997997  0.996462  0.996035  0.998390   \n9   0.910999  0.910999  0.910999  0.910999  0.911579  0.913908  0.917475   \n10  0.826669  0.826669  0.826669  0.826669  0.828236  0.831667  0.835595   \n11  0.542907  0.542907  0.542907  0.542907  0.546045  0.551956  0.556214   \n12  0.632966  0.632966  0.632966  0.632966  0.633138  0.639802  0.643645   \n13  0.658727  0.658727  0.658727  0.658727  0.655060  0.661745  0.664507   \n\n          7         8         9         10        11        12        13  \n0   0.998018  0.997997  0.910999  0.826669  0.542907  0.632966  0.658727  \n1   0.998018  0.997997  0.910999  0.826669  0.542907  0.632966  0.658727  \n2   0.998018  0.997997  0.910999  0.826669  0.542907  0.632966  0.658727  \n3   0.998018  0.997997  0.910999  0.826669  0.542907  0.632966  0.658727  \n4   0.998228  0.996462  0.911579  0.828236  0.546045  0.633138  0.655060  \n5   0.998177  0.996035  0.913908  0.831667  0.551956  0.639802  0.661745  \n6   0.999651  0.998390  0.917475  0.835595  0.556214  0.643645  0.664507  \n7   1.000000  0.999537  0.916831  0.834226  0.553634  0.642880  0.666185  \n8   0.999537  1.000000  0.915320  0.831956  0.550217  0.641452  0.667518  \n9   0.916831  0.915320  1.000000  0.984930  0.838730  0.866625  0.779179  \n10  0.834226  0.831956  0.984930  1.000000  0.919700  0.919347  0.788064  \n11  0.553634  0.550217  0.838730  0.919700  1.000000  0.952066  0.754928  \n12  0.642880  0.641452  0.866625  0.919347  0.952066  1.000000  0.919348  \n13  0.666185  0.667518  0.779179  0.788064  0.754928  0.919348  1.000000  \n"
    }
   ],
   "source": [
    "derivado_real.set_correlacion()\n",
    "\n",
    "print(derivado_real.get_correlacion())"
   ]
  },
  {
   "cell_type": "code",
   "execution_count": null,
   "metadata": {},
   "outputs": [],
   "source": []
  }
 ]
}