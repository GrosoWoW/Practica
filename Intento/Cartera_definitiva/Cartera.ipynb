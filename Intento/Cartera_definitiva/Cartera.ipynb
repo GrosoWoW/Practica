{
 "cells": [
  {
   "cell_type": "markdown",
   "metadata": {},
   "source": [
    "## Documentación uso de Cartera"
   ]
  },
  {
   "cell_type": "markdown",
   "metadata": {},
   "source": [
    "### Los import necesarios"
   ]
  },
  {
   "cell_type": "code",
   "execution_count": 1,
   "metadata": {},
   "outputs": [],
   "source": [
    "import pyodbc\n",
    "\n",
    "from Activo import *\n",
    "from Accion import *\n",
    "from Bono import *\n",
    "from Derivado import *\n",
    "from DerivadosTipos.DerivadosSCC import *\n",
    "\n",
    "from Cartera import *"
   ]
  },
  {
   "cell_type": "markdown",
   "metadata": {},
   "source": [
    "### Definimos la conexión a base de datos"
   ]
  },
  {
   "cell_type": "code",
   "execution_count": 2,
   "metadata": {},
   "outputs": [],
   "source": [
    "server = '172.16.1.38'\n",
    "username = 'sa'\n",
    "password = 'qwerty123'\n",
    "driver = '{ODBC Driver 17 for SQL Server}'\n",
    "cn = pyodbc.connect('DRIVER=' + driver + ';SERVER=' + server + ';UID=' + username + ';PWD=' + password)"
   ]
  },
  {
   "cell_type": "markdown",
   "metadata": {},
   "source": [
    "### Primero, definimos los inputs (activos) que se le entregarán a la cartera"
   ]
  },
  {
   "cell_type": "markdown",
   "metadata": {},
   "source": [
    "#### Construimos una acción\n",
    " A partir de un archivo xlsx se extrae la columna 'Adj Close' para definir el historico de la acción. Hay que insertar la ruta correcta del archivo."
   ]
  },
  {
   "cell_type": "code",
   "execution_count": 3,
   "metadata": {},
   "outputs": [],
   "source": [
    "#archivo = pd.read_excel('C:\\\\Users\\\\groso\\\\Desktop\\\\Practica\\\\Intento\\\\Cartera_definitiva\\\\AMZN.xlsx')    \n",
    "archivo = pd.read_excel('C:\\\\Users\\\\Lenovo\\\\Documents\\\\Universidad\\\\Practica\\\\Cartera_V2\\\\Practica\\\\Intento\\\\Cartera_definitiva\\\\AMZN.xlsx')\n",
    "columnas = [\"Date\", \"Open\", \"High\", \"Low\", \"Close\", \"Adj Close\", \"Volume\"]\n",
    "archivo = archivo[columnas][:200]\n",
    "accion = pd.DataFrame()\n",
    "accion['Moneda'] = ['USD']\n",
    "accion['Historico'] = [[archivo[\"Adj Close\"]]]\n",
    "accion['Nombre'] = \"Amazon\"\n",
    "accion['Inversion'] = [500000]"
   ]
  },
  {
   "cell_type": "markdown",
   "metadata": {},
   "source": [
    "#### Definimos un bono"
   ]
  },
  {
   "cell_type": "code",
   "execution_count": 4,
   "metadata": {},
   "outputs": [],
   "source": [
    "bono = pd.DataFrame()\n",
    "bono['Riesgo'] = ['AAA']  \n",
    "bono['Moneda'] = [\"CLP\"]\n",
    "bono['TablaDesarrollo'] = [\"1#25-09-2018#2,2252#0#100#2,2252|2#25-03-2019#2,2252#0#100#2,2252|3#25-09-2019#2,2252#0#100#2,2252|4#25-03-2020#2,2252#0#100#2,2252|5#25-09-2020#2,2252#0#100#2,2252|6#25-03-2021#2,2252#100#0#102,2252\"]\n",
    "bono['Convencion'] = [\"ACT360\"]\n",
    "bono['FechaEmision'] = ['2018-02-20']"
   ]
  },
  {
   "cell_type": "markdown",
   "metadata": {},
   "source": [
    "#### Declaramos un derivado"
   ]
  },
  {
   "cell_type": "code",
   "execution_count": 5,
   "metadata": {},
   "outputs": [
    {
     "name": "stderr",
     "output_type": "stream",
     "text": [
      "C:\\Users\\Lenovo\\Documents\\Universidad\\Practica\\Cartera_V2\\Practica\\Intento\\Cartera_definitiva\\DerivadosTipos\\DerivadosSCC.py:48: SettingWithCopyWarning: \n",
      "A value is trying to be set on a copy of a slice from a DataFrame\n",
      "\n",
      "See the caveats in the documentation: http://pandas.pydata.org/pandas-docs/stable/user_guide/indexing.html#returning-a-view-versus-a-copy\n",
      "  info_cartera.MonedaActivo[0] = \"CLP\"\n"
     ]
    }
   ],
   "source": [
    "info_derivado = dict()\n",
    "info_derivado[\"Tipo\"] = 'SCC'\n",
    "info_derivado[\"ID_Key\"] = \"\"\n",
    "info_derivado[\"Administradora\"] = \"Admin\"\n",
    "info_derivado[\"Fondo\"] = \"Fondo\"\n",
    "info_derivado[\"Contraparte\"] = \"Contraparte\"\n",
    "info_derivado[\"ID\"] = 3\n",
    "info_derivado[\"Nemotecnico\"] = \"\"\n",
    "info_derivado[\"Mercado\"] = \"Local\"\n",
    "fecha = datetime.date(2019, 12, 20)\n",
    "hora = '1700'\n",
    "info_derivado[\"FechaEfectiva\"] = '12/11/2019'\n",
    "info_derivado[\"FechaVenc\"] = '12/11/2021'\n",
    "info_derivado[\"AjusteFeriados\"] = \"CL\"\n",
    "info_derivado[\"NocionalActivo\"] = 10*(10**9)\n",
    "info_derivado[\"MonedaActivo\"] = 'CLP'\n",
    "info_derivado[\"MonedaBase\"] = 'CLP'\n",
    "info_derivado[\"TipoTasaActivo\"] = 'Fija'\n",
    "info_derivado[\"TipoTasaPasivo\"] = 'Flotante'\n",
    "info_derivado[\"TasaActivo\"] = 1.45\n",
    "info_derivado[\"TasaPasivo\"] = -1000\n",
    "info_derivado[\"FrecuenciaActivo\"] = \"Semi annual\"\n",
    "info_derivado[\"FrecuenciaPasivo\"] = info_derivado[\"FrecuenciaActivo\"]\n",
    "\n",
    "info1 = pd.DataFrame([info_derivado])\n",
    "derivado_info = DerivadosSCC(fecha, hora, info1, cn)\n",
    "derivado = pd.DataFrame()\n",
    "derivado['Derivado'] = [derivado_info]"
   ]
  },
  {
   "cell_type": "markdown",
   "metadata": {},
   "source": [
    "### La cartera\n",
    "\n",
    "Ahora entregamos estos activos a la cartera para que esta los pueda procesar. A Cartera se le debe entregar un dataFrame con las acciones, otro para bonos y aparte para derivados, luego se declara la moneda con la que se desea evaluar los indicadores de la cartera, la fecha a valorizar y la conexión a base de datos."
   ]
  },
  {
   "cell_type": "code",
   "execution_count": 6,
   "metadata": {},
   "outputs": [],
   "source": [
    "cartera = Cartera(accion, bono, derivado, 'CLP', datetime.date(2019,2,1), cn)"
   ]
  },
  {
   "cell_type": "markdown",
   "metadata": {},
   "source": [
    "Para inicializar los cálculos, se debe pedir que se seteen los historicos, retornos y volatilidades respectivas."
   ]
  },
  {
   "cell_type": "code",
   "execution_count": 7,
   "metadata": {},
   "outputs": [],
   "source": [
    "cartera.set_hist_ret_vol_totales()"
   ]
  },
  {
   "cell_type": "markdown",
   "metadata": {},
   "source": [
    "Por ejemplo, si deseamos saber la volatilidad de la cartera, se debe invocar al siguiente método:"
   ]
  },
  {
   "cell_type": "code",
   "execution_count": 9,
   "metadata": {},
   "outputs": [
    {
     "ename": "AttributeError",
     "evalue": "'Cartera' object has no attribute 'set_volatilidad_cartera'",
     "output_type": "error",
     "traceback": [
      "\u001b[1;31m---------------------------------------------------------------------------\u001b[0m",
      "\u001b[1;31mAttributeError\u001b[0m                            Traceback (most recent call last)",
      "\u001b[1;32m<ipython-input-9-b7425b741c2d>\u001b[0m in \u001b[0;36m<module>\u001b[1;34m\u001b[0m\n\u001b[1;32m----> 1\u001b[1;33m \u001b[0mcartera\u001b[0m\u001b[1;33m.\u001b[0m\u001b[0mset_volatilidad_cartera\u001b[0m\u001b[1;33m(\u001b[0m\u001b[1;33m)\u001b[0m\u001b[1;33m\u001b[0m\u001b[1;33m\u001b[0m\u001b[0m\n\u001b[0m\u001b[0;32m      2\u001b[0m \u001b[0mvolatilidad\u001b[0m \u001b[1;33m=\u001b[0m \u001b[0mcartera\u001b[0m\u001b[1;33m.\u001b[0m\u001b[0mget_volatilidad_cartera\u001b[0m\u001b[1;33m(\u001b[0m\u001b[1;33m)\u001b[0m\u001b[1;33m\u001b[0m\u001b[1;33m\u001b[0m\u001b[0m\n\u001b[0;32m      3\u001b[0m \u001b[0mprint\u001b[0m\u001b[1;33m(\u001b[0m\u001b[0mvolatilidad\u001b[0m\u001b[1;33m)\u001b[0m\u001b[1;33m\u001b[0m\u001b[1;33m\u001b[0m\u001b[0m\n",
      "\u001b[1;31mAttributeError\u001b[0m: 'Cartera' object has no attribute 'set_volatilidad_cartera'"
     ]
    }
   ],
   "source": [
    "cartera.set_volatilidad_cartera()\n",
    "volatilidad = cartera.get_volatilidad_cartera()\n",
    "print(volatilidad)"
   ]
  },
  {
   "cell_type": "code",
   "execution_count": null,
   "metadata": {},
   "outputs": [],
   "source": []
  }
 ],
 "metadata": {
  "file_extension": ".py",
  "kernelspec": {
   "display_name": "Python 3",
   "language": "python",
   "name": "python3"
  },
  "language_info": {
   "codemirror_mode": {
    "name": "ipython",
    "version": 3
   },
   "file_extension": ".py",
   "mimetype": "text/x-python",
   "name": "python",
   "nbconvert_exporter": "python",
   "pygments_lexer": "ipython3",
   "version": "3.7.6"
  },
  "mimetype": "text/x-python",
  "name": "python",
  "npconvert_exporter": "python",
  "pygments_lexer": "ipython3",
  "version": 3
 },
 "nbformat": 4,
 "nbformat_minor": 2
}
