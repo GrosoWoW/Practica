{
 "cells": [
  {
   "cell_type": "markdown",
   "metadata": {},
   "source": [
    "# Valorización de derivados FWD en Python"
   ]
  },
  {
   "cell_type": "code",
   "execution_count": 1,
   "metadata": {},
   "outputs": [],
   "source": [
    "import pyodbc\n",
    "import pandas as pd\n",
    "import numpy as np\n",
    "import datetime\n",
    "from Derivados.DerivadosFWD import *"
   ]
  },
  {
   "cell_type": "markdown",
   "metadata": {},
   "source": [
    "## Datos por defecto"
   ]
  },
  {
   "cell_type": "code",
   "execution_count": 2,
   "metadata": {},
   "outputs": [],
   "source": [
    "info_derivado = dict()\n",
    "info_derivado[\"Tipo\"] = 'FWD'\n",
    "info_derivado[\"ID_Key\"] = \"\"\n",
    "info_derivado[\"Administradora\"] = \"Admin\"\n",
    "info_derivado[\"Fondo\"] = \"Fondo\"\n",
    "info_derivado[\"Contraparte\"] = \"Contraparte\"\n",
    "info_derivado[\"ID\"] = \"id\"\n",
    "info_derivado[\"Nemotecnico\"] = \"\"\n",
    "info_derivado[\"Mercado\"] = \"Local\"\n"
   ]
  },
  {
   "cell_type": "markdown",
   "metadata": {},
   "source": [
    "## Conexión a base de datos"
   ]
  },
  {
   "cell_type": "code",
   "execution_count": 3,
   "metadata": {},
   "outputs": [],
   "source": [
    "server = '192.168.30.200'\n",
    "username = 'mvillegas'\n",
    "password = 'lqpe1OfF'\n",
    "driver = '{SQL Server}'  # Driver you need to connect to the database\n",
    "\n",
    "cnn = pyodbc.connect('DRIVER=' + driver + ';SERVER=' + server + ';UID=' + username + ';PWD=' + password)"
   ]
  },
  {
   "cell_type": "markdown",
   "metadata": {},
   "source": [
    "## Datos para valorizar"
   ]
  },
  {
   "cell_type": "code",
   "execution_count": 4,
   "metadata": {},
   "outputs": [],
   "source": [
    "fecha = datetime.date(2018, 8, 13)\n",
    "hora = '1500'\n",
    "\n",
    "info_derivado[\"FechaFixing\"] = datetime.date(2018, 6, 1)\n",
    "info_derivado[\"FechaVenc\"] = datetime.date(2018, 12, 1)\n",
    "\n",
    "info_derivado[\"AjusteFeriados\"] = \"CL\"\n",
    "\n",
    "info_derivado[\"NocionalActivo\"] = 977500\n",
    "info_derivado[\"MonedaActivo\"] = 'EUR'\n",
    "\n",
    "info_derivado[\"NocionalPasivo\"] = 850000\n",
    "info_derivado[\"MonedaPasivo\"] = 'CLP'\n",
    "\n",
    "info_derivado[\"MonedaBase\"] = \"CLP\"\n",
    "info = pd.DataFrame([info_derivado])"
   ]
  },
  {
   "cell_type": "code",
   "execution_count": 5,
   "metadata": {},
   "outputs": [],
   "source": [
    "derivado = DerivadosFWD(fecha, hora, info, cnn)"
   ]
  },
  {
   "cell_type": "code",
   "execution_count": 6,
   "metadata": {},
   "outputs": [
    {
     "data": {
      "text/plain": [
       "'INFO: Derivado aún no valorizado'"
      ]
     },
     "execution_count": 6,
     "metadata": {},
     "output_type": "execute_result"
    }
   ],
   "source": [
    "derivado.get_status()"
   ]
  },
  {
   "cell_type": "code",
   "execution_count": 7,
   "metadata": {},
   "outputs": [],
   "source": [
    "derivado.genera_flujos()\n"
   ]
  },
  {
   "cell_type": "code",
   "execution_count": 8,
   "metadata": {},
   "outputs": [
    {
     "data": {
      "text/plain": [
       "'INFO: Datos extraidos de la cartera de derivados'"
      ]
     },
     "execution_count": 8,
     "metadata": {},
     "output_type": "execute_result"
    }
   ],
   "source": [
    "derivado.get_status()"
   ]
  },
  {
   "cell_type": "code",
   "execution_count": 9,
   "metadata": {},
   "outputs": [],
   "source": [
    "derivado.valoriza_flujos()"
   ]
  },
  {
   "cell_type": "code",
   "execution_count": 10,
   "metadata": {},
   "outputs": [
    {
     "data": {
      "text/plain": [
       "'INFO: Valorización completada con éxito'"
      ]
     },
     "execution_count": 10,
     "metadata": {},
     "output_type": "execute_result"
    }
   ],
   "source": [
    "derivado.get_status()"
   ]
  },
  {
   "cell_type": "markdown",
   "metadata": {},
   "source": [
    "# Flujos valorizados"
   ]
  },
  {
   "cell_type": "code",
   "execution_count": 11,
   "metadata": {},
   "outputs": [
    {
     "data": {
      "text/html": [
       "<div>\n",
       "<style scoped>\n",
       "    .dataframe tbody tr th:only-of-type {\n",
       "        vertical-align: middle;\n",
       "    }\n",
       "\n",
       "    .dataframe tbody tr th {\n",
       "        vertical-align: top;\n",
       "    }\n",
       "\n",
       "    .dataframe thead th {\n",
       "        text-align: right;\n",
       "    }\n",
       "</style>\n",
       "<table border=\"1\" class=\"dataframe\">\n",
       "  <thead>\n",
       "    <tr style=\"text-align: right;\">\n",
       "      <th></th>\n",
       "      <th>ID</th>\n",
       "      <th>Contraparte</th>\n",
       "      <th>Administradora</th>\n",
       "      <th>ActivoPasivo</th>\n",
       "      <th>Fecha</th>\n",
       "      <th>FechaFixing</th>\n",
       "      <th>FechaFlujo</th>\n",
       "      <th>FechaPago</th>\n",
       "      <th>Flujo</th>\n",
       "      <th>ValorPresenteMonFlujo</th>\n",
       "      <th>Moneda</th>\n",
       "      <th>MonedaBase</th>\n",
       "    </tr>\n",
       "  </thead>\n",
       "  <tbody>\n",
       "    <tr>\n",
       "      <th>0</th>\n",
       "      <td>id</td>\n",
       "      <td>Contraparte</td>\n",
       "      <td>Admin</td>\n",
       "      <td>1</td>\n",
       "      <td>2018-08-13</td>\n",
       "      <td>2018-06-01</td>\n",
       "      <td>2018-12-01</td>\n",
       "      <td>2018-12-03</td>\n",
       "      <td>977500</td>\n",
       "      <td>970077.307975</td>\n",
       "      <td>EUR</td>\n",
       "      <td>CLP</td>\n",
       "    </tr>\n",
       "    <tr>\n",
       "      <th>1</th>\n",
       "      <td>id</td>\n",
       "      <td>Contraparte</td>\n",
       "      <td>Admin</td>\n",
       "      <td>-1</td>\n",
       "      <td>2018-08-13</td>\n",
       "      <td>2018-06-01</td>\n",
       "      <td>2018-12-01</td>\n",
       "      <td>2018-12-03</td>\n",
       "      <td>850000</td>\n",
       "      <td>843652.978059</td>\n",
       "      <td>CLP</td>\n",
       "      <td>CLP</td>\n",
       "    </tr>\n",
       "  </tbody>\n",
       "</table>\n",
       "</div>"
      ],
      "text/plain": [
       "   ID  Contraparte Administradora ActivoPasivo       Fecha FechaFixing  \\\n",
       "0  id  Contraparte          Admin            1  2018-08-13  2018-06-01   \n",
       "1  id  Contraparte          Admin           -1  2018-08-13  2018-06-01   \n",
       "\n",
       "   FechaFlujo   FechaPago   Flujo  ValorPresenteMonFlujo Moneda MonedaBase  \n",
       "0  2018-12-01  2018-12-03  977500          970077.307975    EUR        CLP  \n",
       "1  2018-12-01  2018-12-03  850000          843652.978059    CLP        CLP  "
      ]
     },
     "execution_count": 11,
     "metadata": {},
     "output_type": "execute_result"
    }
   ],
   "source": [
    "derivado.flujos_valorizados[[\"ID\", \"Contraparte\", \"Administradora\",\"ActivoPasivo\", \"Fecha\", \"FechaFixing\", \"FechaFlujo\", \"FechaPago\", \"Flujo\", \"ValorPresenteMonFlujo\", \"Moneda\", \"MonedaBase\"]]"
   ]
  },
  {
   "cell_type": "markdown",
   "metadata": {},
   "source": [
    "## Valorización completa"
   ]
  },
  {
   "cell_type": "code",
   "execution_count": 12,
   "metadata": {},
   "outputs": [
    {
     "name": "stdout",
     "output_type": "stream",
     "text": [
      "Activo\n",
      "Valor activo: 970077.307974506\n",
      "\n",
      "Pasivo\n",
      "Valor pasivo: 843652.978059214\n"
     ]
    }
   ],
   "source": [
    "infomio = derivado.flujos_valorizados\n",
    "\n",
    "print(\"Activo\")\n",
    "mio = sum(infomio[infomio[\"ActivoPasivo\"] == 1].ValorPresenteMonFlujo)\n",
    "print(\"Valor activo:\", mio)\n",
    "print()\n",
    "print(\"Pasivo\")\n",
    "mio = sum(infomio[infomio[\"ActivoPasivo\"] == -1].ValorPresenteMonFlujo)\n",
    "print(\"Valor pasivo:\", mio)"
   ]
  },
  {
   "cell_type": "code",
   "execution_count": null,
   "metadata": {},
   "outputs": [],
   "source": []
  }
 ],
 "metadata": {
  "kernelspec": {
   "display_name": "Python 3",
   "language": "python",
   "name": "python3"
  },
  "language_info": {
   "codemirror_mode": {
    "name": "ipython",
    "version": 3
   },
   "file_extension": ".py",
   "mimetype": "text/x-python",
   "name": "python",
   "nbconvert_exporter": "python",
   "pygments_lexer": "ipython3",
   "version": "3.7.2"
  }
 },
 "nbformat": 4,
 "nbformat_minor": 2
}
