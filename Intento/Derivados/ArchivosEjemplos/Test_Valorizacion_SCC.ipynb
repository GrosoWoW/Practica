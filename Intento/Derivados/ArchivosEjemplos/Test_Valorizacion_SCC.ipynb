{
 "cells": [
  {
   "cell_type": "markdown",
   "metadata": {},
   "source": [
    "# Valorización de derivados SCC en Python"
   ]
  },
  {
   "cell_type": "code",
   "execution_count": 2,
   "metadata": {},
   "outputs": [],
   "source": [
    "import pyodbc\n",
    "import pandas as pd\n",
    "import numpy as np\n",
    "import datetime\n",
    "from Derivados.DerivadosSCC import *"
   ]
  },
  {
   "cell_type": "markdown",
   "metadata": {},
   "source": [
    "## Datos por defecto"
   ]
  },
  {
   "cell_type": "code",
   "execution_count": 3,
   "metadata": {},
   "outputs": [],
   "source": [
    "info_derivado = dict()\n",
    "info_derivado[\"Tipo\"] = 'SCC'\n",
    "info_derivado[\"ID_Key\"] = \"\"\n",
    "info_derivado[\"Administradora\"] = \"Admin\"\n",
    "info_derivado[\"Fondo\"] = \"Fondo\"\n",
    "info_derivado[\"Contraparte\"] = \"Contraparte\"\n",
    "info_derivado[\"ID\"] = \"id\"\n",
    "info_derivado[\"Nemotecnico\"] = \"\"\n",
    "info_derivado[\"Mercado\"] = \"Local\"\n"
   ]
  },
  {
   "cell_type": "markdown",
   "metadata": {},
   "source": [
    "## Conexión a base de datos"
   ]
  },
  {
   "cell_type": "code",
   "execution_count": 1,
   "metadata": {},
   "outputs": [],
   "source": [
    "import ConfiguracionConexiones\n",
    "\n",
    "conexiones = ConfiguracionConexiones.Conexiones_produccion()\n",
    "\n",
    "cnn = conexiones.get_input()"
   ]
  },
  {
   "cell_type": "markdown",
   "metadata": {},
   "source": [
    "## Datos para valorizar"
   ]
  },
  {
   "cell_type": "code",
   "execution_count": 5,
   "metadata": {},
   "outputs": [],
   "source": [
    "fecha = datetime.date(2020, 1, 2)\n",
    "hora = '1700'\n",
    "\n",
    "info_derivado[\"FechaEfectiva\"] = \"12/11/2019\"\n",
    "info_derivado[\"FechaVenc\"] = \n",
    "\n",
    "info_derivado[\"AjusteFeriados\"] = \"CL\"\n",
    "\n",
    "info_derivado[\"NocionalActivo\"] = 3000000000\n",
    "\n",
    "info_derivado[\"MonedaActivo\"] = 'CLP'\n",
    "info_derivado[\"MonedaBase\"] = 'CLF'\n",
    "\n",
    "info_derivado[\"TipoTasaActivo\"] = 'Fija'\n",
    "info_derivado[\"TipoTasaPasivo\"] = 'Flotante'\n",
    "\n",
    "info_derivado[\"TasaActivo\"] = 3.615\n",
    "info_derivado[\"TasaPasivo\"] = -1000\n",
    "\n",
    "info_derivado[\"FrecuenciaActivo\"] = \"Semi annual\"\n",
    "info_derivado[\"FrecuenciaPasivo\"] = info_derivado[\"FrecuenciaActivo\"]\n",
    "\n",
    "\n",
    "info = pd.DataFrame([info_derivado])"
   ]
  },
  {
   "cell_type": "code",
   "execution_count": 6,
   "metadata": {},
   "outputs": [],
   "source": [
    "derivado = DerivadosSCC(fecha, hora, info, cnn)"
   ]
  },
  {
   "cell_type": "code",
   "execution_count": 7,
   "metadata": {},
   "outputs": [
    {
     "data": {
      "text/plain": [
       "'INFO: Derivado aún no valorizado'"
      ]
     },
     "execution_count": 7,
     "metadata": {},
     "output_type": "execute_result"
    }
   ],
   "source": [
    "derivado.get_status()"
   ]
  },
  {
   "cell_type": "code",
   "execution_count": 8,
   "metadata": {},
   "outputs": [],
   "source": [
    "derivado.genera_flujos()\n"
   ]
  },
  {
   "cell_type": "code",
   "execution_count": 9,
   "metadata": {},
   "outputs": [
    {
     "data": {
      "text/plain": [
       "'INFO: Datos extraidos de la cartera de derivados'"
      ]
     },
     "execution_count": 9,
     "metadata": {},
     "output_type": "execute_result"
    }
   ],
   "source": [
    "derivado.get_status()"
   ]
  },
  {
   "cell_type": "code",
   "execution_count": 10,
   "metadata": {},
   "outputs": [],
   "source": [
    "derivado.valoriza_flujos()"
   ]
  },
  {
   "cell_type": "code",
   "execution_count": 11,
   "metadata": {},
   "outputs": [
    {
     "data": {
      "text/plain": [
       "'INFO: Valorización completada con éxito'"
      ]
     },
     "execution_count": 11,
     "metadata": {},
     "output_type": "execute_result"
    }
   ],
   "source": [
    "derivado.get_status()"
   ]
  },
  {
   "cell_type": "markdown",
   "metadata": {},
   "source": [
    "# Flujos valorizados"
   ]
  },
  {
   "cell_type": "code",
   "execution_count": 12,
   "metadata": {},
   "outputs": [
    {
     "data": {
      "text/html": [
       "<div>\n",
       "<style scoped>\n",
       "    .dataframe tbody tr th:only-of-type {\n",
       "        vertical-align: middle;\n",
       "    }\n",
       "\n",
       "    .dataframe tbody tr th {\n",
       "        vertical-align: top;\n",
       "    }\n",
       "\n",
       "    .dataframe thead th {\n",
       "        text-align: right;\n",
       "    }\n",
       "</style>\n",
       "<table border=\"1\" class=\"dataframe\">\n",
       "  <thead>\n",
       "    <tr style=\"text-align: right;\">\n",
       "      <th></th>\n",
       "      <th>ID</th>\n",
       "      <th>Contraparte</th>\n",
       "      <th>Administradora</th>\n",
       "      <th>ActivoPasivo</th>\n",
       "      <th>Fecha</th>\n",
       "      <th>FechaFixing</th>\n",
       "      <th>FechaFlujo</th>\n",
       "      <th>FechaPago</th>\n",
       "      <th>Flujo</th>\n",
       "      <th>ValorPresenteMonFlujo</th>\n",
       "      <th>Moneda</th>\n",
       "      <th>MonedaBase</th>\n",
       "    </tr>\n",
       "  </thead>\n",
       "  <tbody>\n",
       "    <tr>\n",
       "      <th>0</th>\n",
       "      <td>id</td>\n",
       "      <td>Contraparte</td>\n",
       "      <td>Admin</td>\n",
       "      <td>-1</td>\n",
       "      <td>2018-08-14</td>\n",
       "      <td>2019-04-10</td>\n",
       "      <td>2019-04-10</td>\n",
       "      <td>2019-04-10</td>\n",
       "      <td>5.208159e+07</td>\n",
       "      <td>5.119285e+07</td>\n",
       "      <td>CLP</td>\n",
       "      <td>CLF</td>\n",
       "    </tr>\n",
       "    <tr>\n",
       "      <th>1</th>\n",
       "      <td>id</td>\n",
       "      <td>Contraparte</td>\n",
       "      <td>Admin</td>\n",
       "      <td>-1</td>\n",
       "      <td>2018-08-14</td>\n",
       "      <td>2019-10-10</td>\n",
       "      <td>2019-10-10</td>\n",
       "      <td>2019-10-10</td>\n",
       "      <td>5.122987e+07</td>\n",
       "      <td>4.951020e+07</td>\n",
       "      <td>CLP</td>\n",
       "      <td>CLF</td>\n",
       "    </tr>\n",
       "    <tr>\n",
       "      <th>2</th>\n",
       "      <td>id</td>\n",
       "      <td>Contraparte</td>\n",
       "      <td>Admin</td>\n",
       "      <td>-1</td>\n",
       "      <td>2018-08-14</td>\n",
       "      <td>2020-04-10</td>\n",
       "      <td>2020-04-10</td>\n",
       "      <td>2020-04-13</td>\n",
       "      <td>5.763683e+07</td>\n",
       "      <td>5.466572e+07</td>\n",
       "      <td>CLP</td>\n",
       "      <td>CLF</td>\n",
       "    </tr>\n",
       "    <tr>\n",
       "      <th>3</th>\n",
       "      <td>id</td>\n",
       "      <td>Contraparte</td>\n",
       "      <td>Admin</td>\n",
       "      <td>-1</td>\n",
       "      <td>2018-08-14</td>\n",
       "      <td>2020-10-10</td>\n",
       "      <td>2020-10-10</td>\n",
       "      <td>2020-10-13</td>\n",
       "      <td>3.059810e+09</td>\n",
       "      <td>2.845331e+09</td>\n",
       "      <td>CLP</td>\n",
       "      <td>CLF</td>\n",
       "    </tr>\n",
       "    <tr>\n",
       "      <th>4</th>\n",
       "      <td>id</td>\n",
       "      <td>Contraparte</td>\n",
       "      <td>Admin</td>\n",
       "      <td>1</td>\n",
       "      <td>2018-08-14</td>\n",
       "      <td>2019-04-10</td>\n",
       "      <td>2019-04-10</td>\n",
       "      <td>2019-04-10</td>\n",
       "      <td>5.434613e+07</td>\n",
       "      <td>5.341875e+07</td>\n",
       "      <td>CLP</td>\n",
       "      <td>CLF</td>\n",
       "    </tr>\n",
       "    <tr>\n",
       "      <th>5</th>\n",
       "      <td>id</td>\n",
       "      <td>Contraparte</td>\n",
       "      <td>Admin</td>\n",
       "      <td>1</td>\n",
       "      <td>2018-08-14</td>\n",
       "      <td>2019-10-10</td>\n",
       "      <td>2019-10-10</td>\n",
       "      <td>2019-10-10</td>\n",
       "      <td>5.464744e+07</td>\n",
       "      <td>5.281305e+07</td>\n",
       "      <td>CLP</td>\n",
       "      <td>CLF</td>\n",
       "    </tr>\n",
       "    <tr>\n",
       "      <th>6</th>\n",
       "      <td>id</td>\n",
       "      <td>Contraparte</td>\n",
       "      <td>Admin</td>\n",
       "      <td>1</td>\n",
       "      <td>2018-08-14</td>\n",
       "      <td>2020-04-10</td>\n",
       "      <td>2020-04-10</td>\n",
       "      <td>2020-04-13</td>\n",
       "      <td>5.464744e+07</td>\n",
       "      <td>5.183042e+07</td>\n",
       "      <td>CLP</td>\n",
       "      <td>CLF</td>\n",
       "    </tr>\n",
       "    <tr>\n",
       "      <th>7</th>\n",
       "      <td>id</td>\n",
       "      <td>Contraparte</td>\n",
       "      <td>Admin</td>\n",
       "      <td>1</td>\n",
       "      <td>2018-08-14</td>\n",
       "      <td>2020-10-10</td>\n",
       "      <td>2020-10-10</td>\n",
       "      <td>2020-10-13</td>\n",
       "      <td>3.054647e+09</td>\n",
       "      <td>2.840530e+09</td>\n",
       "      <td>CLP</td>\n",
       "      <td>CLF</td>\n",
       "    </tr>\n",
       "  </tbody>\n",
       "</table>\n",
       "</div>"
      ],
      "text/plain": [
       "   ID  Contraparte Administradora ActivoPasivo       Fecha FechaFixing  \\\n",
       "0  id  Contraparte          Admin           -1  2018-08-14  2019-04-10   \n",
       "1  id  Contraparte          Admin           -1  2018-08-14  2019-10-10   \n",
       "2  id  Contraparte          Admin           -1  2018-08-14  2020-04-10   \n",
       "3  id  Contraparte          Admin           -1  2018-08-14  2020-10-10   \n",
       "4  id  Contraparte          Admin            1  2018-08-14  2019-04-10   \n",
       "5  id  Contraparte          Admin            1  2018-08-14  2019-10-10   \n",
       "6  id  Contraparte          Admin            1  2018-08-14  2020-04-10   \n",
       "7  id  Contraparte          Admin            1  2018-08-14  2020-10-10   \n",
       "\n",
       "   FechaFlujo   FechaPago         Flujo  ValorPresenteMonFlujo Moneda  \\\n",
       "0  2019-04-10  2019-04-10  5.208159e+07           5.119285e+07    CLP   \n",
       "1  2019-10-10  2019-10-10  5.122987e+07           4.951020e+07    CLP   \n",
       "2  2020-04-10  2020-04-13  5.763683e+07           5.466572e+07    CLP   \n",
       "3  2020-10-10  2020-10-13  3.059810e+09           2.845331e+09    CLP   \n",
       "4  2019-04-10  2019-04-10  5.434613e+07           5.341875e+07    CLP   \n",
       "5  2019-10-10  2019-10-10  5.464744e+07           5.281305e+07    CLP   \n",
       "6  2020-04-10  2020-04-13  5.464744e+07           5.183042e+07    CLP   \n",
       "7  2020-10-10  2020-10-13  3.054647e+09           2.840530e+09    CLP   \n",
       "\n",
       "  MonedaBase  \n",
       "0        CLF  \n",
       "1        CLF  \n",
       "2        CLF  \n",
       "3        CLF  \n",
       "4        CLF  \n",
       "5        CLF  \n",
       "6        CLF  \n",
       "7        CLF  "
      ]
     },
     "execution_count": 12,
     "metadata": {},
     "output_type": "execute_result"
    }
   ],
   "source": [
    "derivado.flujos_valorizados[[\"ID\", \"Contraparte\", \"Administradora\",\"ActivoPasivo\", \"Fecha\", \"FechaFixing\", \"FechaFlujo\", \"FechaPago\", \"Flujo\", \"ValorPresenteMonFlujo\", \"Moneda\", \"MonedaBase\"]]"
   ]
  },
  {
   "cell_type": "markdown",
   "metadata": {},
   "source": [
    "## Valorización completa"
   ]
  },
  {
   "cell_type": "code",
   "execution_count": 13,
   "metadata": {},
   "outputs": [
    {
     "name": "stdout",
     "output_type": "stream",
     "text": [
      "Activo\n",
      "Valor activo: 2998592617.685742\n",
      "\n",
      "Pasivo\n",
      "Valor pasivo: 3000700209.9198437\n"
     ]
    }
   ],
   "source": [
    "infomio = derivado.flujos_valorizados\n",
    "\n",
    "print(\"Activo\")\n",
    "mio = sum(infomio[infomio[\"ActivoPasivo\"] == 1].ValorPresenteMonFlujo)\n",
    "print(\"Valor activo:\", mio)\n",
    "print()\n",
    "print(\"Pasivo\")\n",
    "mio = sum(infomio[infomio[\"ActivoPasivo\"] == -1].ValorPresenteMonFlujo)\n",
    "print(\"Valor pasivo:\", mio)"
   ]
  },
  {
   "cell_type": "code",
   "execution_count": null,
   "metadata": {},
   "outputs": [],
   "source": []
  }
 ],
 "metadata": {
  "kernelspec": {
   "display_name": "Python 3",
   "language": "python",
   "name": "python3"
  },
  "language_info": {
   "codemirror_mode": {
    "name": "ipython",
    "version": 3
   },
   "file_extension": ".py",
   "mimetype": "text/x-python",
   "name": "python",
   "nbconvert_exporter": "python",
   "pygments_lexer": "ipython3",
   "version": "3.6.9"
  }
 },
 "nbformat": 4,
 "nbformat_minor": 2
}
