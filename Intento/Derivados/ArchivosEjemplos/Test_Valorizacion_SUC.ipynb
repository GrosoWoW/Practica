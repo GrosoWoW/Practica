{
 "cells": [
  {
   "cell_type": "markdown",
   "metadata": {},
   "source": [
    "# Valorización de derivados SUC en Python"
   ]
  },
  {
   "cell_type": "code",
   "execution_count": 1,
   "metadata": {},
   "outputs": [],
   "source": [
    "import pyodbc\n",
    "import pandas as pd\n",
    "import numpy as np\n",
    "import datetime\n",
    "from Derivados.DerivadosSUC import *"
   ]
  },
  {
   "cell_type": "markdown",
   "metadata": {},
   "source": [
    "## Datos por defecto"
   ]
  },
  {
   "cell_type": "code",
   "execution_count": 2,
   "metadata": {},
   "outputs": [],
   "source": [
    "info_derivado = dict()\n",
    "info_derivado[\"Tipo\"] = 'SUC'\n",
    "info_derivado[\"ID_Key\"] = \"\"\n",
    "info_derivado[\"Administradora\"] = \"Banco de Chile\"\n",
    "info_derivado[\"Fondo\"] = \"Fondo\"\n",
    "info_derivado[\"Contraparte\"] = \"Banco Penta\"\n",
    "info_derivado[\"ID\"] = \"id\"\n",
    "info_derivado[\"Nemotecnico\"] = \"\"\n",
    "info_derivado[\"Mercado\"] = \"Local\"\n"
   ]
  },
  {
   "cell_type": "markdown",
   "metadata": {},
   "source": [
    "## Conexión a base de datos"
   ]
  },
  {
   "cell_type": "code",
   "execution_count": 3,
   "metadata": {},
   "outputs": [],
   "source": [
    "import ConfiguracionConexiones\n",
    "\n",
    "conexiones = ConfiguracionConexiones.Conexiones_produccion()\n",
    "\n",
    "cnn = conexiones.get_input()"
   ]
  },
  {
   "cell_type": "markdown",
   "metadata": {},
   "source": [
    "## Datos para valorizar"
   ]
  },
  {
   "cell_type": "code",
   "execution_count": 4,
   "metadata": {},
   "outputs": [],
   "source": [
    "fecha = datetime.date(2020, 1, 2)\n",
    "hora = '1700'\n",
    "info_derivado[\"ID\"] = 5\n",
    "info_derivado[\"FechaEfectiva\"] = \"2/1/2019\"\n",
    "info_derivado[\"FechaVenc\"] = \"2/1/2021\"\n",
    "\n",
    "info_derivado[\"AjusteFeriados\"] = \"CL\"\n",
    "\n",
    "info_derivado[\"NocionalActivo\"] = 100000\n",
    "\n",
    "info_derivado[\"MonedaActivo\"] = 'UF'\n",
    "info_derivado[\"MonedaBase\"] = 'CLP'\n",
    "\n",
    "info_derivado[\"TipoTasaActivo\"] = 'Fija'\n",
    "info_derivado[\"TipoTasaPasivo\"] = 'Flotante'\n",
    "\n",
    "info_derivado[\"TasaActivo\"] = 0.72\n",
    "info_derivado[\"TasaPasivo\"] = -1000\n",
    "\n",
    "info_derivado[\"FrecuenciaActivo\"] = \"Semi annual\"\n",
    "info_derivado[\"FrecuenciaPasivo\"] = info_derivado[\"FrecuenciaActivo\"]\n",
    "\n",
    "\n",
    "info = pd.DataFrame([info_derivado])"
   ]
  },
  {
   "cell_type": "code",
   "execution_count": 5,
   "metadata": {},
   "outputs": [],
   "source": [
    "derivado = DerivadosSUC(fecha, hora, info, cnn)"
   ]
  },
  {
   "cell_type": "code",
   "execution_count": 6,
   "metadata": {},
   "outputs": [
    {
     "data": {
      "text/plain": [
       "'INFO: Derivado inicializado'"
      ]
     },
     "execution_count": 6,
     "metadata": {},
     "output_type": "execute_result"
    }
   ],
   "source": [
    "derivado.get_status()"
   ]
  },
  {
   "cell_type": "code",
   "execution_count": 7,
   "metadata": {
    "scrolled": true
   },
   "outputs": [
    {
     "name": "stdout",
     "output_type": "stream",
     "text": [
      "AQUI HAY ALGO RARO\n",
      "[datetime.date(2020, 7, 2), -0.7831832494438862, datetime.date(2020, 7, 2), 0, -0.7831832494438862, 0.005094453997001036, 0.0]\n",
      "AQUI HAY ALGO RARO\n",
      "[datetime.date(2021, 1, 2), 99.52289035882312, datetime.date(2021, 1, 4), 100, -0.47710964117688714, 0.0051896563336151225, 0]\n"
     ]
    }
   ],
   "source": [
    "derivado.genera_flujos()\n"
   ]
  },
  {
   "cell_type": "code",
   "execution_count": 8,
   "metadata": {},
   "outputs": [
    {
     "data": {
      "text/html": [
       "<div>\n",
       "<style scoped>\n",
       "    .dataframe tbody tr th:only-of-type {\n",
       "        vertical-align: middle;\n",
       "    }\n",
       "\n",
       "    .dataframe tbody tr th {\n",
       "        vertical-align: top;\n",
       "    }\n",
       "\n",
       "    .dataframe thead th {\n",
       "        text-align: right;\n",
       "    }\n",
       "</style>\n",
       "<table border=\"1\" class=\"dataframe\">\n",
       "  <thead>\n",
       "    <tr style=\"text-align: right;\">\n",
       "      <th></th>\n",
       "      <th>Fecha</th>\n",
       "      <th>Fondo</th>\n",
       "      <th>Tipo</th>\n",
       "      <th>ID</th>\n",
       "      <th>ActivoPasivo</th>\n",
       "      <th>FechaFixing</th>\n",
       "      <th>FechaFlujo</th>\n",
       "      <th>FechaPago</th>\n",
       "      <th>Moneda</th>\n",
       "      <th>Flujo</th>\n",
       "      <th>Amortizacion</th>\n",
       "      <th>Interes</th>\n",
       "      <th>Sensibilidad</th>\n",
       "      <th>InteresDevengado</th>\n",
       "    </tr>\n",
       "  </thead>\n",
       "  <tbody>\n",
       "    <tr>\n",
       "      <th>0</th>\n",
       "      <td>2020-01-02</td>\n",
       "      <td>Fondo</td>\n",
       "      <td>SUC</td>\n",
       "      <td>5</td>\n",
       "      <td>-1</td>\n",
       "      <td>2020-07-02</td>\n",
       "      <td>2020-07-02</td>\n",
       "      <td>2020-07-02</td>\n",
       "      <td>UF</td>\n",
       "      <td>-783.183249</td>\n",
       "      <td>0.0</td>\n",
       "      <td>-783.183249</td>\n",
       "      <td>5.094454</td>\n",
       "      <td>0.0</td>\n",
       "    </tr>\n",
       "    <tr>\n",
       "      <th>0</th>\n",
       "      <td>2020-01-02</td>\n",
       "      <td>Fondo</td>\n",
       "      <td>SUC</td>\n",
       "      <td>5</td>\n",
       "      <td>-1</td>\n",
       "      <td>2021-01-02</td>\n",
       "      <td>2021-01-02</td>\n",
       "      <td>2021-01-04</td>\n",
       "      <td>UF</td>\n",
       "      <td>99522.890359</td>\n",
       "      <td>100000.0</td>\n",
       "      <td>-477.109641</td>\n",
       "      <td>5.189656</td>\n",
       "      <td>0.0</td>\n",
       "    </tr>\n",
       "    <tr>\n",
       "      <th>0</th>\n",
       "      <td>2020-01-02</td>\n",
       "      <td>Fondo</td>\n",
       "      <td>SUC</td>\n",
       "      <td>5</td>\n",
       "      <td>1</td>\n",
       "      <td>2020-07-02</td>\n",
       "      <td>2020-07-02</td>\n",
       "      <td>2020-07-02</td>\n",
       "      <td>UF</td>\n",
       "      <td>364.000000</td>\n",
       "      <td>0.0</td>\n",
       "      <td>364.000000</td>\n",
       "      <td>0.000000</td>\n",
       "      <td>0.0</td>\n",
       "    </tr>\n",
       "    <tr>\n",
       "      <th>0</th>\n",
       "      <td>2020-01-02</td>\n",
       "      <td>Fondo</td>\n",
       "      <td>SUC</td>\n",
       "      <td>5</td>\n",
       "      <td>1</td>\n",
       "      <td>2021-01-02</td>\n",
       "      <td>2021-01-02</td>\n",
       "      <td>2021-01-04</td>\n",
       "      <td>UF</td>\n",
       "      <td>100368.000000</td>\n",
       "      <td>100000.0</td>\n",
       "      <td>368.000000</td>\n",
       "      <td>0.000000</td>\n",
       "      <td>0.0</td>\n",
       "    </tr>\n",
       "  </tbody>\n",
       "</table>\n",
       "</div>"
      ],
      "text/plain": [
       "        Fecha  Fondo Tipo ID ActivoPasivo FechaFixing  FechaFlujo   FechaPago  \\\n",
       "0  2020-01-02  Fondo  SUC  5           -1  2020-07-02  2020-07-02  2020-07-02   \n",
       "0  2020-01-02  Fondo  SUC  5           -1  2021-01-02  2021-01-02  2021-01-04   \n",
       "0  2020-01-02  Fondo  SUC  5            1  2020-07-02  2020-07-02  2020-07-02   \n",
       "0  2020-01-02  Fondo  SUC  5            1  2021-01-02  2021-01-02  2021-01-04   \n",
       "\n",
       "  Moneda          Flujo  Amortizacion     Interes  Sensibilidad  \\\n",
       "0     UF    -783.183249           0.0 -783.183249      5.094454   \n",
       "0     UF   99522.890359      100000.0 -477.109641      5.189656   \n",
       "0     UF     364.000000           0.0  364.000000      0.000000   \n",
       "0     UF  100368.000000      100000.0  368.000000      0.000000   \n",
       "\n",
       "   InteresDevengado  \n",
       "0               0.0  \n",
       "0               0.0  \n",
       "0               0.0  \n",
       "0               0.0  "
      ]
     },
     "execution_count": 8,
     "metadata": {},
     "output_type": "execute_result"
    }
   ],
   "source": [
    "derivado.flujos_derivados"
   ]
  },
  {
   "cell_type": "code",
   "execution_count": 9,
   "metadata": {
    "scrolled": true
   },
   "outputs": [
    {
     "data": {
      "text/plain": [
       "'INFO: Flujos generados para SUC con ID 5'"
      ]
     },
     "execution_count": 9,
     "metadata": {},
     "output_type": "execute_result"
    }
   ],
   "source": [
    "derivado.get_status()"
   ]
  },
  {
   "cell_type": "code",
   "execution_count": 10,
   "metadata": {},
   "outputs": [
    {
     "name": "stdout",
     "output_type": "stream",
     "text": [
      "SELECT Curva, FechaMax, C.Hora, C.Moneda FROM dbDerivados.dbo.TdCurvasDerivados A, dbDerivados.dbo.TdParidadMonedasCurvasDescuento B, (SELECT MAX(Fecha) AS FechaMax, Hora, Moneda FROM dbDerivados.dbo.TdCurvasDerivados A, dbDerivados.dbo.TdParidadMonedasCurvasDescuento B WHERE A.Tipo = B.Tipo AND Fecha <= '20200102' AND Hora = '1700' AND Moneda IN ('CLF','CLP') GROUP BY Hora, Moneda) C WHERE A.Tipo = B.Tipo AND A.Fecha = C.FechaMax AND A.Hora = C.Hora AND B.Moneda = C.Moneda\n"
     ]
    }
   ],
   "source": [
    "derivado.valoriza_flujos()"
   ]
  },
  {
   "cell_type": "code",
   "execution_count": 11,
   "metadata": {},
   "outputs": [
    {
     "data": {
      "text/plain": [
       "'INFO: Valorización completada con éxito'"
      ]
     },
     "execution_count": 11,
     "metadata": {},
     "output_type": "execute_result"
    }
   ],
   "source": [
    "derivado.get_status()"
   ]
  },
  {
   "cell_type": "code",
   "execution_count": 12,
   "metadata": {},
   "outputs": [
    {
     "name": "stderr",
     "output_type": "stream",
     "text": [
      "/home/mvillegas/.local/lib/python3.6/site-packages/pandas/core/indexing.py:205: SettingWithCopyWarning: \n",
      "A value is trying to be set on a copy of a slice from a DataFrame\n",
      "\n",
      "See the caveats in the documentation: http://pandas.pydata.org/pandas-docs/stable/user_guide/indexing.html#returning-a-view-versus-a-copy\n",
      "  self._setitem_with_indexer(indexer, value)\n"
     ]
    }
   ],
   "source": [
    "derivado.agrega_cambio_spot()"
   ]
  },
  {
   "cell_type": "markdown",
   "metadata": {},
   "source": [
    "# Flujos valorizados"
   ]
  },
  {
   "cell_type": "code",
   "execution_count": 13,
   "metadata": {},
   "outputs": [
    {
     "data": {
      "text/html": [
       "<div>\n",
       "<style scoped>\n",
       "    .dataframe tbody tr th:only-of-type {\n",
       "        vertical-align: middle;\n",
       "    }\n",
       "\n",
       "    .dataframe tbody tr th {\n",
       "        vertical-align: top;\n",
       "    }\n",
       "\n",
       "    .dataframe thead th {\n",
       "        text-align: right;\n",
       "    }\n",
       "</style>\n",
       "<table border=\"1\" class=\"dataframe\">\n",
       "  <thead>\n",
       "    <tr style=\"text-align: right;\">\n",
       "      <th></th>\n",
       "      <th>TipoCambioSpot</th>\n",
       "      <th>TipoCambioFwd</th>\n",
       "      <th>TipoCambioSpotFix</th>\n",
       "      <th>TipoCambioCLPBase</th>\n",
       "    </tr>\n",
       "  </thead>\n",
       "  <tbody>\n",
       "    <tr>\n",
       "      <th>0</th>\n",
       "      <td>28311.77</td>\n",
       "      <td>28734.611867</td>\n",
       "      <td>28311.77</td>\n",
       "      <td>1.0</td>\n",
       "    </tr>\n",
       "    <tr>\n",
       "      <th>1</th>\n",
       "      <td>28311.77</td>\n",
       "      <td>29149.196001</td>\n",
       "      <td>28311.77</td>\n",
       "      <td>1.0</td>\n",
       "    </tr>\n",
       "    <tr>\n",
       "      <th>2</th>\n",
       "      <td>28311.77</td>\n",
       "      <td>28734.611867</td>\n",
       "      <td>28311.77</td>\n",
       "      <td>1.0</td>\n",
       "    </tr>\n",
       "    <tr>\n",
       "      <th>3</th>\n",
       "      <td>28311.77</td>\n",
       "      <td>29149.196001</td>\n",
       "      <td>28311.77</td>\n",
       "      <td>1.0</td>\n",
       "    </tr>\n",
       "  </tbody>\n",
       "</table>\n",
       "</div>"
      ],
      "text/plain": [
       "   TipoCambioSpot  TipoCambioFwd  TipoCambioSpotFix  TipoCambioCLPBase\n",
       "0        28311.77   28734.611867           28311.77                1.0\n",
       "1        28311.77   29149.196001           28311.77                1.0\n",
       "2        28311.77   28734.611867           28311.77                1.0\n",
       "3        28311.77   29149.196001           28311.77                1.0"
      ]
     },
     "execution_count": 13,
     "metadata": {},
     "output_type": "execute_result"
    }
   ],
   "source": [
    "derivado.flujos_valorizados[[\"TipoCambioSpot\", \"TipoCambioFwd\", \"TipoCambioSpotFix\", \"TipoCambioCLPBase\"]]"
   ]
  },
  {
   "cell_type": "markdown",
   "metadata": {},
   "source": [
    "## Valorización completa"
   ]
  },
  {
   "cell_type": "code",
   "execution_count": 14,
   "metadata": {
    "scrolled": true
   },
   "outputs": [
    {
     "name": "stdout",
     "output_type": "stream",
     "text": [
      "Activo\n",
      "Valor activo: 2887853550.4715962\n",
      "\n",
      "Pasivo\n",
      "Valor pasivo: 2830889798.3835645\n",
      "56963752.08803177\n"
     ]
    }
   ],
   "source": [
    "infomio = derivado.flujos_valorizados\n",
    "\n",
    "print(\"Activo\")\n",
    "act = sum(infomio[infomio[\"ActivoPasivo\"] == 1].ValorPresenteCLP)\n",
    "print(\"Valor activo:\", act)\n",
    "print()\n",
    "print(\"Pasivo\")\n",
    "pas = sum(infomio[infomio[\"ActivoPasivo\"] == -1].ValorPresenteCLP)\n",
    "print(\"Valor pasivo:\", pas)\n",
    "\n",
    "\n",
    "print(act-pas)"
   ]
  },
  {
   "cell_type": "code",
   "execution_count": 15,
   "metadata": {},
   "outputs": [
    {
     "data": {
      "text/plain": [
       "54272357.40612841"
      ]
     },
     "execution_count": 15,
     "metadata": {},
     "output_type": "execute_result"
    }
   ],
   "source": [
    "5.427235740612841E7"
   ]
  }
 ],
 "metadata": {
  "kernelspec": {
   "display_name": "Python 3",
   "language": "python",
   "name": "python3"
  },
  "language_info": {
   "codemirror_mode": {
    "name": "ipython",
    "version": 3
   },
   "file_extension": ".py",
   "mimetype": "text/x-python",
   "name": "python",
   "nbconvert_exporter": "python",
   "pygments_lexer": "ipython3",
   "version": "3.6.9"
  }
 },
 "nbformat": 4,
 "nbformat_minor": 2
}
