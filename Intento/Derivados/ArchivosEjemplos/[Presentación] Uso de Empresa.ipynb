{
 "cells": [
  {
   "cell_type": "markdown",
   "metadata": {},
   "source": [
    "# Uso del objeto Empresa\n",
    "El objeto maneja múltiples derivados"
   ]
  },
  {
   "cell_type": "code",
   "execution_count": 1,
   "metadata": {},
   "outputs": [],
   "source": [
    "from Derivados.Empresa import *"
   ]
  },
  {
   "cell_type": "code",
   "execution_count": 2,
   "metadata": {},
   "outputs": [],
   "source": [
    "import pyodbc\n",
    "import pandas as pd\n",
    "import numpy as np\n",
    "import datetime\n",
    "\n",
    "# Credenciales para la base de datos\n",
    "server = '192.168.30.200'\n",
    "username = 'mvillegas'\n",
    "password = 'lqpe1OfF'\n",
    "driver = '{SQL Server}'  # Driver you need to connect to the database\n",
    "\n",
    "cnn = pyodbc.connect('DRIVER=' + driver + ';SERVER=' + server + ';;UID=' + username + ';PWD=' + password)"
   ]
  },
  {
   "cell_type": "markdown",
   "metadata": {},
   "source": [
    "## Creación del objeto empresa\n",
    "Es equivalente a la creación de un derivado, pero ahora el DataFrame acepta múltiples columnas.\n",
    "\n",
    "El siguiente código selecciona la información de todos los derivados valorizados en una fecha específica"
   ]
  },
  {
   "cell_type": "code",
   "execution_count": 3,
   "metadata": {},
   "outputs": [],
   "source": [
    "from Util import fecha_str\n",
    "fecha = datetime.date(2018,12,14)\n",
    "hora = '1500'\n",
    "condicion = \"WHERE Fecha = \" + fecha_str(fecha)\n",
    "\n",
    "sql = (\"SELECT * FROM [dbDerivados].[dbo].[TdCarteraDerivados_V2] \" + condicion)\n",
    "\n",
    "info = pd.io.sql.read_sql(sql, cnn)"
   ]
  },
  {
   "cell_type": "code",
   "execution_count": 4,
   "metadata": {},
   "outputs": [
    {
     "data": {
      "text/html": [
       "<div>\n",
       "<style scoped>\n",
       "    .dataframe tbody tr th:only-of-type {\n",
       "        vertical-align: middle;\n",
       "    }\n",
       "\n",
       "    .dataframe tbody tr th {\n",
       "        vertical-align: top;\n",
       "    }\n",
       "\n",
       "    .dataframe thead th {\n",
       "        text-align: right;\n",
       "    }\n",
       "</style>\n",
       "<table border=\"1\" class=\"dataframe\">\n",
       "  <thead>\n",
       "    <tr style=\"text-align: right;\">\n",
       "      <th></th>\n",
       "      <th>ID_Key</th>\n",
       "      <th>Fecha</th>\n",
       "      <th>Administradora</th>\n",
       "      <th>Fondo</th>\n",
       "      <th>Contraparte</th>\n",
       "      <th>Tipo</th>\n",
       "      <th>ID</th>\n",
       "      <th>FechaTransaccion</th>\n",
       "      <th>FechaFixing</th>\n",
       "      <th>TenorFixing</th>\n",
       "      <th>...</th>\n",
       "      <th>TipoTasaActivo</th>\n",
       "      <th>TasaActivo</th>\n",
       "      <th>SpreadActivo</th>\n",
       "      <th>NocionalPasivo</th>\n",
       "      <th>MonedaPasivo</th>\n",
       "      <th>FrecuenciaPasivo</th>\n",
       "      <th>TipoTasaPasivo</th>\n",
       "      <th>TasaPasivo</th>\n",
       "      <th>SpreadPasivo</th>\n",
       "      <th>MonedaBase</th>\n",
       "    </tr>\n",
       "  </thead>\n",
       "  <tbody>\n",
       "    <tr>\n",
       "      <th>0</th>\n",
       "      <td>146853</td>\n",
       "      <td>2018-12-14</td>\n",
       "      <td>29</td>\n",
       "      <td>CFILVDRA</td>\n",
       "      <td>Santander</td>\n",
       "      <td>FWD</td>\n",
       "      <td>1352</td>\n",
       "      <td>2018-11-26</td>\n",
       "      <td>2019-04-26</td>\n",
       "      <td>0</td>\n",
       "      <td>...</td>\n",
       "      <td>--</td>\n",
       "      <td>-1000.000</td>\n",
       "      <td>-1000.0</td>\n",
       "      <td>8.500000e+05</td>\n",
       "      <td>EUR</td>\n",
       "      <td>--</td>\n",
       "      <td>--</td>\n",
       "      <td>-1000.0</td>\n",
       "      <td>-1000.0</td>\n",
       "      <td>USD</td>\n",
       "    </tr>\n",
       "    <tr>\n",
       "      <th>1</th>\n",
       "      <td>146851</td>\n",
       "      <td>2018-12-14</td>\n",
       "      <td>29</td>\n",
       "      <td>CFILVOAR</td>\n",
       "      <td>Santander</td>\n",
       "      <td>FWD</td>\n",
       "      <td>1343</td>\n",
       "      <td>2018-10-04</td>\n",
       "      <td>2019-03-04</td>\n",
       "      <td>0</td>\n",
       "      <td>...</td>\n",
       "      <td>--</td>\n",
       "      <td>-1000.000</td>\n",
       "      <td>-1000.0</td>\n",
       "      <td>2.350000e+06</td>\n",
       "      <td>EUR</td>\n",
       "      <td>--</td>\n",
       "      <td>--</td>\n",
       "      <td>-1000.0</td>\n",
       "      <td>-1000.0</td>\n",
       "      <td>USD</td>\n",
       "    </tr>\n",
       "    <tr>\n",
       "      <th>2</th>\n",
       "      <td>146842</td>\n",
       "      <td>2018-12-14</td>\n",
       "      <td>29</td>\n",
       "      <td>CFILVTAB</td>\n",
       "      <td>Santander</td>\n",
       "      <td>SCC</td>\n",
       "      <td>1306</td>\n",
       "      <td>2018-03-08</td>\n",
       "      <td>1900-01-01</td>\n",
       "      <td>0</td>\n",
       "      <td>...</td>\n",
       "      <td>Fija</td>\n",
       "      <td>2.980</td>\n",
       "      <td>-1000.0</td>\n",
       "      <td>1.000000e+09</td>\n",
       "      <td>CLP</td>\n",
       "      <td>Semi annual</td>\n",
       "      <td>Flotante</td>\n",
       "      <td>-1000.0</td>\n",
       "      <td>-1000.0</td>\n",
       "      <td>CLP</td>\n",
       "    </tr>\n",
       "    <tr>\n",
       "      <th>3</th>\n",
       "      <td>146843</td>\n",
       "      <td>2018-12-14</td>\n",
       "      <td>29</td>\n",
       "      <td>FMCCCONS</td>\n",
       "      <td>BBVA Chile</td>\n",
       "      <td>SCC</td>\n",
       "      <td>1307</td>\n",
       "      <td>2018-03-08</td>\n",
       "      <td>1900-01-01</td>\n",
       "      <td>0</td>\n",
       "      <td>...</td>\n",
       "      <td>Fija</td>\n",
       "      <td>3.000</td>\n",
       "      <td>-1000.0</td>\n",
       "      <td>1.200000e+09</td>\n",
       "      <td>CLP</td>\n",
       "      <td>Semi annual</td>\n",
       "      <td>Flotante</td>\n",
       "      <td>-1000.0</td>\n",
       "      <td>-1000.0</td>\n",
       "      <td>CLP</td>\n",
       "    </tr>\n",
       "    <tr>\n",
       "      <th>4</th>\n",
       "      <td>146846</td>\n",
       "      <td>2018-12-14</td>\n",
       "      <td>29</td>\n",
       "      <td>FMCCCREC</td>\n",
       "      <td>BBVA Chile</td>\n",
       "      <td>SCC</td>\n",
       "      <td>1312</td>\n",
       "      <td>2018-03-08</td>\n",
       "      <td>1900-01-01</td>\n",
       "      <td>0</td>\n",
       "      <td>...</td>\n",
       "      <td>Fija</td>\n",
       "      <td>3.000</td>\n",
       "      <td>-1000.0</td>\n",
       "      <td>1.800000e+09</td>\n",
       "      <td>CLP</td>\n",
       "      <td>Semi annual</td>\n",
       "      <td>Flotante</td>\n",
       "      <td>-1000.0</td>\n",
       "      <td>-1000.0</td>\n",
       "      <td>CLP</td>\n",
       "    </tr>\n",
       "    <tr>\n",
       "      <th>5</th>\n",
       "      <td>146841</td>\n",
       "      <td>2018-12-14</td>\n",
       "      <td>29</td>\n",
       "      <td>FMLIDER</td>\n",
       "      <td>BBVA Chile</td>\n",
       "      <td>SCC</td>\n",
       "      <td>1305</td>\n",
       "      <td>2018-03-08</td>\n",
       "      <td>1900-01-01</td>\n",
       "      <td>0</td>\n",
       "      <td>...</td>\n",
       "      <td>Fija</td>\n",
       "      <td>3.000</td>\n",
       "      <td>-1000.0</td>\n",
       "      <td>1.800000e+09</td>\n",
       "      <td>CLP</td>\n",
       "      <td>Semi annual</td>\n",
       "      <td>Flotante</td>\n",
       "      <td>-1000.0</td>\n",
       "      <td>-1000.0</td>\n",
       "      <td>CLP</td>\n",
       "    </tr>\n",
       "    <tr>\n",
       "      <th>6</th>\n",
       "      <td>146852</td>\n",
       "      <td>2018-12-14</td>\n",
       "      <td>29</td>\n",
       "      <td>FMLIDER</td>\n",
       "      <td>JP Morgan</td>\n",
       "      <td>SCC</td>\n",
       "      <td>1344</td>\n",
       "      <td>2018-10-08</td>\n",
       "      <td>1900-01-01</td>\n",
       "      <td>0</td>\n",
       "      <td>...</td>\n",
       "      <td>Fija</td>\n",
       "      <td>3.615</td>\n",
       "      <td>-1000.0</td>\n",
       "      <td>3.000000e+09</td>\n",
       "      <td>CLP</td>\n",
       "      <td>Semi annual</td>\n",
       "      <td>Flotante</td>\n",
       "      <td>-1000.0</td>\n",
       "      <td>-1000.0</td>\n",
       "      <td>CLP</td>\n",
       "    </tr>\n",
       "    <tr>\n",
       "      <th>7</th>\n",
       "      <td>146844</td>\n",
       "      <td>2018-12-14</td>\n",
       "      <td>29</td>\n",
       "      <td>FMLVAHORRO</td>\n",
       "      <td>Santander</td>\n",
       "      <td>SCC</td>\n",
       "      <td>1310</td>\n",
       "      <td>2018-03-08</td>\n",
       "      <td>1900-01-01</td>\n",
       "      <td>0</td>\n",
       "      <td>...</td>\n",
       "      <td>Fija</td>\n",
       "      <td>2.980</td>\n",
       "      <td>-1000.0</td>\n",
       "      <td>1.000000e+09</td>\n",
       "      <td>CLP</td>\n",
       "      <td>Semi annual</td>\n",
       "      <td>Flotante</td>\n",
       "      <td>-1000.0</td>\n",
       "      <td>-1000.0</td>\n",
       "      <td>CLP</td>\n",
       "    </tr>\n",
       "    <tr>\n",
       "      <th>8</th>\n",
       "      <td>146847</td>\n",
       "      <td>2018-12-14</td>\n",
       "      <td>29</td>\n",
       "      <td>FMLVAHORRO</td>\n",
       "      <td>Santander</td>\n",
       "      <td>SCC</td>\n",
       "      <td>1313</td>\n",
       "      <td>2018-03-08</td>\n",
       "      <td>1900-01-01</td>\n",
       "      <td>0</td>\n",
       "      <td>...</td>\n",
       "      <td>Fija</td>\n",
       "      <td>2.990</td>\n",
       "      <td>-1000.0</td>\n",
       "      <td>1.000000e+09</td>\n",
       "      <td>CLP</td>\n",
       "      <td>Semi annual</td>\n",
       "      <td>Flotante</td>\n",
       "      <td>-1000.0</td>\n",
       "      <td>-1000.0</td>\n",
       "      <td>CLP</td>\n",
       "    </tr>\n",
       "    <tr>\n",
       "      <th>9</th>\n",
       "      <td>146849</td>\n",
       "      <td>2018-12-14</td>\n",
       "      <td>29</td>\n",
       "      <td>FMLVAHORRO</td>\n",
       "      <td>Santander</td>\n",
       "      <td>SCC</td>\n",
       "      <td>1325</td>\n",
       "      <td>2018-03-22</td>\n",
       "      <td>1900-01-01</td>\n",
       "      <td>0</td>\n",
       "      <td>...</td>\n",
       "      <td>Fija</td>\n",
       "      <td>2.860</td>\n",
       "      <td>-1000.0</td>\n",
       "      <td>2.000000e+09</td>\n",
       "      <td>CLP</td>\n",
       "      <td>Semi annual</td>\n",
       "      <td>Flotante</td>\n",
       "      <td>-1000.0</td>\n",
       "      <td>-1000.0</td>\n",
       "      <td>CLP</td>\n",
       "    </tr>\n",
       "    <tr>\n",
       "      <th>10</th>\n",
       "      <td>146850</td>\n",
       "      <td>2018-12-14</td>\n",
       "      <td>29</td>\n",
       "      <td>FMLVESTRAT</td>\n",
       "      <td>JP Morgan</td>\n",
       "      <td>SCC</td>\n",
       "      <td>1337</td>\n",
       "      <td>2018-06-08</td>\n",
       "      <td>1900-01-01</td>\n",
       "      <td>0</td>\n",
       "      <td>...</td>\n",
       "      <td>Fija</td>\n",
       "      <td>3.250</td>\n",
       "      <td>-1000.0</td>\n",
       "      <td>5.000000e+09</td>\n",
       "      <td>CLP</td>\n",
       "      <td>Semi annual</td>\n",
       "      <td>Flotante</td>\n",
       "      <td>-1000.0</td>\n",
       "      <td>-1000.0</td>\n",
       "      <td>CLP</td>\n",
       "    </tr>\n",
       "    <tr>\n",
       "      <th>11</th>\n",
       "      <td>146840</td>\n",
       "      <td>2018-12-14</td>\n",
       "      <td>29</td>\n",
       "      <td>FMLVESTRAT</td>\n",
       "      <td>Santander</td>\n",
       "      <td>SCC</td>\n",
       "      <td>1304</td>\n",
       "      <td>2018-03-08</td>\n",
       "      <td>1900-01-01</td>\n",
       "      <td>0</td>\n",
       "      <td>...</td>\n",
       "      <td>Fija</td>\n",
       "      <td>2.980</td>\n",
       "      <td>-1000.0</td>\n",
       "      <td>3.000000e+09</td>\n",
       "      <td>CLP</td>\n",
       "      <td>Semi annual</td>\n",
       "      <td>Flotante</td>\n",
       "      <td>-1000.0</td>\n",
       "      <td>-1000.0</td>\n",
       "      <td>CLP</td>\n",
       "    </tr>\n",
       "    <tr>\n",
       "      <th>12</th>\n",
       "      <td>146845</td>\n",
       "      <td>2018-12-14</td>\n",
       "      <td>29</td>\n",
       "      <td>FMLVESTRAT</td>\n",
       "      <td>Santander</td>\n",
       "      <td>SCC</td>\n",
       "      <td>1311</td>\n",
       "      <td>2018-03-08</td>\n",
       "      <td>1900-01-01</td>\n",
       "      <td>0</td>\n",
       "      <td>...</td>\n",
       "      <td>Fija</td>\n",
       "      <td>2.990</td>\n",
       "      <td>-1000.0</td>\n",
       "      <td>2.000000e+09</td>\n",
       "      <td>CLP</td>\n",
       "      <td>Semi annual</td>\n",
       "      <td>Flotante</td>\n",
       "      <td>-1000.0</td>\n",
       "      <td>-1000.0</td>\n",
       "      <td>CLP</td>\n",
       "    </tr>\n",
       "    <tr>\n",
       "      <th>13</th>\n",
       "      <td>146848</td>\n",
       "      <td>2018-12-14</td>\n",
       "      <td>29</td>\n",
       "      <td>FMLVPROT</td>\n",
       "      <td>BBVA Chile</td>\n",
       "      <td>SCC</td>\n",
       "      <td>1314</td>\n",
       "      <td>2018-03-08</td>\n",
       "      <td>1900-01-01</td>\n",
       "      <td>0</td>\n",
       "      <td>...</td>\n",
       "      <td>Fija</td>\n",
       "      <td>3.000</td>\n",
       "      <td>-1000.0</td>\n",
       "      <td>2.000000e+09</td>\n",
       "      <td>CLP</td>\n",
       "      <td>Semi annual</td>\n",
       "      <td>Flotante</td>\n",
       "      <td>-1000.0</td>\n",
       "      <td>-1000.0</td>\n",
       "      <td>CLP</td>\n",
       "    </tr>\n",
       "  </tbody>\n",
       "</table>\n",
       "<p>14 rows × 29 columns</p>\n",
       "</div>"
      ],
      "text/plain": [
       "    ID_Key      Fecha Administradora       Fondo Contraparte Tipo    ID  \\\n",
       "0   146853 2018-12-14             29    CFILVDRA   Santander  FWD  1352   \n",
       "1   146851 2018-12-14             29    CFILVOAR   Santander  FWD  1343   \n",
       "2   146842 2018-12-14             29    CFILVTAB   Santander  SCC  1306   \n",
       "3   146843 2018-12-14             29    FMCCCONS  BBVA Chile  SCC  1307   \n",
       "4   146846 2018-12-14             29    FMCCCREC  BBVA Chile  SCC  1312   \n",
       "5   146841 2018-12-14             29     FMLIDER  BBVA Chile  SCC  1305   \n",
       "6   146852 2018-12-14             29     FMLIDER   JP Morgan  SCC  1344   \n",
       "7   146844 2018-12-14             29  FMLVAHORRO   Santander  SCC  1310   \n",
       "8   146847 2018-12-14             29  FMLVAHORRO   Santander  SCC  1313   \n",
       "9   146849 2018-12-14             29  FMLVAHORRO   Santander  SCC  1325   \n",
       "10  146850 2018-12-14             29  FMLVESTRAT   JP Morgan  SCC  1337   \n",
       "11  146840 2018-12-14             29  FMLVESTRAT   Santander  SCC  1304   \n",
       "12  146845 2018-12-14             29  FMLVESTRAT   Santander  SCC  1311   \n",
       "13  146848 2018-12-14             29    FMLVPROT  BBVA Chile  SCC  1314   \n",
       "\n",
       "   FechaTransaccion FechaFixing  TenorFixing    ...     TipoTasaActivo  \\\n",
       "0        2018-11-26  2019-04-26            0    ...                 --   \n",
       "1        2018-10-04  2019-03-04            0    ...                 --   \n",
       "2        2018-03-08  1900-01-01            0    ...               Fija   \n",
       "3        2018-03-08  1900-01-01            0    ...               Fija   \n",
       "4        2018-03-08  1900-01-01            0    ...               Fija   \n",
       "5        2018-03-08  1900-01-01            0    ...               Fija   \n",
       "6        2018-10-08  1900-01-01            0    ...               Fija   \n",
       "7        2018-03-08  1900-01-01            0    ...               Fija   \n",
       "8        2018-03-08  1900-01-01            0    ...               Fija   \n",
       "9        2018-03-22  1900-01-01            0    ...               Fija   \n",
       "10       2018-06-08  1900-01-01            0    ...               Fija   \n",
       "11       2018-03-08  1900-01-01            0    ...               Fija   \n",
       "12       2018-03-08  1900-01-01            0    ...               Fija   \n",
       "13       2018-03-08  1900-01-01            0    ...               Fija   \n",
       "\n",
       "   TasaActivo SpreadActivo NocionalPasivo MonedaPasivo FrecuenciaPasivo  \\\n",
       "0   -1000.000      -1000.0   8.500000e+05          EUR               --   \n",
       "1   -1000.000      -1000.0   2.350000e+06          EUR               --   \n",
       "2       2.980      -1000.0   1.000000e+09          CLP      Semi annual   \n",
       "3       3.000      -1000.0   1.200000e+09          CLP      Semi annual   \n",
       "4       3.000      -1000.0   1.800000e+09          CLP      Semi annual   \n",
       "5       3.000      -1000.0   1.800000e+09          CLP      Semi annual   \n",
       "6       3.615      -1000.0   3.000000e+09          CLP      Semi annual   \n",
       "7       2.980      -1000.0   1.000000e+09          CLP      Semi annual   \n",
       "8       2.990      -1000.0   1.000000e+09          CLP      Semi annual   \n",
       "9       2.860      -1000.0   2.000000e+09          CLP      Semi annual   \n",
       "10      3.250      -1000.0   5.000000e+09          CLP      Semi annual   \n",
       "11      2.980      -1000.0   3.000000e+09          CLP      Semi annual   \n",
       "12      2.990      -1000.0   2.000000e+09          CLP      Semi annual   \n",
       "13      3.000      -1000.0   2.000000e+09          CLP      Semi annual   \n",
       "\n",
       "    TipoTasaPasivo TasaPasivo SpreadPasivo MonedaBase  \n",
       "0               --    -1000.0      -1000.0        USD  \n",
       "1               --    -1000.0      -1000.0        USD  \n",
       "2         Flotante    -1000.0      -1000.0        CLP  \n",
       "3         Flotante    -1000.0      -1000.0        CLP  \n",
       "4         Flotante    -1000.0      -1000.0        CLP  \n",
       "5         Flotante    -1000.0      -1000.0        CLP  \n",
       "6         Flotante    -1000.0      -1000.0        CLP  \n",
       "7         Flotante    -1000.0      -1000.0        CLP  \n",
       "8         Flotante    -1000.0      -1000.0        CLP  \n",
       "9         Flotante    -1000.0      -1000.0        CLP  \n",
       "10        Flotante    -1000.0      -1000.0        CLP  \n",
       "11        Flotante    -1000.0      -1000.0        CLP  \n",
       "12        Flotante    -1000.0      -1000.0        CLP  \n",
       "13        Flotante    -1000.0      -1000.0        CLP  \n",
       "\n",
       "[14 rows x 29 columns]"
      ]
     },
     "execution_count": 4,
     "metadata": {},
     "output_type": "execute_result"
    }
   ],
   "source": [
    "info"
   ]
  },
  {
   "cell_type": "markdown",
   "metadata": {},
   "source": [
    "Misma creación"
   ]
  },
  {
   "cell_type": "code",
   "execution_count": 5,
   "metadata": {},
   "outputs": [],
   "source": [
    "empresa = Empresa(fecha, hora, info, cnn)"
   ]
  },
  {
   "cell_type": "markdown",
   "metadata": {},
   "source": [
    "### Flujos derivado\n",
    "Un DataFrame de pandas que posee la información de los flujos"
   ]
  },
  {
   "cell_type": "code",
   "execution_count": 6,
   "metadata": {},
   "outputs": [
    {
     "data": {
      "text/html": [
       "<div>\n",
       "<style scoped>\n",
       "    .dataframe tbody tr th:only-of-type {\n",
       "        vertical-align: middle;\n",
       "    }\n",
       "\n",
       "    .dataframe tbody tr th {\n",
       "        vertical-align: top;\n",
       "    }\n",
       "\n",
       "    .dataframe thead th {\n",
       "        text-align: right;\n",
       "    }\n",
       "</style>\n",
       "<table border=\"1\" class=\"dataframe\">\n",
       "  <thead>\n",
       "    <tr style=\"text-align: right;\">\n",
       "      <th></th>\n",
       "    </tr>\n",
       "  </thead>\n",
       "  <tbody>\n",
       "  </tbody>\n",
       "</table>\n",
       "</div>"
      ],
      "text/plain": [
       "Empty DataFrame\n",
       "Columns: []\n",
       "Index: []"
      ]
     },
     "execution_count": 6,
     "metadata": {},
     "output_type": "execute_result"
    }
   ],
   "source": [
    "empresa.get_flujos_derivados()"
   ]
  },
  {
   "cell_type": "markdown",
   "metadata": {},
   "source": [
    "### Flujos no sensibles\n",
    "Un DataFrame de pandas que posee la información de flujos no sensibles"
   ]
  },
  {
   "cell_type": "code",
   "execution_count": 7,
   "metadata": {},
   "outputs": [
    {
     "data": {
      "text/html": [
       "<div>\n",
       "<style scoped>\n",
       "    .dataframe tbody tr th:only-of-type {\n",
       "        vertical-align: middle;\n",
       "    }\n",
       "\n",
       "    .dataframe tbody tr th {\n",
       "        vertical-align: top;\n",
       "    }\n",
       "\n",
       "    .dataframe thead th {\n",
       "        text-align: right;\n",
       "    }\n",
       "</style>\n",
       "<table border=\"1\" class=\"dataframe\">\n",
       "  <thead>\n",
       "    <tr style=\"text-align: right;\">\n",
       "      <th></th>\n",
       "    </tr>\n",
       "  </thead>\n",
       "  <tbody>\n",
       "  </tbody>\n",
       "</table>\n",
       "</div>"
      ],
      "text/plain": [
       "Empty DataFrame\n",
       "Columns: []\n",
       "Index: []"
      ]
     },
     "execution_count": 7,
     "metadata": {},
     "output_type": "execute_result"
    }
   ],
   "source": [
    "empresa.get_flujos_nosensibles()"
   ]
  },
  {
   "cell_type": "markdown",
   "metadata": {},
   "source": [
    "### Flujos valorizados\n",
    "Un DataFrame de pandas que posee la información de los flujos valorizados"
   ]
  },
  {
   "cell_type": "code",
   "execution_count": 8,
   "metadata": {
    "scrolled": true
   },
   "outputs": [
    {
     "data": {
      "text/html": [
       "<div>\n",
       "<style scoped>\n",
       "    .dataframe tbody tr th:only-of-type {\n",
       "        vertical-align: middle;\n",
       "    }\n",
       "\n",
       "    .dataframe tbody tr th {\n",
       "        vertical-align: top;\n",
       "    }\n",
       "\n",
       "    .dataframe thead th {\n",
       "        text-align: right;\n",
       "    }\n",
       "</style>\n",
       "<table border=\"1\" class=\"dataframe\">\n",
       "  <thead>\n",
       "    <tr style=\"text-align: right;\">\n",
       "      <th></th>\n",
       "    </tr>\n",
       "  </thead>\n",
       "  <tbody>\n",
       "  </tbody>\n",
       "</table>\n",
       "</div>"
      ],
      "text/plain": [
       "Empty DataFrame\n",
       "Columns: []\n",
       "Index: []"
      ]
     },
     "execution_count": 8,
     "metadata": {},
     "output_type": "execute_result"
    }
   ],
   "source": [
    "empresa.get_flujos_valorizados()"
   ]
  },
  {
   "cell_type": "markdown",
   "metadata": {},
   "source": [
    "## Crear objetos derivados"
   ]
  },
  {
   "cell_type": "code",
   "execution_count": 9,
   "metadata": {},
   "outputs": [
    {
     "name": "stdout",
     "output_type": "stream",
     "text": [
      "0.202843 segundos para generar flujos\n"
     ]
    }
   ],
   "source": [
    "a = datetime.datetime.now()\n",
    "# ----------------------------\n",
    "\n",
    "empresa.crear_derivados()\n",
    "\n",
    "# ----------------------------\n",
    "b = datetime.datetime.now()\n",
    "tiempo_generar = (b-a).total_seconds()\n",
    "print(tiempo_generar, \"segundos para generar flujos\")"
   ]
  },
  {
   "cell_type": "markdown",
   "metadata": {},
   "source": [
    "### Generar flujos\n",
    "El método *genera_flujos()* se encarga de este proceso y deja sus resultados en los DataFrame de flujos y de flujos no sensibles"
   ]
  },
  {
   "cell_type": "code",
   "execution_count": 10,
   "metadata": {
    "scrolled": true
   },
   "outputs": [
    {
     "name": "stdout",
     "output_type": "stream",
     "text": [
      "4.586861 segundos para generar flujos\n"
     ]
    }
   ],
   "source": [
    "a = datetime.datetime.now()\n",
    "# ----------------------------\n",
    "\n",
    "\n",
    "empresa.genera_flujos()\n",
    "\n",
    "\n",
    "# ----------------------------\n",
    "b = datetime.datetime.now()\n",
    "tiempo_generar = (b-a).total_seconds()\n",
    "print(tiempo_generar, \"segundos para generar flujos\")"
   ]
  },
  {
   "cell_type": "markdown",
   "metadata": {},
   "source": [
    "### Valorizar los flujos\n",
    "Se valorizan los flujos y se guarda el DataFrame con la valorización.  \n",
    "Este proceso NO incluye el tipo cambio spot."
   ]
  },
  {
   "cell_type": "code",
   "execution_count": 11,
   "metadata": {},
   "outputs": [
    {
     "name": "stdout",
     "output_type": "stream",
     "text": [
      "3.758472 segundos para valorizar flujos\n"
     ]
    }
   ],
   "source": [
    "a = datetime.datetime.now()\n",
    "# ----------------------------\n",
    "\n",
    "\n",
    "empresa.valoriza_flujos()\n",
    "\n",
    "\n",
    "# ----------------------------\n",
    "b = datetime.datetime.now()\n",
    "tiempo_valorizar = (b-a).total_seconds()\n",
    "print(tiempo_valorizar, \"segundos para valorizar flujos\")"
   ]
  },
  {
   "cell_type": "markdown",
   "metadata": {},
   "source": [
    "### Agregar el cambio spot\n",
    "Luego de ejecutar este método, el DataFrame con flujos valorizados tendrá los tipos de cambio\n"
   ]
  },
  {
   "cell_type": "code",
   "execution_count": 12,
   "metadata": {},
   "outputs": [
    {
     "name": "stdout",
     "output_type": "stream",
     "text": [
      "34.636912 segundos para agregar cambio_spot\n"
     ]
    }
   ],
   "source": [
    "a = datetime.datetime.now()\n",
    "# ----------------------------\n",
    "\n",
    "\n",
    "empresa.agrega_cambio_spot()\n",
    "\n",
    "\n",
    "# ----------------------------\n",
    "b = datetime.datetime.now()\n",
    "tiempo_cambio = (b-a).total_seconds()\n",
    "print(tiempo_cambio, \"segundos para agregar cambio_spot\")"
   ]
  },
  {
   "cell_type": "markdown",
   "metadata": {},
   "source": [
    "### Valorización DV01\n",
    "Aquí se requiere que el cambio spot ya esté calculado para los flujos valorizados.  \n",
    "El resultado quedará en el DataFrame corresponiente"
   ]
  },
  {
   "cell_type": "code",
   "execution_count": 13,
   "metadata": {},
   "outputs": [
    {
     "name": "stdout",
     "output_type": "stream",
     "text": [
      "0.870383 segundos para DV01\n"
     ]
    }
   ],
   "source": [
    "a = datetime.datetime.now()\n",
    "# ----------------------------\n",
    "\n",
    "\n",
    "empresa.valoriza_flujos_DV01()\n",
    "\n",
    "\n",
    "# ----------------------------\n",
    "b = datetime.datetime.now()\n",
    "DV01 = (b-a).total_seconds()\n",
    "print(DV01, \"segundos para DV01\")"
   ]
  },
  {
   "cell_type": "markdown",
   "metadata": {},
   "source": [
    "## Azucar sintáctico\n",
    "El método procesar_todo()... procesa todo"
   ]
  },
  {
   "cell_type": "code",
   "execution_count": 14,
   "metadata": {},
   "outputs": [],
   "source": [
    "empresa.procesar_todo()"
   ]
  },
  {
   "cell_type": "code",
   "execution_count": null,
   "metadata": {},
   "outputs": [],
   "source": []
  }
 ],
 "metadata": {
  "kernelspec": {
   "display_name": "Python 3",
   "language": "python",
   "name": "python3"
  },
  "language_info": {
   "codemirror_mode": {
    "name": "ipython",
    "version": 3
   },
   "file_extension": ".py",
   "mimetype": "text/x-python",
   "name": "python",
   "nbconvert_exporter": "python",
   "pygments_lexer": "ipython3",
   "version": "3.7.2"
  }
 },
 "nbformat": 4,
 "nbformat_minor": 2
}
