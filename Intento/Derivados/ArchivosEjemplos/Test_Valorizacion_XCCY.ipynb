{
 "cells": [
  {
   "cell_type": "markdown",
   "metadata": {},
   "source": [
    "# Valorización de derivados XCCY en Python"
   ]
  },
  {
   "cell_type": "code",
   "execution_count": 1,
   "metadata": {},
   "outputs": [],
   "source": [
    "import pyodbc\n",
    "import pandas as pd\n",
    "import numpy as np\n",
    "import datetime\n",
    "from Derivados.DerivadosXCCY import *"
   ]
  },
  {
   "cell_type": "markdown",
   "metadata": {},
   "source": [
    "## Datos por defecto"
   ]
  },
  {
   "cell_type": "code",
   "execution_count": 2,
   "metadata": {},
   "outputs": [],
   "source": [
    "info_derivado = dict()\n",
    "info_derivado[\"Tipo\"] = 'XCCY'\n",
    "info_derivado[\"ID_Key\"] = \"\"\n",
    "info_derivado[\"Administradora\"] = \"Admin\"\n",
    "info_derivado[\"Fondo\"] = \"Fondo\"\n",
    "info_derivado[\"Contraparte\"] = \"Contraparte\"\n",
    "info_derivado[\"ID\"] = \"id\"\n",
    "info_derivado[\"Nemotecnico\"] = \"\"\n",
    "info_derivado[\"Mercado\"] = \"Local\"\n"
   ]
  },
  {
   "cell_type": "markdown",
   "metadata": {},
   "source": [
    "## Conexión a base de datos"
   ]
  },
  {
   "cell_type": "code",
   "execution_count": 3,
   "metadata": {},
   "outputs": [],
   "source": [
    "server = '192.168.30.200'\n",
    "username = 'mvillegas'\n",
    "password = 'lqpe1OfF'\n",
    "driver = '{SQL Server}'  # Driver you need to connect to the database\n",
    "\n",
    "cnn = pyodbc.connect('DRIVER=' + driver + ';SERVER=' + server + ';UID=' + username + ';PWD=' + password)"
   ]
  },
  {
   "cell_type": "markdown",
   "metadata": {},
   "source": [
    "## Datos para valorizar"
   ]
  },
  {
   "cell_type": "code",
   "execution_count": 4,
   "metadata": {},
   "outputs": [],
   "source": [
    "fecha = datetime.date(2017, 3, 29)\n",
    "hora = '1500'\n",
    "\n",
    "info_derivado[\"FechaEfectiva\"] = datetime.date(2018, 11, 28)\n",
    "info_derivado[\"FechaVenc\"] = datetime.date(2018, 12, 28)\n",
    "\n",
    "info_derivado[\"AjusteFeriados\"] = \"--\"\n",
    "\n",
    "info_derivado[\"NocionalActivo\"] = 1000\n",
    "info_derivado[\"MonedaActivo\"] = 'USD'\n",
    "info_derivado[\"TipoTasaActivo\"] = \"Fija_30/360\"\n",
    "info_derivado[\"TasaActivo\"] = 2\n",
    "info_derivado[\"FrecuenciaActivo\"] = \"Mensual\"\n",
    "info_derivado[\"SpreadActivo\"] = 0\n",
    "\n",
    "\n",
    "info_derivado[\"NocionalPasivo\"] = 2000\n",
    "info_derivado[\"MonedaPasivo\"] = 'MXN'\n",
    "info_derivado[\"TipoTasaPasivo\"] = \"Fija_30/360\"\n",
    "info_derivado[\"TasaPasivo\"] = 2.1\n",
    "info_derivado[\"FrecuenciaPasivo\"] = \"Mensual\"\n",
    "info_derivado[\"SpreadPasivo\"] = 0\n",
    "\n",
    "\n",
    "info_derivado[\"MonedaBase\"] = \"USD\"\n",
    "\n",
    "\n",
    "info = pd.DataFrame([info_derivado])"
   ]
  },
  {
   "cell_type": "code",
   "execution_count": 5,
   "metadata": {},
   "outputs": [],
   "source": [
    "derivado = DerivadosXCCY(fecha, hora, info, cnn)"
   ]
  },
  {
   "cell_type": "code",
   "execution_count": 6,
   "metadata": {},
   "outputs": [
    {
     "data": {
      "text/plain": [
       "'INFO: Derivado inicializado'"
      ]
     },
     "execution_count": 6,
     "metadata": {},
     "output_type": "execute_result"
    }
   ],
   "source": [
    "derivado.get_status()"
   ]
  },
  {
   "cell_type": "code",
   "execution_count": 7,
   "metadata": {},
   "outputs": [
    {
     "name": "stdout",
     "output_type": "stream",
     "text": [
      "A [[datetime.date(2018, 12, 28), 100.16515813019203, datetime.date(2018, 12, 28), 100, 0.1651581301920224, 0, 0.0]]\n",
      "[[datetime.date(2018, 12, 28), 100.16515813019203, datetime.date(2018, 12, 28), 100, 0.1651581301920224, 0, 0.0]]\n",
      "A [[datetime.date(2018, 12, 28), 100.1733378832515, datetime.date(2018, 12, 28), 100, 0.173337883251512, 0, 0.0]]\n",
      "[[datetime.date(2018, 12, 28), 100.1733378832515, datetime.date(2018, 12, 28), 100, 0.173337883251512, 0, 0.0]]\n"
     ]
    }
   ],
   "source": [
    "derivado.genera_flujos()\n"
   ]
  },
  {
   "cell_type": "code",
   "execution_count": 8,
   "metadata": {},
   "outputs": [
    {
     "data": {
      "text/plain": [
       "'INFO: Flujos generados para XCCY con ID id'"
      ]
     },
     "execution_count": 8,
     "metadata": {},
     "output_type": "execute_result"
    }
   ],
   "source": [
    "derivado.get_status()"
   ]
  },
  {
   "cell_type": "code",
   "execution_count": 9,
   "metadata": {},
   "outputs": [],
   "source": [
    "derivado.valoriza_flujos()"
   ]
  },
  {
   "cell_type": "code",
   "execution_count": 10,
   "metadata": {},
   "outputs": [
    {
     "data": {
      "text/plain": [
       "'INFO: Valorización completada con éxito'"
      ]
     },
     "execution_count": 10,
     "metadata": {},
     "output_type": "execute_result"
    }
   ],
   "source": [
    "derivado.get_status()"
   ]
  },
  {
   "cell_type": "markdown",
   "metadata": {},
   "source": [
    "# Flujos valorizados"
   ]
  },
  {
   "cell_type": "code",
   "execution_count": 11,
   "metadata": {},
   "outputs": [
    {
     "data": {
      "text/html": [
       "<div>\n",
       "<style scoped>\n",
       "    .dataframe tbody tr th:only-of-type {\n",
       "        vertical-align: middle;\n",
       "    }\n",
       "\n",
       "    .dataframe tbody tr th {\n",
       "        vertical-align: top;\n",
       "    }\n",
       "\n",
       "    .dataframe thead th {\n",
       "        text-align: right;\n",
       "    }\n",
       "</style>\n",
       "<table border=\"1\" class=\"dataframe\">\n",
       "  <thead>\n",
       "    <tr style=\"text-align: right;\">\n",
       "      <th></th>\n",
       "      <th>ID</th>\n",
       "      <th>Contraparte</th>\n",
       "      <th>Administradora</th>\n",
       "      <th>ActivoPasivo</th>\n",
       "      <th>Fecha</th>\n",
       "      <th>FechaFixing</th>\n",
       "      <th>FechaFlujo</th>\n",
       "      <th>FechaPago</th>\n",
       "      <th>Flujo</th>\n",
       "      <th>ValorPresenteMonFlujo</th>\n",
       "      <th>Moneda</th>\n",
       "      <th>MonedaBase</th>\n",
       "    </tr>\n",
       "  </thead>\n",
       "  <tbody>\n",
       "    <tr>\n",
       "      <th>0</th>\n",
       "      <td>NaN</td>\n",
       "      <td>Contraparte</td>\n",
       "      <td>Admin</td>\n",
       "      <td>1</td>\n",
       "      <td>2018-11-27</td>\n",
       "      <td>2018-11-28</td>\n",
       "      <td>2018-11-28</td>\n",
       "      <td>2018-11-28</td>\n",
       "      <td>-1000.000000</td>\n",
       "      <td>-999.940138</td>\n",
       "      <td>USD</td>\n",
       "      <td>USD</td>\n",
       "    </tr>\n",
       "    <tr>\n",
       "      <th>1</th>\n",
       "      <td>NaN</td>\n",
       "      <td>Contraparte</td>\n",
       "      <td>Admin</td>\n",
       "      <td>1</td>\n",
       "      <td>2018-11-27</td>\n",
       "      <td>2018-12-28</td>\n",
       "      <td>2018-12-28</td>\n",
       "      <td>2018-12-28</td>\n",
       "      <td>1001.651581</td>\n",
       "      <td>999.642798</td>\n",
       "      <td>USD</td>\n",
       "      <td>USD</td>\n",
       "    </tr>\n",
       "    <tr>\n",
       "      <th>2</th>\n",
       "      <td>NaN</td>\n",
       "      <td>Contraparte</td>\n",
       "      <td>Admin</td>\n",
       "      <td>-1</td>\n",
       "      <td>2018-11-27</td>\n",
       "      <td>2018-11-28</td>\n",
       "      <td>2018-11-28</td>\n",
       "      <td>2018-11-28</td>\n",
       "      <td>-2000.000000</td>\n",
       "      <td>-2000.530758</td>\n",
       "      <td>MXN</td>\n",
       "      <td>USD</td>\n",
       "    </tr>\n",
       "    <tr>\n",
       "      <th>3</th>\n",
       "      <td>NaN</td>\n",
       "      <td>Contraparte</td>\n",
       "      <td>Admin</td>\n",
       "      <td>-1</td>\n",
       "      <td>2018-11-27</td>\n",
       "      <td>2018-12-28</td>\n",
       "      <td>2018-12-28</td>\n",
       "      <td>2018-12-28</td>\n",
       "      <td>2003.466758</td>\n",
       "      <td>1988.395890</td>\n",
       "      <td>MXN</td>\n",
       "      <td>USD</td>\n",
       "    </tr>\n",
       "  </tbody>\n",
       "</table>\n",
       "</div>"
      ],
      "text/plain": [
       "   ID  Contraparte Administradora ActivoPasivo       Fecha FechaFixing  \\\n",
       "0 NaN  Contraparte          Admin            1  2018-11-27  2018-11-28   \n",
       "1 NaN  Contraparte          Admin            1  2018-11-27  2018-12-28   \n",
       "2 NaN  Contraparte          Admin           -1  2018-11-27  2018-11-28   \n",
       "3 NaN  Contraparte          Admin           -1  2018-11-27  2018-12-28   \n",
       "\n",
       "   FechaFlujo   FechaPago        Flujo  ValorPresenteMonFlujo Moneda  \\\n",
       "0  2018-11-28  2018-11-28 -1000.000000            -999.940138    USD   \n",
       "1  2018-12-28  2018-12-28  1001.651581             999.642798    USD   \n",
       "2  2018-11-28  2018-11-28 -2000.000000           -2000.530758    MXN   \n",
       "3  2018-12-28  2018-12-28  2003.466758            1988.395890    MXN   \n",
       "\n",
       "  MonedaBase  \n",
       "0        USD  \n",
       "1        USD  \n",
       "2        USD  \n",
       "3        USD  "
      ]
     },
     "execution_count": 11,
     "metadata": {},
     "output_type": "execute_result"
    }
   ],
   "source": [
    "derivado.flujos_valorizados[[\"ID\", \"Contraparte\", \"Administradora\",\"ActivoPasivo\", \"Fecha\", \"FechaFixing\", \"FechaFlujo\", \"FechaPago\", \"Flujo\", \"ValorPresenteMonFlujo\", \"Moneda\", \"MonedaBase\"]]"
   ]
  },
  {
   "cell_type": "markdown",
   "metadata": {},
   "source": [
    "## Valorización completa"
   ]
  },
  {
   "cell_type": "code",
   "execution_count": 12,
   "metadata": {},
   "outputs": [
    {
     "name": "stdout",
     "output_type": "stream",
     "text": [
      "Activo\n",
      "Valor activo: -0.2973396615350339\n",
      "\n",
      "Pasivo\n",
      "Valor pasivo: -12.134867650500155\n"
     ]
    }
   ],
   "source": [
    "infomio = derivado.flujos_valorizados\n",
    "\n",
    "print(\"Activo\")\n",
    "mio = sum(infomio[infomio[\"ActivoPasivo\"] == 1].ValorPresenteMonFlujo)\n",
    "print(\"Valor activo:\", mio)\n",
    "print()\n",
    "print(\"Pasivo\")\n",
    "mio = sum(infomio[infomio[\"ActivoPasivo\"] == -1].ValorPresenteMonFlujo)\n",
    "print(\"Valor pasivo:\", mio)"
   ]
  },
  {
   "cell_type": "code",
   "execution_count": null,
   "metadata": {},
   "outputs": [],
   "source": []
  }
 ],
 "metadata": {
  "kernelspec": {
   "display_name": "Python 3",
   "language": "python",
   "name": "python3"
  },
  "language_info": {
   "codemirror_mode": {
    "name": "ipython",
    "version": 3
   },
   "file_extension": ".py",
   "mimetype": "text/x-python",
   "name": "python",
   "nbconvert_exporter": "python",
   "pygments_lexer": "ipython3",
   "version": "3.7.2"
  }
 },
 "nbformat": 4,
 "nbformat_minor": 2
}
