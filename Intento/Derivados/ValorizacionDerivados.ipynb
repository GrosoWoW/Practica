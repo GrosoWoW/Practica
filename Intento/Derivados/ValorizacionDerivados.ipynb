{
 "nbformat": 4,
 "nbformat_minor": 2,
 "metadata": {
  "language_info": {
   "name": "python",
   "codemirror_mode": {
    "name": "ipython",
    "version": 3
   },
   "version": "3.6.8-final"
  },
  "orig_nbformat": 2,
  "file_extension": ".py",
  "mimetype": "text/x-python",
  "name": "python",
  "npconvert_exporter": "python",
  "pygments_lexer": "ipython3",
  "version": 3,
  "kernelspec": {
   "name": "python36864bit95f61d10654543119976a9b54263d6fa",
   "display_name": "Python 3.6.8 64-bit"
  }
 },
 "cells": [
  {
   "cell_type": "code",
   "execution_count": 136,
   "metadata": {},
   "outputs": [],
   "source": [
    "import sys\n",
    "sys.path.append(\"..\")\n",
    "\n",
    "import pyodbc\n",
    "from Derivados.DerivadosTipos.DerivadosSCC import *\n",
    "import datetime\n",
    "import pandas as pd\n",
    "from Bonos.Correlaciones import ewma\n"
   ]
  },
  {
   "cell_type": "code",
   "execution_count": 137,
   "metadata": {},
   "outputs": [],
   "source": [
    "server = '172.16.1.38'\n",
    "username = 'sa'\n",
    "password = 'qwerty123'\n",
    "driver = '{ODBC Driver 17 for SQL Server}'\n",
    "\n",
    "cnn = pyodbc.connect('DRIVER=' + driver + ';SERVER=' + server + ';UID=' + username + ';PWD=' + password)"
   ]
  },
  {
   "cell_type": "code",
   "execution_count": 138,
   "metadata": {},
   "outputs": [],
   "source": [
    "def creacion_derivado(FechaEfectiva, FechaVenc, AjusteFeriados, NocionalActivo, MonedaActivo,\\\n",
    "                                                     MonedaBase, TipoTasaActivo, TipoTasaPasivo, TasaActivo,\\\n",
    "                                                                        TasaPasivo, FrecuenciaActivo, FrecuenciaPasivo, \\\n",
    "                                                                        ID, Tipo, ID_Key=None): \n",
    "\n",
    "    info_derivado = dict()\n",
    "    info_derivado[\"Tipo\"] = \"Tipo\"\n",
    "    info_derivado[\"ID_Key\"] = \"\"\n",
    "    info_derivado[\"Administradora\"] = \"Admin\"\n",
    "    info_derivado[\"Fondo\"] = \"Fondo\"\n",
    "    info_derivado[\"Contraparte\"] = \"Contraparte\"\n",
    "    info_derivado[\"ID\"] = int(ID)\n",
    "    info_derivado[\"Nemotecnico\"] = \"\"\n",
    "    info_derivado[\"Mercado\"] = \"Local\" \n",
    "\n",
    "    fecha = datetime.date(2017, 12, 20)\n",
    "    hora = '1700'\n",
    "\n",
    "    info_derivado[\"FechaEfectiva\"] = str(FechaEfectiva)\n",
    "    info_derivado[\"FechaVenc\"] = str(FechaVenc)\n",
    "\n",
    "    info_derivado[\"AjusteFeriados\"] = str(AjusteFeriados)\n",
    "\n",
    "    info_derivado[\"NocionalActivo\"] = float(NocionalActivo)\n",
    "\n",
    "    info_derivado[\"MonedaActivo\"] = str(MonedaActivo)\n",
    "    info_derivado[\"MonedaBase\"] = str(MonedaBase)\n",
    "\n",
    "    info_derivado[\"TipoTasaActivo\"] = str(TipoTasaActivo)\n",
    "    info_derivado[\"TipoTasaPasivo\"] = str(TipoTasaPasivo)\n",
    "\n",
    "    info_derivado[\"TasaActivo\"] = float(TasaActivo)\n",
    "    info_derivado[\"TasaPasivo\"] = float(TasaPasivo)\n",
    "\n",
    "    info_derivado[\"FrecuenciaActivo\"] = str(FrecuenciaActivo)\n",
    "    info_derivado[\"FrecuenciaPasivo\"] = str(FrecuenciaPasivo)\n",
    "\n",
    "    info1 = pd.DataFrame([info_derivado])\n",
    "    derivado = DerivadosSCC(fecha, hora, info1, cnn)\n",
    "    return derivado\n",
    "\n",
    "derivado1 = creacion_derivado(\"12/11/2019\", \"12/11/2021\", \"CL\", 10*(10**9), \"CLP\", \"CLP\", \"Fija\", \"Flotante\", 1.45, -1000, \"Semi annual\", \"Semi annual\", 3, \"SCC\")\n",
    "\n",
    "derivado1.genera_flujos()\n",
    "derivado1.valoriza_flujos()\n",
    "\n"
   ]
  },
  {
   "cell_type": "code",
   "execution_count": 139,
   "metadata": {},
   "outputs": [
    {
     "data": {
      "text/html": "<div>\n<style scoped>\n    .dataframe tbody tr th:only-of-type {\n        vertical-align: middle;\n    }\n\n    .dataframe tbody tr th {\n        vertical-align: top;\n    }\n\n    .dataframe thead th {\n        text-align: right;\n    }\n</style>\n<table border=\"1\" class=\"dataframe\">\n  <thead>\n    <tr style=\"text-align: right;\">\n      <th></th>\n      <th>ID</th>\n      <th>ActivoPasivo</th>\n      <th>Fecha</th>\n      <th>FechaFixing</th>\n      <th>FechaFlujo</th>\n      <th>FechaPago</th>\n      <th>Flujo</th>\n      <th>ValorPresenteMonFlujo</th>\n      <th>Moneda</th>\n      <th>MonedaBase</th>\n    </tr>\n  </thead>\n  <tbody>\n    <tr>\n      <th>0</th>\n      <td>1310</td>\n      <td>-1</td>\n      <td>2017-12-20</td>\n      <td>2018-09-12</td>\n      <td>2018-09-12</td>\n      <td>2018-09-12</td>\n      <td>1.899260e+07</td>\n      <td>1.863861e+07</td>\n      <td>CLP</td>\n      <td>CLP</td>\n    </tr>\n    <tr>\n      <th>1</th>\n      <td>1310</td>\n      <td>-1</td>\n      <td>2017-12-20</td>\n      <td>2019-03-12</td>\n      <td>2019-03-12</td>\n      <td>2019-03-12</td>\n      <td>1.410621e+07</td>\n      <td>1.365073e+07</td>\n      <td>CLP</td>\n      <td>CLP</td>\n    </tr>\n    <tr>\n      <th>2</th>\n      <td>1310</td>\n      <td>-1</td>\n      <td>2017-12-20</td>\n      <td>2019-09-12</td>\n      <td>2019-09-12</td>\n      <td>2019-09-12</td>\n      <td>1.476790e+07</td>\n      <td>1.408308e+07</td>\n      <td>CLP</td>\n      <td>CLP</td>\n    </tr>\n    <tr>\n      <th>3</th>\n      <td>1310</td>\n      <td>-1</td>\n      <td>2017-12-20</td>\n      <td>2020-03-12</td>\n      <td>2020-03-12</td>\n      <td>2020-03-12</td>\n      <td>1.018056e+09</td>\n      <td>9.536276e+08</td>\n      <td>CLP</td>\n      <td>CLP</td>\n    </tr>\n    <tr>\n      <th>4</th>\n      <td>1310</td>\n      <td>1</td>\n      <td>2017-12-20</td>\n      <td>2018-09-12</td>\n      <td>2018-09-12</td>\n      <td>2018-09-12</td>\n      <td>1.512177e+07</td>\n      <td>1.483992e+07</td>\n      <td>CLP</td>\n      <td>CLP</td>\n    </tr>\n    <tr>\n      <th>5</th>\n      <td>1310</td>\n      <td>1</td>\n      <td>2017-12-20</td>\n      <td>2019-03-12</td>\n      <td>2019-03-12</td>\n      <td>2019-03-12</td>\n      <td>1.487340e+07</td>\n      <td>1.439314e+07</td>\n      <td>CLP</td>\n      <td>CLP</td>\n    </tr>\n    <tr>\n      <th>6</th>\n      <td>1310</td>\n      <td>1</td>\n      <td>2017-12-20</td>\n      <td>2019-09-12</td>\n      <td>2019-09-12</td>\n      <td>2019-09-12</td>\n      <td>1.512177e+07</td>\n      <td>1.442054e+07</td>\n      <td>CLP</td>\n      <td>CLP</td>\n    </tr>\n    <tr>\n      <th>7</th>\n      <td>1310</td>\n      <td>1</td>\n      <td>2017-12-20</td>\n      <td>2020-03-12</td>\n      <td>2020-03-12</td>\n      <td>2020-03-12</td>\n      <td>1.014956e+09</td>\n      <td>9.507236e+08</td>\n      <td>CLP</td>\n      <td>CLP</td>\n    </tr>\n  </tbody>\n</table>\n</div>",
      "text/plain": "     ID ActivoPasivo       Fecha  ... ValorPresenteMonFlujo Moneda MonedaBase\n0  1310           -1  2017-12-20  ...          1.863861e+07    CLP        CLP\n1  1310           -1  2017-12-20  ...          1.365073e+07    CLP        CLP\n2  1310           -1  2017-12-20  ...          1.408308e+07    CLP        CLP\n3  1310           -1  2017-12-20  ...          9.536276e+08    CLP        CLP\n4  1310            1  2017-12-20  ...          1.483992e+07    CLP        CLP\n5  1310            1  2017-12-20  ...          1.439314e+07    CLP        CLP\n6  1310            1  2017-12-20  ...          1.442054e+07    CLP        CLP\n7  1310            1  2017-12-20  ...          9.507236e+08    CLP        CLP\n\n[8 rows x 10 columns]"
     },
     "execution_count": 139,
     "metadata": {},
     "output_type": "execute_result"
    }
   ],
   "source": [
    "def extrar_crear_derivado(ID_Key):\n",
    "\n",
    "    derivado = (\"SELECT * FROM [dbDerivados].[dbo].[TdCarteraDerivados_V2] WHERE ID_Key = '\"+str(ID_Key) + \"'\")\n",
    "    derivado = pd.read_sql(derivado, cnn)\n",
    "    \n",
    "    FechaEfectiva = derivado[\"FechaEfectiva\"][0]\n",
    "    FechaEfectiva = str(FechaEfectiva).split(\"-\")\n",
    "    dia = FechaEfectiva[2].split(\" \")[0]\n",
    "    FechaEfectiva = str(dia + \"/\" + str(FechaEfectiva[1]) +\"/\"+ str(FechaEfectiva[0]))\n",
    "\n",
    "    FechaVenc = derivado[\"FechaVenc\"][0]\n",
    "    FechaVenc = str(FechaVenc).split(\"-\")\n",
    "    dia = FechaVenc[2].split(\" \")[0]\n",
    "\n",
    "    FechaVenc = str(dia + \"/\" + str(FechaVenc[1]) +\"/\"+ str(FechaVenc[0]))\n",
    "\n",
    "    AjusteFeriados = derivado[\"AjusteFeriados\"][0]\n",
    "    NocionalActivo = derivado[\"NocionalActivo\"][0]\n",
    "    MonedaActivo = derivado[\"MonedaActivo\"][0]\n",
    "    MonedaBase = derivado[\"MonedaBase\"][0]\n",
    "    TipoTasaActivo = derivado[\"TipoTasaActivo\"][0]\n",
    "    TipoTasaPasivo = derivado[\"TipoTasaPasivo\"][0]\n",
    "    TasaActivo = derivado[\"TasaActivo\"][0]\n",
    "    TasaPasivo = derivado[\"TasaPasivo\"][0]\n",
    "    FrecuenciaActivo = derivado[\"FrecuenciaActivo\"][0]\n",
    "    FrecuenciaPasivo = derivado[\"FrecuenciaPasivo\"][0]\n",
    "    ID = derivado[\"ID\"]\n",
    "    Tipo = derivado[\"Tipo\"]\n",
    "    ID_Key = derivado[\"ID_Key\"]\n",
    "\n",
    "    dev = creacion_derivado(FechaEfectiva, FechaVenc, AjusteFeriados, NocionalActivo, MonedaActivo,\\\n",
    "                                                     MonedaBase, TipoTasaActivo, TipoTasaPasivo, TasaActivo,\\\n",
    "                                                                        TasaPasivo, FrecuenciaActivo, FrecuenciaPasivo, \\\n",
    "                                                                        ID, Tipo, ID_Key=ID_Key)\n",
    "\n",
    "    return dev\n",
    "\n",
    "C = extrar_crear_derivado(\"146854\")\n",
    "C.genera_flujos()\n",
    "C.valoriza_flujos()\n",
    "C.flujos_valorizados[[\"ID\",\"ActivoPasivo\", \"Fecha\", \"FechaFixing\", \"FechaFlujo\", \"FechaPago\", \"Flujo\", \"ValorPresenteMonFlujo\", \"Moneda\", \"MonedaBase\"]]"
   ]
  },
  {
   "cell_type": "code",
   "execution_count": 140,
   "metadata": {},
   "outputs": [
    {
     "data": {
      "text/html": "<div>\n<style scoped>\n    .dataframe tbody tr th:only-of-type {\n        vertical-align: middle;\n    }\n\n    .dataframe tbody tr th {\n        vertical-align: top;\n    }\n\n    .dataframe thead th {\n        text-align: right;\n    }\n</style>\n<table border=\"1\" class=\"dataframe\">\n  <thead>\n    <tr style=\"text-align: right;\">\n      <th></th>\n      <th>Fecha</th>\n      <th>Hora</th>\n      <th>Tipo</th>\n      <th>Curva</th>\n    </tr>\n  </thead>\n  <tbody>\n    <tr>\n      <th>0</th>\n      <td>2020-01-20</td>\n      <td>1700</td>\n      <td>CurvaEfectiva_CLP</td>\n      <td>Plazo#Valor|1#0,999952044955167|7#0,9996596504...</td>\n    </tr>\n    <tr>\n      <th>1</th>\n      <td>2020-01-17</td>\n      <td>1700</td>\n      <td>CurvaEfectiva_CLP</td>\n      <td>Plazo#Valor|3#0,999873380808733|7#0,9996998671...</td>\n    </tr>\n    <tr>\n      <th>2</th>\n      <td>2020-01-16</td>\n      <td>1700</td>\n      <td>CurvaEfectiva_CLP</td>\n      <td>Plazo#Valor|1#0,999952145103623|7#0,9996608774...</td>\n    </tr>\n    <tr>\n      <th>3</th>\n      <td>2020-01-15</td>\n      <td>1700</td>\n      <td>CurvaEfectiva_CLP</td>\n      <td>Plazo#Valor|1#0,999954181295717|7#0,9996734746...</td>\n    </tr>\n    <tr>\n      <th>4</th>\n      <td>2020-01-14</td>\n      <td>1700</td>\n      <td>CurvaEfectiva_CLP</td>\n      <td>Plazo#Valor|1#0,999952232342846|7#0,9996588063...</td>\n    </tr>\n    <tr>\n      <th>...</th>\n      <td>...</td>\n      <td>...</td>\n      <td>...</td>\n      <td>...</td>\n    </tr>\n    <tr>\n      <th>995</th>\n      <td>2016-01-20</td>\n      <td>1700</td>\n      <td>CurvaEfectiva_CLP</td>\n      <td>Plazo#Valor|0#1|1#0,9999017276407|7#0,99930821...</td>\n    </tr>\n    <tr>\n      <th>996</th>\n      <td>2016-01-19</td>\n      <td>1700</td>\n      <td>CurvaEfectiva_CLP</td>\n      <td>Plazo#Valor|0#1|1#0,999892448031927|7#0,999243...</td>\n    </tr>\n    <tr>\n      <th>997</th>\n      <td>2016-01-18</td>\n      <td>1700</td>\n      <td>CurvaEfectiva_CLP</td>\n      <td>Plazo#Valor|0#1|1#0,999880400131654|7#0,999158...</td>\n    </tr>\n    <tr>\n      <th>998</th>\n      <td>2016-01-15</td>\n      <td>1700</td>\n      <td>CurvaEfectiva_CLP</td>\n      <td>Plazo#Valor|0#1|3#0,999814266543168|7#0,999562...</td>\n    </tr>\n    <tr>\n      <th>999</th>\n      <td>2016-01-14</td>\n      <td>1700</td>\n      <td>CurvaEfectiva_CLP</td>\n      <td>Plazo#Valor|0#1|1#0,99989537366017|7#0,9992641...</td>\n    </tr>\n  </tbody>\n</table>\n<p>1000 rows × 4 columns</p>\n</div>",
      "text/plain": "         Fecha  ...                                              Curva\n0   2020-01-20  ...  Plazo#Valor|1#0,999952044955167|7#0,9996596504...\n1   2020-01-17  ...  Plazo#Valor|3#0,999873380808733|7#0,9996998671...\n2   2020-01-16  ...  Plazo#Valor|1#0,999952145103623|7#0,9996608774...\n3   2020-01-15  ...  Plazo#Valor|1#0,999954181295717|7#0,9996734746...\n4   2020-01-14  ...  Plazo#Valor|1#0,999952232342846|7#0,9996588063...\n..         ...  ...                                                ...\n995 2016-01-20  ...  Plazo#Valor|0#1|1#0,9999017276407|7#0,99930821...\n996 2016-01-19  ...  Plazo#Valor|0#1|1#0,999892448031927|7#0,999243...\n997 2016-01-18  ...  Plazo#Valor|0#1|1#0,999880400131654|7#0,999158...\n998 2016-01-15  ...  Plazo#Valor|0#1|3#0,999814266543168|7#0,999562...\n999 2016-01-14  ...  Plazo#Valor|0#1|1#0,99989537366017|7#0,9992641...\n\n[1000 rows x 4 columns]"
     },
     "execution_count": 140,
     "metadata": {},
     "output_type": "execute_result"
    }
   ],
   "source": [
    "def seleccionar_curva_derivados(moneda):\n",
    "\n",
    "    curva = (\"SELECT TOP (1000) * FROM [dbDerivados].[dbo].[TdCurvasDerivados] WHERE Tipo = 'CurvaEfectiva_\"+ moneda +\"' AND Hora = '1700'\")\n",
    "    curva = pd.read_sql(curva, cnn)\n",
    "    return curva\n",
    "\n",
    "a = seleccionar_curva_derivados(\"CLP\")\n",
    "a"
   ]
  },
  {
   "cell_type": "code",
   "execution_count": 141,
   "metadata": {},
   "outputs": [
    {
     "data": {
      "text/html": "<div>\n<style scoped>\n    .dataframe tbody tr th:only-of-type {\n        vertical-align: middle;\n    }\n\n    .dataframe tbody tr th {\n        vertical-align: top;\n    }\n\n    .dataframe thead th {\n        text-align: right;\n    }\n</style>\n<table border=\"1\" class=\"dataframe\">\n  <thead>\n    <tr style=\"text-align: right;\">\n      <th></th>\n      <th>Fechas</th>\n      <th>30</th>\n      <th>90</th>\n      <th>180</th>\n      <th>360</th>\n      <th>720</th>\n      <th>1080</th>\n      <th>1440</th>\n      <th>1800</th>\n      <th>2520</th>\n      <th>3240</th>\n      <th>3600</th>\n      <th>5400</th>\n      <th>7200</th>\n      <th>10800</th>\n    </tr>\n  </thead>\n  <tbody>\n    <tr>\n      <th>0</th>\n      <td>2020-01-20</td>\n      <td>0.998486</td>\n      <td>0.995838</td>\n      <td>0.991723</td>\n      <td>0.982295</td>\n      <td>0.965200</td>\n      <td>0.943424</td>\n      <td>0.918130</td>\n      <td>0.889492</td>\n      <td>0.829008</td>\n      <td>0.763974</td>\n      <td>0.734000</td>\n      <td>0.614916</td>\n      <td>0.519875</td>\n      <td>0.374718</td>\n    </tr>\n    <tr>\n      <th>1</th>\n      <td>2020-01-17</td>\n      <td>0.998476</td>\n      <td>0.996076</td>\n      <td>0.992045</td>\n      <td>0.982662</td>\n      <td>0.965368</td>\n      <td>0.943788</td>\n      <td>0.918932</td>\n      <td>0.889901</td>\n      <td>0.829413</td>\n      <td>0.765411</td>\n      <td>0.735738</td>\n      <td>0.617512</td>\n      <td>0.522109</td>\n      <td>0.377115</td>\n    </tr>\n    <tr>\n      <th>2</th>\n      <td>2020-01-16</td>\n      <td>0.998433</td>\n      <td>0.995735</td>\n      <td>0.991830</td>\n      <td>0.981989</td>\n      <td>0.965197</td>\n      <td>0.943235</td>\n      <td>0.917672</td>\n      <td>0.887917</td>\n      <td>0.825427</td>\n      <td>0.761611</td>\n      <td>0.731738</td>\n      <td>0.612373</td>\n      <td>0.516362</td>\n      <td>0.370894</td>\n    </tr>\n    <tr>\n      <th>3</th>\n      <td>2020-01-15</td>\n      <td>0.998452</td>\n      <td>0.995842</td>\n      <td>0.991692</td>\n      <td>0.981892</td>\n      <td>0.964877</td>\n      <td>0.943027</td>\n      <td>0.916844</td>\n      <td>0.886522</td>\n      <td>0.823367</td>\n      <td>0.759320</td>\n      <td>0.729062</td>\n      <td>0.609334</td>\n      <td>0.509852</td>\n      <td>0.363745</td>\n    </tr>\n    <tr>\n      <th>4</th>\n      <td>2020-01-14</td>\n      <td>0.998425</td>\n      <td>0.995549</td>\n      <td>0.991518</td>\n      <td>0.981488</td>\n      <td>0.964466</td>\n      <td>0.941931</td>\n      <td>0.915124</td>\n      <td>0.884320</td>\n      <td>0.821113</td>\n      <td>0.757676</td>\n      <td>0.727380</td>\n      <td>0.605086</td>\n      <td>0.507603</td>\n      <td>0.361471</td>\n    </tr>\n    <tr>\n      <th>...</th>\n      <td>...</td>\n      <td>...</td>\n      <td>...</td>\n      <td>...</td>\n      <td>...</td>\n      <td>...</td>\n      <td>...</td>\n      <td>...</td>\n      <td>...</td>\n      <td>...</td>\n      <td>...</td>\n      <td>...</td>\n      <td>...</td>\n      <td>...</td>\n      <td>...</td>\n    </tr>\n    <tr>\n      <th>995</th>\n      <td>2016-01-20</td>\n      <td>0.996792</td>\n      <td>0.989403</td>\n      <td>0.977715</td>\n      <td>0.954987</td>\n      <td>0.925814</td>\n      <td>0.887344</td>\n      <td>0.848875</td>\n      <td>0.811048</td>\n      <td>0.735125</td>\n      <td>0.663292</td>\n      <td>0.630784</td>\n      <td>0.493794</td>\n      <td>0.378453</td>\n      <td>0.232326</td>\n    </tr>\n    <tr>\n      <th>996</th>\n      <td>2016-01-19</td>\n      <td>0.996538</td>\n      <td>0.989372</td>\n      <td>0.977228</td>\n      <td>0.954187</td>\n      <td>0.925453</td>\n      <td>0.886833</td>\n      <td>0.848225</td>\n      <td>0.810263</td>\n      <td>0.734056</td>\n      <td>0.661513</td>\n      <td>0.628244</td>\n      <td>0.490764</td>\n      <td>0.375367</td>\n      <td>0.229485</td>\n    </tr>\n    <tr>\n      <th>997</th>\n      <td>2016-01-18</td>\n      <td>0.996295</td>\n      <td>0.988852</td>\n      <td>0.977078</td>\n      <td>0.954491</td>\n      <td>0.926010</td>\n      <td>0.887550</td>\n      <td>0.849088</td>\n      <td>0.810845</td>\n      <td>0.735235</td>\n      <td>0.662876</td>\n      <td>0.630318</td>\n      <td>0.493194</td>\n      <td>0.377806</td>\n      <td>0.231723</td>\n    </tr>\n    <tr>\n      <th>998</th>\n      <td>2016-01-15</td>\n      <td>0.996371</td>\n      <td>0.988664</td>\n      <td>0.977145</td>\n      <td>0.954134</td>\n      <td>0.926026</td>\n      <td>0.887235</td>\n      <td>0.848947</td>\n      <td>0.810686</td>\n      <td>0.734957</td>\n      <td>0.662527</td>\n      <td>0.629871</td>\n      <td>0.492598</td>\n      <td>0.377161</td>\n      <td>0.231139</td>\n    </tr>\n    <tr>\n      <th>999</th>\n      <td>2016-01-14</td>\n      <td>0.996143</td>\n      <td>0.988633</td>\n      <td>0.976771</td>\n      <td>0.952259</td>\n      <td>0.925843</td>\n      <td>0.886738</td>\n      <td>0.848299</td>\n      <td>0.809517</td>\n      <td>0.734512</td>\n      <td>0.663208</td>\n      <td>0.628857</td>\n      <td>0.491968</td>\n      <td>0.376492</td>\n      <td>0.230523</td>\n    </tr>\n  </tbody>\n</table>\n<p>1000 rows × 15 columns</p>\n</div>",
      "text/plain": "        Fechas        30        90  ...      5400      7200     10800\n0   2020-01-20  0.998486  0.995838  ...  0.614916  0.519875  0.374718\n1   2020-01-17  0.998476  0.996076  ...  0.617512  0.522109  0.377115\n2   2020-01-16  0.998433  0.995735  ...  0.612373  0.516362  0.370894\n3   2020-01-15  0.998452  0.995842  ...  0.609334  0.509852  0.363745\n4   2020-01-14  0.998425  0.995549  ...  0.605086  0.507603  0.361471\n..         ...       ...       ...  ...       ...       ...       ...\n995 2016-01-20  0.996792  0.989403  ...  0.493794  0.378453  0.232326\n996 2016-01-19  0.996538  0.989372  ...  0.490764  0.375367  0.229485\n997 2016-01-18  0.996295  0.988852  ...  0.493194  0.377806  0.231723\n998 2016-01-15  0.996371  0.988664  ...  0.492598  0.377161  0.231139\n999 2016-01-14  0.996143  0.988633  ...  0.491968  0.376492  0.230523\n\n[1000 rows x 15 columns]"
     },
     "execution_count": 141,
     "metadata": {},
     "output_type": "execute_result"
    }
   ],
   "source": [
    "vector_dias = [30, 90, 180, 360, 360*2, 360*3, 360*4, 360*5, 360*7, 360*9, 360*10, 360*15, 360*20, 360*30]\n",
    "\n",
    "\n",
    "def evaluar_curva(pivotes, derivado):\n",
    "\n",
    "    largo = len(pivotes)\n",
    "    curvas = seleccionar_curva_derivados(derivado.flujos_valorizados[\"Moneda\"][0])\n",
    "\n",
    "    valores = []\n",
    "\n",
    "    df = pd.DataFrame()\n",
    "    df[\"Fechas\"] = curvas[\"Fecha\"]\n",
    "\n",
    "    for i in range(largo):\n",
    "\n",
    "        for j in range(len(curvas[\"Curva\"])):\n",
    "\n",
    "            valor_dia = pivotes[i]\n",
    "            curva = curvas[\"Curva\"][j]\n",
    "            fecha_curva = curvas[\"Fecha\"][j]\n",
    "            curva_parseada = parsear_curva(curva, fecha_curva)\n",
    "            valor = interpolacion_log_escalar(valor_dia, curva_parseada)\n",
    "            valores.append(valor)\n",
    "        \n",
    "        df[str(vector_dias[i])] = valores\n",
    "        valores = []\n",
    "\n",
    "    \n",
    "    return df\n",
    "\n",
    "\n",
    "evaluar_curva(vector_dias, C)"
   ]
  },
  {
   "cell_type": "code",
   "execution_count": 142,
   "metadata": {},
   "outputs": [
    {
     "data": {
      "text/html": "<div>\n<style scoped>\n    .dataframe tbody tr th:only-of-type {\n        vertical-align: middle;\n    }\n\n    .dataframe tbody tr th {\n        vertical-align: top;\n    }\n\n    .dataframe thead th {\n        text-align: right;\n    }\n</style>\n<table border=\"1\" class=\"dataframe\">\n  <thead>\n    <tr style=\"text-align: right;\">\n      <th></th>\n      <th>30</th>\n      <th>90</th>\n      <th>180</th>\n      <th>360</th>\n      <th>720</th>\n      <th>1080</th>\n      <th>1440</th>\n      <th>1800</th>\n      <th>2520</th>\n      <th>3240</th>\n      <th>3600</th>\n      <th>5400</th>\n      <th>7200</th>\n      <th>10800</th>\n    </tr>\n  </thead>\n  <tbody>\n    <tr>\n      <th>0</th>\n      <td>0.000000</td>\n      <td>0.000000</td>\n      <td>0.000000</td>\n      <td>0.000000</td>\n      <td>0.000000</td>\n      <td>0.000000</td>\n      <td>0.000000</td>\n      <td>0.000000</td>\n      <td>0.000000</td>\n      <td>0.000000</td>\n      <td>0.000000</td>\n      <td>0.000000</td>\n      <td>0.000000</td>\n      <td>0.000000</td>\n    </tr>\n    <tr>\n      <th>1</th>\n      <td>-0.000010</td>\n      <td>0.000240</td>\n      <td>0.000325</td>\n      <td>0.000373</td>\n      <td>0.000175</td>\n      <td>0.000386</td>\n      <td>0.000873</td>\n      <td>0.000460</td>\n      <td>0.000488</td>\n      <td>0.001879</td>\n      <td>0.002364</td>\n      <td>0.004212</td>\n      <td>0.004288</td>\n      <td>0.006377</td>\n    </tr>\n    <tr>\n      <th>2</th>\n      <td>-0.000043</td>\n      <td>-0.000343</td>\n      <td>-0.000217</td>\n      <td>-0.000684</td>\n      <td>-0.000177</td>\n      <td>-0.000586</td>\n      <td>-0.001373</td>\n      <td>-0.002232</td>\n      <td>-0.004818</td>\n      <td>-0.004977</td>\n      <td>-0.005451</td>\n      <td>-0.008356</td>\n      <td>-0.011068</td>\n      <td>-0.016635</td>\n    </tr>\n    <tr>\n      <th>3</th>\n      <td>0.000019</td>\n      <td>0.000107</td>\n      <td>-0.000139</td>\n      <td>-0.000099</td>\n      <td>-0.000332</td>\n      <td>-0.000221</td>\n      <td>-0.000902</td>\n      <td>-0.001572</td>\n      <td>-0.002498</td>\n      <td>-0.003012</td>\n      <td>-0.003664</td>\n      <td>-0.004975</td>\n      <td>-0.012686</td>\n      <td>-0.019463</td>\n    </tr>\n    <tr>\n      <th>4</th>\n      <td>-0.000027</td>\n      <td>-0.000294</td>\n      <td>-0.000176</td>\n      <td>-0.000411</td>\n      <td>-0.000425</td>\n      <td>-0.001162</td>\n      <td>-0.001877</td>\n      <td>-0.002487</td>\n      <td>-0.002742</td>\n      <td>-0.002168</td>\n      <td>-0.002310</td>\n      <td>-0.006996</td>\n      <td>-0.004421</td>\n      <td>-0.006272</td>\n    </tr>\n    <tr>\n      <th>...</th>\n      <td>...</td>\n      <td>...</td>\n      <td>...</td>\n      <td>...</td>\n      <td>...</td>\n      <td>...</td>\n      <td>...</td>\n      <td>...</td>\n      <td>...</td>\n      <td>...</td>\n      <td>...</td>\n      <td>...</td>\n      <td>...</td>\n      <td>...</td>\n    </tr>\n    <tr>\n      <th>995</th>\n      <td>0.000320</td>\n      <td>-0.000014</td>\n      <td>0.000321</td>\n      <td>0.000984</td>\n      <td>-0.000401</td>\n      <td>-0.000518</td>\n      <td>0.000150</td>\n      <td>-0.000227</td>\n      <td>-0.000163</td>\n      <td>-0.001254</td>\n      <td>0.001625</td>\n      <td>0.003112</td>\n      <td>0.004146</td>\n      <td>0.006199</td>\n    </tr>\n    <tr>\n      <th>996</th>\n      <td>-0.000255</td>\n      <td>-0.000032</td>\n      <td>-0.000498</td>\n      <td>-0.000838</td>\n      <td>-0.000390</td>\n      <td>-0.000576</td>\n      <td>-0.000766</td>\n      <td>-0.000968</td>\n      <td>-0.001455</td>\n      <td>-0.002685</td>\n      <td>-0.004035</td>\n      <td>-0.006156</td>\n      <td>-0.008188</td>\n      <td>-0.012301</td>\n    </tr>\n    <tr>\n      <th>997</th>\n      <td>-0.000244</td>\n      <td>-0.000526</td>\n      <td>-0.000154</td>\n      <td>0.000319</td>\n      <td>0.000602</td>\n      <td>0.000809</td>\n      <td>0.001017</td>\n      <td>0.000718</td>\n      <td>0.001605</td>\n      <td>0.002058</td>\n      <td>0.003296</td>\n      <td>0.004939</td>\n      <td>0.006475</td>\n      <td>0.009704</td>\n    </tr>\n    <tr>\n      <th>998</th>\n      <td>0.000077</td>\n      <td>-0.000190</td>\n      <td>0.000069</td>\n      <td>-0.000374</td>\n      <td>0.000018</td>\n      <td>-0.000356</td>\n      <td>-0.000166</td>\n      <td>-0.000196</td>\n      <td>-0.000378</td>\n      <td>-0.000527</td>\n      <td>-0.000708</td>\n      <td>-0.001209</td>\n      <td>-0.001707</td>\n      <td>-0.002526</td>\n    </tr>\n    <tr>\n      <th>999</th>\n      <td>-0.000228</td>\n      <td>-0.000032</td>\n      <td>-0.000382</td>\n      <td>-0.001967</td>\n      <td>-0.000198</td>\n      <td>-0.000560</td>\n      <td>-0.000763</td>\n      <td>-0.001444</td>\n      <td>-0.000606</td>\n      <td>0.001027</td>\n      <td>-0.001612</td>\n      <td>-0.001280</td>\n      <td>-0.001775</td>\n      <td>-0.002667</td>\n    </tr>\n  </tbody>\n</table>\n<p>1000 rows × 14 columns</p>\n</div>",
      "text/plain": "           30        90       180  ...      5400      7200     10800\n0    0.000000  0.000000  0.000000  ...  0.000000  0.000000  0.000000\n1   -0.000010  0.000240  0.000325  ...  0.004212  0.004288  0.006377\n2   -0.000043 -0.000343 -0.000217  ... -0.008356 -0.011068 -0.016635\n3    0.000019  0.000107 -0.000139  ... -0.004975 -0.012686 -0.019463\n4   -0.000027 -0.000294 -0.000176  ... -0.006996 -0.004421 -0.006272\n..        ...       ...       ...  ...       ...       ...       ...\n995  0.000320 -0.000014  0.000321  ...  0.003112  0.004146  0.006199\n996 -0.000255 -0.000032 -0.000498  ... -0.006156 -0.008188 -0.012301\n997 -0.000244 -0.000526 -0.000154  ...  0.004939  0.006475  0.009704\n998  0.000077 -0.000190  0.000069  ... -0.001209 -0.001707 -0.002526\n999 -0.000228 -0.000032 -0.000382  ... -0.001280 -0.001775 -0.002667\n\n[1000 rows x 14 columns]"
     },
     "execution_count": 142,
     "metadata": {},
     "output_type": "execute_result"
    }
   ],
   "source": [
    "\n",
    "\n",
    "def calcular_retornos(dfHistorico):\n",
    "\n",
    "    numero_filas = len(vector_dias)\n",
    "    numero_columnas = len(dfHistorico[\"30\"])\n",
    "    valores = []\n",
    "    df = pd.DataFrame()\n",
    "\n",
    "\n",
    "    for i in range(numero_filas):\n",
    "\n",
    "        columna = dfHistorico[str(vector_dias[i])]\n",
    "\n",
    "        for j in range(numero_columnas):\n",
    "\n",
    "            if j == 0:\n",
    "\n",
    "                valores.append(0)\n",
    "\n",
    "            else:\n",
    "\n",
    "                valor = np.log(columna[j] / columna[j-1])\n",
    "                valores.append(valor)\n",
    "\n",
    "        df[str(vector_dias[i])] = valores\n",
    "        valores = []\n",
    "\n",
    "    return df\n",
    "        \n",
    "a = evaluar_curva(vector_dias, C)\n",
    "b = calcular_retornos(a)\n",
    "b"
   ]
  },
  {
   "cell_type": "code",
   "execution_count": 143,
   "metadata": {},
   "outputs": [
    {
     "data": {
      "text/html": "<div>\n<style scoped>\n    .dataframe tbody tr th:only-of-type {\n        vertical-align: middle;\n    }\n\n    .dataframe tbody tr th {\n        vertical-align: top;\n    }\n\n    .dataframe thead th {\n        text-align: right;\n    }\n</style>\n<table border=\"1\" class=\"dataframe\">\n  <thead>\n    <tr style=\"text-align: right;\">\n      <th></th>\n      <th>Pivotes</th>\n      <th>Volatilidades</th>\n    </tr>\n  </thead>\n  <tbody>\n    <tr>\n      <th>0</th>\n      <td>30</td>\n      <td>0.000176</td>\n    </tr>\n    <tr>\n      <th>1</th>\n      <td>90</td>\n      <td>0.000281</td>\n    </tr>\n    <tr>\n      <th>2</th>\n      <td>180</td>\n      <td>0.000328</td>\n    </tr>\n    <tr>\n      <th>3</th>\n      <td>360</td>\n      <td>0.000777</td>\n    </tr>\n    <tr>\n      <th>4</th>\n      <td>720</td>\n      <td>0.000473</td>\n    </tr>\n    <tr>\n      <th>5</th>\n      <td>1080</td>\n      <td>0.000758</td>\n    </tr>\n    <tr>\n      <th>6</th>\n      <td>1440</td>\n      <td>0.000869</td>\n    </tr>\n    <tr>\n      <th>7</th>\n      <td>1800</td>\n      <td>0.001186</td>\n    </tr>\n    <tr>\n      <th>8</th>\n      <td>2520</td>\n      <td>0.001783</td>\n    </tr>\n    <tr>\n      <th>9</th>\n      <td>3240</td>\n      <td>0.002804</td>\n    </tr>\n    <tr>\n      <th>10</th>\n      <td>3600</td>\n      <td>0.002530</td>\n    </tr>\n    <tr>\n      <th>11</th>\n      <td>5400</td>\n      <td>0.003589</td>\n    </tr>\n    <tr>\n      <th>12</th>\n      <td>7200</td>\n      <td>0.004792</td>\n    </tr>\n    <tr>\n      <th>13</th>\n      <td>10800</td>\n      <td>0.007191</td>\n    </tr>\n  </tbody>\n</table>\n</div>",
      "text/plain": "    Pivotes  Volatilidades\n0        30       0.000176\n1        90       0.000281\n2       180       0.000328\n3       360       0.000777\n4       720       0.000473\n5      1080       0.000758\n6      1440       0.000869\n7      1800       0.001186\n8      2520       0.001783\n9      3240       0.002804\n10     3600       0.002530\n11     5400       0.003589\n12     7200       0.004792\n13    10800       0.007191"
     },
     "execution_count": 143,
     "metadata": {},
     "output_type": "execute_result"
    }
   ],
   "source": [
    "\n",
    "\n",
    "def volatilidades_derivados(dfRetornos):\n",
    "\n",
    "    numero_filas = len(vector_dias)\n",
    "    numero_columnas = len(dfRetornos[str(vector_dias[0])])\n",
    "    df = pd.DataFrame()\n",
    "    df[\"Pivotes\"] = vector_dias\n",
    "    valores = []\n",
    "\n",
    "    for i in range(numero_filas):\n",
    "\n",
    "        retornos = dfRetornos[str(vector_dias[i])]\n",
    "        valor = ewma(retornos, 0.94)\n",
    "        valores.append(valor[\"Vol c/ajuste\"].values[0])\n",
    "    \n",
    "    df[\"Volatilidades\"] = valores\n",
    "    return df\n",
    "\n",
    "\n",
    "volatilidades_derivados(b)\n",
    "\n"
   ]
  },
  {
   "cell_type": "code",
   "execution_count": null,
   "metadata": {},
   "outputs": [],
   "source": []
  }
 ]
}