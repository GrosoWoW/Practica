{
 "nbformat": 4,
 "nbformat_minor": 2,
 "metadata": {
  "language_info": {
   "name": "python",
   "codemirror_mode": {
    "name": "ipython",
    "version": 3
   },
   "version": "3.6.8-final"
  },
  "orig_nbformat": 2,
  "file_extension": ".py",
  "mimetype": "text/x-python",
  "name": "python",
  "npconvert_exporter": "python",
  "pygments_lexer": "ipython3",
  "version": 3,
  "kernelspec": {
   "name": "python36864bit95f61d10654543119976a9b54263d6fa",
   "display_name": "Python 3.6.8 64-bit"
  }
 },
 "cells": [
  {
   "cell_type": "code",
   "execution_count": 72,
   "metadata": {},
   "outputs": [],
   "source": [
    "import sys\n",
    "sys.path.append(\"..\")\n",
    "\n",
    "import pyodbc\n",
    "from Derivados.DerivadosTipos.DerivadosSCC import *\n",
    "from Derivados.DerivadosTipos.DerivadosFWD import *\n",
    "from Derivados.DerivadosTipos.DerivadosSUC import *\n",
    "\n",
    "import datetime\n",
    "import pandas as pd\n",
    "from Bonos.Correlaciones import ewma, ewma_new_new_pivotes, covarianza_pivotes\n",
    "from Bonos.LibreriasUtiles.UtilesValorizacion import diferencia_dias_convencion\n"
   ]
  },
  {
   "cell_type": "code",
   "execution_count": 23,
   "metadata": {},
   "outputs": [],
   "source": [
    "server = '172.16.1.38'\n",
    "username = 'sa'\n",
    "password = 'qwerty123'\n",
    "driver = '{ODBC Driver 17 for SQL Server}'\n",
    "\n",
    "cnn = pyodbc.connect('DRIVER=' + driver + ';SERVER=' + server + ';UID=' + username + ';PWD=' + password)"
   ]
  },
  {
   "cell_type": "code",
   "execution_count": 94,
   "metadata": {},
   "outputs": [],
   "source": [
    "def creacion_derivado(FechaEfectiva, FechaVenc, AjusteFeriados, NocionalActivo, MonedaActivo,\\\n",
    "                                                     MonedaBase, TipoTasaActivo, TipoTasaPasivo, TasaActivo,\\\n",
    "                                                                        TasaPasivo, FrecuenciaActivo, FrecuenciaPasivo, \\\n",
    "                                                                        ID, Tipo, ID_Key=None): \n",
    "\n",
    "    info_derivado = dict()\n",
    "    info_derivado[\"Tipo\"] = str(Tipo)\n",
    "    info_derivado[\"ID_Key\"] = \"\"\n",
    "    info_derivado[\"Administradora\"] = \"Admin\"\n",
    "    info_derivado[\"Fondo\"] = \"Fondo\"\n",
    "    info_derivado[\"Contraparte\"] = \"Contraparte\"\n",
    "    info_derivado[\"ID\"] = int(ID)\n",
    "    info_derivado[\"Nemotecnico\"] = \"\"\n",
    "    info_derivado[\"Mercado\"] = \"Local\" \n",
    "\n",
    "    fecha = datetime.date(2018, 4, 18)\n",
    "    hora = '1700'\n",
    "\n",
    "    info_derivado[\"FechaEfectiva\"] = str(FechaEfectiva)\n",
    "    info_derivado[\"FechaVenc\"] = str(FechaVenc)\n",
    "\n",
    "    info_derivado[\"AjusteFeriados\"] = str(AjusteFeriados)\n",
    "\n",
    "    info_derivado[\"NocionalActivo\"] = float(NocionalActivo)\n",
    "\n",
    "    info_derivado[\"MonedaActivo\"] = str(MonedaActivo)\n",
    "    info_derivado[\"MonedaBase\"] = str(MonedaBase)\n",
    "\n",
    "    info_derivado[\"TipoTasaActivo\"] = str(TipoTasaActivo)\n",
    "    info_derivado[\"TipoTasaPasivo\"] = str(TipoTasaPasivo)\n",
    "\n",
    "    info_derivado[\"TasaActivo\"] = float(TasaActivo)\n",
    "    info_derivado[\"TasaPasivo\"] = float(TasaPasivo)\n",
    "\n",
    "    info_derivado[\"FrecuenciaActivo\"] = str(FrecuenciaActivo)\n",
    "    info_derivado[\"FrecuenciaPasivo\"] = str(FrecuenciaPasivo)\n",
    "\n",
    "    info1 = pd.DataFrame([info_derivado])\n",
    "    print(Tipo.values)\n",
    "    if str(Tipo.values[0]) == \"SCC\":\n",
    "        derivado = DerivadosSCC(fecha, hora, info1, cnn)\n",
    "    elif str(Tipo.values[0]) == \"FWD\":\n",
    "        derivado = DerivadosFWD(fecha, hora, info1, cnn)\n",
    "    elif str(Tipo.values[0]) == \"SUC\":\n",
    "        derivado = DerivadosSUC(fecha, hora, info1, cnn)\n",
    "\n",
    "    return derivado\n",
    "\n",
    "#derivado1 = creacion_derivado(\"12/11/2019\", \"12/11/2021\", \"CL\", 10*(10**9), \"CLP\", \"CLP\", \"Fija\", \"Flotante\", 1.45, -1000, \"Semi annual\", \"Semi annual\", 3, \"SCC\")\n",
    "\n",
    "#derivado1.genera_flujos()\n",
    "#derivado1.valoriza_flujos()\n",
    "\n"
   ]
  },
  {
   "cell_type": "code",
   "execution_count": 95,
   "metadata": {},
   "outputs": [
    {
     "name": "stdout",
     "output_type": "stream",
     "text": "['FWD']\n"
    },
    {
     "ename": "Exception",
     "evalue": "ERROR: No viene la columna 'NocionalPasivo'",
     "output_type": "error",
     "traceback": [
      "\u001b[1;31m---------------------------------------------------------------------------\u001b[0m",
      "\u001b[1;31mException\u001b[0m                                 Traceback (most recent call last)",
      "\u001b[1;32m<ipython-input-95-9ba8e26e37f9>\u001b[0m in \u001b[0;36m<module>\u001b[1;34m\u001b[0m\n\u001b[0;32m     36\u001b[0m     \u001b[1;32mreturn\u001b[0m \u001b[0mdev\u001b[0m\u001b[1;33m\u001b[0m\u001b[1;33m\u001b[0m\u001b[0m\n\u001b[0;32m     37\u001b[0m \u001b[1;33m\u001b[0m\u001b[0m\n\u001b[1;32m---> 38\u001b[1;33m \u001b[0mC\u001b[0m \u001b[1;33m=\u001b[0m \u001b[0mextrar_crear_derivado\u001b[0m\u001b[1;33m(\u001b[0m\u001b[1;34m\"146883\"\u001b[0m\u001b[1;33m)\u001b[0m\u001b[1;33m\u001b[0m\u001b[1;33m\u001b[0m\u001b[0m\n\u001b[0m\u001b[0;32m     39\u001b[0m \u001b[0mC\u001b[0m\u001b[1;33m.\u001b[0m\u001b[0mgenera_flujos\u001b[0m\u001b[1;33m(\u001b[0m\u001b[1;33m)\u001b[0m\u001b[1;33m\u001b[0m\u001b[1;33m\u001b[0m\u001b[0m\n\u001b[0;32m     40\u001b[0m \u001b[0mC\u001b[0m\u001b[1;33m.\u001b[0m\u001b[0mvaloriza_flujos\u001b[0m\u001b[1;33m(\u001b[0m\u001b[1;33m)\u001b[0m\u001b[1;33m\u001b[0m\u001b[1;33m\u001b[0m\u001b[0m\n",
      "\u001b[1;32m<ipython-input-95-9ba8e26e37f9>\u001b[0m in \u001b[0;36mextrar_crear_derivado\u001b[1;34m(ID_Key)\u001b[0m\n\u001b[0;32m     32\u001b[0m                                                      \u001b[0mMonedaBase\u001b[0m\u001b[1;33m,\u001b[0m \u001b[0mTipoTasaActivo\u001b[0m\u001b[1;33m,\u001b[0m \u001b[0mTipoTasaPasivo\u001b[0m\u001b[1;33m,\u001b[0m \u001b[0mTasaActivo\u001b[0m\u001b[1;33m,\u001b[0m\u001b[0;31m\\\u001b[0m\u001b[1;33m\u001b[0m\u001b[1;33m\u001b[0m\u001b[0m\n\u001b[0;32m     33\u001b[0m                                                                         \u001b[0mTasaPasivo\u001b[0m\u001b[1;33m,\u001b[0m \u001b[0mFrecuenciaActivo\u001b[0m\u001b[1;33m,\u001b[0m \u001b[0mFrecuenciaPasivo\u001b[0m\u001b[1;33m,\u001b[0m\u001b[0;31m \u001b[0m\u001b[0;31m\\\u001b[0m\u001b[1;33m\u001b[0m\u001b[1;33m\u001b[0m\u001b[0m\n\u001b[1;32m---> 34\u001b[1;33m                                                                         ID, Tipo, ID_Key=ID_Key)\n\u001b[0m\u001b[0;32m     35\u001b[0m \u001b[1;33m\u001b[0m\u001b[0m\n\u001b[0;32m     36\u001b[0m     \u001b[1;32mreturn\u001b[0m \u001b[0mdev\u001b[0m\u001b[1;33m\u001b[0m\u001b[1;33m\u001b[0m\u001b[0m\n",
      "\u001b[1;32m<ipython-input-94-36f2d12a5831>\u001b[0m in \u001b[0;36mcreacion_derivado\u001b[1;34m(FechaEfectiva, FechaVenc, AjusteFeriados, NocionalActivo, MonedaActivo, MonedaBase, TipoTasaActivo, TipoTasaPasivo, TasaActivo, TasaPasivo, FrecuenciaActivo, FrecuenciaPasivo, ID, Tipo, ID_Key)\u001b[0m\n\u001b[0;32m     41\u001b[0m         \u001b[0mderivado\u001b[0m \u001b[1;33m=\u001b[0m \u001b[0mDerivadosSCC\u001b[0m\u001b[1;33m(\u001b[0m\u001b[0mfecha\u001b[0m\u001b[1;33m,\u001b[0m \u001b[0mhora\u001b[0m\u001b[1;33m,\u001b[0m \u001b[0minfo1\u001b[0m\u001b[1;33m,\u001b[0m \u001b[0mcnn\u001b[0m\u001b[1;33m)\u001b[0m\u001b[1;33m\u001b[0m\u001b[1;33m\u001b[0m\u001b[0m\n\u001b[0;32m     42\u001b[0m     \u001b[1;32melif\u001b[0m \u001b[0mstr\u001b[0m\u001b[1;33m(\u001b[0m\u001b[0mTipo\u001b[0m\u001b[1;33m.\u001b[0m\u001b[0mvalues\u001b[0m\u001b[1;33m[\u001b[0m\u001b[1;36m0\u001b[0m\u001b[1;33m]\u001b[0m\u001b[1;33m)\u001b[0m \u001b[1;33m==\u001b[0m \u001b[1;34m\"FWD\"\u001b[0m\u001b[1;33m:\u001b[0m\u001b[1;33m\u001b[0m\u001b[1;33m\u001b[0m\u001b[0m\n\u001b[1;32m---> 43\u001b[1;33m         \u001b[0mderivado\u001b[0m \u001b[1;33m=\u001b[0m \u001b[0mDerivadosFWD\u001b[0m\u001b[1;33m(\u001b[0m\u001b[0mfecha\u001b[0m\u001b[1;33m,\u001b[0m \u001b[0mhora\u001b[0m\u001b[1;33m,\u001b[0m \u001b[0minfo1\u001b[0m\u001b[1;33m,\u001b[0m \u001b[0mcnn\u001b[0m\u001b[1;33m)\u001b[0m\u001b[1;33m\u001b[0m\u001b[1;33m\u001b[0m\u001b[0m\n\u001b[0m\u001b[0;32m     44\u001b[0m     \u001b[1;32melif\u001b[0m \u001b[0mstr\u001b[0m\u001b[1;33m(\u001b[0m\u001b[0mTipo\u001b[0m\u001b[1;33m.\u001b[0m\u001b[0mvalues\u001b[0m\u001b[1;33m[\u001b[0m\u001b[1;36m0\u001b[0m\u001b[1;33m]\u001b[0m\u001b[1;33m)\u001b[0m \u001b[1;33m==\u001b[0m \u001b[1;34m\"SUC\"\u001b[0m\u001b[1;33m:\u001b[0m\u001b[1;33m\u001b[0m\u001b[1;33m\u001b[0m\u001b[0m\n\u001b[0;32m     45\u001b[0m         \u001b[0mderivado\u001b[0m \u001b[1;33m=\u001b[0m \u001b[0mDerivadosSUC\u001b[0m\u001b[1;33m(\u001b[0m\u001b[0mfecha\u001b[0m\u001b[1;33m,\u001b[0m \u001b[0mhora\u001b[0m\u001b[1;33m,\u001b[0m \u001b[0minfo1\u001b[0m\u001b[1;33m,\u001b[0m \u001b[0mcnn\u001b[0m\u001b[1;33m)\u001b[0m\u001b[1;33m\u001b[0m\u001b[1;33m\u001b[0m\u001b[0m\n",
      "\u001b[1;32mc:\\Users\\groso\\Desktop\\Practica\\Intento\\Derivados\\DerivadosTipos\\DerivadosAbstracto.py\u001b[0m in \u001b[0;36m__init__\u001b[1;34m(self, fecha, hora, info_cartera, cn, fechaValores, filename)\u001b[0m\n\u001b[0;32m    111\u001b[0m         \u001b[0mself\u001b[0m\u001b[1;33m.\u001b[0m\u001b[0mhora\u001b[0m \u001b[1;33m=\u001b[0m \u001b[0mhora\u001b[0m\u001b[1;33m\u001b[0m\u001b[1;33m\u001b[0m\u001b[0m\n\u001b[0;32m    112\u001b[0m         \u001b[0mself\u001b[0m\u001b[1;33m.\u001b[0m\u001b[0mmsg\u001b[0m \u001b[1;33m=\u001b[0m \u001b[1;34m\"INFO: Derivado inicializado\"\u001b[0m\u001b[1;33m\u001b[0m\u001b[1;33m\u001b[0m\u001b[0m\n\u001b[1;32m--> 113\u001b[1;33m         \u001b[0mself\u001b[0m\u001b[1;33m.\u001b[0m\u001b[0mrevisar_input\u001b[0m\u001b[1;33m(\u001b[0m\u001b[1;33m)\u001b[0m\u001b[1;33m\u001b[0m\u001b[1;33m\u001b[0m\u001b[0m\n\u001b[0m\u001b[0;32m    114\u001b[0m \u001b[1;33m\u001b[0m\u001b[0m\n\u001b[0;32m    115\u001b[0m     \u001b[1;33m@\u001b[0m\u001b[0mabstractmethod\u001b[0m\u001b[1;33m\u001b[0m\u001b[1;33m\u001b[0m\u001b[0m\n",
      "\u001b[1;32mc:\\Users\\groso\\Desktop\\Practica\\Intento\\Derivados\\DerivadosTipos\\DerivadosFWD.py\u001b[0m in \u001b[0;36mrevisar_input\u001b[1;34m(self)\u001b[0m\n\u001b[0;32m     33\u001b[0m \u001b[1;33m\u001b[0m\u001b[0m\n\u001b[0;32m     34\u001b[0m         \u001b[1;32mif\u001b[0m \u001b[1;32mnot\u001b[0m \u001b[1;33m(\u001b[0m\u001b[1;34m'NocionalPasivo'\u001b[0m \u001b[1;32min\u001b[0m \u001b[0minfo_cartera\u001b[0m\u001b[1;33m.\u001b[0m\u001b[0mcolumns\u001b[0m \u001b[1;32mand\u001b[0m \u001b[1;32mnot\u001b[0m \u001b[0misinstance\u001b[0m\u001b[1;33m(\u001b[0m\u001b[0minfo_cartera\u001b[0m\u001b[1;33m.\u001b[0m\u001b[0mNocionalPasivo\u001b[0m\u001b[1;33m[\u001b[0m\u001b[1;36m0\u001b[0m\u001b[1;33m]\u001b[0m\u001b[1;33m,\u001b[0m\u001b[0mstr\u001b[0m\u001b[1;33m)\u001b[0m \u001b[1;32mand\u001b[0m \u001b[0mnp\u001b[0m\u001b[1;33m.\u001b[0m\u001b[0misnan\u001b[0m\u001b[1;33m(\u001b[0m\u001b[0minfo_cartera\u001b[0m\u001b[1;33m.\u001b[0m\u001b[0mNocionalPasivo\u001b[0m\u001b[1;33m[\u001b[0m\u001b[1;36m0\u001b[0m\u001b[1;33m]\u001b[0m\u001b[1;33m)\u001b[0m \u001b[1;33m==\u001b[0m \u001b[1;32mFalse\u001b[0m\u001b[1;33m)\u001b[0m\u001b[1;33m:\u001b[0m\u001b[1;33m\u001b[0m\u001b[1;33m\u001b[0m\u001b[0m\n\u001b[1;32m---> 35\u001b[1;33m             \u001b[0msend_msg\u001b[0m\u001b[1;33m(\u001b[0m\u001b[1;34m\"ERROR: No viene la columna 'NocionalPasivo'\"\u001b[0m\u001b[1;33m,\u001b[0m \u001b[0mself\u001b[0m\u001b[1;33m.\u001b[0m\u001b[0mfilename\u001b[0m\u001b[1;33m)\u001b[0m\u001b[1;33m\u001b[0m\u001b[1;33m\u001b[0m\u001b[0m\n\u001b[0m\u001b[0;32m     36\u001b[0m \u001b[1;33m\u001b[0m\u001b[0m\n\u001b[0;32m     37\u001b[0m         \u001b[1;32mif\u001b[0m \u001b[1;32mnot\u001b[0m \u001b[1;33m(\u001b[0m\u001b[1;34m'MonedaActivo'\u001b[0m \u001b[1;32min\u001b[0m \u001b[0minfo_cartera\u001b[0m\u001b[1;33m.\u001b[0m\u001b[0mcolumns\u001b[0m \u001b[1;32mand\u001b[0m \u001b[0misinstance\u001b[0m\u001b[1;33m(\u001b[0m\u001b[0minfo_cartera\u001b[0m\u001b[1;33m.\u001b[0m\u001b[0mMonedaActivo\u001b[0m\u001b[1;33m[\u001b[0m\u001b[1;36m0\u001b[0m\u001b[1;33m]\u001b[0m\u001b[1;33m,\u001b[0m\u001b[0mstr\u001b[0m\u001b[1;33m)\u001b[0m\u001b[1;33m)\u001b[0m\u001b[1;33m:\u001b[0m\u001b[1;33m\u001b[0m\u001b[1;33m\u001b[0m\u001b[0m\n",
      "\u001b[1;32mc:\\Users\\groso\\Desktop\\Practica\\Intento\\Derivados\\LibreriasUtiles\\Util.py\u001b[0m in \u001b[0;36msend_msg\u001b[1;34m(mensaje, filename)\u001b[0m\n\u001b[0;32m     84\u001b[0m     \u001b[0mfile\u001b[0m \u001b[1;33m=\u001b[0m \u001b[0mopen\u001b[0m\u001b[1;33m(\u001b[0m\u001b[0mfilename\u001b[0m \u001b[1;33m+\u001b[0m \u001b[1;34m\".txt\"\u001b[0m\u001b[1;33m,\u001b[0m \u001b[1;34m\"a\"\u001b[0m\u001b[1;33m)\u001b[0m  \u001b[1;31m# todo Cambiar para la salida real\u001b[0m\u001b[1;33m\u001b[0m\u001b[1;33m\u001b[0m\u001b[0m\n\u001b[0;32m     85\u001b[0m     \u001b[0mfile\u001b[0m\u001b[1;33m.\u001b[0m\u001b[0mwrite\u001b[0m\u001b[1;33m(\u001b[0m\u001b[0mmensaje\u001b[0m \u001b[1;33m+\u001b[0m \u001b[1;34m\"\\n\"\u001b[0m\u001b[1;33m)\u001b[0m\u001b[1;33m\u001b[0m\u001b[1;33m\u001b[0m\u001b[0m\n\u001b[1;32m---> 86\u001b[1;33m     \u001b[1;32mraise\u001b[0m \u001b[0mException\u001b[0m\u001b[1;33m(\u001b[0m\u001b[0mmensaje\u001b[0m\u001b[1;33m)\u001b[0m\u001b[1;33m\u001b[0m\u001b[1;33m\u001b[0m\u001b[0m\n\u001b[0m",
      "\u001b[1;31mException\u001b[0m: ERROR: No viene la columna 'NocionalPasivo'"
     ]
    }
   ],
   "source": [
    "def extrar_crear_derivado(ID_Key):\n",
    "\n",
    "    derivado = (\"SELECT * FROM [dbDerivados].[dbo].[TdCarteraDerivados_V2] WHERE ID_Key = '\"+str(ID_Key) + \"'\")\n",
    "    derivado = pd.read_sql(derivado, cnn)\n",
    "    \n",
    "    FechaEfectiva = derivado[\"FechaEfectiva\"][0]\n",
    "    FechaEfectiva = str(FechaEfectiva).split(\"-\")\n",
    "    dia = FechaEfectiva[2].split(\" \")[0]\n",
    "    FechaEfectiva = str(dia + \"/\" + str(FechaEfectiva[1]) +\"/\"+ str(FechaEfectiva[0]))\n",
    "\n",
    "    FechaVenc = derivado[\"FechaVenc\"][0]\n",
    "    FechaVenc = str(FechaVenc).split(\"-\")\n",
    "    dia = FechaVenc[2].split(\" \")[0]\n",
    "\n",
    "    FechaVenc = str(dia + \"/\" + str(FechaVenc[1]) +\"/\"+ str(FechaVenc[0]))\n",
    "\n",
    "    AjusteFeriados = derivado[\"AjusteFeriados\"][0]\n",
    "    NocionalActivo = derivado[\"NocionalActivo\"][0]\n",
    "    MonedaActivo = derivado[\"MonedaActivo\"][0]\n",
    "    MonedaBase = derivado[\"MonedaBase\"][0]\n",
    "    TipoTasaActivo = derivado[\"TipoTasaActivo\"][0]\n",
    "    TipoTasaPasivo = derivado[\"TipoTasaPasivo\"][0]\n",
    "    TasaActivo = derivado[\"TasaActivo\"][0]\n",
    "    TasaPasivo = derivado[\"TasaPasivo\"][0]\n",
    "    FrecuenciaActivo = derivado[\"FrecuenciaActivo\"][0]\n",
    "    FrecuenciaPasivo = derivado[\"FrecuenciaPasivo\"][0]\n",
    "    ID = derivado[\"ID\"]\n",
    "    Tipo = derivado[\"Tipo\"]\n",
    "    ID_Key = derivado[\"ID_Key\"]\n",
    "\n",
    "    dev = creacion_derivado(FechaEfectiva, FechaVenc, AjusteFeriados, NocionalActivo, MonedaActivo,\\\n",
    "                                                     MonedaBase, TipoTasaActivo, TipoTasaPasivo, TasaActivo,\\\n",
    "                                                                        TasaPasivo, FrecuenciaActivo, FrecuenciaPasivo, \\\n",
    "                                                                        ID, Tipo, ID_Key=ID_Key)\n",
    "\n",
    "    return dev\n",
    "\n",
    "C = extrar_crear_derivado(\"146883\")\n",
    "C.genera_flujos()\n",
    "C.valoriza_flujos()\n",
    "C.flujos_valorizados[[\"ID\",\"ActivoPasivo\", \"Fecha\", \"FechaFixing\", \"FechaFlujo\", \"FechaPago\", \"Flujo\", \"ValorPresenteMonFlujo\", \"Moneda\", \"MonedaBase\"]]"
   ]
  },
  {
   "cell_type": "code",
   "execution_count": 38,
   "metadata": {},
   "outputs": [
    {
     "data": {
      "text/html": "<div>\n<style scoped>\n    .dataframe tbody tr th:only-of-type {\n        vertical-align: middle;\n    }\n\n    .dataframe tbody tr th {\n        vertical-align: top;\n    }\n\n    .dataframe thead th {\n        text-align: right;\n    }\n</style>\n<table border=\"1\" class=\"dataframe\">\n  <thead>\n    <tr style=\"text-align: right;\">\n      <th></th>\n      <th>Fecha</th>\n      <th>Hora</th>\n      <th>Tipo</th>\n      <th>Curva</th>\n    </tr>\n  </thead>\n  <tbody>\n    <tr>\n      <th>0</th>\n      <td>2014-10-07</td>\n      <td>1700</td>\n      <td>CurvaEfectiva_CLP</td>\n      <td>Plazo#Valor|0#1|1#0,999913600351922|7#0,999389...</td>\n    </tr>\n    <tr>\n      <th>1</th>\n      <td>2014-10-15</td>\n      <td>1700</td>\n      <td>CurvaEfectiva_CLP</td>\n      <td>Plazo#Valor|0#1|1#0,999908750709722|7#0,999355...</td>\n    </tr>\n    <tr>\n      <th>2</th>\n      <td>2014-10-16</td>\n      <td>1700</td>\n      <td>CurvaEfectiva_CLP</td>\n      <td>Plazo#Valor|0#1|1#0,999897123411671|7#0,999274...</td>\n    </tr>\n    <tr>\n      <th>3</th>\n      <td>2014-10-17</td>\n      <td>1700</td>\n      <td>CurvaEfectiva_CLP</td>\n      <td>Plazo#Valor|0#1|3#0,999806150349667|7#0,999542...</td>\n    </tr>\n    <tr>\n      <th>4</th>\n      <td>2014-10-20</td>\n      <td>1700</td>\n      <td>CurvaEfectiva_CLP</td>\n      <td>Plazo#Valor|0#1|1#0,999912120917965|7#0,999379...</td>\n    </tr>\n    <tr>\n      <th>...</th>\n      <td>...</td>\n      <td>...</td>\n      <td>...</td>\n      <td>...</td>\n    </tr>\n    <tr>\n      <th>1313</th>\n      <td>2020-01-15</td>\n      <td>1700</td>\n      <td>CurvaEfectiva_CLP</td>\n      <td>Plazo#Valor|1#0,999954181295717|7#0,9996734746...</td>\n    </tr>\n    <tr>\n      <th>1314</th>\n      <td>2020-01-16</td>\n      <td>1700</td>\n      <td>CurvaEfectiva_CLP</td>\n      <td>Plazo#Valor|1#0,999952145103623|7#0,9996608774...</td>\n    </tr>\n    <tr>\n      <th>1315</th>\n      <td>2020-01-17</td>\n      <td>1700</td>\n      <td>CurvaEfectiva_CLP</td>\n      <td>Plazo#Valor|3#0,999873380808733|7#0,9996998671...</td>\n    </tr>\n    <tr>\n      <th>1316</th>\n      <td>2020-01-20</td>\n      <td>1700</td>\n      <td>CurvaEfectiva_CLP</td>\n      <td>Plazo#Valor|1#0,999952044955167|7#0,9996596504...</td>\n    </tr>\n    <tr>\n      <th>1317</th>\n      <td>2020-01-21</td>\n      <td>1700</td>\n      <td>CurvaEfectiva_CLP</td>\n      <td>Plazo#Valor|1#0,999957569685602|7#0,9997005121...</td>\n    </tr>\n  </tbody>\n</table>\n<p>1318 rows × 4 columns</p>\n</div>",
      "text/plain": "          Fecha  Hora               Tipo  \\\n0    2014-10-07  1700  CurvaEfectiva_CLP   \n1    2014-10-15  1700  CurvaEfectiva_CLP   \n2    2014-10-16  1700  CurvaEfectiva_CLP   \n3    2014-10-17  1700  CurvaEfectiva_CLP   \n4    2014-10-20  1700  CurvaEfectiva_CLP   \n...         ...   ...                ...   \n1313 2020-01-15  1700  CurvaEfectiva_CLP   \n1314 2020-01-16  1700  CurvaEfectiva_CLP   \n1315 2020-01-17  1700  CurvaEfectiva_CLP   \n1316 2020-01-20  1700  CurvaEfectiva_CLP   \n1317 2020-01-21  1700  CurvaEfectiva_CLP   \n\n                                                  Curva  \n0     Plazo#Valor|0#1|1#0,999913600351922|7#0,999389...  \n1     Plazo#Valor|0#1|1#0,999908750709722|7#0,999355...  \n2     Plazo#Valor|0#1|1#0,999897123411671|7#0,999274...  \n3     Plazo#Valor|0#1|3#0,999806150349667|7#0,999542...  \n4     Plazo#Valor|0#1|1#0,999912120917965|7#0,999379...  \n...                                                 ...  \n1313  Plazo#Valor|1#0,999954181295717|7#0,9996734746...  \n1314  Plazo#Valor|1#0,999952145103623|7#0,9996608774...  \n1315  Plazo#Valor|3#0,999873380808733|7#0,9996998671...  \n1316  Plazo#Valor|1#0,999952044955167|7#0,9996596504...  \n1317  Plazo#Valor|1#0,999957569685602|7#0,9997005121...  \n\n[1318 rows x 4 columns]"
     },
     "execution_count": 38,
     "metadata": {},
     "output_type": "execute_result"
    }
   ],
   "source": [
    "def seleccionar_curva_derivados(moneda):\n",
    "\n",
    "    curva = (\"SELECT * FROM [dbDerivados].[dbo].[TdCurvasDerivados] WHERE Tipo = 'CurvaEfectiva_\"+ moneda +\"' AND Hora = '1700' ORDER BY Fecha ASC\")\n",
    "    curva = pd.read_sql(curva, cnn)\n",
    "    return curva\n",
    "\n",
    "def seleccionar_curva_fecha(moneda, fecha):\n",
    "\n",
    "    curva = (\"SELECT * FROM [dbDerivados].[dbo].[TdCurvasDerivados] WHERE Tipo = 'CurvaEfectiva_\"+ moneda +\"' AND Hora = '1700' AND Fecha = '\"+fecha+\"' ORDER BY Fecha ASC\")\n",
    "    curva = pd.read_sql(curva, cnn)\n",
    "    return curva\n",
    "\n",
    "a = seleccionar_curva_derivados(\"CLP\")\n",
    "a"
   ]
  },
  {
   "cell_type": "code",
   "execution_count": 27,
   "metadata": {},
   "outputs": [
    {
     "data": {
      "text/html": "<div>\n<style scoped>\n    .dataframe tbody tr th:only-of-type {\n        vertical-align: middle;\n    }\n\n    .dataframe tbody tr th {\n        vertical-align: top;\n    }\n\n    .dataframe thead th {\n        text-align: right;\n    }\n</style>\n<table border=\"1\" class=\"dataframe\">\n  <thead>\n    <tr style=\"text-align: right;\">\n      <th></th>\n      <th>Fechas</th>\n      <th>30</th>\n      <th>90</th>\n      <th>180</th>\n      <th>360</th>\n      <th>720</th>\n      <th>1080</th>\n      <th>1440</th>\n      <th>1800</th>\n      <th>2520</th>\n      <th>3240</th>\n      <th>3600</th>\n      <th>5400</th>\n      <th>7200</th>\n      <th>10800</th>\n    </tr>\n  </thead>\n  <tbody>\n    <tr>\n      <th>0</th>\n      <td>2014-10-07</td>\n      <td>0.997247</td>\n      <td>0.991653</td>\n      <td>0.982804</td>\n      <td>0.964742</td>\n      <td>0.936980</td>\n      <td>0.898953</td>\n      <td>0.857502</td>\n      <td>0.813820</td>\n      <td>0.728164</td>\n      <td>0.647457</td>\n      <td>0.612702</td>\n      <td>0.465844</td>\n      <td>0.350691</td>\n      <td>0.207265</td>\n    </tr>\n    <tr>\n      <th>1</th>\n      <td>2014-10-15</td>\n      <td>0.997160</td>\n      <td>0.991533</td>\n      <td>0.982841</td>\n      <td>0.965315</td>\n      <td>0.941714</td>\n      <td>0.907348</td>\n      <td>0.868270</td>\n      <td>0.826651</td>\n      <td>0.744382</td>\n      <td>0.660878</td>\n      <td>0.625129</td>\n      <td>0.482102</td>\n      <td>0.368499</td>\n      <td>0.223309</td>\n    </tr>\n    <tr>\n      <th>2</th>\n      <td>2014-10-16</td>\n      <td>0.996918</td>\n      <td>0.991607</td>\n      <td>0.983077</td>\n      <td>0.965602</td>\n      <td>0.942028</td>\n      <td>0.906980</td>\n      <td>0.867757</td>\n      <td>0.825204</td>\n      <td>0.743573</td>\n      <td>0.665230</td>\n      <td>0.626519</td>\n      <td>0.480286</td>\n      <td>0.366621</td>\n      <td>0.221611</td>\n    </tr>\n    <tr>\n      <th>3</th>\n      <td>2014-10-17</td>\n      <td>0.997158</td>\n      <td>0.991689</td>\n      <td>0.983067</td>\n      <td>0.965111</td>\n      <td>0.940740</td>\n      <td>0.905140</td>\n      <td>0.865408</td>\n      <td>0.822053</td>\n      <td>0.740999</td>\n      <td>0.659608</td>\n      <td>0.622917</td>\n      <td>0.476344</td>\n      <td>0.361477</td>\n      <td>0.216916</td>\n    </tr>\n    <tr>\n      <th>4</th>\n      <td>2014-10-20</td>\n      <td>0.997115</td>\n      <td>0.991639</td>\n      <td>0.983007</td>\n      <td>0.964917</td>\n      <td>0.940052</td>\n      <td>0.904730</td>\n      <td>0.865278</td>\n      <td>0.822271</td>\n      <td>0.740859</td>\n      <td>0.662270</td>\n      <td>0.623482</td>\n      <td>0.476765</td>\n      <td>0.361965</td>\n      <td>0.217350</td>\n    </tr>\n    <tr>\n      <th>...</th>\n      <td>...</td>\n      <td>...</td>\n      <td>...</td>\n      <td>...</td>\n      <td>...</td>\n      <td>...</td>\n      <td>...</td>\n      <td>...</td>\n      <td>...</td>\n      <td>...</td>\n      <td>...</td>\n      <td>...</td>\n      <td>...</td>\n      <td>...</td>\n      <td>...</td>\n    </tr>\n    <tr>\n      <th>1313</th>\n      <td>2020-01-15</td>\n      <td>0.998452</td>\n      <td>0.995842</td>\n      <td>0.991692</td>\n      <td>0.981892</td>\n      <td>0.964877</td>\n      <td>0.943027</td>\n      <td>0.916844</td>\n      <td>0.886522</td>\n      <td>0.823367</td>\n      <td>0.759320</td>\n      <td>0.729062</td>\n      <td>0.609334</td>\n      <td>0.509852</td>\n      <td>0.363745</td>\n    </tr>\n    <tr>\n      <th>1314</th>\n      <td>2020-01-16</td>\n      <td>0.998433</td>\n      <td>0.995735</td>\n      <td>0.991830</td>\n      <td>0.981989</td>\n      <td>0.965197</td>\n      <td>0.943235</td>\n      <td>0.917672</td>\n      <td>0.887917</td>\n      <td>0.825427</td>\n      <td>0.761611</td>\n      <td>0.731738</td>\n      <td>0.612373</td>\n      <td>0.516362</td>\n      <td>0.370894</td>\n    </tr>\n    <tr>\n      <th>1315</th>\n      <td>2020-01-17</td>\n      <td>0.998476</td>\n      <td>0.996076</td>\n      <td>0.992045</td>\n      <td>0.982662</td>\n      <td>0.965368</td>\n      <td>0.943788</td>\n      <td>0.918932</td>\n      <td>0.889901</td>\n      <td>0.829413</td>\n      <td>0.765411</td>\n      <td>0.735738</td>\n      <td>0.617512</td>\n      <td>0.522109</td>\n      <td>0.377115</td>\n    </tr>\n    <tr>\n      <th>1316</th>\n      <td>2020-01-20</td>\n      <td>0.998486</td>\n      <td>0.995838</td>\n      <td>0.991723</td>\n      <td>0.982295</td>\n      <td>0.965200</td>\n      <td>0.943424</td>\n      <td>0.918130</td>\n      <td>0.889492</td>\n      <td>0.829008</td>\n      <td>0.763974</td>\n      <td>0.734000</td>\n      <td>0.614916</td>\n      <td>0.519875</td>\n      <td>0.374718</td>\n    </tr>\n    <tr>\n      <th>1317</th>\n      <td>2020-01-21</td>\n      <td>0.998545</td>\n      <td>0.995854</td>\n      <td>0.991785</td>\n      <td>0.982348</td>\n      <td>0.964561</td>\n      <td>0.942754</td>\n      <td>0.917637</td>\n      <td>0.888946</td>\n      <td>0.827654</td>\n      <td>0.764609</td>\n      <td>0.734784</td>\n      <td>0.615682</td>\n      <td>0.520977</td>\n      <td>0.375923</td>\n    </tr>\n  </tbody>\n</table>\n<p>1318 rows × 15 columns</p>\n</div>",
      "text/plain": "         Fechas        30        90       180       360       720      1080  \\\n0    2014-10-07  0.997247  0.991653  0.982804  0.964742  0.936980  0.898953   \n1    2014-10-15  0.997160  0.991533  0.982841  0.965315  0.941714  0.907348   \n2    2014-10-16  0.996918  0.991607  0.983077  0.965602  0.942028  0.906980   \n3    2014-10-17  0.997158  0.991689  0.983067  0.965111  0.940740  0.905140   \n4    2014-10-20  0.997115  0.991639  0.983007  0.964917  0.940052  0.904730   \n...         ...       ...       ...       ...       ...       ...       ...   \n1313 2020-01-15  0.998452  0.995842  0.991692  0.981892  0.964877  0.943027   \n1314 2020-01-16  0.998433  0.995735  0.991830  0.981989  0.965197  0.943235   \n1315 2020-01-17  0.998476  0.996076  0.992045  0.982662  0.965368  0.943788   \n1316 2020-01-20  0.998486  0.995838  0.991723  0.982295  0.965200  0.943424   \n1317 2020-01-21  0.998545  0.995854  0.991785  0.982348  0.964561  0.942754   \n\n          1440      1800      2520      3240      3600      5400      7200  \\\n0     0.857502  0.813820  0.728164  0.647457  0.612702  0.465844  0.350691   \n1     0.868270  0.826651  0.744382  0.660878  0.625129  0.482102  0.368499   \n2     0.867757  0.825204  0.743573  0.665230  0.626519  0.480286  0.366621   \n3     0.865408  0.822053  0.740999  0.659608  0.622917  0.476344  0.361477   \n4     0.865278  0.822271  0.740859  0.662270  0.623482  0.476765  0.361965   \n...        ...       ...       ...       ...       ...       ...       ...   \n1313  0.916844  0.886522  0.823367  0.759320  0.729062  0.609334  0.509852   \n1314  0.917672  0.887917  0.825427  0.761611  0.731738  0.612373  0.516362   \n1315  0.918932  0.889901  0.829413  0.765411  0.735738  0.617512  0.522109   \n1316  0.918130  0.889492  0.829008  0.763974  0.734000  0.614916  0.519875   \n1317  0.917637  0.888946  0.827654  0.764609  0.734784  0.615682  0.520977   \n\n         10800  \n0     0.207265  \n1     0.223309  \n2     0.221611  \n3     0.216916  \n4     0.217350  \n...        ...  \n1313  0.363745  \n1314  0.370894  \n1315  0.377115  \n1316  0.374718  \n1317  0.375923  \n\n[1318 rows x 15 columns]"
     },
     "execution_count": 27,
     "metadata": {},
     "output_type": "execute_result"
    }
   ],
   "source": [
    "vector_dias = [30, 90, 180, 360, 360*2, 360*3, 360*4, 360*5, 360*7, 360*9, 360*10, 360*15, 360*20, 360*30]\n",
    "\n",
    "\n",
    "def evaluar_curva(pivotes, derivado):\n",
    "\n",
    "    largo = len(pivotes)\n",
    "    curvas = seleccionar_curva_derivados(derivado.flujos_valorizados[\"Moneda\"][0])\n",
    "\n",
    "    valores = []\n",
    "\n",
    "    df = pd.DataFrame()\n",
    "    df[\"Fechas\"] = curvas[\"Fecha\"]\n",
    "\n",
    "    for i in range(largo):\n",
    "\n",
    "        for j in range(len(curvas[\"Curva\"])):\n",
    "\n",
    "            valor_dia = pivotes[i]\n",
    "            curva = curvas[\"Curva\"][j]\n",
    "            fecha_curva = curvas[\"Fecha\"][j]\n",
    "            curva_parseada = parsear_curva(curva, fecha_curva)\n",
    "            valor = interpolacion_log_escalar(valor_dia, curva_parseada)\n",
    "            valores.append(valor)\n",
    "        \n",
    "        df[str(vector_dias[i])] = valores\n",
    "        valores = []\n",
    "\n",
    "    \n",
    "    return df\n",
    "\n",
    "\n",
    "evaluar_curva(vector_dias, C)"
   ]
  },
  {
   "cell_type": "code",
   "execution_count": 28,
   "metadata": {},
   "outputs": [
    {
     "data": {
      "text/html": "<div>\n<style scoped>\n    .dataframe tbody tr th:only-of-type {\n        vertical-align: middle;\n    }\n\n    .dataframe tbody tr th {\n        vertical-align: top;\n    }\n\n    .dataframe thead th {\n        text-align: right;\n    }\n</style>\n<table border=\"1\" class=\"dataframe\">\n  <thead>\n    <tr style=\"text-align: right;\">\n      <th></th>\n      <th>30</th>\n      <th>90</th>\n      <th>180</th>\n      <th>360</th>\n      <th>720</th>\n      <th>1080</th>\n      <th>1440</th>\n      <th>1800</th>\n      <th>2520</th>\n      <th>3240</th>\n      <th>3600</th>\n      <th>5400</th>\n      <th>7200</th>\n      <th>10800</th>\n    </tr>\n  </thead>\n  <tbody>\n    <tr>\n      <th>0</th>\n      <td>0.000000</td>\n      <td>0.000000</td>\n      <td>0.000000</td>\n      <td>0.000000</td>\n      <td>0.000000</td>\n      <td>0.000000</td>\n      <td>0.000000</td>\n      <td>0.000000</td>\n      <td>0.000000</td>\n      <td>0.000000</td>\n      <td>0.000000</td>\n      <td>0.000000</td>\n      <td>0.000000</td>\n      <td>0.000000</td>\n    </tr>\n    <tr>\n      <th>1</th>\n      <td>-0.000088</td>\n      <td>-0.000121</td>\n      <td>0.000037</td>\n      <td>0.000594</td>\n      <td>0.005040</td>\n      <td>0.009295</td>\n      <td>0.012478</td>\n      <td>0.015643</td>\n      <td>0.022027</td>\n      <td>0.020516</td>\n      <td>0.020079</td>\n      <td>0.034305</td>\n      <td>0.049531</td>\n      <td>0.074557</td>\n    </tr>\n    <tr>\n      <th>2</th>\n      <td>-0.000242</td>\n      <td>0.000074</td>\n      <td>0.000240</td>\n      <td>0.000298</td>\n      <td>0.000333</td>\n      <td>-0.000406</td>\n      <td>-0.000590</td>\n      <td>-0.001752</td>\n      <td>-0.001086</td>\n      <td>0.006564</td>\n      <td>0.002220</td>\n      <td>-0.003775</td>\n      <td>-0.005110</td>\n      <td>-0.007632</td>\n    </tr>\n    <tr>\n      <th>3</th>\n      <td>0.000240</td>\n      <td>0.000083</td>\n      <td>-0.000010</td>\n      <td>-0.000509</td>\n      <td>-0.001368</td>\n      <td>-0.002031</td>\n      <td>-0.002711</td>\n      <td>-0.003826</td>\n      <td>-0.003469</td>\n      <td>-0.008488</td>\n      <td>-0.005765</td>\n      <td>-0.008241</td>\n      <td>-0.014129</td>\n      <td>-0.021413</td>\n    </tr>\n    <tr>\n      <th>4</th>\n      <td>-0.000043</td>\n      <td>-0.000050</td>\n      <td>-0.000061</td>\n      <td>-0.000201</td>\n      <td>-0.000732</td>\n      <td>-0.000452</td>\n      <td>-0.000151</td>\n      <td>0.000265</td>\n      <td>-0.000189</td>\n      <td>0.004027</td>\n      <td>0.000907</td>\n      <td>0.000883</td>\n      <td>0.001348</td>\n      <td>0.001997</td>\n    </tr>\n    <tr>\n      <th>...</th>\n      <td>...</td>\n      <td>...</td>\n      <td>...</td>\n      <td>...</td>\n      <td>...</td>\n      <td>...</td>\n      <td>...</td>\n      <td>...</td>\n      <td>...</td>\n      <td>...</td>\n      <td>...</td>\n      <td>...</td>\n      <td>...</td>\n      <td>...</td>\n    </tr>\n    <tr>\n      <th>1313</th>\n      <td>0.000027</td>\n      <td>0.000294</td>\n      <td>0.000176</td>\n      <td>0.000411</td>\n      <td>0.000425</td>\n      <td>0.001162</td>\n      <td>0.001877</td>\n      <td>0.002487</td>\n      <td>0.002742</td>\n      <td>0.002168</td>\n      <td>0.002310</td>\n      <td>0.006996</td>\n      <td>0.004421</td>\n      <td>0.006272</td>\n    </tr>\n    <tr>\n      <th>1314</th>\n      <td>-0.000019</td>\n      <td>-0.000107</td>\n      <td>0.000139</td>\n      <td>0.000099</td>\n      <td>0.000332</td>\n      <td>0.000221</td>\n      <td>0.000902</td>\n      <td>0.001572</td>\n      <td>0.002498</td>\n      <td>0.003012</td>\n      <td>0.003664</td>\n      <td>0.004975</td>\n      <td>0.012686</td>\n      <td>0.019463</td>\n    </tr>\n    <tr>\n      <th>1315</th>\n      <td>0.000043</td>\n      <td>0.000343</td>\n      <td>0.000217</td>\n      <td>0.000684</td>\n      <td>0.000177</td>\n      <td>0.000586</td>\n      <td>0.001373</td>\n      <td>0.002232</td>\n      <td>0.004818</td>\n      <td>0.004977</td>\n      <td>0.005451</td>\n      <td>0.008356</td>\n      <td>0.011068</td>\n      <td>0.016635</td>\n    </tr>\n    <tr>\n      <th>1316</th>\n      <td>0.000010</td>\n      <td>-0.000240</td>\n      <td>-0.000325</td>\n      <td>-0.000373</td>\n      <td>-0.000175</td>\n      <td>-0.000386</td>\n      <td>-0.000873</td>\n      <td>-0.000460</td>\n      <td>-0.000488</td>\n      <td>-0.001879</td>\n      <td>-0.002364</td>\n      <td>-0.004212</td>\n      <td>-0.004288</td>\n      <td>-0.006377</td>\n    </tr>\n    <tr>\n      <th>1317</th>\n      <td>0.000058</td>\n      <td>0.000016</td>\n      <td>0.000063</td>\n      <td>0.000054</td>\n      <td>-0.000662</td>\n      <td>-0.000711</td>\n      <td>-0.000538</td>\n      <td>-0.000614</td>\n      <td>-0.001635</td>\n      <td>0.000831</td>\n      <td>0.001066</td>\n      <td>0.001245</td>\n      <td>0.002118</td>\n      <td>0.003209</td>\n    </tr>\n  </tbody>\n</table>\n<p>1318 rows × 14 columns</p>\n</div>",
      "text/plain": "            30        90       180       360       720      1080      1440  \\\n0     0.000000  0.000000  0.000000  0.000000  0.000000  0.000000  0.000000   \n1    -0.000088 -0.000121  0.000037  0.000594  0.005040  0.009295  0.012478   \n2    -0.000242  0.000074  0.000240  0.000298  0.000333 -0.000406 -0.000590   \n3     0.000240  0.000083 -0.000010 -0.000509 -0.001368 -0.002031 -0.002711   \n4    -0.000043 -0.000050 -0.000061 -0.000201 -0.000732 -0.000452 -0.000151   \n...        ...       ...       ...       ...       ...       ...       ...   \n1313  0.000027  0.000294  0.000176  0.000411  0.000425  0.001162  0.001877   \n1314 -0.000019 -0.000107  0.000139  0.000099  0.000332  0.000221  0.000902   \n1315  0.000043  0.000343  0.000217  0.000684  0.000177  0.000586  0.001373   \n1316  0.000010 -0.000240 -0.000325 -0.000373 -0.000175 -0.000386 -0.000873   \n1317  0.000058  0.000016  0.000063  0.000054 -0.000662 -0.000711 -0.000538   \n\n          1800      2520      3240      3600      5400      7200     10800  \n0     0.000000  0.000000  0.000000  0.000000  0.000000  0.000000  0.000000  \n1     0.015643  0.022027  0.020516  0.020079  0.034305  0.049531  0.074557  \n2    -0.001752 -0.001086  0.006564  0.002220 -0.003775 -0.005110 -0.007632  \n3    -0.003826 -0.003469 -0.008488 -0.005765 -0.008241 -0.014129 -0.021413  \n4     0.000265 -0.000189  0.004027  0.000907  0.000883  0.001348  0.001997  \n...        ...       ...       ...       ...       ...       ...       ...  \n1313  0.002487  0.002742  0.002168  0.002310  0.006996  0.004421  0.006272  \n1314  0.001572  0.002498  0.003012  0.003664  0.004975  0.012686  0.019463  \n1315  0.002232  0.004818  0.004977  0.005451  0.008356  0.011068  0.016635  \n1316 -0.000460 -0.000488 -0.001879 -0.002364 -0.004212 -0.004288 -0.006377  \n1317 -0.000614 -0.001635  0.000831  0.001066  0.001245  0.002118  0.003209  \n\n[1318 rows x 14 columns]"
     },
     "execution_count": 28,
     "metadata": {},
     "output_type": "execute_result"
    }
   ],
   "source": [
    "\n",
    "\n",
    "def calcular_retornos(dfHistorico):\n",
    "\n",
    "    numero_filas = len(vector_dias)\n",
    "    numero_columnas = len(dfHistorico[\"30\"])\n",
    "    valores = []\n",
    "    df = pd.DataFrame()\n",
    "\n",
    "\n",
    "    for i in range(numero_filas):\n",
    "\n",
    "        columna = dfHistorico[str(vector_dias[i])]\n",
    "\n",
    "        for j in range(numero_columnas):\n",
    "\n",
    "            if j == 0:\n",
    "\n",
    "                valores.append(0)\n",
    "\n",
    "            else:\n",
    "\n",
    "                valor = np.log(columna[j] / columna[j-1])\n",
    "                valores.append(valor)\n",
    "\n",
    "        df[str(vector_dias[i])] = valores\n",
    "        valores = []\n",
    "\n",
    "    return df\n",
    "        \n",
    "a = evaluar_curva(vector_dias, C)\n",
    "b = calcular_retornos(a)\n",
    "b"
   ]
  },
  {
   "cell_type": "code",
   "execution_count": 29,
   "metadata": {},
   "outputs": [
    {
     "data": {
      "text/html": "<div>\n<style scoped>\n    .dataframe tbody tr th:only-of-type {\n        vertical-align: middle;\n    }\n\n    .dataframe tbody tr th {\n        vertical-align: top;\n    }\n\n    .dataframe thead th {\n        text-align: right;\n    }\n</style>\n<table border=\"1\" class=\"dataframe\">\n  <thead>\n    <tr style=\"text-align: right;\">\n      <th></th>\n      <th>Pivotes</th>\n      <th>Volatilidades</th>\n    </tr>\n  </thead>\n  <tbody>\n    <tr>\n      <th>0</th>\n      <td>30</td>\n      <td>0.000183</td>\n    </tr>\n    <tr>\n      <th>1</th>\n      <td>90</td>\n      <td>0.000311</td>\n    </tr>\n    <tr>\n      <th>2</th>\n      <td>180</td>\n      <td>0.000516</td>\n    </tr>\n    <tr>\n      <th>3</th>\n      <td>360</td>\n      <td>0.000666</td>\n    </tr>\n    <tr>\n      <th>4</th>\n      <td>720</td>\n      <td>0.000814</td>\n    </tr>\n    <tr>\n      <th>5</th>\n      <td>1080</td>\n      <td>0.001300</td>\n    </tr>\n    <tr>\n      <th>6</th>\n      <td>1440</td>\n      <td>0.001902</td>\n    </tr>\n    <tr>\n      <th>7</th>\n      <td>1800</td>\n      <td>0.002539</td>\n    </tr>\n    <tr>\n      <th>8</th>\n      <td>2520</td>\n      <td>0.003781</td>\n    </tr>\n    <tr>\n      <th>9</th>\n      <td>3240</td>\n      <td>0.004794</td>\n    </tr>\n    <tr>\n      <th>10</th>\n      <td>3600</td>\n      <td>0.005400</td>\n    </tr>\n    <tr>\n      <th>11</th>\n      <td>5400</td>\n      <td>0.008264</td>\n    </tr>\n    <tr>\n      <th>12</th>\n      <td>7200</td>\n      <td>0.011556</td>\n    </tr>\n    <tr>\n      <th>13</th>\n      <td>10800</td>\n      <td>0.017406</td>\n    </tr>\n  </tbody>\n</table>\n</div>",
      "text/plain": "    Pivotes  Volatilidades\n0        30       0.000183\n1        90       0.000311\n2       180       0.000516\n3       360       0.000666\n4       720       0.000814\n5      1080       0.001300\n6      1440       0.001902\n7      1800       0.002539\n8      2520       0.003781\n9      3240       0.004794\n10     3600       0.005400\n11     5400       0.008264\n12     7200       0.011556\n13    10800       0.017406"
     },
     "execution_count": 29,
     "metadata": {},
     "output_type": "execute_result"
    }
   ],
   "source": [
    "\n",
    "\n",
    "def volatilidades_derivados(dfRetornos):\n",
    "\n",
    "    numero_filas = len(vector_dias)\n",
    "    numero_columnas = len(dfRetornos[str(vector_dias[0])])\n",
    "    df = pd.DataFrame()\n",
    "    df[\"Pivotes\"] = vector_dias\n",
    "    valores = []\n",
    "\n",
    "    for i in range(numero_filas):\n",
    "\n",
    "        retornos = dfRetornos[str(vector_dias[i])]\n",
    "        valor = ewma(retornos, 0.94)\n",
    "        valores.append(valor[\"Vol c/ajuste\"].values[0])\n",
    "    \n",
    "    df[\"Volatilidades\"] = valores\n",
    "    return df\n",
    "\n",
    "\n",
    "d = volatilidades_derivados(b)\n",
    "d\n",
    "\n"
   ]
  },
  {
   "cell_type": "code",
   "execution_count": 30,
   "metadata": {},
   "outputs": [
    {
     "data": {
      "text/html": "<div>\n<style scoped>\n    .dataframe tbody tr th:only-of-type {\n        vertical-align: middle;\n    }\n\n    .dataframe tbody tr th {\n        vertical-align: top;\n    }\n\n    .dataframe thead th {\n        text-align: right;\n    }\n</style>\n<table border=\"1\" class=\"dataframe\">\n  <thead>\n    <tr style=\"text-align: right;\">\n      <th></th>\n      <th>30</th>\n      <th>90</th>\n      <th>180</th>\n      <th>360</th>\n      <th>720</th>\n      <th>1080</th>\n      <th>1440</th>\n      <th>1800</th>\n      <th>2520</th>\n      <th>3240</th>\n      <th>3600</th>\n      <th>5400</th>\n      <th>7200</th>\n      <th>10800</th>\n    </tr>\n  </thead>\n  <tbody>\n    <tr>\n      <th>30</th>\n      <td>0.000183</td>\n      <td>0.689280</td>\n      <td>0.657801</td>\n      <td>0.636162</td>\n      <td>0.394350</td>\n      <td>0.381897</td>\n      <td>0.375390</td>\n      <td>0.340184</td>\n      <td>0.310542</td>\n      <td>0.291301</td>\n      <td>0.287223</td>\n      <td>0.279931</td>\n      <td>0.282977</td>\n      <td>0.282184</td>\n    </tr>\n    <tr>\n      <th>90</th>\n      <td>0.689280</td>\n      <td>0.000311</td>\n      <td>0.815853</td>\n      <td>0.848922</td>\n      <td>0.485605</td>\n      <td>0.518657</td>\n      <td>0.510498</td>\n      <td>0.479363</td>\n      <td>0.467508</td>\n      <td>0.442045</td>\n      <td>0.426455</td>\n      <td>0.435801</td>\n      <td>0.445947</td>\n      <td>0.445453</td>\n    </tr>\n    <tr>\n      <th>180</th>\n      <td>0.657801</td>\n      <td>0.815853</td>\n      <td>0.000516</td>\n      <td>0.913545</td>\n      <td>0.609171</td>\n      <td>0.603132</td>\n      <td>0.607033</td>\n      <td>0.570512</td>\n      <td>0.530489</td>\n      <td>0.520502</td>\n      <td>0.515916</td>\n      <td>0.504264</td>\n      <td>0.517396</td>\n      <td>0.516914</td>\n    </tr>\n    <tr>\n      <th>360</th>\n      <td>0.636162</td>\n      <td>0.848922</td>\n      <td>0.913545</td>\n      <td>0.000666</td>\n      <td>0.587282</td>\n      <td>0.616024</td>\n      <td>0.616004</td>\n      <td>0.581994</td>\n      <td>0.560265</td>\n      <td>0.543116</td>\n      <td>0.530234</td>\n      <td>0.522193</td>\n      <td>0.535853</td>\n      <td>0.535382</td>\n    </tr>\n    <tr>\n      <th>720</th>\n      <td>0.394350</td>\n      <td>0.485605</td>\n      <td>0.609171</td>\n      <td>0.587282</td>\n      <td>0.000814</td>\n      <td>0.977712</td>\n      <td>0.952465</td>\n      <td>0.928546</td>\n      <td>0.892883</td>\n      <td>0.867288</td>\n      <td>0.857624</td>\n      <td>0.853106</td>\n      <td>0.834563</td>\n      <td>0.832127</td>\n    </tr>\n    <tr>\n      <th>1080</th>\n      <td>0.381897</td>\n      <td>0.518657</td>\n      <td>0.603132</td>\n      <td>0.616024</td>\n      <td>0.977712</td>\n      <td>0.001300</td>\n      <td>0.983674</td>\n      <td>0.963362</td>\n      <td>0.931791</td>\n      <td>0.914614</td>\n      <td>0.902319</td>\n      <td>0.904422</td>\n      <td>0.878545</td>\n      <td>0.875726</td>\n    </tr>\n    <tr>\n      <th>1440</th>\n      <td>0.375390</td>\n      <td>0.510498</td>\n      <td>0.607033</td>\n      <td>0.616004</td>\n      <td>0.952465</td>\n      <td>0.983674</td>\n      <td>0.001902</td>\n      <td>0.987455</td>\n      <td>0.956987</td>\n      <td>0.946943</td>\n      <td>0.938910</td>\n      <td>0.935381</td>\n      <td>0.908047</td>\n      <td>0.905144</td>\n    </tr>\n    <tr>\n      <th>1800</th>\n      <td>0.340184</td>\n      <td>0.479363</td>\n      <td>0.570512</td>\n      <td>0.581994</td>\n      <td>0.928546</td>\n      <td>0.963362</td>\n      <td>0.987455</td>\n      <td>0.002539</td>\n      <td>0.975503</td>\n      <td>0.961439</td>\n      <td>0.956004</td>\n      <td>0.949865</td>\n      <td>0.924560</td>\n      <td>0.921703</td>\n    </tr>\n    <tr>\n      <th>2520</th>\n      <td>0.310542</td>\n      <td>0.467508</td>\n      <td>0.530489</td>\n      <td>0.560265</td>\n      <td>0.892883</td>\n      <td>0.931791</td>\n      <td>0.956987</td>\n      <td>0.975503</td>\n      <td>0.003781</td>\n      <td>0.972586</td>\n      <td>0.964679</td>\n      <td>0.959185</td>\n      <td>0.934046</td>\n      <td>0.931178</td>\n    </tr>\n    <tr>\n      <th>3240</th>\n      <td>0.291301</td>\n      <td>0.442045</td>\n      <td>0.520502</td>\n      <td>0.543116</td>\n      <td>0.867288</td>\n      <td>0.914614</td>\n      <td>0.946943</td>\n      <td>0.961439</td>\n      <td>0.972586</td>\n      <td>0.004794</td>\n      <td>0.995937</td>\n      <td>0.984286</td>\n      <td>0.966825</td>\n      <td>0.964311</td>\n    </tr>\n    <tr>\n      <th>3600</th>\n      <td>0.287223</td>\n      <td>0.426455</td>\n      <td>0.515916</td>\n      <td>0.530234</td>\n      <td>0.857624</td>\n      <td>0.902319</td>\n      <td>0.938910</td>\n      <td>0.956004</td>\n      <td>0.964679</td>\n      <td>0.995937</td>\n      <td>0.005400</td>\n      <td>0.981229</td>\n      <td>0.966828</td>\n      <td>0.964489</td>\n    </tr>\n    <tr>\n      <th>5400</th>\n      <td>0.279931</td>\n      <td>0.435801</td>\n      <td>0.504264</td>\n      <td>0.522193</td>\n      <td>0.853106</td>\n      <td>0.904422</td>\n      <td>0.935381</td>\n      <td>0.949865</td>\n      <td>0.959185</td>\n      <td>0.984286</td>\n      <td>0.981229</td>\n      <td>0.008264</td>\n      <td>0.961130</td>\n      <td>0.957675</td>\n    </tr>\n    <tr>\n      <th>7200</th>\n      <td>0.282977</td>\n      <td>0.445947</td>\n      <td>0.517396</td>\n      <td>0.535853</td>\n      <td>0.834563</td>\n      <td>0.878545</td>\n      <td>0.908047</td>\n      <td>0.924560</td>\n      <td>0.934046</td>\n      <td>0.966825</td>\n      <td>0.966828</td>\n      <td>0.961130</td>\n      <td>0.011556</td>\n      <td>0.999924</td>\n    </tr>\n    <tr>\n      <th>10800</th>\n      <td>0.282184</td>\n      <td>0.445453</td>\n      <td>0.516914</td>\n      <td>0.535382</td>\n      <td>0.832127</td>\n      <td>0.875726</td>\n      <td>0.905144</td>\n      <td>0.921703</td>\n      <td>0.931178</td>\n      <td>0.964311</td>\n      <td>0.964489</td>\n      <td>0.957675</td>\n      <td>0.999924</td>\n      <td>0.017406</td>\n    </tr>\n  </tbody>\n</table>\n</div>",
      "text/plain": "             30        90       180       360       720      1080      1440  \\\n30     0.000183  0.689280  0.657801  0.636162  0.394350  0.381897  0.375390   \n90     0.689280  0.000311  0.815853  0.848922  0.485605  0.518657  0.510498   \n180    0.657801  0.815853  0.000516  0.913545  0.609171  0.603132  0.607033   \n360    0.636162  0.848922  0.913545  0.000666  0.587282  0.616024  0.616004   \n720    0.394350  0.485605  0.609171  0.587282  0.000814  0.977712  0.952465   \n1080   0.381897  0.518657  0.603132  0.616024  0.977712  0.001300  0.983674   \n1440   0.375390  0.510498  0.607033  0.616004  0.952465  0.983674  0.001902   \n1800   0.340184  0.479363  0.570512  0.581994  0.928546  0.963362  0.987455   \n2520   0.310542  0.467508  0.530489  0.560265  0.892883  0.931791  0.956987   \n3240   0.291301  0.442045  0.520502  0.543116  0.867288  0.914614  0.946943   \n3600   0.287223  0.426455  0.515916  0.530234  0.857624  0.902319  0.938910   \n5400   0.279931  0.435801  0.504264  0.522193  0.853106  0.904422  0.935381   \n7200   0.282977  0.445947  0.517396  0.535853  0.834563  0.878545  0.908047   \n10800  0.282184  0.445453  0.516914  0.535382  0.832127  0.875726  0.905144   \n\n           1800      2520      3240      3600      5400      7200     10800  \n30     0.340184  0.310542  0.291301  0.287223  0.279931  0.282977  0.282184  \n90     0.479363  0.467508  0.442045  0.426455  0.435801  0.445947  0.445453  \n180    0.570512  0.530489  0.520502  0.515916  0.504264  0.517396  0.516914  \n360    0.581994  0.560265  0.543116  0.530234  0.522193  0.535853  0.535382  \n720    0.928546  0.892883  0.867288  0.857624  0.853106  0.834563  0.832127  \n1080   0.963362  0.931791  0.914614  0.902319  0.904422  0.878545  0.875726  \n1440   0.987455  0.956987  0.946943  0.938910  0.935381  0.908047  0.905144  \n1800   0.002539  0.975503  0.961439  0.956004  0.949865  0.924560  0.921703  \n2520   0.975503  0.003781  0.972586  0.964679  0.959185  0.934046  0.931178  \n3240   0.961439  0.972586  0.004794  0.995937  0.984286  0.966825  0.964311  \n3600   0.956004  0.964679  0.995937  0.005400  0.981229  0.966828  0.964489  \n5400   0.949865  0.959185  0.984286  0.981229  0.008264  0.961130  0.957675  \n7200   0.924560  0.934046  0.966825  0.966828  0.961130  0.011556  0.999924  \n10800  0.921703  0.931178  0.964311  0.964489  0.957675  0.999924  0.017406  "
     },
     "execution_count": 30,
     "metadata": {},
     "output_type": "execute_result"
    }
   ],
   "source": [
    "\n",
    "def correlaciones_derivador(dfRetornos, dfVolatilidades):\n",
    "\n",
    "    lenght = len(vector_dias)\n",
    "    volatilidad = dfVolatilidades[\"Volatilidades\"]\n",
    "    corr = ewma_new_new_pivotes(lenght, dfRetornos, volatilidad)\n",
    "    return corr\n",
    "\n",
    "correlaciones_derivador(b, d)\n"
   ]
  },
  {
   "cell_type": "code",
   "execution_count": 31,
   "metadata": {},
   "outputs": [
    {
     "data": {
      "text/html": "<div>\n<style scoped>\n    .dataframe tbody tr th:only-of-type {\n        vertical-align: middle;\n    }\n\n    .dataframe tbody tr th {\n        vertical-align: top;\n    }\n\n    .dataframe thead th {\n        text-align: right;\n    }\n</style>\n<table border=\"1\" class=\"dataframe\">\n  <thead>\n    <tr style=\"text-align: right;\">\n      <th></th>\n      <th>30</th>\n      <th>90</th>\n      <th>180</th>\n      <th>360</th>\n      <th>720</th>\n      <th>1080</th>\n      <th>1440</th>\n      <th>1800</th>\n      <th>2520</th>\n      <th>3240</th>\n      <th>3600</th>\n      <th>5400</th>\n      <th>7200</th>\n      <th>10800</th>\n    </tr>\n  </thead>\n  <tbody>\n    <tr>\n      <th>30</th>\n      <td>3.350648e-08</td>\n      <td>3.919231e-08</td>\n      <td>6.210540e-08</td>\n      <td>7.758939e-08</td>\n      <td>5.874450e-08</td>\n      <td>9.090847e-08</td>\n      <td>1.306947e-07</td>\n      <td>1.580763e-07</td>\n      <td>2.149081e-07</td>\n      <td>2.556170e-07</td>\n      <td>2.839165e-07</td>\n      <td>4.234739e-07</td>\n      <td>5.985916e-07</td>\n      <td>8.990560e-07</td>\n    </tr>\n    <tr>\n      <th>90</th>\n      <td>3.919231e-08</td>\n      <td>9.648987e-08</td>\n      <td>1.307143e-07</td>\n      <td>1.757029e-07</td>\n      <td>1.227568e-07</td>\n      <td>2.095150e-07</td>\n      <td>3.016096e-07</td>\n      <td>3.780012e-07</td>\n      <td>5.490330e-07</td>\n      <td>6.582485e-07</td>\n      <td>7.153538e-07</td>\n      <td>1.118769e-06</td>\n      <td>1.600807e-06</td>\n      <td>2.408425e-06</td>\n    </tr>\n    <tr>\n      <th>180</th>\n      <td>6.210540e-08</td>\n      <td>1.307143e-07</td>\n      <td>2.660363e-07</td>\n      <td>3.139574e-07</td>\n      <td>2.556998e-07</td>\n      <td>4.045542e-07</td>\n      <td>5.955156e-07</td>\n      <td>7.470046e-07</td>\n      <td>1.034462e-06</td>\n      <td>1.286991e-06</td>\n      <td>1.436997e-06</td>\n      <td>2.149510e-06</td>\n      <td>3.083951e-06</td>\n      <td>4.640652e-06</td>\n    </tr>\n    <tr>\n      <th>360</th>\n      <td>7.758939e-08</td>\n      <td>1.757029e-07</td>\n      <td>3.139574e-07</td>\n      <td>4.439567e-07</td>\n      <td>3.184475e-07</td>\n      <td>5.337798e-07</td>\n      <td>7.806645e-07</td>\n      <td>9.844128e-07</td>\n      <td>1.411342e-06</td>\n      <td>1.734787e-06</td>\n      <td>1.907852e-06</td>\n      <td>2.875492e-06</td>\n      <td>4.126012e-06</td>\n      <td>6.209034e-06</td>\n    </tr>\n    <tr>\n      <th>720</th>\n      <td>5.874450e-08</td>\n      <td>1.227568e-07</td>\n      <td>2.556998e-07</td>\n      <td>3.184475e-07</td>\n      <td>6.622807e-07</td>\n      <td>1.034728e-06</td>\n      <td>1.474282e-06</td>\n      <td>1.918282e-06</td>\n      <td>2.747160e-06</td>\n      <td>3.383508e-06</td>\n      <td>3.768986e-06</td>\n      <td>5.737663e-06</td>\n      <td>7.848640e-06</td>\n      <td>1.178694e-05</td>\n    </tr>\n    <tr>\n      <th>1080</th>\n      <td>9.090847e-08</td>\n      <td>2.095150e-07</td>\n      <td>4.045542e-07</td>\n      <td>5.337798e-07</td>\n      <td>1.034728e-06</td>\n      <td>1.691175e-06</td>\n      <td>2.433076e-06</td>\n      <td>3.180327e-06</td>\n      <td>4.581218e-06</td>\n      <td>5.701838e-06</td>\n      <td>6.336666e-06</td>\n      <td>9.720230e-06</td>\n      <td>1.320299e-05</td>\n      <td>1.982225e-05</td>\n    </tr>\n    <tr>\n      <th>1440</th>\n      <td>1.306947e-07</td>\n      <td>3.016096e-07</td>\n      <td>5.955156e-07</td>\n      <td>7.806645e-07</td>\n      <td>1.474282e-06</td>\n      <td>2.433076e-06</td>\n      <td>3.617601e-06</td>\n      <td>4.767775e-06</td>\n      <td>6.881522e-06</td>\n      <td>8.634097e-06</td>\n      <td>9.643636e-06</td>\n      <td>1.470314e-05</td>\n      <td>1.995874e-05</td>\n      <td>2.996528e-05</td>\n    </tr>\n    <tr>\n      <th>1800</th>\n      <td>1.580763e-07</td>\n      <td>3.780012e-07</td>\n      <td>7.470046e-07</td>\n      <td>9.844128e-07</td>\n      <td>1.918282e-06</td>\n      <td>3.180327e-06</td>\n      <td>4.767775e-06</td>\n      <td>6.444309e-06</td>\n      <td>9.362354e-06</td>\n      <td>1.170019e-05</td>\n      <td>1.310553e-05</td>\n      <td>1.992788e-05</td>\n      <td>2.712300e-05</td>\n      <td>4.072580e-05</td>\n    </tr>\n    <tr>\n      <th>2520</th>\n      <td>2.149081e-07</td>\n      <td>5.490330e-07</td>\n      <td>1.034462e-06</td>\n      <td>1.411342e-06</td>\n      <td>2.747160e-06</td>\n      <td>4.581218e-06</td>\n      <td>6.881522e-06</td>\n      <td>9.362354e-06</td>\n      <td>1.429343e-05</td>\n      <td>1.762703e-05</td>\n      <td>1.969507e-05</td>\n      <td>2.996965e-05</td>\n      <td>4.080852e-05</td>\n      <td>6.127615e-05</td>\n    </tr>\n    <tr>\n      <th>3240</th>\n      <td>2.556170e-07</td>\n      <td>6.582485e-07</td>\n      <td>1.286991e-06</td>\n      <td>1.734787e-06</td>\n      <td>3.383508e-06</td>\n      <td>5.701838e-06</td>\n      <td>8.634097e-06</td>\n      <td>1.170019e-05</td>\n      <td>1.762703e-05</td>\n      <td>2.298083e-05</td>\n      <td>2.578229e-05</td>\n      <td>3.899558e-05</td>\n      <td>5.356058e-05</td>\n      <td>8.046195e-05</td>\n    </tr>\n    <tr>\n      <th>3600</th>\n      <td>2.839165e-07</td>\n      <td>7.153538e-07</td>\n      <td>1.436997e-06</td>\n      <td>1.907852e-06</td>\n      <td>3.768986e-06</td>\n      <td>6.336666e-06</td>\n      <td>9.643636e-06</td>\n      <td>1.310553e-05</td>\n      <td>1.969507e-05</td>\n      <td>2.578229e-05</td>\n      <td>2.916171e-05</td>\n      <td>4.379133e-05</td>\n      <td>6.033514e-05</td>\n      <td>9.065550e-05</td>\n    </tr>\n    <tr>\n      <th>5400</th>\n      <td>4.234739e-07</td>\n      <td>1.118769e-06</td>\n      <td>2.149510e-06</td>\n      <td>2.875492e-06</td>\n      <td>5.737663e-06</td>\n      <td>9.720230e-06</td>\n      <td>1.470314e-05</td>\n      <td>1.992788e-05</td>\n      <td>2.996965e-05</td>\n      <td>3.899558e-05</td>\n      <td>4.379133e-05</td>\n      <td>6.830026e-05</td>\n      <td>9.179256e-05</td>\n      <td>1.377589e-04</td>\n    </tr>\n    <tr>\n      <th>7200</th>\n      <td>5.985916e-07</td>\n      <td>1.600807e-06</td>\n      <td>3.083951e-06</td>\n      <td>4.126012e-06</td>\n      <td>7.848640e-06</td>\n      <td>1.320299e-05</td>\n      <td>1.995874e-05</td>\n      <td>2.712300e-05</td>\n      <td>4.080852e-05</td>\n      <td>5.356058e-05</td>\n      <td>6.033514e-05</td>\n      <td>9.179256e-05</td>\n      <td>1.335453e-04</td>\n      <td>2.011276e-04</td>\n    </tr>\n    <tr>\n      <th>10800</th>\n      <td>8.990560e-07</td>\n      <td>2.408425e-06</td>\n      <td>4.640652e-06</td>\n      <td>6.209034e-06</td>\n      <td>1.178694e-05</td>\n      <td>1.982225e-05</td>\n      <td>2.996528e-05</td>\n      <td>4.072580e-05</td>\n      <td>6.127615e-05</td>\n      <td>8.046195e-05</td>\n      <td>9.065550e-05</td>\n      <td>1.377589e-04</td>\n      <td>2.011276e-04</td>\n      <td>3.029568e-04</td>\n    </tr>\n  </tbody>\n</table>\n</div>",
      "text/plain": "                 30            90           180           360           720  \\\n30     3.350648e-08  3.919231e-08  6.210540e-08  7.758939e-08  5.874450e-08   \n90     3.919231e-08  9.648987e-08  1.307143e-07  1.757029e-07  1.227568e-07   \n180    6.210540e-08  1.307143e-07  2.660363e-07  3.139574e-07  2.556998e-07   \n360    7.758939e-08  1.757029e-07  3.139574e-07  4.439567e-07  3.184475e-07   \n720    5.874450e-08  1.227568e-07  2.556998e-07  3.184475e-07  6.622807e-07   \n1080   9.090847e-08  2.095150e-07  4.045542e-07  5.337798e-07  1.034728e-06   \n1440   1.306947e-07  3.016096e-07  5.955156e-07  7.806645e-07  1.474282e-06   \n1800   1.580763e-07  3.780012e-07  7.470046e-07  9.844128e-07  1.918282e-06   \n2520   2.149081e-07  5.490330e-07  1.034462e-06  1.411342e-06  2.747160e-06   \n3240   2.556170e-07  6.582485e-07  1.286991e-06  1.734787e-06  3.383508e-06   \n3600   2.839165e-07  7.153538e-07  1.436997e-06  1.907852e-06  3.768986e-06   \n5400   4.234739e-07  1.118769e-06  2.149510e-06  2.875492e-06  5.737663e-06   \n7200   5.985916e-07  1.600807e-06  3.083951e-06  4.126012e-06  7.848640e-06   \n10800  8.990560e-07  2.408425e-06  4.640652e-06  6.209034e-06  1.178694e-05   \n\n               1080          1440          1800          2520          3240  \\\n30     9.090847e-08  1.306947e-07  1.580763e-07  2.149081e-07  2.556170e-07   \n90     2.095150e-07  3.016096e-07  3.780012e-07  5.490330e-07  6.582485e-07   \n180    4.045542e-07  5.955156e-07  7.470046e-07  1.034462e-06  1.286991e-06   \n360    5.337798e-07  7.806645e-07  9.844128e-07  1.411342e-06  1.734787e-06   \n720    1.034728e-06  1.474282e-06  1.918282e-06  2.747160e-06  3.383508e-06   \n1080   1.691175e-06  2.433076e-06  3.180327e-06  4.581218e-06  5.701838e-06   \n1440   2.433076e-06  3.617601e-06  4.767775e-06  6.881522e-06  8.634097e-06   \n1800   3.180327e-06  4.767775e-06  6.444309e-06  9.362354e-06  1.170019e-05   \n2520   4.581218e-06  6.881522e-06  9.362354e-06  1.429343e-05  1.762703e-05   \n3240   5.701838e-06  8.634097e-06  1.170019e-05  1.762703e-05  2.298083e-05   \n3600   6.336666e-06  9.643636e-06  1.310553e-05  1.969507e-05  2.578229e-05   \n5400   9.720230e-06  1.470314e-05  1.992788e-05  2.996965e-05  3.899558e-05   \n7200   1.320299e-05  1.995874e-05  2.712300e-05  4.080852e-05  5.356058e-05   \n10800  1.982225e-05  2.996528e-05  4.072580e-05  6.127615e-05  8.046195e-05   \n\n               3600          5400          7200         10800  \n30     2.839165e-07  4.234739e-07  5.985916e-07  8.990560e-07  \n90     7.153538e-07  1.118769e-06  1.600807e-06  2.408425e-06  \n180    1.436997e-06  2.149510e-06  3.083951e-06  4.640652e-06  \n360    1.907852e-06  2.875492e-06  4.126012e-06  6.209034e-06  \n720    3.768986e-06  5.737663e-06  7.848640e-06  1.178694e-05  \n1080   6.336666e-06  9.720230e-06  1.320299e-05  1.982225e-05  \n1440   9.643636e-06  1.470314e-05  1.995874e-05  2.996528e-05  \n1800   1.310553e-05  1.992788e-05  2.712300e-05  4.072580e-05  \n2520   1.969507e-05  2.996965e-05  4.080852e-05  6.127615e-05  \n3240   2.578229e-05  3.899558e-05  5.356058e-05  8.046195e-05  \n3600   2.916171e-05  4.379133e-05  6.033514e-05  9.065550e-05  \n5400   4.379133e-05  6.830026e-05  9.179256e-05  1.377589e-04  \n7200   6.033514e-05  9.179256e-05  1.335453e-04  2.011276e-04  \n10800  9.065550e-05  1.377589e-04  2.011276e-04  3.029568e-04  "
     },
     "execution_count": 31,
     "metadata": {},
     "output_type": "execute_result"
    }
   ],
   "source": [
    "def covarianzas_derivador(dfRetornos, dfVolatilidades):\n",
    "\n",
    "    lenght = len(vector_dias)\n",
    "    volatilidad = dfVolatilidades[\"Volatilidades\"]\n",
    "    corr = covarianza_pivotes(lenght, dfRetornos, volatilidad)\n",
    "    return corr\n",
    "\n",
    "\n",
    "covarianzas_derivador(b, d)"
   ]
  },
  {
   "cell_type": "code",
   "execution_count": 32,
   "metadata": {},
   "outputs": [
    {
     "data": {
      "text/html": "<div>\n<style scoped>\n    .dataframe tbody tr th:only-of-type {\n        vertical-align: middle;\n    }\n\n    .dataframe tbody tr th {\n        vertical-align: top;\n    }\n\n    .dataframe thead th {\n        text-align: right;\n    }\n</style>\n<table border=\"1\" class=\"dataframe\">\n  <thead>\n    <tr style=\"text-align: right;\">\n      <th></th>\n      <th>Fecha</th>\n      <th>Pivote</th>\n      <th>FactorDescuento</th>\n    </tr>\n  </thead>\n  <tbody>\n    <tr>\n      <th>0</th>\n      <td>2018-05-18</td>\n      <td>30</td>\n      <td>0.998519</td>\n    </tr>\n    <tr>\n      <th>1</th>\n      <td>2018-07-17</td>\n      <td>90</td>\n      <td>0.994028</td>\n    </tr>\n    <tr>\n      <th>2</th>\n      <td>2018-10-15</td>\n      <td>180</td>\n      <td>0.986992</td>\n    </tr>\n    <tr>\n      <th>3</th>\n      <td>2019-04-13</td>\n      <td>360</td>\n      <td>0.971358</td>\n    </tr>\n    <tr>\n      <th>4</th>\n      <td>2020-04-07</td>\n      <td>720</td>\n      <td>0.943830</td>\n    </tr>\n    <tr>\n      <th>5</th>\n      <td>2021-04-02</td>\n      <td>1080</td>\n      <td>0.910173</td>\n    </tr>\n    <tr>\n      <th>6</th>\n      <td>2022-03-28</td>\n      <td>1440</td>\n      <td>0.875308</td>\n    </tr>\n    <tr>\n      <th>7</th>\n      <td>2023-03-23</td>\n      <td>1800</td>\n      <td>0.838749</td>\n    </tr>\n    <tr>\n      <th>8</th>\n      <td>2025-03-12</td>\n      <td>2520</td>\n      <td>0.768484</td>\n    </tr>\n    <tr>\n      <th>9</th>\n      <td>2027-03-02</td>\n      <td>3240</td>\n      <td>0.697169</td>\n    </tr>\n    <tr>\n      <th>10</th>\n      <td>2028-02-25</td>\n      <td>3600</td>\n      <td>0.663735</td>\n    </tr>\n    <tr>\n      <th>11</th>\n      <td>2033-01-29</td>\n      <td>5400</td>\n      <td>0.520930</td>\n    </tr>\n    <tr>\n      <th>12</th>\n      <td>2038-01-03</td>\n      <td>7200</td>\n      <td>0.402819</td>\n    </tr>\n    <tr>\n      <th>13</th>\n      <td>2047-11-12</td>\n      <td>10800</td>\n      <td>0.254980</td>\n    </tr>\n  </tbody>\n</table>\n</div>",
      "text/plain": "         Fecha  Pivote  FactorDescuento\n0   2018-05-18      30         0.998519\n1   2018-07-17      90         0.994028\n2   2018-10-15     180         0.986992\n3   2019-04-13     360         0.971358\n4   2020-04-07     720         0.943830\n5   2021-04-02    1080         0.910173\n6   2022-03-28    1440         0.875308\n7   2023-03-23    1800         0.838749\n8   2025-03-12    2520         0.768484\n9   2027-03-02    3240         0.697169\n10  2028-02-25    3600         0.663735\n11  2033-01-29    5400         0.520930\n12  2038-01-03    7200         0.402819\n13  2047-11-12   10800         0.254980"
     },
     "execution_count": 32,
     "metadata": {},
     "output_type": "execute_result"
    }
   ],
   "source": [
    "def crear_pivotes(fecha_inicial, pivotes):\n",
    "\n",
    "\n",
    "    lenght = len(pivotes)\n",
    "    dias = []\n",
    "    for i in range(lenght):\n",
    "\n",
    "        dia = add_days(fecha_inicial, pivotes[i])\n",
    "        dias.append(dia)\n",
    "\n",
    "    return dias\n",
    "\n",
    "def buscar_pivotes(fecha_pivotes, fecha):\n",
    "\n",
    "    lenght = len(fecha_pivotes)\n",
    "\n",
    "    for i in range(lenght):\n",
    "\n",
    "        fecha_probable = fecha_pivotes[i]\n",
    "        if (i == 0 and fecha < fecha_probable) or (i == lenght - 1):\n",
    "\n",
    "            return [i, i]\n",
    "\n",
    "        elif fecha < fecha_probable:\n",
    "\n",
    "            return [i-1, i]\n",
    "        \n",
    "\n",
    "def factor_desct_pivotes(pivotes, fecha_pivotes, moneda):\n",
    "\n",
    "\n",
    "    dia_inical = add_days(fecha_pivotes[0], -pivotes[0])\n",
    "\n",
    "    curva = (\"SELECT * FROM [dbDerivados].[dbo].[TdCurvasDerivados] WHERE Tipo = 'CurvaEfectiva_\"+moneda+\"' AND Fecha = '\"+str(dia_inical)+\"'\")\n",
    "    curva = pd.read_sql(curva, cnn)\n",
    "    curva = parsear_curva(curva[\"Curva\"][0], dia_inical)\n",
    "\n",
    "    lenght = len(pivotes)\n",
    "    valor_factor = []\n",
    "    df = pd.DataFrame()\n",
    "\n",
    "    for i in range(lenght):\n",
    "        \n",
    "        valor = interpolacion_log_escalar(pivotes[i], curva)\n",
    "        valor_factor.append(valor)\n",
    "\n",
    "    df[\"Fecha\"] = fecha_pivotes\n",
    "    df[\"Pivote\"] = pivotes\n",
    "    df[\"FactorDescuento\"] = valor_factor\n",
    "\n",
    "    return df\n",
    "\n",
    "\n",
    "fecha = datetime.date(2018, 4, 18)\n",
    "pivotes_dias = crear_pivotes(fecha, vector_dias)\n",
    "tabla = factor_desct_pivotes(vector_dias, pivotes_dias, \"CLP\")\n",
    "tabla"
   ]
  },
  {
   "cell_type": "code",
   "execution_count": 33,
   "metadata": {},
   "outputs": [],
   "source": [
    "def valor_alfa(fecha_inicial, fecha_pivote1, fecha_pivote2, fecha_pago):\n",
    "\n",
    "    D_flujo = diferencia_dias_convencion(\"ACT360\", fecha_inicial, fecha_pago)/360\n",
    "    D_pivote1 = diferencia_dias_convencion(\"ACT360\", fecha_inicial, fecha_pivote1)/360\n",
    "    D_pivote2 = diferencia_dias_convencion(\"ACT360\", fecha_inicial, fecha_pivote2)/360\n",
    "    calculo = (D_flujo - D_pivote1)/(D_pivote2 - D_pivote1)\n",
    "    return calculo\n",
    "\n",
    "\n",
    "def interpolar_factorDesct(alfa_0, dfPivotes, fecha_pago):\n",
    "\n",
    "    factores_descuento = dfPivotes[\"FactorDescuento\"]\n",
    "    numero_pivotes = buscar_pivotes(dfPivotes[\"Fecha\"], fecha_pago)\n",
    "    factor_pivote1 = factores_descuento[numero_pivotes[0]]\n",
    "    factor_pivote2 = factores_descuento[numero_pivotes[1]]\n",
    "    \n",
    "    return alfa_0*factor_pivote1 + (1 - alfa_0)*factor_pivote2\n",
    "\n",
    "def interpolar_volatilidad(alfa_0, dfPivotes, fecha_pago):\n",
    "\n",
    "    volatilidades = dfPivotes[\"Volatilidades\"]\n",
    "    numero_pivotes = buscar_pivotes(dfPivotes[\"Fecha\"], fecha_pago)\n",
    "    volatilidad_pivote1 = volatilidades[numero_pivotes[0]]\n",
    "    volatilidad_pivote2 = volatilidades[numero_pivotes[1]]\n",
    "\n",
    "    return alfa_0*volatilidad_pivote1 + (1 - alfa_0)*volatilidad_pivote2\n",
    "\"\"\"\n",
    "tabla = generar_tabla_completa(vector_dias, fecha_fictisia, \"CLP\", C)\n",
    "fecha_fictisia = datetime.date(2019, 8, 12)\n",
    "indices = buscar_pivotes(pivotes_dias, fecha_fictisia)\n",
    "fecha_inicial = add_days(pivotes_dias[0], -30)\n",
    "fecha_pivote1 = pivotes_dias[indices[0]]\n",
    "fecha_pivote2 = pivotes_dias[indices[1]]\n",
    "alfa_0 = valor_alfa(fecha_inicial, fecha_pivote1, fecha_pivote2, fecha_fictisia)\n",
    "interpolar_factorDesct(alfa_0, tabla, fecha_fictisia)\n",
    "interpolar_volatilidad(alfa_0, tabla, fecha_fictisia)\n",
    "\"\"\"\n",
    "fecha_fictisia = datetime.date(2019, 8, 12)\n",
    "\n"
   ]
  },
  {
   "cell_type": "code",
   "execution_count": 34,
   "metadata": {},
   "outputs": [
    {
     "data": {
      "text/html": "<div>\n<style scoped>\n    .dataframe tbody tr th:only-of-type {\n        vertical-align: middle;\n    }\n\n    .dataframe tbody tr th {\n        vertical-align: top;\n    }\n\n    .dataframe thead th {\n        text-align: right;\n    }\n</style>\n<table border=\"1\" class=\"dataframe\">\n  <thead>\n    <tr style=\"text-align: right;\">\n      <th></th>\n      <th>Fecha</th>\n      <th>Pivote</th>\n      <th>FactorDescuento</th>\n      <th>Volatilidades</th>\n    </tr>\n  </thead>\n  <tbody>\n    <tr>\n      <th>0</th>\n      <td>2019-09-11</td>\n      <td>30</td>\n      <td>0.998262</td>\n      <td>0.000183</td>\n    </tr>\n    <tr>\n      <th>1</th>\n      <td>2019-11-10</td>\n      <td>90</td>\n      <td>0.995377</td>\n      <td>0.000311</td>\n    </tr>\n    <tr>\n      <th>2</th>\n      <td>2020-02-08</td>\n      <td>180</td>\n      <td>0.991636</td>\n      <td>0.000516</td>\n    </tr>\n    <tr>\n      <th>3</th>\n      <td>2020-08-06</td>\n      <td>360</td>\n      <td>0.983755</td>\n      <td>0.000666</td>\n    </tr>\n    <tr>\n      <th>4</th>\n      <td>2021-08-01</td>\n      <td>720</td>\n      <td>0.965052</td>\n      <td>0.000814</td>\n    </tr>\n    <tr>\n      <th>5</th>\n      <td>2022-07-27</td>\n      <td>1080</td>\n      <td>0.945682</td>\n      <td>0.001300</td>\n    </tr>\n    <tr>\n      <th>6</th>\n      <td>2023-07-22</td>\n      <td>1440</td>\n      <td>0.923846</td>\n      <td>0.001902</td>\n    </tr>\n    <tr>\n      <th>7</th>\n      <td>2024-07-16</td>\n      <td>1800</td>\n      <td>0.899828</td>\n      <td>0.002539</td>\n    </tr>\n    <tr>\n      <th>8</th>\n      <td>2026-07-06</td>\n      <td>2520</td>\n      <td>0.849093</td>\n      <td>0.003781</td>\n    </tr>\n    <tr>\n      <th>9</th>\n      <td>2028-06-25</td>\n      <td>3240</td>\n      <td>0.796699</td>\n      <td>0.004794</td>\n    </tr>\n    <tr>\n      <th>10</th>\n      <td>2029-06-20</td>\n      <td>3600</td>\n      <td>0.771709</td>\n      <td>0.005400</td>\n    </tr>\n    <tr>\n      <th>11</th>\n      <td>2034-05-25</td>\n      <td>5400</td>\n      <td>0.661629</td>\n      <td>0.008264</td>\n    </tr>\n    <tr>\n      <th>12</th>\n      <td>2039-04-29</td>\n      <td>7200</td>\n      <td>0.564513</td>\n      <td>0.011556</td>\n    </tr>\n    <tr>\n      <th>13</th>\n      <td>2049-03-07</td>\n      <td>10800</td>\n      <td>0.423543</td>\n      <td>0.017406</td>\n    </tr>\n  </tbody>\n</table>\n</div>",
      "text/plain": "         Fecha  Pivote  FactorDescuento  Volatilidades\n0   2019-09-11      30         0.998262       0.000183\n1   2019-11-10      90         0.995377       0.000311\n2   2020-02-08     180         0.991636       0.000516\n3   2020-08-06     360         0.983755       0.000666\n4   2021-08-01     720         0.965052       0.000814\n5   2022-07-27    1080         0.945682       0.001300\n6   2023-07-22    1440         0.923846       0.001902\n7   2024-07-16    1800         0.899828       0.002539\n8   2026-07-06    2520         0.849093       0.003781\n9   2028-06-25    3240         0.796699       0.004794\n10  2029-06-20    3600         0.771709       0.005400\n11  2034-05-25    5400         0.661629       0.008264\n12  2039-04-29    7200         0.564513       0.011556\n13  2049-03-07   10800         0.423543       0.017406"
     },
     "execution_count": 34,
     "metadata": {},
     "output_type": "execute_result"
    }
   ],
   "source": [
    "def generar_tabla_completa(pivotes, fecha_inicial, moneda, derivado_ej):\n",
    "\n",
    "    fecha_pivotes = crear_pivotes(fecha_inicial, pivotes)\n",
    "    factores_desct = factor_desct_pivotes(pivotes, fecha_pivotes, moneda)\n",
    "    historico = evaluar_curva(pivotes, derivado_ej)\n",
    "    retorno = calcular_retornos(historico)\n",
    "    volatilidades = volatilidades_derivados(retorno)\n",
    "    factores_desct[\"Volatilidades\"] = volatilidades[\"Volatilidades\"]\n",
    "    return factores_desct\n",
    "\n",
    "\n",
    "\n",
    "generar_tabla_completa(vector_dias, fecha_fictisia, \"CLP\", C)\n",
    "\n",
    "\n"
   ]
  },
  {
   "cell_type": "code",
   "execution_count": 35,
   "metadata": {},
   "outputs": [],
   "source": [
    "def solucion_ecuacion(sigma_flujo, sigma_pivote1, sigma_pivote2, ro):\n",
    "\n",
    "    \"\"\"\n",
    "    Funcion para calcular la solucion de la ecuacion propuesta\n",
    "    para obtener el valor de alfa necesario para los calculos futuros\n",
    "    :param sigma_flujo: Corresponde a la volatilidad del flujo\n",
    "    :param sigma_pivote1: Corresponde a la volatilidad del pivote1\n",
    "    :param sigma_pivote2: Correponde a la volatilidad del pivote2\n",
    "    :param ro: Correspode a la correlacion del pivote1 y pivote2\n",
    "\n",
    "    \"\"\"\n",
    "\n",
    "    A = (sigma_pivote1**2 + sigma_pivote2**2 - 2*ro*sigma_pivote1*sigma_pivote2)\n",
    "    B = (2 * ro * sigma_pivote1* sigma_pivote2 - 2*sigma_pivote2**2)\n",
    "    C = (sigma_pivote2**2 - sigma_flujo**2)\n",
    "\n",
    "    x1 = (-B+math.sqrt(B**2-(4*A*C)))/(2*A)  # Fórmula de Bhaskara parte positiva\n",
    "    x2 = (-B-math.sqrt(B**2-(4*A*C)))/(2*A)  # Fórmula de Bhaskara parte negativa\n",
    "\n",
    "    return[x1, x2]"
   ]
  },
  {
   "cell_type": "code",
   "execution_count": 64,
   "metadata": {},
   "outputs": [
    {
     "name": "stderr",
     "output_type": "stream",
     "text": "..\\Derivados\\DerivadosTipos\\DerivadosSCC.py:48: SettingWithCopyWarning: \nA value is trying to be set on a copy of a slice from a DataFrame\n\nSee the caveats in the documentation: http://pandas.pydata.org/pandas-docs/stable/user_guide/indexing.html#returning-a-view-versus-a-copy\n  info_cartera.MonedaActivo[0] = \"CLP\"\n"
    },
    {
     "ename": "TypeError",
     "evalue": "'>' not supported between instances of 'datetime.date' and 'str'",
     "output_type": "error",
     "traceback": [
      "\u001b[1;31m---------------------------------------------------------------------------\u001b[0m",
      "\u001b[1;31mTypeError\u001b[0m                                 Traceback (most recent call last)",
      "\u001b[1;32m<ipython-input-64-574433a32e6a>\u001b[0m in \u001b[0;36m<module>\u001b[1;34m\u001b[0m\n\u001b[0;32m     61\u001b[0m \u001b[1;33m\u001b[0m\u001b[0m\n\u001b[0;32m     62\u001b[0m \u001b[1;33m\u001b[0m\u001b[0m\n\u001b[1;32m---> 63\u001b[1;33m \u001b[0muwu\u001b[0m \u001b[1;33m=\u001b[0m \u001b[0mcalculo\u001b[0m\u001b[1;33m(\u001b[0m\u001b[1;33m[\u001b[0m\u001b[1;34m\"146854\"\u001b[0m\u001b[1;33m,\u001b[0m \u001b[1;34m\"146885\"\u001b[0m\u001b[1;33m,\u001b[0m \u001b[1;34m\"146879\"\u001b[0m\u001b[1;33m,\u001b[0m \u001b[1;34m\"146858\"\u001b[0m\u001b[1;33m,\u001b[0m \u001b[1;34m\"146883\"\u001b[0m\u001b[1;33m]\u001b[0m\u001b[1;33m,\u001b[0m \u001b[0mfecha\u001b[0m\u001b[1;33m)\u001b[0m\u001b[1;33m\u001b[0m\u001b[1;33m\u001b[0m\u001b[0m\n\u001b[0m",
      "\u001b[1;32m<ipython-input-64-574433a32e6a>\u001b[0m in \u001b[0;36mcalculo\u001b[1;34m(derivado_IDKEY, fecha_valorizacion)\u001b[0m\n\u001b[0;32m     19\u001b[0m \u001b[1;33m\u001b[0m\u001b[0m\n\u001b[0;32m     20\u001b[0m         \u001b[0mderivado\u001b[0m \u001b[1;33m=\u001b[0m \u001b[0mextrar_crear_derivado\u001b[0m\u001b[1;33m(\u001b[0m\u001b[0mderivado_IDKEY\u001b[0m\u001b[1;33m[\u001b[0m\u001b[0mj\u001b[0m\u001b[1;33m]\u001b[0m\u001b[1;33m)\u001b[0m\u001b[1;33m\u001b[0m\u001b[1;33m\u001b[0m\u001b[0m\n\u001b[1;32m---> 21\u001b[1;33m         \u001b[0mderivado\u001b[0m\u001b[1;33m.\u001b[0m\u001b[0mgenera_flujos\u001b[0m\u001b[1;33m(\u001b[0m\u001b[1;33m)\u001b[0m\u001b[1;33m\u001b[0m\u001b[1;33m\u001b[0m\u001b[0m\n\u001b[0m\u001b[0;32m     22\u001b[0m         \u001b[0mderivado\u001b[0m\u001b[1;33m.\u001b[0m\u001b[0mvaloriza_flujos\u001b[0m\u001b[1;33m(\u001b[0m\u001b[1;33m)\u001b[0m\u001b[1;33m\u001b[0m\u001b[1;33m\u001b[0m\u001b[0m\n\u001b[0;32m     23\u001b[0m         \u001b[0mtabla_derivado\u001b[0m \u001b[1;33m=\u001b[0m \u001b[0mderivado\u001b[0m\u001b[1;33m.\u001b[0m\u001b[0mflujos_valorizados\u001b[0m\u001b[1;33m[\u001b[0m\u001b[1;33m[\u001b[0m\u001b[1;34m\"ID\"\u001b[0m\u001b[1;33m,\u001b[0m\u001b[1;34m\"ActivoPasivo\"\u001b[0m\u001b[1;33m,\u001b[0m \u001b[1;34m\"Fecha\"\u001b[0m\u001b[1;33m,\u001b[0m \u001b[1;34m\"FechaFixing\"\u001b[0m\u001b[1;33m,\u001b[0m \u001b[1;34m\"FechaFlujo\"\u001b[0m\u001b[1;33m,\u001b[0m \u001b[1;34m\"FechaPago\"\u001b[0m\u001b[1;33m,\u001b[0m \u001b[1;34m\"Flujo\"\u001b[0m\u001b[1;33m,\u001b[0m \u001b[1;34m\"ValorPresenteMonFlujo\"\u001b[0m\u001b[1;33m,\u001b[0m \u001b[1;34m\"Moneda\"\u001b[0m\u001b[1;33m,\u001b[0m \u001b[1;34m\"MonedaBase\"\u001b[0m\u001b[1;33m]\u001b[0m\u001b[1;33m]\u001b[0m\u001b[1;33m\u001b[0m\u001b[1;33m\u001b[0m\u001b[0m\n",
      "\u001b[1;32mc:\\Users\\groso\\Desktop\\Practica\\Intento\\Derivados\\DerivadosTipos\\DerivadosSCC.py\u001b[0m in \u001b[0;36mgenera_flujos\u001b[1;34m(self)\u001b[0m\n\u001b[0;32m     87\u001b[0m             \u001b[0mconvencion\u001b[0m \u001b[1;33m=\u001b[0m \u001b[1;34m\"LACT360\"\u001b[0m\u001b[1;33m\u001b[0m\u001b[1;33m\u001b[0m\u001b[0m\n\u001b[0;32m     88\u001b[0m \u001b[1;33m\u001b[0m\u001b[0m\n\u001b[1;32m---> 89\u001b[1;33m         \u001b[0mflujos_f\u001b[0m \u001b[1;33m=\u001b[0m \u001b[0mgenera_flujos\u001b[0m\u001b[1;33m(\u001b[0m\u001b[0mmax\u001b[0m\u001b[1;33m(\u001b[0m\u001b[0mfechaActual\u001b[0m\u001b[1;33m,\u001b[0m \u001b[0mfecha_efectiva\u001b[0m\u001b[1;33m)\u001b[0m\u001b[1;33m,\u001b[0m \u001b[0mfecha_efectiva\u001b[0m\u001b[1;33m,\u001b[0m \u001b[0mfecha_venc\u001b[0m\u001b[1;33m,\u001b[0m \u001b[0mtasa\u001b[0m\u001b[1;33m,\u001b[0m \u001b[0mfrecuencia\u001b[0m\u001b[1;33m,\u001b[0m \u001b[0mconvencion\u001b[0m\u001b[1;33m)\u001b[0m\u001b[1;33m\u001b[0m\u001b[1;33m\u001b[0m\u001b[0m\n\u001b[0m\u001b[0;32m     90\u001b[0m \u001b[1;33m\u001b[0m\u001b[0m\n\u001b[0;32m     91\u001b[0m         \u001b[0mfecha_cupon\u001b[0m \u001b[1;33m=\u001b[0m \u001b[0mflujos_f\u001b[0m\u001b[1;33m[\u001b[0m\u001b[1;36m0\u001b[0m\u001b[1;33m]\u001b[0m\u001b[1;33m[\u001b[0m\u001b[1;36m0\u001b[0m\u001b[1;33m]\u001b[0m\u001b[1;33m\u001b[0m\u001b[1;33m\u001b[0m\u001b[0m\n",
      "\u001b[1;32mc:\\Users\\groso\\Desktop\\Practica\\Intento\\Derivados\\LibreriasUtiles\\UtilesDerivados.py\u001b[0m in \u001b[0;36mgenera_flujos\u001b[1;34m(fecha, fecha_efectiva, fecha_venc, tasa, frecuencia, convencion, si_principal)\u001b[0m\n\u001b[0;32m    245\u001b[0m     \u001b[1;32mwhile\u001b[0m \u001b[0mfechai\u001b[0m \u001b[1;33m>\u001b[0m \u001b[0mfecha\u001b[0m \u001b[1;32mand\u001b[0m \u001b[0mfechai\u001b[0m \u001b[1;33m>\u001b[0m \u001b[0madd_days\u001b[0m\u001b[1;33m(\u001b[0m\u001b[0mfecha_efectiva\u001b[0m\u001b[1;33m,\u001b[0m \u001b[1;36m10\u001b[0m\u001b[1;33m)\u001b[0m\u001b[1;33m:\u001b[0m\u001b[1;33m\u001b[0m\u001b[1;33m\u001b[0m\u001b[0m\n\u001b[0;32m    246\u001b[0m         \u001b[0marr\u001b[0m\u001b[1;33m.\u001b[0m\u001b[0mappend\u001b[0m\u001b[1;33m(\u001b[0m\u001b[1;33m[\u001b[0m\u001b[1;32mNone\u001b[0m\u001b[1;33m]\u001b[0m \u001b[1;33m*\u001b[0m \u001b[1;36m7\u001b[0m\u001b[1;33m)\u001b[0m\u001b[1;33m\u001b[0m\u001b[1;33m\u001b[0m\u001b[0m\n\u001b[1;32m--> 247\u001b[1;33m         \u001b[0mfecha_cupon_ant\u001b[0m \u001b[1;33m=\u001b[0m \u001b[0mmax\u001b[0m\u001b[1;33m(\u001b[0m\u001b[0mdelta_frecuencia\u001b[0m\u001b[1;33m(\u001b[0m\u001b[0mfechai\u001b[0m\u001b[1;33m,\u001b[0m \u001b[0mfrecuencia\u001b[0m\u001b[1;33m,\u001b[0m \u001b[1;33m-\u001b[0m\u001b[1;36m1\u001b[0m\u001b[1;33m)\u001b[0m\u001b[1;33m,\u001b[0m \u001b[0mfecha_efectiva\u001b[0m\u001b[1;33m)\u001b[0m\u001b[1;33m\u001b[0m\u001b[1;33m\u001b[0m\u001b[0m\n\u001b[0m\u001b[0;32m    248\u001b[0m         \u001b[0marr\u001b[0m\u001b[1;33m[\u001b[0m\u001b[0mi\u001b[0m\u001b[1;33m]\u001b[0m\u001b[1;33m[\u001b[0m\u001b[1;36m0\u001b[0m\u001b[1;33m]\u001b[0m \u001b[1;33m=\u001b[0m \u001b[0mfechai\u001b[0m\u001b[1;33m\u001b[0m\u001b[1;33m\u001b[0m\u001b[0m\n\u001b[0;32m    249\u001b[0m         arr[i][1] = (1 / factor_descuento(tasa / 100, fecha_cupon_ant, fechai, convencion, 0)\n",
      "\u001b[1;31mTypeError\u001b[0m: '>' not supported between instances of 'datetime.date' and 'str'"
     ]
    }
   ],
   "source": [
    "def calculo(derivado_IDKEY, fecha_valorizacion):\n",
    "\n",
    "    derivado_ej = extrar_crear_derivado(derivado_IDKEY[0])\n",
    "    derivado_ej.genera_flujos()\n",
    "    derivado_ej.valoriza_flujos()\n",
    "    tabla_total = generar_tabla_completa(vector_dias, fecha_valorizacion, derivado_ej.flujos_valorizados[\"Moneda\"][0], derivado_ej)\n",
    "    historico = evaluar_curva(vector_dias, derivado_ej)\n",
    "    retornos = calcular_retornos(historico)\n",
    "    correlacion = correlaciones_derivador(retornos, tabla_total)\n",
    "\n",
    "    fechas_pivotes = tabla_total[\"Fecha\"]\n",
    "\n",
    "    pivotes = crear_pivotes(fecha_valorizacion, vector_dias)\n",
    "\n",
    "    resultado = []\n",
    "\n",
    "    largo_derivados = len(derivado_IDKEY)\n",
    "    for j in range(largo_derivados):\n",
    "\n",
    "        derivado = extrar_crear_derivado(derivado_IDKEY[j])\n",
    "        derivado.genera_flujos()\n",
    "        derivado.valoriza_flujos()\n",
    "        tabla_derivado = derivado.flujos_valorizados[[\"ID\",\"ActivoPasivo\", \"Fecha\", \"FechaFixing\", \"FechaFlujo\", \"FechaPago\", \"Flujo\", \"ValorPresenteMonFlujo\", \"Moneda\", \"MonedaBase\"]]\n",
    "\n",
    "        curva = seleccionar_curva_fecha(derivado.flujos_valorizados[\"Moneda\"][0], str(fecha_valorizacion))\n",
    "        curva_parseada = parsear_curva(curva[\"Curva\"][0], fecha_valorizacion)\n",
    "\n",
    "        fechas_pago = tabla_derivado[\"FechaPago\"]\n",
    "        lenght = len(fechas_pago)\n",
    "        volatilidades_pivotes = tabla_total[\"Volatilidades\"]\n",
    "\n",
    "        proyeccion_pivotes = np.zeros(len(pivotes))\n",
    "\n",
    "\n",
    "        for i in range(lenght):\n",
    "\n",
    "            fecha_pago_actual = fechas_pago[i]\n",
    "            indices_pivotes = buscar_pivotes(fechas_pivotes, fecha_pago_actual)\n",
    "            alfa = valor_alfa(fecha_valorizacion, fechas_pivotes[indices_pivotes[0]], fechas_pivotes[indices_pivotes[1]], fecha_pago_actual)\n",
    "            volatilidad = interpolar_volatilidad(alfa, tabla_total, fecha_pago_actual)\n",
    "            factor_desct = interpolar_factorDesct(alfa, tabla_total, fecha_pago_actual)\n",
    "            dia_pivote1 = vector_dias[indices_pivotes[0]]\n",
    "            dia_pivote2 = vector_dias[indices_pivotes[1]]\n",
    "            a =solucion_ecuacion(volatilidad, volatilidades_pivotes[indices_pivotes[0]], volatilidades_pivotes[indices_pivotes[1]],\\\n",
    "                                                                             correlacion[str(dia_pivote1)][str(dia_pivote2)] )\n",
    "            factor = min(a)\n",
    "            flujo1 = tabla_derivado[\"Flujo\"][i]\n",
    "            diferencia_dias = diferencia_dias_convencion(\"ACT360\", fecha_valorizacion, fecha_pago_actual)\n",
    "            factor_descuento = interpolacion_log_escalar(diferencia_dias, curva_parseada)\n",
    "            VP = factor_descuento*flujo1\n",
    "       \n",
    "            proyeccion_pivotes[indices_pivotes[0]] += factor*factor_descuento*flujo1\n",
    "            proyeccion_pivotes[indices_pivotes[1]] += (1 - factor)*factor_descuento*flujo1\n",
    "\n",
    "        resultado.append(proyeccion_pivotes)\n",
    "    \n",
    "    return resultado\n",
    "\n",
    "\n",
    "\n",
    "\n",
    "\n",
    "uwu = calculo([\"146854\", \"146885\", \"146879\", \"146858\", \"146883\"], fecha)"
   ]
  },
  {
   "cell_type": "code",
   "execution_count": 63,
   "metadata": {},
   "outputs": [
    {
     "data": {
      "text/plain": "[array([0.00000000e+00, 1.51417936e+07, 3.45689737e+07, 7.98683069e+08,\n        1.15844476e+09, 0.00000000e+00, 0.00000000e+00, 0.00000000e+00,\n        0.00000000e+00, 0.00000000e+00, 0.00000000e+00, 0.00000000e+00,\n        0.00000000e+00, 0.00000000e+00]),\n array([     0.        ,      0.        ,      0.        ,    811.62377692,\n        143636.71056794,  48759.58324963,      0.        ,      0.        ,\n             0.        ,      0.        ,      0.        ,      0.        ,\n             0.        ,      0.        ]),\n array([     0.        ,      0.        ,      0.        ,   2434.87133077,\n        430910.13170382, 146278.74974889,      0.        ,      0.        ,\n             0.        ,      0.        ,      0.        ,      0.        ,\n             0.        ,      0.        ]),\n array([0.00000000e+00, 0.00000000e+00, 1.33751313e+08, 2.06363662e+07,\n        2.97931227e+09, 2.85189588e+09, 0.00000000e+00, 0.00000000e+00,\n        0.00000000e+00, 0.00000000e+00, 0.00000000e+00, 0.00000000e+00,\n        0.00000000e+00, 0.00000000e+00])]"
     },
     "execution_count": 63,
     "metadata": {},
     "output_type": "execute_result"
    }
   ],
   "source": [
    "\n",
    "uwu\n",
    "\n",
    "\n",
    "\n"
   ]
  },
  {
   "cell_type": "code",
   "execution_count": null,
   "metadata": {},
   "outputs": [],
   "source": []
  }
 ]
}