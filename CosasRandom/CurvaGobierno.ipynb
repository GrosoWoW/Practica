{
 "cells": [
  {
   "cell_type": "code",
   "execution_count": 1,
   "metadata": {
    "colab": {
     "base_uri": "https://localhost:8080/",
     "height": 395
    },
    "colab_type": "code",
    "id": "34RkS1pJ-hja",
    "outputId": "6b4dd76c-2623-4e51-b04a-47f8f2b714d1"
   },
   "outputs": [
    {
     "ename": "Error",
     "evalue": "('01000', \"[01000] [unixODBC][Driver Manager]Can't open lib 'SQL Server' : file not found (0) (SQLDriverConnect)\")",
     "output_type": "error",
     "traceback": [
      "\u001b[0;31m---------------------------------------------------------------------------\u001b[0m",
      "\u001b[0;31mError\u001b[0m                                     Traceback (most recent call last)",
      "\u001b[0;32m<ipython-input-1-94e67a49c8f5>\u001b[0m in \u001b[0;36m<module>\u001b[0;34m\u001b[0m\n\u001b[1;32m      8\u001b[0m \u001b[0mwarnings\u001b[0m\u001b[0;34m.\u001b[0m\u001b[0mfilterwarnings\u001b[0m\u001b[0;34m(\u001b[0m\u001b[0;34m'ignore'\u001b[0m\u001b[0;34m)\u001b[0m\u001b[0;34m\u001b[0m\u001b[0;34m\u001b[0m\u001b[0m\n\u001b[1;32m      9\u001b[0m \u001b[0;34m\u001b[0m\u001b[0m\n\u001b[0;32m---> 10\u001b[0;31m \u001b[0mSQLconnection\u001b[0m \u001b[0;34m=\u001b[0m \u001b[0mpyodbc\u001b[0m\u001b[0;34m.\u001b[0m\u001b[0mconnect\u001b[0m\u001b[0;34m(\u001b[0m \u001b[0;34m'DRIVER={SQL Server};SERVER=172.16.1.38;DATABASE=dbAlgebra;UID=cscheihing;PWD=ZXCasdqwe123'\u001b[0m \u001b[0;34m)\u001b[0m\u001b[0;34m\u001b[0m\u001b[0;34m\u001b[0m\u001b[0m\n\u001b[0m\u001b[1;32m     11\u001b[0m \u001b[0;31m#Datos para buscar información\u001b[0m\u001b[0;34m\u001b[0m\u001b[0;34m\u001b[0m\u001b[0;34m\u001b[0m\u001b[0m\n\u001b[1;32m     12\u001b[0m \u001b[0mfechaISO\u001b[0m\u001b[0;34m=\u001b[0m\u001b[0;34m\"20191120\"\u001b[0m\u001b[0;34m\u001b[0m\u001b[0;34m\u001b[0m\u001b[0m\n",
      "\u001b[0;31mError\u001b[0m: ('01000', \"[01000] [unixODBC][Driver Manager]Can't open lib 'SQL Server' : file not found (0) (SQLDriverConnect)\")"
     ]
    }
   ],
   "source": [
    "import pandas as pd\n",
    "import numpy as np\n",
    "from datetime import datetime\n",
    "import pyodbc\n",
    "import matplotlib.pyplot as plt\n",
    "from ipywidgets import interact, widgets\n",
    "import warnings\n",
    "warnings.filterwarnings('ignore')\n",
    "\n",
    "SQLconnection = pyodbc.connect( 'DRIVER={SQL Server};SERVER=172.16.1.38;DATABASE=dbAlgebra;UID=cscheihing;PWD=ZXCasdqwe123' )\n",
    "#Datos para buscar información\n",
    "fechaISO=\"20191120\"\n",
    "tipoCurva = 'clp' #clp\n",
    "SiOficial = '1'\n",
    "\n"
   ]
  },
  {
   "cell_type": "code",
   "execution_count": null,
   "metadata": {
    "colab": {
     "base_uri": "https://localhost:8080/",
     "height": 267
    },
    "colab_type": "code",
    "id": "d1AXR_Df-hjn",
    "outputId": "d98111d4-d312-4272-a45b-db8638198f93"
   },
   "outputs": [],
   "source": [
    "sqlGammas='''\n",
    "SELECT Ancla,y0 as LargoPlazo,y1 as  ConcavMuyCortoPlazo,y2 as CortoPlazo,y3 as CortoPlazo2 ,y4 as ConvexMuyCortoPlazo FROM dbInvestigacion.dbo.TdCurvasRF_Parametros\n",
    "where Fecha = '@fecha' and Tipo = '@TipoCurva' and SiOficial = '@SiOficial' Order by Inicial1_Final2 '''\n",
    "sqlGammas=sqlGammas.replace(\"@fecha\",fechaISO)\n",
    "sqlGammas=sqlGammas.replace(\"@TipoCurva\",tipoCurva)\n",
    "sqlGammas=sqlGammas.replace(\"@SiOficial\",SiOficial)\n",
    "dataGammas = pd.io.sql.read_sql(sqlGammas, SQLconnection)\n",
    "\n",
    "\n",
    "sqlInfo='''\n",
    "SELECT Fecha,FechaCupon,Plazo,Nemotecnico,Flujo,TirBono,Base1,Base2,TirBonoOriginal,ReajusteProyectado FROM dbInvestigacion.dbo.TdCurvasRF_Inputs\n",
    "where Fecha = '@fecha' and Tipo = '@TipoCurva' and SiOficial = '@SiOficial' Order by Nemotecnico, Plazo'''\n",
    "sqlInfo=sqlInfo.replace(\"@fecha\",fechaISO)\n",
    "sqlInfo=sqlInfo.replace(\"@TipoCurva\",tipoCurva)\n",
    "sqlInfo=sqlInfo.replace(\"@SiOficial\",SiOficial)\n",
    "dataInfo = pd.io.sql.read_sql(sqlInfo, SQLconnection)\n",
    "\n",
    "\n",
    "\n",
    "print(dataGammas.to_string())\n",
    "\n",
    "\n"
   ]
  },
  {
   "cell_type": "code",
   "execution_count": null,
   "metadata": {
    "colab": {},
    "colab_type": "code",
    "id": "G-uZ6V1V-hjw",
    "scrolled": false
   },
   "outputs": [],
   "source": [
    "print(\"Ancla: El ancla mueve la parte izquierda de la curva, desde donde parte\")\n",
    "print(\"LargoPlazo: Mueve el largo plazo, haciendo que se mueva el corto plazo ligeramente\")\n",
    "print(\"ConcavMuyCortoPlazo: Hace la curva en el muy corto plazo mas concavo al disminuirlo, haciendo que el largo plazo se mueva ligeramente\")\n",
    "print(\"CortoPlazo: Sube el corto plazo al incrementarlo, destruyendo la concavidad o convexidad que exista en el muy corto plazo\")\n",
    "print(\"CortoPlazo2: Hace lo mismo que CortoPlazo\")\n",
    "print(\"ConvexMuyCortoPlazo: Hace la curva en el muy corto plazo mas convexo al disminuirlo, haciendo que el largo plazo se mueva ligeramente\")\n",
    "\n",
    "numerador = dataInfo.assign(col = dataInfo['Plazo']/365 * dataInfo['Flujo']).groupby(['Nemotecnico'],as_index=False).col.sum()\n",
    "denominador = dataInfo.groupby(['Nemotecnico'])['Flujo'].sum()\n",
    "TirBono = dataInfo.groupby(['Nemotecnico']).mean()[\"TirBono\"]\n",
    "\n",
    "\n",
    "x = np.linspace(0, 31.34, 1000)\n",
    "maximo = max(dataInfo['Plazo'])\n",
    "\n",
    "def widget_grafico(Ancla,LargoPlazo,ConcavMuyCortoP,CortoPlazo,CortoPlazo2,ConvexMuyCortoP):\n",
    "    \n",
    "    dataGammas.values[1,0] = Ancla\n",
    "    dataGammas.values[1,1] = LargoPlazo\n",
    "    dataGammas.values[1,2] = ConcavMuyCortoP\n",
    "    dataGammas.values[1,3] = CortoPlazo\n",
    "    dataGammas.values[1,4] = CortoPlazo2\n",
    "    dataGammas.values[1,5] = ConvexMuyCortoP\n",
    "        \n",
    "    \n",
    "    \n",
    "    yHoy = dataGammas.values[1,1]+ (dataGammas.values[1,0]-dataGammas.values[1,1])*(1-np.exp(-x/dataGammas.values[1,2]))*(dataGammas.values[1,2]/x)+dataGammas.values[1,3]*((1-np.exp(-x/dataGammas.values[1,2]))*(dataGammas.values[1,2]/x)-np.exp(-x/dataGammas.values[1,2])) +dataGammas.values[1,4]*((1-np.exp(-x/dataGammas.values[1,5]))*(dataGammas.values[1,5]/x)-np.exp(-x/dataGammas.values[1,5]))\n",
    "    yHoy[0] = dataGammas.values[1,0]\n",
    "    yAyer = dataGammas.values[0,1]+ (dataGammas.values[0,0]-dataGammas.values[0,1])*(1-np.exp(-x/dataGammas.values[0,2]))*(dataGammas.values[0,2]/x)+dataGammas.values[0,3]*((1-np.exp(-x/dataGammas.values[0,2]))*(dataGammas.values[0,2]/x)-np.exp(-x/dataGammas.values[0,2])) +dataGammas.values[0,4]*((1-np.exp(-x/dataGammas.values[0,5]))*(dataGammas.values[0,5]/x)-np.exp(-x/dataGammas.values[0,5]))\n",
    "    yAyer[0] = dataGammas.values[0,0]\n",
    "    \n",
    "    aux = 365*dataGammas.values[1,2]\n",
    "    aux2 = 365*dataGammas.values[1,5]\n",
    "    print(\"\")\n",
    "\n",
    "    \n",
    "    plt.rcParams[\"figure.figsize\"] = [16,9]\n",
    "    plt.plot(numerador.values[:,1] / denominador, TirBono, 'go', label='Transas')\n",
    "    plt.plot(x, yHoy, 'b', label='Hoy')\n",
    "    plt.plot(x, yAyer, 'y', label='Ayer')\n",
    "    plt.axis([0.0, 32.0, -3.0, 6.0])  \n",
    "    plt.grid(True)\n",
    "    plt.legend()\n",
    "    plt.show()\n",
    "    print(dataGammas.to_string())\n",
    "    print('''\n",
    "    UPDATE [dbAlgebra].[dbo].[TdCurvasSvensson] \n",
    "    SET ParametrosCalculados= \\''''+str(dataGammas.values[1,0])+'''#'''+str(dataGammas.values[1,1])+'''#'''+str(aux)+'''#'''+str(dataGammas.values[1,3])+'''#'''+str(dataGammas.values[1,4])+'''#'''+str(aux2)+'''#'''+str(maximo)+'''\\'\n",
    "    where Fecha=''',fechaISO,'''and TipoCurva=''',tipoCurva)\n",
    "\n",
    "\n",
    "    \n",
    "slide1 = widgets.FloatSlider(min=dataGammas.values[1,0]-1,max=dataGammas.values[1,0]+1,step=0.1,value=dataGammas.values[1,0],continuous_update = False)\n",
    "slide2 = widgets.FloatSlider(min=dataGammas.values[1,1]-1,max=dataGammas.values[1,1]+1,step=0.05,value=dataGammas.values[1,1],continuous_update = False)\n",
    "slide3 = widgets.FloatSlider(min=dataGammas.values[1,2]-0.3,max=dataGammas.values[1,2]+0.3,step=0.001,value=dataGammas.values[1,2],continuous_update = False)\n",
    "slide4 = widgets.FloatSlider(min=dataGammas.values[1,3]-3,max=dataGammas.values[1,3]+3,step=0.1,value=dataGammas.values[1,3],continuous_update = False)\n",
    "slide5 = widgets.FloatSlider(min=dataGammas.values[1,4]-3,max=dataGammas.values[1,4]+3,step=0.1,value=dataGammas.values[1,4],continuous_update = False)\n",
    "slide6 = widgets.FloatSlider(min=dataGammas.values[1,5]-0.3,max=dataGammas.values[1,5]+0.3,step=0.01,value=dataGammas.values[1,5],continuous_update = False)\n",
    "\n",
    "\n",
    "#dataGammas.values[1,0]\n",
    "interact(widget_grafico,Ancla=slide1,LargoPlazo=slide2,ConcavMuyCortoP=slide3,CortoPlazo=slide4,CortoPlazo2=slide5,ConvexMuyCortoP=slide6)\n",
    "print(\"\")\n",
    "\n",
    "SQLconnection.close()"
   ]
  },
  {
   "cell_type": "code",
   "execution_count": null,
   "metadata": {
    "colab": {},
    "colab_type": "code",
    "id": "aawntDAX-hj4"
   },
   "outputs": [],
   "source": []
  }
 ],
 "metadata": {
  "colab": {
   "collapsed_sections": [],
   "name": "CurvaGobierno.ipynb",
   "provenance": []
  },
  "kernelspec": {
   "display_name": "Python 3",
   "language": "python",
   "name": "python3"
  },
  "language_info": {
   "codemirror_mode": {
    "name": "ipython",
    "version": 3
   },
   "file_extension": ".py",
   "mimetype": "text/x-python",
   "name": "python",
   "nbconvert_exporter": "python",
   "pygments_lexer": "ipython3",
   "version": "3.6.9"
  },
  "latex_envs": {
   "LaTeX_envs_menu_present": true,
   "autoclose": false,
   "autocomplete": true,
   "bibliofile": "biblio.bib",
   "cite_by": "apalike",
   "current_citInitial": 1,
   "eqLabelWithNumbers": true,
   "eqNumInitial": 1,
   "hotkeys": {
    "equation": "Ctrl-E",
    "itemize": "Ctrl-I"
   },
   "labels_anchors": false,
   "latex_user_defs": false,
   "report_style_numbering": false,
   "user_envs_cfg": false
  }
 },
 "nbformat": 4,
 "nbformat_minor": 1
}
